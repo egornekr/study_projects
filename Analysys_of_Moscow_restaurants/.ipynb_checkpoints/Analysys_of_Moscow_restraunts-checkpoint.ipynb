{
 "cells": [
  {
   "cell_type": "markdown",
   "metadata": {},
   "source": [
    "# Анализ рынка заведений общественного питания Москвы"
   ]
  },
  {
   "cell_type": "markdown",
   "metadata": {},
   "source": [
    "## Описание проекта:\n",
    "\n",
    "Мы решили открыть небольшое кафе в Москве. Оно оригинальное — гостей должны обслуживать роботы. Проект многообещающий, но дорогой. Вместе с партнёрами вы решились обратиться к инвесторам. Их интересует текущее положение дел на рынке — сможете ли вы снискать популярность на долгое время, когда все зеваки насмотрятся на роботов-официантов?\n",
    "Вы — гуру аналитики, и партнёры просят вас подготовить исследование рынка. У вас есть открытые данные о заведениях общественного питания в Москве.\n",
    "\n",
    "В ходе исследования мы :\n",
    "\n",
    " - Исследуем соотношение видов объектов общественного питания по количеству. Построим график.\n",
    " - Исследуем соотношение сетевых и несетевых заведений по количеству. Построим график.\n",
    " - Узнаем, для какого вида объекта общественного питания характерно сетевое распространение?\n",
    " - Узнаем,что характерно для сетевых заведений: много заведений с небольшим числом посадочных мест в каждом или мало заведений    с большим количеством посадочных мест?\n",
    " - Для каждого вида объекта общественного питания опишем среднее количество посадочных мест. Узнаем какой вид предоставляет в      среднем  - самое большое количество посадочных мест? Постройте графики.\n",
    " - Выделим в отдельный столбец информацию об улице из столбца address .\n",
    " - Построем график топ-10 улиц по количеству объектов общественного питания. Воспользуемся внешней информацией и ответим на        вопрос — в каких районах Москвы находятся эти улицы?\n",
    " - Найдём число улиц с одним объектом общественного питания. Воспользуемся внешней информацией и ответим на вопрос — в каких      районах Москвы находятся эти улицы?"
   ]
  },
  {
   "cell_type": "code",
   "execution_count": 1,
   "metadata": {
    "scrolled": true
   },
   "outputs": [
    {
     "name": "stdout",
     "output_type": "stream",
     "text": [
      "Collecting yandex-geocoder\n",
      "  Downloading yandex_geocoder-2.0.0-py3-none-any.whl (4.5 kB)\n",
      "Requirement already satisfied: requests~=2.22 in c:\\python\\python310\\lib\\site-packages (from yandex-geocoder) (2.28.1)\n",
      "Requirement already satisfied: idna<4,>=2.5 in c:\\python\\python310\\lib\\site-packages (from requests~=2.22->yandex-geocoder) (3.4)\n",
      "Requirement already satisfied: urllib3<1.27,>=1.21.1 in c:\\python\\python310\\lib\\site-packages (from requests~=2.22->yandex-geocoder) (1.26.12)\n",
      "Requirement already satisfied: certifi>=2017.4.17 in c:\\python\\python310\\lib\\site-packages (from requests~=2.22->yandex-geocoder) (2022.9.24)\n",
      "Requirement already satisfied: charset-normalizer<3,>=2 in c:\\python\\python310\\lib\\site-packages (from requests~=2.22->yandex-geocoder) (2.1.1)\n",
      "Installing collected packages: yandex-geocoder\n",
      "Successfully installed yandex-geocoder-2.0.0\n",
      "Note: you may need to restart the kernel to use updated packages.\n",
      "Collecting folium\n",
      "  Downloading folium-0.12.1.post1-py2.py3-none-any.whl (95 kB)\n",
      "     ---------------------------------------- 95.0/95.0 kB 1.3 MB/s eta 0:00:00\n",
      "Requirement already satisfied: jinja2>=2.9 in c:\\python\\python310\\lib\\site-packages (from folium) (3.1.2)\n",
      "Collecting numpy\n",
      "  Downloading numpy-1.23.3-cp310-cp310-win_amd64.whl (14.6 MB)\n",
      "     ---------------------------------------- 14.6/14.6 MB 3.3 MB/s eta 0:00:00\n",
      "Requirement already satisfied: requests in c:\\python\\python310\\lib\\site-packages (from folium) (2.28.1)\n",
      "Collecting branca>=0.3.0\n",
      "  Downloading branca-0.5.0-py3-none-any.whl (24 kB)\n",
      "Requirement already satisfied: MarkupSafe>=2.0 in c:\\python\\python310\\lib\\site-packages (from jinja2>=2.9->folium) (2.1.1)\n",
      "Requirement already satisfied: charset-normalizer<3,>=2 in c:\\python\\python310\\lib\\site-packages (from requests->folium) (2.1.1)\n",
      "Requirement already satisfied: idna<4,>=2.5 in c:\\python\\python310\\lib\\site-packages (from requests->folium) (3.4)\n",
      "Requirement already satisfied: urllib3<1.27,>=1.21.1 in c:\\python\\python310\\lib\\site-packages (from requests->folium) (1.26.12)\n",
      "Requirement already satisfied: certifi>=2017.4.17 in c:\\python\\python310\\lib\\site-packages (from requests->folium) (2022.9.24)\n",
      "Installing collected packages: numpy, branca, folium\n",
      "Successfully installed branca-0.5.0 folium-0.12.1.post1 numpy-1.23.3\n",
      "Note: you may need to restart the kernel to use updated packages.\n",
      "Collecting geocoder\n",
      "  Downloading geocoder-1.38.1-py2.py3-none-any.whl (98 kB)\n",
      "     ---------------------------------------- 98.6/98.6 kB 1.4 MB/s eta 0:00:00\n",
      "Requirement already satisfied: requests in c:\\python\\python310\\lib\\site-packages (from geocoder) (2.28.1)\n",
      "Requirement already satisfied: six in c:\\python\\python310\\lib\\site-packages (from geocoder) (1.16.0)\n",
      "Collecting future\n",
      "  Downloading future-0.18.2.tar.gz (829 kB)\n",
      "     -------------------------------------- 829.2/829.2 kB 3.1 MB/s eta 0:00:00\n",
      "  Preparing metadata (setup.py): started\n",
      "  Preparing metadata (setup.py): finished with status 'done'\n",
      "Collecting ratelim\n",
      "  Downloading ratelim-0.1.6-py2.py3-none-any.whl (4.0 kB)\n",
      "Collecting click\n",
      "  Downloading click-8.1.3-py3-none-any.whl (96 kB)\n",
      "     ---------------------------------------- 96.6/96.6 kB 2.8 MB/s eta 0:00:00\n",
      "Requirement already satisfied: colorama in c:\\python\\python310\\lib\\site-packages (from click->geocoder) (0.4.5)\n",
      "Requirement already satisfied: decorator in c:\\python\\python310\\lib\\site-packages (from ratelim->geocoder) (5.1.1)\n",
      "Requirement already satisfied: charset-normalizer<3,>=2 in c:\\python\\python310\\lib\\site-packages (from requests->geocoder) (2.1.1)\n",
      "Requirement already satisfied: certifi>=2017.4.17 in c:\\python\\python310\\lib\\site-packages (from requests->geocoder) (2022.9.24)\n",
      "Requirement already satisfied: urllib3<1.27,>=1.21.1 in c:\\python\\python310\\lib\\site-packages (from requests->geocoder) (1.26.12)\n",
      "Requirement already satisfied: idna<4,>=2.5 in c:\\python\\python310\\lib\\site-packages (from requests->geocoder) (3.4)\n",
      "Using legacy 'setup.py install' for future, since package 'wheel' is not installed.\n",
      "Installing collected packages: ratelim, future, click, geocoder\n",
      "  Running setup.py install for future: started\n",
      "  Running setup.py install for future: finished with status 'done'\n",
      "Successfully installed click-8.1.3 future-0.18.2 geocoder-1.38.1 ratelim-0.1.6\n",
      "Note: you may need to restart the kernel to use updated packages.\n"
     ]
    }
   ],
   "source": [
    "# устанавливаем библиотеки для получения координат и создания карты\n",
    "%pip install yandex-geocoder\n",
    "%pip install folium\n",
    "%pip install geocoder"
   ]
  },
  {
   "cell_type": "code",
   "execution_count": 2,
   "metadata": {},
   "outputs": [
    {
     "ename": "ModuleNotFoundError",
     "evalue": "No module named 'pandas'",
     "output_type": "error",
     "traceback": [
      "\u001b[1;31m---------------------------------------------------------------------------\u001b[0m",
      "\u001b[1;31mModuleNotFoundError\u001b[0m                       Traceback (most recent call last)",
      "Cell \u001b[1;32mIn [2], line 2\u001b[0m\n\u001b[0;32m      1\u001b[0m \u001b[38;5;66;03m# импорт библиотек\u001b[39;00m\n\u001b[1;32m----> 2\u001b[0m \u001b[38;5;28;01mimport\u001b[39;00m \u001b[38;5;21;01mpandas\u001b[39;00m \u001b[38;5;28;01mas\u001b[39;00m \u001b[38;5;21;01mpd\u001b[39;00m\n\u001b[0;32m      3\u001b[0m \u001b[38;5;28;01mimport\u001b[39;00m \u001b[38;5;21;01mplotly\u001b[39;00m\u001b[38;5;21;01m.\u001b[39;00m\u001b[38;5;21;01mexpress\u001b[39;00m \u001b[38;5;28;01mas\u001b[39;00m \u001b[38;5;21;01mpx\u001b[39;00m\n\u001b[0;32m      4\u001b[0m \u001b[38;5;28;01mimport\u001b[39;00m \u001b[38;5;21;01mseaborn\u001b[39;00m \u001b[38;5;28;01mas\u001b[39;00m \u001b[38;5;21;01msns\u001b[39;00m\n",
      "\u001b[1;31mModuleNotFoundError\u001b[0m: No module named 'pandas'"
     ]
    }
   ],
   "source": [
    "# импорт библиотек\n",
    "import pandas as pd\n",
    "import plotly.express as px\n",
    "import seaborn as sns\n",
    "from yandex_geocoder import Client\n",
    "from decimal import Decimal\n",
    "from io import BytesIO\n",
    "import requests\n",
    "import folium\n",
    "import geocoder"
   ]
  },
  {
   "cell_type": "code",
   "execution_count": null,
   "metadata": {},
   "outputs": [],
   "source": [
    "# загрузка датасета\n",
    "data = pd.read_csv('/datasets/rest_data.csv')"
   ]
  },
  {
   "cell_type": "markdown",
   "metadata": {},
   "source": [
    "# Описание данных\n",
    "Таблица rest_data:\n",
    "\n",
    "id — идентификатор объекта;\n",
    "\n",
    "object_name — название объекта общественного питания;\n",
    "\n",
    "chain — сетевой ресторан;\n",
    "\n",
    "object_type — тип объекта общественного питания;\n",
    "\n",
    "address — адрес;\n",
    "\n",
    "number — количество посадочных мест."
   ]
  },
  {
   "cell_type": "code",
   "execution_count": null,
   "metadata": {},
   "outputs": [],
   "source": [
    "# функция для просмотра информации о датафрейме\n",
    "def first_look (df):\n",
    "    print('------------- Первые 5 строк ------------')\n",
    "    display(df.head())\n",
    "    print()\n",
    "    print('------------- Типы данных ------------')\n",
    "    df.info()\n",
    "    print()\n",
    "    print('------------- Пропуски ------------')\n",
    "    count = 0\n",
    "    for element in df.columns:\n",
    "        print(element, ' - ', df[element].isna().sum(), 'пропусков')\n",
    "        count = +1\n",
    "    if count == 0:\n",
    "        print()\n",
    "        print('Дубликатов: ', df.duplicated().sum())\n",
    "    else:\n",
    "        print()\n",
    "        print('Дубликатов НЕТ')"
   ]
  },
  {
   "cell_type": "markdown",
   "metadata": {},
   "source": [
    "## Предобработка данных"
   ]
  },
  {
   "cell_type": "code",
   "execution_count": null,
   "metadata": {
    "scrolled": false
   },
   "outputs": [],
   "source": [
    "first_look(data)"
   ]
  },
  {
   "cell_type": "code",
   "execution_count": null,
   "metadata": {
    "scrolled": true
   },
   "outputs": [],
   "source": [
    "data['object_type'].unique()"
   ]
  },
  {
   "cell_type": "code",
   "execution_count": null,
   "metadata": {},
   "outputs": [],
   "source": [
    "# приведем данные о принадлежности к сети в булевому формату\n",
    "\n",
    "data.loc[data.chain == 'да',\"chain\"] = 1\n",
    "data.loc[data.chain == 'нет',\"chain\"] = 0"
   ]
  },
  {
   "cell_type": "code",
   "execution_count": null,
   "metadata": {},
   "outputs": [],
   "source": [
    "# переименум number в  seat_numbers\n",
    "data.rename(columns={'number':'seats_number'}, inplace=True)\n",
    "\n",
    "# переименуем 'предприятие быстрого обслуживания' в 'бистро' и 'магазин (отдел кулинарии)' в 'кулинария'\n",
    "data.loc[data.object_type == 'предприятие быстрого обслуживания', 'object_type'] = 'бистро'\n",
    "data.loc[data.object_type == 'магазин (отдел кулинарии)', 'object_type'] = 'кулинария'"
   ]
  },
  {
   "cell_type": "code",
   "execution_count": null,
   "metadata": {
    "scrolled": true
   },
   "outputs": [],
   "source": [
    "# приведем названия в нижний регистр и проверим на дубликаты\n",
    "data['object_name'] = data['object_name'].str.lower()\n",
    "data[['object_name','address']].duplicated().sum()"
   ]
  },
  {
   "cell_type": "code",
   "execution_count": null,
   "metadata": {
    "scrolled": true
   },
   "outputs": [],
   "source": [
    "# проверим, что за дубликаты по адресу и названию\n",
    "data.groupby(['address','object_name']).agg({'id':'count'}).query('id>2')"
   ]
  },
  {
   "cell_type": "code",
   "execution_count": null,
   "metadata": {},
   "outputs": [],
   "source": [
    "# Мы обнаружили 225 совпадений названий и адреса, однако это оказались просто общие названия объектов\n",
    "# по id совпадений нет\n",
    "data.drop_duplicates(subset = ['object_name','address','id'] ,inplace = True)\n",
    "data[['object_name','address','id']].duplicated().sum()"
   ]
  },
  {
   "cell_type": "code",
   "execution_count": null,
   "metadata": {
    "scrolled": false
   },
   "outputs": [],
   "source": [
    "# проверим на аномалии по количеству посадочных мест\n",
    "sns.set(rc={'figure.figsize':(11.7,8.27)})\n",
    "ax = sns.boxplot(x=\"object_type\", y=\"seats_number\", data=data)\n",
    "ax.set_xticklabels(ax.get_xticklabels(),rotation=30)"
   ]
  },
  {
   "cell_type": "markdown",
   "metadata": {},
   "source": [
    "Разберемся, что же скрывается за столь огромным числом посадочных мест в некторых объектах."
   ]
  },
  {
   "cell_type": "code",
   "execution_count": null,
   "metadata": {
    "scrolled": false
   },
   "outputs": [],
   "source": [
    "print(data.query('seats_number > 700').count())\n",
    "display(data.query('seats_number > 700'))"
   ]
  },
  {
   "cell_type": "markdown",
   "metadata": {},
   "source": [
    "Обнаруженные заведения это отели, арены, столовые в вузах, храм христа спасителя, от данных значений мы избавимся."
   ]
  },
  {
   "cell_type": "code",
   "execution_count": null,
   "metadata": {},
   "outputs": [],
   "source": [
    "data = data[data['seats_number'] < 700]"
   ]
  },
  {
   "cell_type": "markdown",
   "metadata": {},
   "source": [
    "Выводы:\n",
    " - Пропусков и явных дубликатов в данных не обнаружено\n",
    " - Типы данных соответсвуют необходимым\n",
    " - Все названия приведены в нижний регистр\n",
    " - Переименовали длинные типы объектов\n",
    " - Удалили 9 аномалий"
   ]
  },
  {
   "cell_type": "markdown",
   "metadata": {},
   "source": [
    "## Анализ данных"
   ]
  },
  {
   "cell_type": "markdown",
   "metadata": {},
   "source": [
    "### Исследование видов объектов общественного питания"
   ]
  },
  {
   "cell_type": "code",
   "execution_count": null,
   "metadata": {
    "scrolled": false
   },
   "outputs": [],
   "source": [
    "t = data.groupby('object_type').agg('count').sort_values(by = 'id').reset_index()\n",
    "t['percent'] = t['id']/len(data)*100\n",
    "\n",
    "fig = px.bar(\n",
    "    t,\n",
    "    x='object_type',\n",
    "    y='id',\n",
    "    title='Виды объектов общественного питания',\n",
    "    width=800, height=600,\n",
    "    text = round(t['percent']).astype(str)+'%'\n",
    "\n",
    ")\n",
    "\n",
    "fig.update_layout(\n",
    "    xaxis_title = \"Тип объекта\",\n",
    "    yaxis_title = \"Процент от общего количества\")\n",
    "\n",
    "fig.update_xaxes(tickangle=45)\n",
    "fig.show() \n"
   ]
  },
  {
   "cell_type": "markdown",
   "metadata": {},
   "source": [
    "Выводы:\n",
    "- Самым популярным типом заведения является кафе\n",
    "- Самым не популярным - отдел кулинарии в магазине"
   ]
  },
  {
   "cell_type": "markdown",
   "metadata": {},
   "source": [
    "### Исследование соотношения сетевых и несетевых заведений"
   ]
  },
  {
   "cell_type": "code",
   "execution_count": null,
   "metadata": {
    "scrolled": false
   },
   "outputs": [],
   "source": [
    "t = data.groupby('chain').agg('count').sort_values(by = 'id').reset_index()\n",
    "print(t)\n",
    "\n",
    "fig = px.bar(\n",
    "    t,\n",
    "    x='object_type',\n",
    "    y='id',\n",
    "    title='Сетевые и не сетевые заведения',\n",
    "    width=500, height=500,\n",
    "    color = 'chain',\n",
    "    text = t['id'].astype(str) + [' не сетевых', ' сетевых']\n",
    ")\n",
    "\n",
    "fig.update_layout(\n",
    "    xaxis_title = \"Тип объекта\",\n",
    "    yaxis_title = \"Общее количество сетевых объектов\")\n",
    "\n",
    "fig.show()\n"
   ]
  },
  {
   "cell_type": "markdown",
   "metadata": {},
   "source": [
    "### Для какого вида объекта общественного питания характерно сетевое распространение?"
   ]
  },
  {
   "cell_type": "code",
   "execution_count": null,
   "metadata": {
    "scrolled": false
   },
   "outputs": [],
   "source": [
    "# сгруппируем по типу объекта\n",
    "t = data.groupby('object_type').agg({'id':'count', 'chain':'sum'}).reset_index()\n",
    "\n",
    "# посчитаем дою сетевых заведений\n",
    "t['chain_ratio'] = t['chain']/t['id']*100\n",
    "t.sort_values(by = 'chain_ratio', ascending = 'False', inplace=True)\n",
    "print(t)\n",
    "\n",
    "fig = px.bar(\n",
    "    t,\n",
    "    x='object_type',\n",
    "    y='chain_ratio',\n",
    "    title='Виды объектов общественного питания',\n",
    "    height=700,\n",
    "    text = round(t['chain_ratio'],2).astype(str) + '%'\n",
    "\n",
    ")\n",
    "fig.update_layout(\n",
    "    xaxis_title = \"Тип объекта\",\n",
    "    yaxis_title = \"Процент сетевых объектов\")\n",
    "\n",
    "fig.update_xaxes(tickangle=45)\n",
    "fig.update_traces(textposition = 'outside')\n",
    "fig.show()"
   ]
  },
  {
   "cell_type": "markdown",
   "metadata": {},
   "source": [
    "Посмотрим, что за объекты скрываются за типом бистро  (\"предприятие быстрого обслуживания\")"
   ]
  },
  {
   "cell_type": "code",
   "execution_count": null,
   "metadata": {
    "scrolled": true
   },
   "outputs": [],
   "source": [
    "data.query('object_type == \"бистро\"')['object_name'].sort_values().unique()"
   ]
  },
  {
   "cell_type": "markdown",
   "metadata": {},
   "source": [
    "Отметим, что в названиях обнаружены неявные дубликаты, например: 'kfc', 'kfc волгоградский', 'kfc.'\n",
    "Считаем, что это не повлияет на наше исследование."
   ]
  },
  {
   "cell_type": "markdown",
   "metadata": {},
   "source": [
    "### Что характерно для сетевых заведений: много заведений с небольшим числом посадочных мест в каждом или мало заведений с большим количеством посадочных мест?"
   ]
  },
  {
   "cell_type": "code",
   "execution_count": null,
   "metadata": {
    "scrolled": false
   },
   "outputs": [],
   "source": [
    "# посчитаем суммарное количество ресторанов в сети и среднее количество посадочных мест\n",
    "t = data[data['chain'] == 1]\n",
    "t = (t.groupby('object_name')\n",
    "     .agg({'id':'count','seats_number':'sum'})\n",
    "     .reset_index().query('id>1')\n",
    "     .sort_values(by = 'id', ascending = False))\n",
    "\n",
    "t['mean_seats'] = t['seats_number']/t['id']\n",
    "fig = px.line(\n",
    "    t, x='id', y='mean_seats', title='Зависимость среднего числа мест в ресторане сети от количества ресторанов в сети'\n",
    ")\n",
    "fig.show()"
   ]
  },
  {
   "cell_type": "code",
   "execution_count": null,
   "metadata": {
    "scrolled": false
   },
   "outputs": [],
   "source": [
    "p = sns.jointplot(x='id',\n",
    "                  y='mean_seats',\n",
    "                  data=t,\n",
    "                 height = 10)\n",
    "\n",
    "p.fig.suptitle(\"Распределение среднего числа мест и количества ресторанов\")\n",
    "p.set_axis_labels('Количество ресторанов в сети', 'Среднее число мест в ресторане', fontsize=10)\n",
    "p.ax_joint.axvline(x=t['id'].median(), c = 'red', label = 'медиана',ls='--')"
   ]
  },
  {
   "cell_type": "code",
   "execution_count": null,
   "metadata": {},
   "outputs": [],
   "source": [
    "# выделим топ крупнейших сетей\n",
    "t1 = t.head(10)\n",
    "t1"
   ]
  },
  {
   "cell_type": "code",
   "execution_count": null,
   "metadata": {},
   "outputs": [],
   "source": [
    "fig = px.scatter(t1, x='id', y='mean_seats',\n",
    "    size='seats_number', color='object_name',\n",
    "    log_x=True, size_max=60)\n",
    "\n",
    "fig.update_layout(\n",
    "    xaxis_title = \"Количество ресторанов в сети\",\n",
    "    yaxis_title = \"Среднее количество мест\")\n",
    "\n",
    "fig.show()"
   ]
  },
  {
   "cell_type": "code",
   "execution_count": null,
   "metadata": {
    "scrolled": false
   },
   "outputs": [],
   "source": [
    "# аналогично посчитаем медианное число посадочных мест в сетях\n",
    "# и построим график\n",
    "\n",
    "t = data[data['chain'] == 1]\n",
    "t = (t.groupby('object_name')\n",
    "     .agg({'id':'count','seats_number':'median'})\n",
    "     .reset_index().query('id>1')\n",
    "     .sort_values(by = 'id', ascending = False))\n",
    "\n",
    "p = sns.jointplot(x='id', y='seats_number', data=t)\n",
    "p.fig.suptitle(\"Распределение медианного числа мест и количества ресторанов\")\n",
    "p.set_axis_labels('Количество ресторанов в сети', 'Медианное число мест в ресторане', fontsize=16)\n",
    "p.ax_joint.axvline(x=t['id'].median(), c = 'red', label = 'медиана',ls='--')"
   ]
  },
  {
   "cell_type": "code",
   "execution_count": null,
   "metadata": {
    "scrolled": false
   },
   "outputs": [],
   "source": [
    "# аналогично посчитаем минимальное число посадочных мест в сетях\n",
    "# и построим график\n",
    "\n",
    "t = data[data['chain'] == 1]\n",
    "t = (t.groupby('object_name')\n",
    "     .agg({'id':'count','seats_number':'min'})\n",
    "     .reset_index().query('id>1')\n",
    "     .sort_values(by = 'id', ascending = False))\n",
    "\n",
    "p = sns.jointplot(x='id', y='seats_number', data=t)\n",
    "p.fig.suptitle(\"Распределение минимального числа мест и количества ресторанов\")\n",
    "p.set_axis_labels('Количество ресторанов в сети', 'Минимальное число мест в ресторане', fontsize=16)\n",
    "p.ax_joint.axvline(x=t['id'].median(), c = 'red', label = 'медиана',ls='--')"
   ]
  },
  {
   "cell_type": "code",
   "execution_count": null,
   "metadata": {
    "scrolled": false
   },
   "outputs": [],
   "source": [
    "# аналогично посчитаем максимальное число посадочных мест в сетях\n",
    "# и построим график\n",
    "\n",
    "t = data[data['chain'] == 1]\n",
    "t = (t.groupby('object_name')\n",
    "     .agg({'id':'count','seats_number':'max'})\n",
    "     .reset_index().query('id>1')\n",
    "     .sort_values(by = 'id', ascending = False))\n",
    "\n",
    "p = sns.jointplot(x='id', y='seats_number', data=t)\n",
    "p.fig.suptitle(\"Распределение максимального числа мест и количества ресторанов\")\n",
    "\n",
    "p.set_axis_labels('Количество ресторанов в сети', 'Максимальное число мест в ресторане', fontsize=16)"
   ]
  },
  {
   "cell_type": "markdown",
   "metadata": {},
   "source": [
    "Выводы:\n",
    "- Чаще всего сети имеют небольшое количество заведений (до 40) с большим количеством посадочных мест (от 50)"
   ]
  },
  {
   "cell_type": "markdown",
   "metadata": {},
   "source": [
    "### Для каждого вида объекта общественного питания опишите среднее количество посадочных мест. Какой вид предоставляет в среднем самое большое количество посадочных мест? "
   ]
  },
  {
   "cell_type": "code",
   "execution_count": null,
   "metadata": {
    "scrolled": false
   },
   "outputs": [],
   "source": [
    "t = (data.groupby('object_type')\n",
    "     .agg({'id':'count','seats_number':'sum'})\n",
    "     .reset_index()\n",
    "     )\n",
    "\n",
    "t['mean_seats'] = t['seats_number']/t['id']\n",
    "t = t.sort_values(by = 'mean_seats', ascending = False)\n",
    "\n",
    "fig = px.bar(\n",
    "    t, x='object_type',\n",
    "    y='mean_seats',\n",
    "    title='Среднее количество мест в заведении',\n",
    "    text = round(t['mean_seats']).astype(str),\n",
    "    width=800, height=700)\n",
    "fig.update_xaxes(tickangle=45)\n",
    "\n",
    "fig.update_layout(\n",
    "    xaxis_title = \"Тип объекта\",\n",
    "    yaxis_title = \"шт.\")\n",
    "\n",
    "fig.show()"
   ]
  },
  {
   "cell_type": "code",
   "execution_count": null,
   "metadata": {},
   "outputs": [],
   "source": [
    "t = data[data['chain'] == 1]\n",
    "p = px.box(t, x = 'object_type' , y = 'seats_number', title = 'Количество мест в объекте')\n",
    "p.show()"
   ]
  },
  {
   "cell_type": "markdown",
   "metadata": {},
   "source": [
    "Выводы:\n",
    "- Больше всего средних мест предоставляет СТОЛОВАЯ и РЕСТОРАН\n",
    "- самые значительные выбросы у кафе, бистро и ресторана\n",
    "- в барах и столовых выбросы отсутсвует - возможно это говорит о каком то устоявшемся порядке (шаблоне) открытия заведения, то есть рестораторы не пытаются эксперементировать с размером объекта\n"
   ]
  },
  {
   "cell_type": "markdown",
   "metadata": {},
   "source": [
    "### Выделите в отдельный столбец информацию об улице из столбца address"
   ]
  },
  {
   "cell_type": "code",
   "execution_count": null,
   "metadata": {},
   "outputs": [],
   "source": [
    "pattern = '\\,*,(([а-яА-Я1-9\\-ё\\s\"]+)?(улица|переулок|шоссе|проспект|площадь|проезд|село|Проезд|аллея|бульвар|набережная|тупик|линия|)([а-яА-Яё1-9\\-\\s\"]+)?)\\,'\n",
    "data['street_name'] = data['address'].str.extract(pat = pattern)[0]\n",
    "data"
   ]
  },
  {
   "cell_type": "markdown",
   "metadata": {},
   "source": [
    "### Постройте график топ-10 улиц по количеству объектов общественного питания. Воспользуйтесь внешней информацией и ответьте на вопрос — в каких районах Москвы находятся эти улицы?"
   ]
  },
  {
   "cell_type": "markdown",
   "metadata": {
    "scrolled": false
   },
   "source": [
    "Возникла классическая проблема Зеленограда, по совету преподователя из канала проекта, я удаляю Зеленоград из рейтинга улиц. Уверен, что в Зеленограде улицы менее наполнены ресторанами, чем какая - либо в Москве."
   ]
  },
  {
   "cell_type": "markdown",
   "metadata": {},
   "source": []
  },
  {
   "cell_type": "code",
   "execution_count": null,
   "metadata": {},
   "outputs": [],
   "source": [
    "# для получения района поодключим файл из публичной карты Москвы\n",
    "# отсюда: https://hubofdata.ru/dataset/mosgaz_streets\n",
    "\n",
    "spreadsheet_id = '15uLfCHCS3N5CetrHutjGa9xh46IfWRZ0_A5Id1si_2U'\n",
    "file_name = 'https://docs.google.com/spreadsheets/d/{}/export?format=csv'.format(spreadsheet_id)\n",
    "r = requests.get(file_name)\n",
    "rest_data = pd.read_csv(BytesIO(r.content))\n",
    "rest_data.rename(columns={'streetname':'street_name','area':'district'}, inplace=True)\n",
    "rest_data"
   ]
  },
  {
   "cell_type": "code",
   "execution_count": null,
   "metadata": {},
   "outputs": [],
   "source": [
    "data['street_name'] = data['street_name'].str.strip()\n",
    "rest_data['street_name'] = rest_data['street_name'].str.strip()"
   ]
  },
  {
   "cell_type": "code",
   "execution_count": null,
   "metadata": {
    "scrolled": true
   },
   "outputs": [],
   "source": [
    "# данная проверка показывает, что одна улица может находиться в нескольких районах\n",
    "rest_data[rest_data['street_name'] == 'улица Талалихина']"
   ]
  },
  {
   "cell_type": "code",
   "execution_count": null,
   "metadata": {},
   "outputs": [],
   "source": [
    "#rest_data.drop_duplicates(subset='street_name', keep=\"first\" ,inplace = True)"
   ]
  },
  {
   "cell_type": "code",
   "execution_count": null,
   "metadata": {},
   "outputs": [],
   "source": [
    "# соединим нашу таблицу с данными из интернета по улице\n",
    "data = data.merge(rest_data, on = 'street_name', how = 'left')\n",
    "data"
   ]
  },
  {
   "cell_type": "code",
   "execution_count": null,
   "metadata": {
    "scrolled": true
   },
   "outputs": [],
   "source": [
    "# сгруппируем по улице\n",
    "top_streets = (data\n",
    " .groupby(['street_name','district'])\n",
    " .agg({'id':'count'})\n",
    " .reset_index()\n",
    " .sort_values(by = 'id', ascending = False)\n",
    "              )\n",
    "\n",
    "top_streets['street_name'] = top_streets['street_name'].str.strip()\n",
    "top_streets = top_streets.query('street_name != \"город Зеленоград\"').head(50).reset_index(drop = True)\n",
    "top_streets"
   ]
  },
  {
   "cell_type": "code",
   "execution_count": null,
   "metadata": {
    "scrolled": false
   },
   "outputs": [],
   "source": [
    "# построим график\n",
    "fig = px.bar(\n",
    "    top_streets,\n",
    "    x='street_name',\n",
    "    y='id',\n",
    "    title='Самые популярные улицы',\n",
    "    width=1000, height=600,\n",
    "    color = 'district',\n",
    "    text = top_streets['id'].astype(str)\n",
    ")\n",
    "\n",
    "fig.update_layout(\n",
    "    xaxis_title = \"Улица\",\n",
    "    yaxis_title = \"Количество объектов\")\n",
    "\n",
    "fig.update_traces(textposition = 'outside')\n",
    "\n",
    "fig.update_xaxes(tickangle=45)\n",
    "fig.show()"
   ]
  },
  {
   "cell_type": "code",
   "execution_count": null,
   "metadata": {
    "scrolled": false
   },
   "outputs": [],
   "source": [
    "# получим объекты расположенные на самых популярных улицах\n",
    "\n",
    "rest_in_top_streets = data.loc[data['street_name'].isin(top_streets['street_name'])]"
   ]
  },
  {
   "cell_type": "code",
   "execution_count": null,
   "metadata": {
    "scrolled": false
   },
   "outputs": [],
   "source": [
    "print('Список самых популярных улиц:')\n",
    "top_streets['street_name'].unique()"
   ]
  },
  {
   "cell_type": "code",
   "execution_count": null,
   "metadata": {},
   "outputs": [],
   "source": [
    "# определим самые популярные типы объектов на популярных улицах\n",
    "\n",
    "t = (rest_in_top_streets\n",
    "     .groupby(['object_type','chain'])\n",
    "     .agg({'id':'count'})\n",
    "     .sort_values(by = 'id', ascending = False)\n",
    "     .head(10).reset_index())\n",
    "\n",
    "# построим график\n",
    "fig = px.bar(\n",
    "    t,\n",
    "    x='object_type',\n",
    "    y='id',\n",
    "    title='Самые популярные в зоне топ-улиц',\n",
    "    width=1000, height=800,\n",
    "    color = 'chain',\n",
    "    text = t['id'].astype(str)\n",
    ")\n",
    "\n",
    "fig.update_layout(\n",
    "    xaxis_title = \"Тип объекта\",\n",
    "    yaxis_title = \"Количество объектов\")\n",
    "\n",
    "fig.update_traces(textposition = 'outside')\n",
    "\n",
    "fig.update_xaxes(tickangle=45)\n",
    "fig.show()"
   ]
  },
  {
   "cell_type": "markdown",
   "metadata": {},
   "source": []
  },
  {
   "cell_type": "markdown",
   "metadata": {},
   "source": [
    "### Найдите число улиц с одним объектом общественного питания. Воспользуйтесь внешней информацией и ответьте на вопрос — в каких районах Москвы находятся эти улицы?"
   ]
  },
  {
   "cell_type": "code",
   "execution_count": null,
   "metadata": {
    "scrolled": true
   },
   "outputs": [],
   "source": [
    "# сгруппируем по улице\n",
    "min_streets = (data\n",
    " .groupby(['street_name','district'])\n",
    " .agg({'id':'count'})\n",
    " .reset_index()\n",
    " .query('id == 1')\n",
    "              )\n",
    "\n",
    "min_streets"
   ]
  },
  {
   "cell_type": "markdown",
   "metadata": {},
   "source": [
    "## Бонусная часть"
   ]
  },
  {
   "cell_type": "code",
   "execution_count": null,
   "metadata": {},
   "outputs": [],
   "source": [
    "m = folium.Map(location=[45.5236, -122.6750])\n",
    "rest_in_top_street = rest_in_top_streets.reset_index(drop = True)\n",
    "rest_in_top_streets"
   ]
  },
  {
   "cell_type": "markdown",
   "metadata": {},
   "source": [
    "## Выводы:"
   ]
  },
  {
   "cell_type": "markdown",
   "metadata": {},
   "source": [
    "- Мы провели исследование базы данных объектов общественного питания, провели предобработку данных - удалили неявные дубликаты, убрали аномалии (ХХС, гостинницы, столовые в вузах), с попмщью внешних данных определили районы в которых находятся объекты. \n",
    "- Обнаружили, что самым популярным типом заведения является кафе,a cамым не популярным - отдел кулинарии в магазине\n",
    "- Сетевых заведений в три раза больше, чем не сетевых\n",
    "- Среди сетевых самые популярные - Предприятие быстрого обслуживания, ресторан и кафе (отдел кулинарии мы не учитываем)\n",
    "- Для сетевых завадения характерно большое количество заведений с большим количество мест\n",
    "- Среднее количество посадочных мест:для столовой 129, для ресторана 95, кафе - 40\n",
    "- Самые наполненные объхектами улицы: 'проспект Мира' 'Профсоюзная улица' 'Ленинградский проспект'\n",
    "  'Пресненская набережная' 'Варшавское шоссе' 'Ленинский проспект'\n",
    "  'проспект Вернадского' 'Кутузовский проспект' 'Каширское шоссе'\n",
    "  'Кировоградская улица'\n",
    "- Список улиц с одним объектом составляет 517 строк\n",
    " \n",
    " Рекомендуем открытие  __кафе__ или ресторана с числом мест от __46__ расположенного на одной из улиц:\n",
    " 'проспект Мира' 'Профсоюзная улица' 'Ленинградский проспект'\n",
    "  'Пресненская набережная' 'Варшавское шоссе' 'Ленинский проспект'\n",
    "  'проспект Вернадского' 'Кутузовский проспект' 'Каширское шоссе'\n",
    "  'Кировоградская улица'\n",
    " "
   ]
  },
  {
   "cell_type": "markdown",
   "metadata": {},
   "source": [
    "Ссылка на презентацию:\n",
    "\n",
    "https://docs.google.com/presentation/d/1qAoPQhgGsvoUBj6UiJ9Sz_7jjcEsQVDJXBGzELhOn14/edit?usp=sharing"
   ]
  }
 ],
 "metadata": {
  "ExecuteTimeLog": [
   {
    "duration": 12,
    "start_time": "2022-06-01T13:09:26.522Z"
   },
   {
    "duration": 728,
    "start_time": "2022-06-01T13:13:26.950Z"
   },
   {
    "duration": 238,
    "start_time": "2022-06-01T13:13:48.510Z"
   },
   {
    "duration": 75,
    "start_time": "2022-06-01T13:13:57.629Z"
   },
   {
    "duration": 59,
    "start_time": "2022-06-01T13:15:16.468Z"
   },
   {
    "duration": 47,
    "start_time": "2022-06-01T13:15:30.125Z"
   },
   {
    "duration": 25,
    "start_time": "2022-06-01T13:15:56.196Z"
   },
   {
    "duration": 24,
    "start_time": "2022-06-01T13:16:05.508Z"
   },
   {
    "duration": 4,
    "start_time": "2022-06-01T13:16:10.043Z"
   },
   {
    "duration": 20,
    "start_time": "2022-06-01T13:16:12.092Z"
   },
   {
    "duration": 4,
    "start_time": "2022-06-01T13:16:34.644Z"
   },
   {
    "duration": 22,
    "start_time": "2022-06-01T13:16:36.612Z"
   },
   {
    "duration": 5,
    "start_time": "2022-06-01T13:18:39.580Z"
   },
   {
    "duration": 32,
    "start_time": "2022-06-01T13:18:41.554Z"
   },
   {
    "duration": 5,
    "start_time": "2022-06-01T13:20:12.922Z"
   },
   {
    "duration": 22,
    "start_time": "2022-06-01T13:20:14.769Z"
   },
   {
    "duration": 4,
    "start_time": "2022-06-01T13:20:35.186Z"
   },
   {
    "duration": 5,
    "start_time": "2022-06-01T13:20:48.928Z"
   },
   {
    "duration": 32,
    "start_time": "2022-06-01T13:20:51.473Z"
   },
   {
    "duration": 7,
    "start_time": "2022-06-01T13:29:30.698Z"
   },
   {
    "duration": 5,
    "start_time": "2022-06-01T13:34:16.657Z"
   },
   {
    "duration": 4,
    "start_time": "2022-06-01T13:35:39.435Z"
   },
   {
    "duration": 5,
    "start_time": "2022-06-01T13:39:42.759Z"
   },
   {
    "duration": 16,
    "start_time": "2022-06-01T13:43:40.255Z"
   },
   {
    "duration": 11,
    "start_time": "2022-06-01T13:44:21.380Z"
   },
   {
    "duration": 462,
    "start_time": "2022-06-01T13:47:06.100Z"
   },
   {
    "duration": 46,
    "start_time": "2022-06-01T13:48:30.053Z"
   },
   {
    "duration": 20,
    "start_time": "2022-06-01T13:49:02.931Z"
   },
   {
    "duration": 14,
    "start_time": "2022-06-01T13:49:08.131Z"
   },
   {
    "duration": 15,
    "start_time": "2022-06-01T13:49:15.572Z"
   },
   {
    "duration": 14,
    "start_time": "2022-06-01T13:49:31.211Z"
   },
   {
    "duration": 434,
    "start_time": "2022-06-01T13:49:38.485Z"
   },
   {
    "duration": 49,
    "start_time": "2022-06-01T13:50:47.658Z"
   },
   {
    "duration": 107,
    "start_time": "2022-06-01T13:50:53.736Z"
   },
   {
    "duration": 52,
    "start_time": "2022-06-01T13:51:20.444Z"
   },
   {
    "duration": 68,
    "start_time": "2022-06-01T13:53:24.025Z"
   },
   {
    "duration": 29,
    "start_time": "2022-06-01T13:55:35.288Z"
   },
   {
    "duration": 37,
    "start_time": "2022-06-01T13:55:48.313Z"
   },
   {
    "duration": 55,
    "start_time": "2022-06-01T13:55:52.511Z"
   },
   {
    "duration": 49,
    "start_time": "2022-06-01T13:56:15.808Z"
   },
   {
    "duration": 49,
    "start_time": "2022-06-01T13:56:20.432Z"
   },
   {
    "duration": 46,
    "start_time": "2022-06-01T14:10:04.552Z"
   },
   {
    "duration": 51,
    "start_time": "2022-06-01T14:11:16.729Z"
   },
   {
    "duration": 72,
    "start_time": "2022-06-01T14:11:55.305Z"
   },
   {
    "duration": 56,
    "start_time": "2022-06-01T14:12:25.845Z"
   },
   {
    "duration": 54,
    "start_time": "2022-06-01T14:12:39.350Z"
   },
   {
    "duration": 504,
    "start_time": "2022-06-02T07:58:06.300Z"
   },
   {
    "duration": 238,
    "start_time": "2022-06-02T07:58:06.805Z"
   },
   {
    "duration": 5,
    "start_time": "2022-06-02T07:58:07.044Z"
   },
   {
    "duration": 46,
    "start_time": "2022-06-02T07:58:07.055Z"
   },
   {
    "duration": 6,
    "start_time": "2022-06-02T07:58:07.103Z"
   },
   {
    "duration": 392,
    "start_time": "2022-06-02T07:58:07.111Z"
   },
   {
    "duration": 98,
    "start_time": "2022-06-02T07:58:07.505Z"
   },
   {
    "duration": 96,
    "start_time": "2022-06-02T08:11:42.323Z"
   },
   {
    "duration": 54,
    "start_time": "2022-06-02T08:12:32.100Z"
   },
   {
    "duration": 50,
    "start_time": "2022-06-02T08:13:05.028Z"
   },
   {
    "duration": 52,
    "start_time": "2022-06-02T08:23:58.950Z"
   },
   {
    "duration": 48,
    "start_time": "2022-06-02T08:24:20.404Z"
   },
   {
    "duration": 47,
    "start_time": "2022-06-02T08:24:48.717Z"
   },
   {
    "duration": 21,
    "start_time": "2022-06-02T08:26:10.149Z"
   },
   {
    "duration": 117,
    "start_time": "2022-06-02T08:26:27.547Z"
   },
   {
    "duration": 47,
    "start_time": "2022-06-02T08:26:40.156Z"
   },
   {
    "duration": 23,
    "start_time": "2022-06-02T08:27:00.044Z"
   },
   {
    "duration": 49,
    "start_time": "2022-06-02T08:28:21.427Z"
   },
   {
    "duration": 49,
    "start_time": "2022-06-02T08:29:54.762Z"
   },
   {
    "duration": 51,
    "start_time": "2022-06-02T08:30:57.970Z"
   },
   {
    "duration": 5,
    "start_time": "2022-06-02T08:33:39.174Z"
   },
   {
    "duration": 11,
    "start_time": "2022-06-02T08:34:17.295Z"
   },
   {
    "duration": 10,
    "start_time": "2022-06-02T08:34:39.454Z"
   },
   {
    "duration": 9,
    "start_time": "2022-06-02T08:38:13.932Z"
   },
   {
    "duration": 9,
    "start_time": "2022-06-02T08:38:32.885Z"
   },
   {
    "duration": 40,
    "start_time": "2022-06-02T08:39:04.269Z"
   },
   {
    "duration": 13,
    "start_time": "2022-06-02T08:39:09.356Z"
   },
   {
    "duration": 9,
    "start_time": "2022-06-02T08:39:35.572Z"
   },
   {
    "duration": 12,
    "start_time": "2022-06-02T08:41:37.652Z"
   },
   {
    "duration": 1662,
    "start_time": "2022-06-02T08:43:54.267Z"
   },
   {
    "duration": 4,
    "start_time": "2022-06-02T08:44:17.730Z"
   },
   {
    "duration": 11,
    "start_time": "2022-06-02T08:44:48.986Z"
   },
   {
    "duration": 10,
    "start_time": "2022-06-02T08:47:53.538Z"
   },
   {
    "duration": 15,
    "start_time": "2022-06-02T08:48:11.138Z"
   },
   {
    "duration": 9,
    "start_time": "2022-06-02T08:48:28.728Z"
   },
   {
    "duration": 48,
    "start_time": "2022-06-02T08:48:48.944Z"
   },
   {
    "duration": 53,
    "start_time": "2022-06-02T08:49:34.128Z"
   },
   {
    "duration": 394,
    "start_time": "2022-06-02T08:50:27.448Z"
   },
   {
    "duration": 57,
    "start_time": "2022-06-02T08:50:45.119Z"
   },
   {
    "duration": 5,
    "start_time": "2022-06-02T08:51:21.447Z"
   },
   {
    "duration": 55,
    "start_time": "2022-06-02T08:51:34.607Z"
   },
   {
    "duration": 54,
    "start_time": "2022-06-02T08:52:00.455Z"
   },
   {
    "duration": 49,
    "start_time": "2022-06-02T08:52:51.895Z"
   },
   {
    "duration": 50,
    "start_time": "2022-06-02T08:53:05.526Z"
   },
   {
    "duration": 13,
    "start_time": "2022-06-02T08:53:14.920Z"
   },
   {
    "duration": 48,
    "start_time": "2022-06-02T08:53:30.174Z"
   },
   {
    "duration": 47,
    "start_time": "2022-06-02T08:54:08.486Z"
   },
   {
    "duration": 53,
    "start_time": "2022-06-02T08:54:57.190Z"
   },
   {
    "duration": 54,
    "start_time": "2022-06-02T08:55:23.229Z"
   },
   {
    "duration": 56,
    "start_time": "2022-06-02T08:56:23.077Z"
   },
   {
    "duration": 50,
    "start_time": "2022-06-02T08:56:27.182Z"
   },
   {
    "duration": 16,
    "start_time": "2022-06-02T08:57:28.331Z"
   },
   {
    "duration": 3,
    "start_time": "2022-06-02T09:00:28.681Z"
   },
   {
    "duration": 15,
    "start_time": "2022-06-02T09:00:33.937Z"
   },
   {
    "duration": 541,
    "start_time": "2022-06-03T08:30:24.297Z"
   },
   {
    "duration": 117,
    "start_time": "2022-06-03T08:30:24.840Z"
   },
   {
    "duration": 4,
    "start_time": "2022-06-03T08:30:24.959Z"
   },
   {
    "duration": 46,
    "start_time": "2022-06-03T08:30:24.965Z"
   },
   {
    "duration": 5,
    "start_time": "2022-06-03T08:30:25.013Z"
   },
   {
    "duration": 20,
    "start_time": "2022-06-03T08:30:25.019Z"
   },
   {
    "duration": 13,
    "start_time": "2022-06-03T08:30:25.041Z"
   },
   {
    "duration": 384,
    "start_time": "2022-06-03T08:30:25.056Z"
   },
   {
    "duration": 105,
    "start_time": "2022-06-03T08:30:25.442Z"
   },
   {
    "duration": 217,
    "start_time": "2022-06-03T08:30:25.549Z"
   },
   {
    "duration": 152,
    "start_time": "2022-06-03T08:30:25.767Z"
   },
   {
    "duration": 586,
    "start_time": "2022-06-06T12:48:17.265Z"
   },
   {
    "duration": 284,
    "start_time": "2022-06-06T12:48:17.853Z"
   },
   {
    "duration": 7,
    "start_time": "2022-06-06T12:48:18.139Z"
   },
   {
    "duration": 52,
    "start_time": "2022-06-06T12:48:18.148Z"
   },
   {
    "duration": 6,
    "start_time": "2022-06-06T12:48:18.202Z"
   },
   {
    "duration": 16,
    "start_time": "2022-06-06T12:48:18.210Z"
   },
   {
    "duration": 7,
    "start_time": "2022-06-06T12:48:18.228Z"
   },
   {
    "duration": 472,
    "start_time": "2022-06-06T12:48:18.237Z"
   },
   {
    "duration": 103,
    "start_time": "2022-06-06T12:48:18.711Z"
   },
   {
    "duration": 390,
    "start_time": "2022-06-06T12:48:18.816Z"
   },
   {
    "duration": 253,
    "start_time": "2022-06-06T12:48:19.208Z"
   },
   {
    "duration": 20,
    "start_time": "2022-06-06T12:57:51.232Z"
   },
   {
    "duration": 19,
    "start_time": "2022-06-06T12:58:00.789Z"
   },
   {
    "duration": 16,
    "start_time": "2022-06-06T12:58:14.899Z"
   },
   {
    "duration": 25,
    "start_time": "2022-06-06T12:58:44.150Z"
   },
   {
    "duration": 20,
    "start_time": "2022-06-06T12:59:14.327Z"
   },
   {
    "duration": 25,
    "start_time": "2022-06-06T13:06:54.463Z"
   },
   {
    "duration": 21,
    "start_time": "2022-06-06T13:08:20.655Z"
   },
   {
    "duration": 27,
    "start_time": "2022-06-06T13:08:29.210Z"
   },
   {
    "duration": 27,
    "start_time": "2022-06-06T13:09:23.459Z"
   },
   {
    "duration": 18,
    "start_time": "2022-06-06T13:09:59.344Z"
   },
   {
    "duration": 17,
    "start_time": "2022-06-06T13:11:10.889Z"
   },
   {
    "duration": 21,
    "start_time": "2022-06-06T13:11:13.991Z"
   },
   {
    "duration": 65,
    "start_time": "2022-06-06T13:12:44.752Z"
   },
   {
    "duration": 8,
    "start_time": "2022-06-06T13:19:40.759Z"
   },
   {
    "duration": 23,
    "start_time": "2022-06-06T13:19:44.059Z"
   },
   {
    "duration": 12,
    "start_time": "2022-06-06T13:20:00.919Z"
   },
   {
    "duration": 65,
    "start_time": "2022-06-06T13:21:30.868Z"
   },
   {
    "duration": 71,
    "start_time": "2022-06-06T13:22:12.773Z"
   },
   {
    "duration": 41,
    "start_time": "2022-06-06T13:22:51.169Z"
   },
   {
    "duration": 76,
    "start_time": "2022-06-06T13:23:01.498Z"
   },
   {
    "duration": 50,
    "start_time": "2022-06-06T13:23:47.498Z"
   },
   {
    "duration": 596,
    "start_time": "2022-06-06T13:34:32.235Z"
   },
   {
    "duration": 18,
    "start_time": "2022-06-06T13:35:00.860Z"
   },
   {
    "duration": 56,
    "start_time": "2022-06-06T13:35:32.651Z"
   },
   {
    "duration": 56,
    "start_time": "2022-06-06T13:37:16.784Z"
   },
   {
    "duration": 32,
    "start_time": "2022-06-06T13:37:55.394Z"
   },
   {
    "duration": 37,
    "start_time": "2022-06-06T13:38:12.490Z"
   },
   {
    "duration": 125,
    "start_time": "2022-06-06T13:40:21.248Z"
   },
   {
    "duration": 54,
    "start_time": "2022-06-06T13:40:29.743Z"
   },
   {
    "duration": 37,
    "start_time": "2022-06-06T13:40:35.083Z"
   },
   {
    "duration": 39,
    "start_time": "2022-06-06T13:40:41.847Z"
   },
   {
    "duration": 38,
    "start_time": "2022-06-06T13:40:46.943Z"
   },
   {
    "duration": 4,
    "start_time": "2022-06-06T13:41:29.760Z"
   },
   {
    "duration": 6,
    "start_time": "2022-06-06T13:41:38.160Z"
   },
   {
    "duration": 12,
    "start_time": "2022-06-06T13:41:45.894Z"
   },
   {
    "duration": 4,
    "start_time": "2022-06-06T13:41:52.111Z"
   },
   {
    "duration": 5,
    "start_time": "2022-06-06T13:42:53.600Z"
   },
   {
    "duration": 5,
    "start_time": "2022-06-06T13:43:03.742Z"
   },
   {
    "duration": 5,
    "start_time": "2022-06-06T13:43:32.607Z"
   },
   {
    "duration": 34,
    "start_time": "2022-06-06T13:43:43.832Z"
   },
   {
    "duration": 5,
    "start_time": "2022-06-06T13:44:33.097Z"
   },
   {
    "duration": 120,
    "start_time": "2022-06-06T13:49:38.894Z"
   },
   {
    "duration": 12,
    "start_time": "2022-06-06T13:56:47.646Z"
   },
   {
    "duration": 5,
    "start_time": "2022-06-06T13:56:55.534Z"
   },
   {
    "duration": 12,
    "start_time": "2022-06-06T13:57:07.699Z"
   },
   {
    "duration": 20,
    "start_time": "2022-06-06T13:57:22.486Z"
   },
   {
    "duration": 35,
    "start_time": "2022-06-06T13:57:29.006Z"
   },
   {
    "duration": 34,
    "start_time": "2022-06-06T13:57:38.095Z"
   },
   {
    "duration": 13,
    "start_time": "2022-06-06T13:57:48.790Z"
   },
   {
    "duration": 49,
    "start_time": "2022-06-06T13:57:53.631Z"
   },
   {
    "duration": 55,
    "start_time": "2022-06-06T13:58:03.372Z"
   },
   {
    "duration": 48,
    "start_time": "2022-06-06T13:58:21.143Z"
   },
   {
    "duration": 114,
    "start_time": "2022-06-06T13:58:45.909Z"
   },
   {
    "duration": 53,
    "start_time": "2022-06-06T13:59:24.390Z"
   },
   {
    "duration": 4,
    "start_time": "2022-06-06T14:01:07.505Z"
   },
   {
    "duration": 506,
    "start_time": "2022-06-06T14:01:29.013Z"
   },
   {
    "duration": 511,
    "start_time": "2022-06-06T14:01:47.508Z"
   },
   {
    "duration": 3,
    "start_time": "2022-06-06T14:02:06.549Z"
   },
   {
    "duration": 503,
    "start_time": "2022-06-06T14:02:08.564Z"
   },
   {
    "duration": 3,
    "start_time": "2022-06-06T14:02:20.943Z"
   },
   {
    "duration": 267,
    "start_time": "2022-06-06T14:02:20.948Z"
   },
   {
    "duration": 5,
    "start_time": "2022-06-06T14:02:21.217Z"
   },
   {
    "duration": 34,
    "start_time": "2022-06-06T14:02:21.225Z"
   },
   {
    "duration": 10,
    "start_time": "2022-06-06T14:02:21.260Z"
   },
   {
    "duration": 23,
    "start_time": "2022-06-06T14:02:21.274Z"
   },
   {
    "duration": 14,
    "start_time": "2022-06-06T14:02:21.298Z"
   },
   {
    "duration": 59,
    "start_time": "2022-06-06T14:02:21.313Z"
   },
   {
    "duration": 57,
    "start_time": "2022-06-06T14:02:21.374Z"
   },
   {
    "duration": 84,
    "start_time": "2022-06-06T14:02:21.434Z"
   },
   {
    "duration": 75,
    "start_time": "2022-06-06T14:02:21.520Z"
   },
   {
    "duration": 82,
    "start_time": "2022-06-06T14:02:21.597Z"
   },
   {
    "duration": 7,
    "start_time": "2022-06-06T14:02:21.681Z"
   },
   {
    "duration": 403,
    "start_time": "2022-06-06T14:02:21.690Z"
   },
   {
    "duration": 23,
    "start_time": "2022-06-06T14:02:44.405Z"
   },
   {
    "duration": 387,
    "start_time": "2022-06-06T14:02:50.164Z"
   },
   {
    "duration": 6,
    "start_time": "2022-06-06T14:04:02.756Z"
   },
   {
    "duration": 6,
    "start_time": "2022-06-06T14:04:20.612Z"
   },
   {
    "duration": 15,
    "start_time": "2022-06-06T14:04:31.480Z"
   },
   {
    "duration": 3,
    "start_time": "2022-06-06T14:04:37.755Z"
   },
   {
    "duration": 5,
    "start_time": "2022-06-06T14:04:39.612Z"
   },
   {
    "duration": 6,
    "start_time": "2022-06-06T14:04:51.643Z"
   },
   {
    "duration": 4,
    "start_time": "2022-06-06T14:05:09.481Z"
   },
   {
    "duration": 12,
    "start_time": "2022-06-06T14:05:11.731Z"
   },
   {
    "duration": 3,
    "start_time": "2022-06-06T14:05:16.803Z"
   },
   {
    "duration": 5,
    "start_time": "2022-06-06T14:05:18.508Z"
   },
   {
    "duration": 456,
    "start_time": "2022-06-06T14:05:46.071Z"
   },
   {
    "duration": 13,
    "start_time": "2022-06-06T14:05:52.604Z"
   },
   {
    "duration": 14,
    "start_time": "2022-06-06T14:06:17.778Z"
   },
   {
    "duration": 17,
    "start_time": "2022-06-06T14:06:23.019Z"
   },
   {
    "duration": 11,
    "start_time": "2022-06-06T14:06:37.813Z"
   },
   {
    "duration": 14,
    "start_time": "2022-06-06T14:06:47.243Z"
   },
   {
    "duration": 43,
    "start_time": "2022-06-06T14:07:48.687Z"
   },
   {
    "duration": 70,
    "start_time": "2022-06-06T14:07:58.354Z"
   },
   {
    "duration": 49,
    "start_time": "2022-06-06T14:08:21.211Z"
   },
   {
    "duration": 3,
    "start_time": "2022-06-06T14:08:33.995Z"
   },
   {
    "duration": 156,
    "start_time": "2022-06-06T14:08:34.000Z"
   },
   {
    "duration": 4,
    "start_time": "2022-06-06T14:08:34.158Z"
   },
   {
    "duration": 61,
    "start_time": "2022-06-06T14:08:34.165Z"
   },
   {
    "duration": 6,
    "start_time": "2022-06-06T14:08:34.228Z"
   },
   {
    "duration": 9,
    "start_time": "2022-06-06T14:08:34.237Z"
   },
   {
    "duration": 22,
    "start_time": "2022-06-06T14:08:34.248Z"
   },
   {
    "duration": 73,
    "start_time": "2022-06-06T14:08:34.276Z"
   },
   {
    "duration": 68,
    "start_time": "2022-06-06T14:08:34.352Z"
   },
   {
    "duration": 101,
    "start_time": "2022-06-06T14:08:34.422Z"
   },
   {
    "duration": 150,
    "start_time": "2022-06-06T14:08:34.526Z"
   },
   {
    "duration": 55,
    "start_time": "2022-06-06T14:08:34.682Z"
   },
   {
    "duration": 76,
    "start_time": "2022-06-06T14:08:34.739Z"
   },
   {
    "duration": 23,
    "start_time": "2022-06-06T14:11:06.257Z"
   },
   {
    "duration": 18,
    "start_time": "2022-06-06T14:11:32.848Z"
   },
   {
    "duration": 14,
    "start_time": "2022-06-06T14:11:56.305Z"
   },
   {
    "duration": 15,
    "start_time": "2022-06-06T14:12:02.305Z"
   },
   {
    "duration": 21,
    "start_time": "2022-06-06T14:12:08.402Z"
   },
   {
    "duration": 11,
    "start_time": "2022-06-06T14:12:16.224Z"
   },
   {
    "duration": 27,
    "start_time": "2022-06-06T14:12:57.018Z"
   },
   {
    "duration": 22,
    "start_time": "2022-06-06T14:13:15.330Z"
   },
   {
    "duration": 23,
    "start_time": "2022-06-06T14:13:25.720Z"
   },
   {
    "duration": 56,
    "start_time": "2022-06-06T14:13:33.064Z"
   },
   {
    "duration": 41,
    "start_time": "2022-06-06T14:14:46.729Z"
   },
   {
    "duration": 818,
    "start_time": "2022-06-07T13:16:45.162Z"
   },
   {
    "duration": 504,
    "start_time": "2022-06-07T13:16:45.989Z"
   },
   {
    "duration": 6,
    "start_time": "2022-06-07T13:16:46.496Z"
   },
   {
    "duration": 163,
    "start_time": "2022-06-07T13:16:46.505Z"
   },
   {
    "duration": 41,
    "start_time": "2022-06-07T13:16:46.670Z"
   },
   {
    "duration": 76,
    "start_time": "2022-06-07T13:16:46.713Z"
   },
   {
    "duration": 28,
    "start_time": "2022-06-07T13:16:46.791Z"
   },
   {
    "duration": 696,
    "start_time": "2022-06-07T13:16:46.821Z"
   },
   {
    "duration": 143,
    "start_time": "2022-06-07T13:16:47.519Z"
   },
   {
    "duration": 299,
    "start_time": "2022-06-07T13:16:47.678Z"
   },
   {
    "duration": 202,
    "start_time": "2022-06-07T13:16:47.980Z"
   },
   {
    "duration": 104,
    "start_time": "2022-06-07T13:16:48.184Z"
   },
   {
    "duration": 134,
    "start_time": "2022-06-07T13:16:48.290Z"
   },
   {
    "duration": 91,
    "start_time": "2022-06-07T13:16:48.426Z"
   },
   {
    "duration": 1026,
    "start_time": "2022-06-07T13:26:11.666Z"
   },
   {
    "duration": 92,
    "start_time": "2022-06-07T13:27:05.677Z"
   },
   {
    "duration": 890,
    "start_time": "2022-06-07T13:27:09.177Z"
   },
   {
    "duration": 965,
    "start_time": "2022-06-07T13:32:59.971Z"
   },
   {
    "duration": 775,
    "start_time": "2022-06-07T13:33:29.171Z"
   },
   {
    "duration": 92,
    "start_time": "2022-06-07T13:34:07.507Z"
   },
   {
    "duration": 826,
    "start_time": "2022-06-07T13:34:34.272Z"
   },
   {
    "duration": 933,
    "start_time": "2022-06-07T13:34:46.722Z"
   },
   {
    "duration": 1107,
    "start_time": "2022-06-07T13:36:05.577Z"
   },
   {
    "duration": 871,
    "start_time": "2022-06-07T13:36:37.909Z"
   },
   {
    "duration": 917,
    "start_time": "2022-06-07T13:36:50.391Z"
   },
   {
    "duration": 1043,
    "start_time": "2022-06-07T13:37:23.098Z"
   },
   {
    "duration": 37,
    "start_time": "2022-06-07T13:39:01.915Z"
   },
   {
    "duration": 975,
    "start_time": "2022-06-07T13:39:21.397Z"
   },
   {
    "duration": 934,
    "start_time": "2022-06-07T13:41:30.114Z"
   },
   {
    "duration": 797,
    "start_time": "2022-06-07T13:43:40.716Z"
   },
   {
    "duration": 1098,
    "start_time": "2022-06-07T13:46:14.213Z"
   },
   {
    "duration": 13,
    "start_time": "2022-06-07T14:04:53.405Z"
   },
   {
    "duration": 10,
    "start_time": "2022-06-07T14:05:24.210Z"
   },
   {
    "duration": 19,
    "start_time": "2022-06-07T14:08:11.278Z"
   },
   {
    "duration": 31,
    "start_time": "2022-06-07T14:08:23.175Z"
   },
   {
    "duration": 15,
    "start_time": "2022-06-07T14:08:50.408Z"
   },
   {
    "duration": 25,
    "start_time": "2022-06-07T14:09:12.887Z"
   },
   {
    "duration": 28,
    "start_time": "2022-06-07T14:09:19.381Z"
   },
   {
    "duration": 44,
    "start_time": "2022-06-07T14:09:42.409Z"
   },
   {
    "duration": 16,
    "start_time": "2022-06-07T14:10:55.682Z"
   },
   {
    "duration": 13,
    "start_time": "2022-06-07T14:14:53.898Z"
   },
   {
    "duration": 27,
    "start_time": "2022-06-07T14:14:59.980Z"
   },
   {
    "duration": 6,
    "start_time": "2022-06-07T14:17:44.796Z"
   },
   {
    "duration": 14,
    "start_time": "2022-06-07T14:17:55.779Z"
   },
   {
    "duration": 138,
    "start_time": "2022-06-07T14:18:13.253Z"
   },
   {
    "duration": 307,
    "start_time": "2022-06-07T14:21:07.901Z"
   },
   {
    "duration": 183,
    "start_time": "2022-06-07T14:22:13.489Z"
   },
   {
    "duration": 48,
    "start_time": "2022-06-07T14:22:49.869Z"
   },
   {
    "duration": 358,
    "start_time": "2022-06-07T14:22:53.866Z"
   },
   {
    "duration": 383,
    "start_time": "2022-06-07T14:23:07.584Z"
   },
   {
    "duration": 412,
    "start_time": "2022-06-07T14:23:14.171Z"
   },
   {
    "duration": 494,
    "start_time": "2022-06-07T14:23:54.320Z"
   },
   {
    "duration": 484,
    "start_time": "2022-06-07T14:24:18.484Z"
   },
   {
    "duration": 438,
    "start_time": "2022-06-07T14:24:33.568Z"
   },
   {
    "duration": 402,
    "start_time": "2022-06-07T14:25:22.300Z"
   },
   {
    "duration": 22,
    "start_time": "2022-06-07T14:27:08.769Z"
   },
   {
    "duration": 9,
    "start_time": "2022-06-07T14:29:21.984Z"
   },
   {
    "duration": 19,
    "start_time": "2022-06-07T14:29:40.964Z"
   },
   {
    "duration": 18,
    "start_time": "2022-06-07T14:29:49.587Z"
   },
   {
    "duration": 25,
    "start_time": "2022-06-07T14:29:55.807Z"
   },
   {
    "duration": 30,
    "start_time": "2022-06-07T14:30:14.678Z"
   },
   {
    "duration": 17,
    "start_time": "2022-06-07T14:30:29.292Z"
   },
   {
    "duration": 7,
    "start_time": "2022-06-07T14:34:51.298Z"
   },
   {
    "duration": 72,
    "start_time": "2022-06-07T14:35:55.599Z"
   },
   {
    "duration": 56,
    "start_time": "2022-06-07T14:36:03.866Z"
   },
   {
    "duration": 65,
    "start_time": "2022-06-07T14:36:21.767Z"
   },
   {
    "duration": 74,
    "start_time": "2022-06-07T14:36:31.718Z"
   },
   {
    "duration": 944,
    "start_time": "2022-06-07T14:36:35.666Z"
   },
   {
    "duration": 682,
    "start_time": "2022-06-07T14:36:40.987Z"
   },
   {
    "duration": 719,
    "start_time": "2022-06-07T14:36:59.584Z"
   },
   {
    "duration": 66,
    "start_time": "2022-06-07T14:37:06.408Z"
   },
   {
    "duration": 85,
    "start_time": "2022-06-07T14:37:22.885Z"
   },
   {
    "duration": 66,
    "start_time": "2022-06-07T14:37:47.687Z"
   },
   {
    "duration": 68,
    "start_time": "2022-06-07T14:38:45.205Z"
   },
   {
    "duration": 3501,
    "start_time": "2022-06-07T14:40:21.967Z"
   },
   {
    "duration": 3418,
    "start_time": "2022-06-07T14:40:44.065Z"
   },
   {
    "duration": 53,
    "start_time": "2022-06-07T14:41:00.958Z"
   },
   {
    "duration": 57,
    "start_time": "2022-06-07T14:41:08.771Z"
   },
   {
    "duration": 59,
    "start_time": "2022-06-07T14:46:49.064Z"
   },
   {
    "duration": 104,
    "start_time": "2022-06-07T14:47:56.570Z"
   },
   {
    "duration": 41,
    "start_time": "2022-06-07T14:49:39.973Z"
   },
   {
    "duration": 76,
    "start_time": "2022-06-07T14:49:47.976Z"
   },
   {
    "duration": 90,
    "start_time": "2022-06-07T14:49:57.224Z"
   },
   {
    "duration": 65,
    "start_time": "2022-06-07T14:50:37.805Z"
   },
   {
    "duration": 82,
    "start_time": "2022-06-07T14:50:57.175Z"
   },
   {
    "duration": 9,
    "start_time": "2022-06-07T14:52:23.668Z"
   },
   {
    "duration": 17,
    "start_time": "2022-06-07T14:52:39.903Z"
   },
   {
    "duration": 43,
    "start_time": "2022-06-07T14:52:45.923Z"
   },
   {
    "duration": 7,
    "start_time": "2022-06-07T14:52:49.451Z"
   },
   {
    "duration": 90,
    "start_time": "2022-06-07T14:52:49.465Z"
   },
   {
    "duration": 12,
    "start_time": "2022-06-07T14:52:49.557Z"
   },
   {
    "duration": 33,
    "start_time": "2022-06-07T14:52:49.570Z"
   },
   {
    "duration": 5,
    "start_time": "2022-06-07T14:52:49.605Z"
   },
   {
    "duration": 10,
    "start_time": "2022-06-07T14:52:49.611Z"
   },
   {
    "duration": 48,
    "start_time": "2022-06-07T14:52:49.622Z"
   },
   {
    "duration": 30,
    "start_time": "2022-06-07T14:52:49.672Z"
   },
   {
    "duration": 21,
    "start_time": "2022-06-07T14:52:49.703Z"
   },
   {
    "duration": 630,
    "start_time": "2022-06-07T14:52:49.728Z"
   },
   {
    "duration": 17,
    "start_time": "2022-06-07T14:52:50.363Z"
   },
   {
    "duration": 39,
    "start_time": "2022-06-07T14:52:50.382Z"
   },
   {
    "duration": 0,
    "start_time": "2022-06-07T14:52:50.423Z"
   },
   {
    "duration": 0,
    "start_time": "2022-06-07T14:52:50.425Z"
   },
   {
    "duration": 0,
    "start_time": "2022-06-07T14:52:50.432Z"
   },
   {
    "duration": 0,
    "start_time": "2022-06-07T14:52:50.433Z"
   },
   {
    "duration": 0,
    "start_time": "2022-06-07T14:52:50.438Z"
   },
   {
    "duration": 0,
    "start_time": "2022-06-07T14:52:50.439Z"
   },
   {
    "duration": 0,
    "start_time": "2022-06-07T14:52:50.440Z"
   },
   {
    "duration": 0,
    "start_time": "2022-06-07T14:52:50.441Z"
   },
   {
    "duration": 0,
    "start_time": "2022-06-07T14:52:50.441Z"
   },
   {
    "duration": 0,
    "start_time": "2022-06-07T14:52:50.442Z"
   },
   {
    "duration": 0,
    "start_time": "2022-06-07T14:52:50.442Z"
   },
   {
    "duration": 0,
    "start_time": "2022-06-07T14:52:50.443Z"
   },
   {
    "duration": 0,
    "start_time": "2022-06-07T14:52:50.445Z"
   },
   {
    "duration": 0,
    "start_time": "2022-06-07T14:52:50.446Z"
   },
   {
    "duration": 33,
    "start_time": "2022-06-07T14:52:59.157Z"
   },
   {
    "duration": 17,
    "start_time": "2022-06-07T14:53:17.466Z"
   },
   {
    "duration": 4,
    "start_time": "2022-06-07T14:53:21.884Z"
   },
   {
    "duration": 98,
    "start_time": "2022-06-07T14:53:21.889Z"
   },
   {
    "duration": 4,
    "start_time": "2022-06-07T14:53:21.989Z"
   },
   {
    "duration": 47,
    "start_time": "2022-06-07T14:53:21.994Z"
   },
   {
    "duration": 15,
    "start_time": "2022-06-07T14:53:22.049Z"
   },
   {
    "duration": 11,
    "start_time": "2022-06-07T14:53:22.070Z"
   },
   {
    "duration": 4,
    "start_time": "2022-06-07T14:53:22.082Z"
   },
   {
    "duration": 32,
    "start_time": "2022-06-07T14:53:22.088Z"
   },
   {
    "duration": 40,
    "start_time": "2022-06-07T14:53:22.122Z"
   },
   {
    "duration": 419,
    "start_time": "2022-06-07T14:53:22.163Z"
   },
   {
    "duration": 16,
    "start_time": "2022-06-07T14:53:22.584Z"
   },
   {
    "duration": 22,
    "start_time": "2022-06-07T14:53:22.602Z"
   },
   {
    "duration": 0,
    "start_time": "2022-06-07T14:53:22.626Z"
   },
   {
    "duration": 0,
    "start_time": "2022-06-07T14:53:22.626Z"
   },
   {
    "duration": 0,
    "start_time": "2022-06-07T14:53:22.627Z"
   },
   {
    "duration": 0,
    "start_time": "2022-06-07T14:53:22.628Z"
   },
   {
    "duration": 0,
    "start_time": "2022-06-07T14:53:22.629Z"
   },
   {
    "duration": 0,
    "start_time": "2022-06-07T14:53:22.630Z"
   },
   {
    "duration": 0,
    "start_time": "2022-06-07T14:53:22.630Z"
   },
   {
    "duration": 0,
    "start_time": "2022-06-07T14:53:22.631Z"
   },
   {
    "duration": 0,
    "start_time": "2022-06-07T14:53:22.632Z"
   },
   {
    "duration": 0,
    "start_time": "2022-06-07T14:53:22.633Z"
   },
   {
    "duration": 0,
    "start_time": "2022-06-07T14:53:22.634Z"
   },
   {
    "duration": 0,
    "start_time": "2022-06-07T14:53:22.635Z"
   },
   {
    "duration": 0,
    "start_time": "2022-06-07T14:53:22.638Z"
   },
   {
    "duration": 0,
    "start_time": "2022-06-07T14:53:22.639Z"
   },
   {
    "duration": 3,
    "start_time": "2022-06-07T14:53:42.020Z"
   },
   {
    "duration": 140,
    "start_time": "2022-06-07T14:53:42.025Z"
   },
   {
    "duration": 6,
    "start_time": "2022-06-07T14:53:42.167Z"
   },
   {
    "duration": 40,
    "start_time": "2022-06-07T14:53:42.175Z"
   },
   {
    "duration": 6,
    "start_time": "2022-06-07T14:53:42.217Z"
   },
   {
    "duration": 62,
    "start_time": "2022-06-07T14:53:42.224Z"
   },
   {
    "duration": 5,
    "start_time": "2022-06-07T14:53:42.287Z"
   },
   {
    "duration": 27,
    "start_time": "2022-06-07T14:53:42.294Z"
   },
   {
    "duration": 39,
    "start_time": "2022-06-07T14:53:42.323Z"
   },
   {
    "duration": 353,
    "start_time": "2022-06-07T14:53:42.364Z"
   },
   {
    "duration": 28,
    "start_time": "2022-06-07T14:53:42.720Z"
   },
   {
    "duration": 40,
    "start_time": "2022-06-07T14:53:42.750Z"
   },
   {
    "duration": 100,
    "start_time": "2022-06-07T14:53:42.793Z"
   },
   {
    "duration": 89,
    "start_time": "2022-06-07T14:53:42.895Z"
   },
   {
    "duration": 89,
    "start_time": "2022-06-07T14:53:42.986Z"
   },
   {
    "duration": 81,
    "start_time": "2022-06-07T14:53:43.077Z"
   },
   {
    "duration": 701,
    "start_time": "2022-06-07T14:53:43.160Z"
   },
   {
    "duration": 712,
    "start_time": "2022-06-07T14:53:43.863Z"
   },
   {
    "duration": 783,
    "start_time": "2022-06-07T14:53:44.577Z"
   },
   {
    "duration": 710,
    "start_time": "2022-06-07T14:53:45.362Z"
   },
   {
    "duration": 81,
    "start_time": "2022-06-07T14:53:46.073Z"
   },
   {
    "duration": 356,
    "start_time": "2022-06-07T14:53:46.164Z"
   },
   {
    "duration": 114,
    "start_time": "2022-06-07T14:53:46.522Z"
   },
   {
    "duration": 29,
    "start_time": "2022-06-07T14:53:46.648Z"
   },
   {
    "duration": 40,
    "start_time": "2022-06-07T14:53:46.678Z"
   },
   {
    "duration": 22,
    "start_time": "2022-06-07T14:54:23.684Z"
   },
   {
    "duration": 3,
    "start_time": "2022-06-07T14:54:45.164Z"
   },
   {
    "duration": 105,
    "start_time": "2022-06-07T14:54:45.168Z"
   },
   {
    "duration": 5,
    "start_time": "2022-06-07T14:54:45.275Z"
   },
   {
    "duration": 36,
    "start_time": "2022-06-07T14:54:45.281Z"
   },
   {
    "duration": 5,
    "start_time": "2022-06-07T14:54:45.319Z"
   },
   {
    "duration": 53,
    "start_time": "2022-06-07T14:54:45.335Z"
   },
   {
    "duration": 9,
    "start_time": "2022-06-07T14:54:45.390Z"
   },
   {
    "duration": 67,
    "start_time": "2022-06-07T14:54:45.405Z"
   },
   {
    "duration": 32,
    "start_time": "2022-06-07T14:54:45.474Z"
   },
   {
    "duration": 395,
    "start_time": "2022-06-07T14:54:45.509Z"
   },
   {
    "duration": 54,
    "start_time": "2022-06-07T14:54:45.906Z"
   },
   {
    "duration": 30,
    "start_time": "2022-06-07T14:54:45.966Z"
   },
   {
    "duration": 84,
    "start_time": "2022-06-07T14:54:46.001Z"
   },
   {
    "duration": 72,
    "start_time": "2022-06-07T14:54:46.088Z"
   },
   {
    "duration": 83,
    "start_time": "2022-06-07T14:54:46.161Z"
   },
   {
    "duration": 59,
    "start_time": "2022-06-07T14:54:46.251Z"
   },
   {
    "duration": 711,
    "start_time": "2022-06-07T14:54:46.311Z"
   },
   {
    "duration": 729,
    "start_time": "2022-06-07T14:54:47.024Z"
   },
   {
    "duration": 749,
    "start_time": "2022-06-07T14:54:47.755Z"
   },
   {
    "duration": 764,
    "start_time": "2022-06-07T14:54:48.507Z"
   },
   {
    "duration": 69,
    "start_time": "2022-06-07T14:54:49.273Z"
   },
   {
    "duration": 57,
    "start_time": "2022-06-07T14:54:49.351Z"
   },
   {
    "duration": 66,
    "start_time": "2022-06-07T14:54:49.409Z"
   },
   {
    "duration": 24,
    "start_time": "2022-06-07T14:55:14.820Z"
   },
   {
    "duration": 28,
    "start_time": "2022-06-07T14:55:44.213Z"
   },
   {
    "duration": 19,
    "start_time": "2022-06-07T14:56:06.465Z"
   },
   {
    "duration": 16,
    "start_time": "2022-06-07T14:56:39.390Z"
   },
   {
    "duration": 27,
    "start_time": "2022-06-07T14:57:12.909Z"
   },
   {
    "duration": 20,
    "start_time": "2022-06-07T14:57:22.978Z"
   },
   {
    "duration": 55,
    "start_time": "2022-06-07T14:57:33.425Z"
   },
   {
    "duration": 22,
    "start_time": "2022-06-07T14:57:51.176Z"
   },
   {
    "duration": 89,
    "start_time": "2022-06-07T14:58:36.489Z"
   },
   {
    "duration": 8,
    "start_time": "2022-06-07T14:58:40.070Z"
   },
   {
    "duration": 8,
    "start_time": "2022-06-07T14:59:27.988Z"
   },
   {
    "duration": 9,
    "start_time": "2022-06-07T14:59:32.405Z"
   },
   {
    "duration": 8,
    "start_time": "2022-06-07T14:59:42.990Z"
   },
   {
    "duration": 7,
    "start_time": "2022-06-07T14:59:55.570Z"
   },
   {
    "duration": 17,
    "start_time": "2022-06-07T15:00:35.059Z"
   },
   {
    "duration": 8,
    "start_time": "2022-06-07T15:01:12.569Z"
   },
   {
    "duration": 6,
    "start_time": "2022-06-07T15:02:04.713Z"
   },
   {
    "duration": 8,
    "start_time": "2022-06-07T15:02:07.697Z"
   },
   {
    "duration": 9,
    "start_time": "2022-06-07T15:02:11.811Z"
   },
   {
    "duration": 57,
    "start_time": "2022-06-07T15:02:19.663Z"
   },
   {
    "duration": 10,
    "start_time": "2022-06-07T15:02:22.564Z"
   },
   {
    "duration": 97,
    "start_time": "2022-06-07T15:05:40.807Z"
   },
   {
    "duration": 130,
    "start_time": "2022-06-07T15:05:45.002Z"
   },
   {
    "duration": 15,
    "start_time": "2022-06-07T15:05:48.580Z"
   },
   {
    "duration": 22,
    "start_time": "2022-06-07T15:07:40.469Z"
   },
   {
    "duration": 22,
    "start_time": "2022-06-07T15:08:19.768Z"
   },
   {
    "duration": 19,
    "start_time": "2022-06-07T15:08:33.962Z"
   },
   {
    "duration": 17,
    "start_time": "2022-06-07T15:08:41.895Z"
   },
   {
    "duration": 3,
    "start_time": "2022-06-07T15:09:27.178Z"
   },
   {
    "duration": 96,
    "start_time": "2022-06-07T15:09:27.184Z"
   },
   {
    "duration": 5,
    "start_time": "2022-06-07T15:09:27.281Z"
   },
   {
    "duration": 62,
    "start_time": "2022-06-07T15:09:27.288Z"
   },
   {
    "duration": 8,
    "start_time": "2022-06-07T15:09:27.357Z"
   },
   {
    "duration": 7,
    "start_time": "2022-06-07T15:09:27.367Z"
   },
   {
    "duration": 18,
    "start_time": "2022-06-07T15:09:27.376Z"
   },
   {
    "duration": 36,
    "start_time": "2022-06-07T15:09:27.396Z"
   },
   {
    "duration": 44,
    "start_time": "2022-06-07T15:09:27.436Z"
   },
   {
    "duration": 376,
    "start_time": "2022-06-07T15:09:27.482Z"
   },
   {
    "duration": 21,
    "start_time": "2022-06-07T15:09:27.860Z"
   },
   {
    "duration": 8,
    "start_time": "2022-06-07T15:09:27.883Z"
   },
   {
    "duration": 87,
    "start_time": "2022-06-07T15:09:27.894Z"
   },
   {
    "duration": 94,
    "start_time": "2022-06-07T15:09:27.983Z"
   },
   {
    "duration": 84,
    "start_time": "2022-06-07T15:09:28.079Z"
   },
   {
    "duration": 87,
    "start_time": "2022-06-07T15:09:28.165Z"
   },
   {
    "duration": 1090,
    "start_time": "2022-06-07T15:09:28.256Z"
   },
   {
    "duration": 685,
    "start_time": "2022-06-07T15:09:29.348Z"
   },
   {
    "duration": 747,
    "start_time": "2022-06-07T15:09:30.042Z"
   },
   {
    "duration": 783,
    "start_time": "2022-06-07T15:09:30.791Z"
   },
   {
    "duration": 78,
    "start_time": "2022-06-07T15:09:31.576Z"
   },
   {
    "duration": 57,
    "start_time": "2022-06-07T15:09:31.656Z"
   },
   {
    "duration": 73,
    "start_time": "2022-06-07T15:09:31.715Z"
   },
   {
    "duration": 18,
    "start_time": "2022-06-07T15:09:31.791Z"
   },
   {
    "duration": 69,
    "start_time": "2022-06-07T15:09:31.811Z"
   },
   {
    "duration": 25,
    "start_time": "2022-06-07T15:09:31.882Z"
   },
   {
    "duration": 96,
    "start_time": "2022-06-07T15:09:31.909Z"
   },
   {
    "duration": 3,
    "start_time": "2022-06-07T15:10:00.259Z"
   },
   {
    "duration": 97,
    "start_time": "2022-06-07T15:10:00.264Z"
   },
   {
    "duration": 5,
    "start_time": "2022-06-07T15:10:00.363Z"
   },
   {
    "duration": 70,
    "start_time": "2022-06-07T15:10:00.370Z"
   },
   {
    "duration": 43,
    "start_time": "2022-06-07T15:10:00.441Z"
   },
   {
    "duration": 33,
    "start_time": "2022-06-07T15:10:00.485Z"
   },
   {
    "duration": 67,
    "start_time": "2022-06-07T15:10:00.520Z"
   },
   {
    "duration": 77,
    "start_time": "2022-06-07T15:10:00.590Z"
   },
   {
    "duration": 87,
    "start_time": "2022-06-07T15:10:00.669Z"
   },
   {
    "duration": 450,
    "start_time": "2022-06-07T15:10:00.763Z"
   },
   {
    "duration": 41,
    "start_time": "2022-06-07T15:10:01.215Z"
   },
   {
    "duration": 61,
    "start_time": "2022-06-07T15:10:01.260Z"
   },
   {
    "duration": 156,
    "start_time": "2022-06-07T15:10:01.323Z"
   },
   {
    "duration": 169,
    "start_time": "2022-06-07T15:10:01.481Z"
   },
   {
    "duration": 63,
    "start_time": "2022-06-07T15:10:01.652Z"
   },
   {
    "duration": 67,
    "start_time": "2022-06-07T15:10:01.730Z"
   },
   {
    "duration": 716,
    "start_time": "2022-06-07T15:10:01.799Z"
   },
   {
    "duration": 762,
    "start_time": "2022-06-07T15:10:02.517Z"
   },
   {
    "duration": 751,
    "start_time": "2022-06-07T15:10:03.281Z"
   },
   {
    "duration": 1245,
    "start_time": "2022-06-07T15:10:04.034Z"
   },
   {
    "duration": 71,
    "start_time": "2022-06-07T15:10:05.281Z"
   },
   {
    "duration": 61,
    "start_time": "2022-06-07T15:10:05.355Z"
   },
   {
    "duration": 69,
    "start_time": "2022-06-07T15:10:05.418Z"
   },
   {
    "duration": 19,
    "start_time": "2022-06-07T15:10:05.489Z"
   },
   {
    "duration": 37,
    "start_time": "2022-06-07T15:10:39.237Z"
   },
   {
    "duration": 92,
    "start_time": "2022-06-07T15:10:54.964Z"
   },
   {
    "duration": 71,
    "start_time": "2022-06-07T15:11:14.650Z"
   },
   {
    "duration": 96,
    "start_time": "2022-06-07T15:11:31.887Z"
   },
   {
    "duration": 56,
    "start_time": "2022-06-07T15:11:49.958Z"
   },
   {
    "duration": 95,
    "start_time": "2022-06-07T15:14:34.094Z"
   },
   {
    "duration": 18,
    "start_time": "2022-06-07T15:17:17.554Z"
   },
   {
    "duration": 21,
    "start_time": "2022-06-07T15:18:16.917Z"
   },
   {
    "duration": 18,
    "start_time": "2022-06-07T15:18:21.974Z"
   },
   {
    "duration": 67,
    "start_time": "2022-06-07T15:19:16.097Z"
   },
   {
    "duration": 55,
    "start_time": "2022-06-07T15:19:36.062Z"
   },
   {
    "duration": 40,
    "start_time": "2022-06-07T15:21:26.425Z"
   },
   {
    "duration": 5361,
    "start_time": "2022-06-07T15:23:02.461Z"
   },
   {
    "duration": 31,
    "start_time": "2022-06-07T15:23:15.982Z"
   },
   {
    "duration": 1412,
    "start_time": "2022-06-07T15:23:36.789Z"
   },
   {
    "duration": 2519,
    "start_time": "2022-06-07T15:24:09.643Z"
   },
   {
    "duration": 1360,
    "start_time": "2022-06-07T15:24:27.293Z"
   },
   {
    "duration": 4,
    "start_time": "2022-06-07T15:25:00.420Z"
   },
   {
    "duration": 251,
    "start_time": "2022-06-07T15:26:07.541Z"
   },
   {
    "duration": 92,
    "start_time": "2022-06-07T15:26:20.613Z"
   },
   {
    "duration": 96,
    "start_time": "2022-06-07T15:26:26.935Z"
   },
   {
    "duration": 11,
    "start_time": "2022-06-07T15:32:45.673Z"
   },
   {
    "duration": 10,
    "start_time": "2022-06-07T15:32:51.678Z"
   },
   {
    "duration": 101,
    "start_time": "2022-06-07T15:33:16.252Z"
   },
   {
    "duration": 4,
    "start_time": "2022-06-07T15:42:24.168Z"
   },
   {
    "duration": 1258,
    "start_time": "2022-06-07T15:45:54.750Z"
   },
   {
    "duration": 1727,
    "start_time": "2022-06-07T15:47:07.200Z"
   },
   {
    "duration": 1677,
    "start_time": "2022-06-07T15:47:42.788Z"
   },
   {
    "duration": 2068,
    "start_time": "2022-06-07T15:48:56.422Z"
   },
   {
    "duration": 1533,
    "start_time": "2022-06-07T15:50:15.824Z"
   },
   {
    "duration": 1916,
    "start_time": "2022-06-07T15:50:38.691Z"
   },
   {
    "duration": 1563,
    "start_time": "2022-06-07T15:50:48.210Z"
   },
   {
    "duration": 1656,
    "start_time": "2022-06-07T15:55:15.260Z"
   },
   {
    "duration": 2243,
    "start_time": "2022-06-07T15:55:21.759Z"
   },
   {
    "duration": 5,
    "start_time": "2022-06-07T15:55:24.006Z"
   },
   {
    "duration": 87,
    "start_time": "2022-06-07T15:55:24.013Z"
   },
   {
    "duration": 5,
    "start_time": "2022-06-07T15:55:24.102Z"
   },
   {
    "duration": 45,
    "start_time": "2022-06-07T15:55:24.110Z"
   },
   {
    "duration": 5,
    "start_time": "2022-06-07T15:55:24.157Z"
   },
   {
    "duration": 12,
    "start_time": "2022-06-07T15:55:24.164Z"
   },
   {
    "duration": 11,
    "start_time": "2022-06-07T15:55:24.177Z"
   },
   {
    "duration": 40,
    "start_time": "2022-06-07T15:55:24.189Z"
   },
   {
    "duration": 33,
    "start_time": "2022-06-07T15:55:24.231Z"
   },
   {
    "duration": 403,
    "start_time": "2022-06-07T15:55:24.266Z"
   },
   {
    "duration": 25,
    "start_time": "2022-06-07T15:55:24.672Z"
   },
   {
    "duration": 29,
    "start_time": "2022-06-07T15:55:24.699Z"
   },
   {
    "duration": 357,
    "start_time": "2022-06-07T15:55:24.731Z"
   },
   {
    "duration": 291,
    "start_time": "2022-06-07T15:55:25.090Z"
   },
   {
    "duration": 90,
    "start_time": "2022-06-07T15:55:25.383Z"
   },
   {
    "duration": 79,
    "start_time": "2022-06-07T15:55:25.475Z"
   },
   {
    "duration": 685,
    "start_time": "2022-06-07T15:55:25.556Z"
   },
   {
    "duration": 664,
    "start_time": "2022-06-07T15:55:26.244Z"
   },
   {
    "duration": 773,
    "start_time": "2022-06-07T15:55:26.911Z"
   },
   {
    "duration": 739,
    "start_time": "2022-06-07T15:55:27.686Z"
   },
   {
    "duration": 50,
    "start_time": "2022-06-07T15:55:28.427Z"
   },
   {
    "duration": 65,
    "start_time": "2022-06-07T15:55:28.479Z"
   },
   {
    "duration": 53,
    "start_time": "2022-06-07T15:55:28.545Z"
   },
   {
    "duration": 117,
    "start_time": "2022-06-07T15:55:28.601Z"
   },
   {
    "duration": 1970,
    "start_time": "2022-06-07T15:55:28.726Z"
   },
   {
    "duration": 1924,
    "start_time": "2022-06-07T15:55:42.018Z"
   },
   {
    "duration": 41,
    "start_time": "2022-06-07T15:55:50.982Z"
   },
   {
    "duration": 1638,
    "start_time": "2022-06-07T15:56:54.344Z"
   },
   {
    "duration": 364,
    "start_time": "2022-06-07T15:57:02.063Z"
   },
   {
    "duration": 335,
    "start_time": "2022-06-07T15:57:08.439Z"
   },
   {
    "duration": 66,
    "start_time": "2022-06-07T15:57:19.368Z"
   },
   {
    "duration": 80,
    "start_time": "2022-06-07T15:57:55.240Z"
   },
   {
    "duration": 199,
    "start_time": "2022-06-07T15:58:07.417Z"
   },
   {
    "duration": 139,
    "start_time": "2022-06-07T15:58:17.886Z"
   },
   {
    "duration": 536,
    "start_time": "2022-06-07T15:59:30.790Z"
   },
   {
    "duration": 373,
    "start_time": "2022-06-07T15:59:58.022Z"
   },
   {
    "duration": 510,
    "start_time": "2022-06-07T16:00:27.414Z"
   },
   {
    "duration": 14,
    "start_time": "2022-06-07T16:02:17.257Z"
   },
   {
    "duration": 259,
    "start_time": "2022-06-07T16:03:08.122Z"
   },
   {
    "duration": 390,
    "start_time": "2022-06-07T16:03:24.882Z"
   },
   {
    "duration": 460,
    "start_time": "2022-06-07T16:03:41.999Z"
   },
   {
    "duration": 473,
    "start_time": "2022-06-07T16:03:53.851Z"
   },
   {
    "duration": 432,
    "start_time": "2022-06-07T16:04:35.304Z"
   },
   {
    "duration": 522,
    "start_time": "2022-06-07T16:04:42.371Z"
   },
   {
    "duration": 414,
    "start_time": "2022-06-07T16:05:04.562Z"
   },
   {
    "duration": 353,
    "start_time": "2022-06-07T16:06:28.009Z"
   },
   {
    "duration": 539,
    "start_time": "2022-06-07T16:06:33.003Z"
   },
   {
    "duration": 497,
    "start_time": "2022-06-07T16:06:56.831Z"
   },
   {
    "duration": 471,
    "start_time": "2022-06-07T16:25:40.170Z"
   },
   {
    "duration": 598,
    "start_time": "2022-06-07T16:26:01.446Z"
   },
   {
    "duration": 563,
    "start_time": "2022-06-07T16:27:12.326Z"
   },
   {
    "duration": 376,
    "start_time": "2022-06-07T16:27:38.820Z"
   },
   {
    "duration": 603,
    "start_time": "2022-06-07T16:28:18.481Z"
   },
   {
    "duration": 609,
    "start_time": "2022-06-07T16:29:45.071Z"
   },
   {
    "duration": 614,
    "start_time": "2022-06-07T16:29:53.348Z"
   },
   {
    "duration": 3066,
    "start_time": "2022-06-07T16:38:15.514Z"
   },
   {
    "duration": 2452,
    "start_time": "2022-06-07T16:38:29.935Z"
   },
   {
    "duration": 1739,
    "start_time": "2022-06-07T16:41:09.154Z"
   },
   {
    "duration": 1903,
    "start_time": "2022-06-07T16:41:21.298Z"
   },
   {
    "duration": 2019,
    "start_time": "2022-06-07T16:41:30.890Z"
   },
   {
    "duration": 2099,
    "start_time": "2022-06-07T16:42:22.396Z"
   },
   {
    "duration": 1897,
    "start_time": "2022-06-07T16:43:21.073Z"
   },
   {
    "duration": 1883,
    "start_time": "2022-06-07T16:43:47.883Z"
   },
   {
    "duration": 1921,
    "start_time": "2022-06-07T16:44:03.840Z"
   },
   {
    "duration": 2348,
    "start_time": "2022-06-07T16:45:11.135Z"
   },
   {
    "duration": 1889,
    "start_time": "2022-06-07T16:45:32.986Z"
   },
   {
    "duration": 1980,
    "start_time": "2022-06-07T16:47:27.123Z"
   },
   {
    "duration": 2618,
    "start_time": "2022-06-07T17:56:13.140Z"
   },
   {
    "duration": 1934,
    "start_time": "2022-06-07T17:56:29.173Z"
   },
   {
    "duration": 1732,
    "start_time": "2022-06-07T17:57:13.074Z"
   },
   {
    "duration": 441,
    "start_time": "2022-06-07T17:57:24.144Z"
   },
   {
    "duration": 27,
    "start_time": "2022-06-07T17:57:48.371Z"
   },
   {
    "duration": 494,
    "start_time": "2022-06-07T17:58:04.250Z"
   },
   {
    "duration": 421,
    "start_time": "2022-06-07T17:59:06.716Z"
   },
   {
    "duration": 79,
    "start_time": "2022-06-07T17:59:42.961Z"
   },
   {
    "duration": 202,
    "start_time": "2022-06-07T18:00:41.082Z"
   },
   {
    "duration": 2643,
    "start_time": "2022-06-07T18:03:21.804Z"
   },
   {
    "duration": 1804,
    "start_time": "2022-06-07T18:03:37.780Z"
   },
   {
    "duration": 5005,
    "start_time": "2022-06-07T18:03:57.253Z"
   },
   {
    "duration": 1872,
    "start_time": "2022-06-07T18:05:32.851Z"
   },
   {
    "duration": 772,
    "start_time": "2022-06-07T19:11:30.306Z"
   },
   {
    "duration": 843,
    "start_time": "2022-06-07T19:12:24.199Z"
   },
   {
    "duration": 70,
    "start_time": "2022-06-07T19:13:28.839Z"
   },
   {
    "duration": 20,
    "start_time": "2022-06-07T19:14:11.339Z"
   },
   {
    "duration": 35,
    "start_time": "2022-06-07T19:14:17.854Z"
   },
   {
    "duration": 244,
    "start_time": "2022-06-07T19:15:19.873Z"
   },
   {
    "duration": 936,
    "start_time": "2022-06-07T19:15:24.611Z"
   },
   {
    "duration": 37,
    "start_time": "2022-06-07T19:15:30.813Z"
   },
   {
    "duration": 11,
    "start_time": "2022-06-07T19:17:44.006Z"
   },
   {
    "duration": 11,
    "start_time": "2022-06-07T19:18:13.862Z"
   },
   {
    "duration": 39,
    "start_time": "2022-06-07T19:18:46.119Z"
   },
   {
    "duration": 39,
    "start_time": "2022-06-07T19:18:55.447Z"
   },
   {
    "duration": 48,
    "start_time": "2022-06-07T19:20:30.591Z"
   },
   {
    "duration": 16,
    "start_time": "2022-06-07T19:21:46.974Z"
   },
   {
    "duration": 4,
    "start_time": "2022-06-07T19:22:32.557Z"
   },
   {
    "duration": 32,
    "start_time": "2022-06-07T19:22:36.444Z"
   },
   {
    "duration": 9,
    "start_time": "2022-06-07T19:25:23.973Z"
   },
   {
    "duration": 31,
    "start_time": "2022-06-07T19:25:27.077Z"
   },
   {
    "duration": 29,
    "start_time": "2022-06-07T19:25:53.204Z"
   },
   {
    "duration": 15,
    "start_time": "2022-06-07T19:27:16.290Z"
   },
   {
    "duration": 14,
    "start_time": "2022-06-07T19:27:28.543Z"
   },
   {
    "duration": 1154,
    "start_time": "2022-06-07T19:27:34.045Z"
   },
   {
    "duration": 10,
    "start_time": "2022-06-07T19:27:37.645Z"
   },
   {
    "duration": 24,
    "start_time": "2022-06-07T19:27:48.892Z"
   },
   {
    "duration": 17,
    "start_time": "2022-06-07T19:28:14.751Z"
   },
   {
    "duration": 29,
    "start_time": "2022-06-07T19:28:17.567Z"
   },
   {
    "duration": 16,
    "start_time": "2022-06-07T19:28:31.291Z"
   },
   {
    "duration": 81,
    "start_time": "2022-06-07T19:28:49.604Z"
   },
   {
    "duration": 34,
    "start_time": "2022-06-07T19:28:57.313Z"
   },
   {
    "duration": 64,
    "start_time": "2022-06-07T19:32:28.369Z"
   },
   {
    "duration": 35,
    "start_time": "2022-06-07T19:34:53.617Z"
   },
   {
    "duration": 69,
    "start_time": "2022-06-07T19:35:00.394Z"
   },
   {
    "duration": 1082,
    "start_time": "2022-06-07T19:35:03.456Z"
   },
   {
    "duration": 27,
    "start_time": "2022-06-07T19:35:07.630Z"
   },
   {
    "duration": 34,
    "start_time": "2022-06-07T19:35:10.765Z"
   },
   {
    "duration": 71,
    "start_time": "2022-06-07T19:35:33.379Z"
   },
   {
    "duration": 25,
    "start_time": "2022-06-07T19:35:52.619Z"
   },
   {
    "duration": 18,
    "start_time": "2022-06-07T19:36:17.997Z"
   },
   {
    "duration": 27,
    "start_time": "2022-06-07T19:37:14.637Z"
   },
   {
    "duration": 48,
    "start_time": "2022-06-07T19:37:39.403Z"
   },
   {
    "duration": 13,
    "start_time": "2022-06-07T19:37:46.681Z"
   },
   {
    "duration": 63,
    "start_time": "2022-06-07T19:38:09.954Z"
   },
   {
    "duration": 10,
    "start_time": "2022-06-07T19:39:23.943Z"
   },
   {
    "duration": 2643,
    "start_time": "2022-06-08T09:41:35.501Z"
   },
   {
    "duration": 1492,
    "start_time": "2022-06-08T09:41:38.146Z"
   },
   {
    "duration": 219,
    "start_time": "2022-06-08T09:41:39.640Z"
   },
   {
    "duration": 4,
    "start_time": "2022-06-08T09:41:39.861Z"
   },
   {
    "duration": 34,
    "start_time": "2022-06-08T09:41:39.867Z"
   },
   {
    "duration": 5,
    "start_time": "2022-06-08T09:41:39.902Z"
   },
   {
    "duration": 7,
    "start_time": "2022-06-08T09:41:39.909Z"
   },
   {
    "duration": 6,
    "start_time": "2022-06-08T09:41:39.917Z"
   },
   {
    "duration": 27,
    "start_time": "2022-06-08T09:41:39.924Z"
   },
   {
    "duration": 55,
    "start_time": "2022-06-08T09:41:39.954Z"
   },
   {
    "duration": 328,
    "start_time": "2022-06-08T09:41:40.010Z"
   },
   {
    "duration": 19,
    "start_time": "2022-06-08T09:41:40.340Z"
   },
   {
    "duration": 6,
    "start_time": "2022-06-08T09:41:40.361Z"
   },
   {
    "duration": 379,
    "start_time": "2022-06-08T09:41:40.368Z"
   },
   {
    "duration": 81,
    "start_time": "2022-06-08T09:41:40.748Z"
   },
   {
    "duration": 187,
    "start_time": "2022-06-08T09:41:40.831Z"
   },
   {
    "duration": 103,
    "start_time": "2022-06-08T09:41:41.020Z"
   },
   {
    "duration": 740,
    "start_time": "2022-06-08T09:41:41.125Z"
   },
   {
    "duration": 605,
    "start_time": "2022-06-08T09:41:41.866Z"
   },
   {
    "duration": 611,
    "start_time": "2022-06-08T09:41:42.473Z"
   },
   {
    "duration": 626,
    "start_time": "2022-06-08T09:41:43.085Z"
   },
   {
    "duration": 49,
    "start_time": "2022-06-08T09:41:43.713Z"
   },
   {
    "duration": 188,
    "start_time": "2022-06-08T09:41:43.764Z"
   },
   {
    "duration": 912,
    "start_time": "2022-06-08T09:41:43.953Z"
   },
   {
    "duration": 12,
    "start_time": "2022-06-08T09:41:44.866Z"
   },
   {
    "duration": 14,
    "start_time": "2022-06-08T09:41:44.879Z"
   },
   {
    "duration": 32,
    "start_time": "2022-06-08T09:41:44.894Z"
   },
   {
    "duration": 69,
    "start_time": "2022-06-08T09:41:44.929Z"
   },
   {
    "duration": 54,
    "start_time": "2022-06-08T09:47:07.885Z"
   },
   {
    "duration": 12,
    "start_time": "2022-06-08T09:47:34.715Z"
   },
   {
    "duration": 16,
    "start_time": "2022-06-08T09:47:44.759Z"
   },
   {
    "duration": 17,
    "start_time": "2022-06-08T09:48:32.619Z"
   },
   {
    "duration": 175,
    "start_time": "2022-06-08T10:11:56.472Z"
   },
   {
    "duration": 19,
    "start_time": "2022-06-08T10:12:11.248Z"
   },
   {
    "duration": 19,
    "start_time": "2022-06-08T10:12:37.059Z"
   },
   {
    "duration": 49,
    "start_time": "2022-06-08T10:12:41.303Z"
   },
   {
    "duration": 17,
    "start_time": "2022-06-08T10:13:29.704Z"
   },
   {
    "duration": 6,
    "start_time": "2022-06-08T10:18:50.531Z"
   },
   {
    "duration": 9,
    "start_time": "2022-06-08T10:18:56.295Z"
   },
   {
    "duration": 27,
    "start_time": "2022-06-08T10:18:59.662Z"
   },
   {
    "duration": 16,
    "start_time": "2022-06-08T10:19:11.812Z"
   },
   {
    "duration": 15,
    "start_time": "2022-06-08T10:19:34.763Z"
   },
   {
    "duration": 32,
    "start_time": "2022-06-08T10:20:28.411Z"
   },
   {
    "duration": 16,
    "start_time": "2022-06-08T10:20:31.315Z"
   },
   {
    "duration": 15,
    "start_time": "2022-06-08T10:20:55.026Z"
   },
   {
    "duration": 13,
    "start_time": "2022-06-08T10:21:43.115Z"
   },
   {
    "duration": 16,
    "start_time": "2022-06-08T10:21:57.874Z"
   },
   {
    "duration": 29,
    "start_time": "2022-06-08T10:22:11.186Z"
   },
   {
    "duration": 18,
    "start_time": "2022-06-08T10:22:39.002Z"
   },
   {
    "duration": 2203,
    "start_time": "2022-06-08T10:22:49.060Z"
   },
   {
    "duration": 3,
    "start_time": "2022-06-08T10:22:51.266Z"
   },
   {
    "duration": 86,
    "start_time": "2022-06-08T10:22:51.271Z"
   },
   {
    "duration": 5,
    "start_time": "2022-06-08T10:22:51.360Z"
   },
   {
    "duration": 36,
    "start_time": "2022-06-08T10:22:51.367Z"
   },
   {
    "duration": 5,
    "start_time": "2022-06-08T10:22:51.405Z"
   },
   {
    "duration": 15,
    "start_time": "2022-06-08T10:22:51.411Z"
   },
   {
    "duration": 8,
    "start_time": "2022-06-08T10:22:51.428Z"
   },
   {
    "duration": 36,
    "start_time": "2022-06-08T10:22:51.437Z"
   },
   {
    "duration": 24,
    "start_time": "2022-06-08T10:22:51.493Z"
   },
   {
    "duration": 338,
    "start_time": "2022-06-08T10:22:51.518Z"
   },
   {
    "duration": 16,
    "start_time": "2022-06-08T10:22:51.858Z"
   },
   {
    "duration": 21,
    "start_time": "2022-06-08T10:22:51.876Z"
   },
   {
    "duration": 54,
    "start_time": "2022-06-08T10:22:51.899Z"
   },
   {
    "duration": 71,
    "start_time": "2022-06-08T10:22:51.954Z"
   },
   {
    "duration": 74,
    "start_time": "2022-06-08T10:22:52.027Z"
   },
   {
    "duration": 52,
    "start_time": "2022-06-08T10:22:52.103Z"
   },
   {
    "duration": 711,
    "start_time": "2022-06-08T10:22:52.156Z"
   },
   {
    "duration": 619,
    "start_time": "2022-06-08T10:22:52.868Z"
   },
   {
    "duration": 809,
    "start_time": "2022-06-08T10:22:53.494Z"
   },
   {
    "duration": 645,
    "start_time": "2022-06-08T10:22:54.305Z"
   },
   {
    "duration": 61,
    "start_time": "2022-06-08T10:22:54.952Z"
   },
   {
    "duration": 51,
    "start_time": "2022-06-08T10:22:55.014Z"
   },
   {
    "duration": 1146,
    "start_time": "2022-06-08T10:22:55.067Z"
   },
   {
    "duration": 17,
    "start_time": "2022-06-08T10:22:56.215Z"
   },
   {
    "duration": 14,
    "start_time": "2022-06-08T10:22:56.234Z"
   },
   {
    "duration": 13,
    "start_time": "2022-06-08T10:22:56.250Z"
   },
   {
    "duration": 51,
    "start_time": "2022-06-08T10:22:56.266Z"
   },
   {
    "duration": 14,
    "start_time": "2022-06-08T10:22:56.319Z"
   },
   {
    "duration": 0,
    "start_time": "2022-06-08T10:22:56.335Z"
   },
   {
    "duration": 0,
    "start_time": "2022-06-08T10:22:56.337Z"
   },
   {
    "duration": 18,
    "start_time": "2022-06-08T10:23:13.305Z"
   },
   {
    "duration": 355,
    "start_time": "2022-06-08T10:24:09.489Z"
   },
   {
    "duration": 342,
    "start_time": "2022-06-08T10:24:15.489Z"
   },
   {
    "duration": 24,
    "start_time": "2022-06-08T10:24:38.818Z"
   },
   {
    "duration": 30,
    "start_time": "2022-06-08T10:25:02.841Z"
   },
   {
    "duration": 6,
    "start_time": "2022-06-08T10:25:06.672Z"
   },
   {
    "duration": 22,
    "start_time": "2022-06-08T10:25:11.849Z"
   },
   {
    "duration": 71,
    "start_time": "2022-06-08T10:25:25.449Z"
   },
   {
    "duration": 26,
    "start_time": "2022-06-08T10:25:56.402Z"
   },
   {
    "duration": 2263,
    "start_time": "2022-06-08T10:26:07.154Z"
   },
   {
    "duration": 4,
    "start_time": "2022-06-08T10:26:09.419Z"
   },
   {
    "duration": 77,
    "start_time": "2022-06-08T10:26:09.424Z"
   },
   {
    "duration": 6,
    "start_time": "2022-06-08T10:26:09.503Z"
   },
   {
    "duration": 35,
    "start_time": "2022-06-08T10:26:09.511Z"
   },
   {
    "duration": 6,
    "start_time": "2022-06-08T10:26:09.549Z"
   },
   {
    "duration": 12,
    "start_time": "2022-06-08T10:26:09.557Z"
   },
   {
    "duration": 3,
    "start_time": "2022-06-08T10:26:09.595Z"
   },
   {
    "duration": 33,
    "start_time": "2022-06-08T10:26:09.600Z"
   },
   {
    "duration": 25,
    "start_time": "2022-06-08T10:26:09.636Z"
   },
   {
    "duration": 349,
    "start_time": "2022-06-08T10:26:09.662Z"
   },
   {
    "duration": 24,
    "start_time": "2022-06-08T10:26:10.013Z"
   },
   {
    "duration": 7,
    "start_time": "2022-06-08T10:26:10.039Z"
   },
   {
    "duration": 101,
    "start_time": "2022-06-08T10:26:10.048Z"
   },
   {
    "duration": 72,
    "start_time": "2022-06-08T10:26:10.151Z"
   },
   {
    "duration": 74,
    "start_time": "2022-06-08T10:26:10.225Z"
   },
   {
    "duration": 56,
    "start_time": "2022-06-08T10:26:10.300Z"
   },
   {
    "duration": 731,
    "start_time": "2022-06-08T10:26:10.358Z"
   },
   {
    "duration": 839,
    "start_time": "2022-06-08T10:26:11.091Z"
   },
   {
    "duration": 672,
    "start_time": "2022-06-08T10:26:11.932Z"
   },
   {
    "duration": 677,
    "start_time": "2022-06-08T10:26:12.606Z"
   },
   {
    "duration": 50,
    "start_time": "2022-06-08T10:26:13.285Z"
   },
   {
    "duration": 76,
    "start_time": "2022-06-08T10:26:13.337Z"
   },
   {
    "duration": 684,
    "start_time": "2022-06-08T10:26:13.415Z"
   },
   {
    "duration": 14,
    "start_time": "2022-06-08T10:26:14.101Z"
   },
   {
    "duration": 11,
    "start_time": "2022-06-08T10:26:14.117Z"
   },
   {
    "duration": 9,
    "start_time": "2022-06-08T10:26:14.129Z"
   },
   {
    "duration": 54,
    "start_time": "2022-06-08T10:26:14.141Z"
   },
   {
    "duration": 23,
    "start_time": "2022-06-08T10:26:14.197Z"
   },
   {
    "duration": 90,
    "start_time": "2022-06-08T10:26:14.222Z"
   },
   {
    "duration": 60,
    "start_time": "2022-06-08T10:32:48.502Z"
   },
   {
    "duration": 15,
    "start_time": "2022-06-08T13:13:07.664Z"
   },
   {
    "duration": 22,
    "start_time": "2022-06-08T13:13:17.207Z"
   },
   {
    "duration": 78,
    "start_time": "2022-06-08T13:20:15.957Z"
   },
   {
    "duration": 29,
    "start_time": "2022-06-08T13:20:37.269Z"
   },
   {
    "duration": 59,
    "start_time": "2022-06-08T13:23:53.395Z"
   },
   {
    "duration": 62,
    "start_time": "2022-06-08T13:25:34.019Z"
   },
   {
    "duration": 61,
    "start_time": "2022-06-08T13:29:05.545Z"
   },
   {
    "duration": 58,
    "start_time": "2022-06-08T13:29:22.785Z"
   },
   {
    "duration": 65,
    "start_time": "2022-06-08T13:30:44.130Z"
   },
   {
    "duration": 61,
    "start_time": "2022-06-08T13:31:02.841Z"
   },
   {
    "duration": 57,
    "start_time": "2022-06-08T13:31:15.609Z"
   },
   {
    "duration": 101,
    "start_time": "2022-06-08T13:31:53.656Z"
   },
   {
    "duration": 81,
    "start_time": "2022-06-08T13:32:16.080Z"
   },
   {
    "duration": 61,
    "start_time": "2022-06-08T13:33:17.471Z"
   },
   {
    "duration": 63,
    "start_time": "2022-06-08T13:33:32.439Z"
   },
   {
    "duration": 58,
    "start_time": "2022-06-08T13:33:36.966Z"
   },
   {
    "duration": 104,
    "start_time": "2022-06-08T13:34:22.600Z"
   },
   {
    "duration": 89,
    "start_time": "2022-06-08T13:34:28.758Z"
   },
   {
    "duration": 74,
    "start_time": "2022-06-08T13:35:00.384Z"
   },
   {
    "duration": 66,
    "start_time": "2022-06-08T13:35:09.287Z"
   },
   {
    "duration": 62,
    "start_time": "2022-06-08T13:35:21.758Z"
   },
   {
    "duration": 69,
    "start_time": "2022-06-08T13:35:47.710Z"
   },
   {
    "duration": 68,
    "start_time": "2022-06-08T13:36:02.054Z"
   },
   {
    "duration": 26,
    "start_time": "2022-06-08T13:36:43.550Z"
   },
   {
    "duration": 96,
    "start_time": "2022-06-08T13:36:49.036Z"
   },
   {
    "duration": 61,
    "start_time": "2022-06-08T13:37:04.470Z"
   },
   {
    "duration": 71,
    "start_time": "2022-06-08T13:37:27.774Z"
   },
   {
    "duration": 68,
    "start_time": "2022-06-08T13:37:54.046Z"
   },
   {
    "duration": 58,
    "start_time": "2022-06-08T13:39:01.053Z"
   },
   {
    "duration": 36,
    "start_time": "2022-06-08T13:39:32.012Z"
   },
   {
    "duration": 64,
    "start_time": "2022-06-08T13:39:37.548Z"
   },
   {
    "duration": 75,
    "start_time": "2022-06-08T13:39:57.484Z"
   },
   {
    "duration": 64,
    "start_time": "2022-06-08T13:40:42.412Z"
   },
   {
    "duration": 31,
    "start_time": "2022-06-08T13:42:38.579Z"
   },
   {
    "duration": 11,
    "start_time": "2022-06-08T13:43:11.606Z"
   },
   {
    "duration": 16,
    "start_time": "2022-06-08T13:43:28.810Z"
   },
   {
    "duration": 22,
    "start_time": "2022-06-08T13:44:04.089Z"
   },
   {
    "duration": 55,
    "start_time": "2022-06-08T14:03:04.289Z"
   },
   {
    "duration": 833,
    "start_time": "2022-06-08T14:03:07.223Z"
   },
   {
    "duration": 18,
    "start_time": "2022-06-08T14:03:11.087Z"
   },
   {
    "duration": 766,
    "start_time": "2022-06-08T14:05:07.318Z"
   },
   {
    "duration": 75,
    "start_time": "2022-06-08T14:08:15.707Z"
   },
   {
    "duration": 57,
    "start_time": "2022-06-08T14:08:29.381Z"
   },
   {
    "duration": 611,
    "start_time": "2022-06-08T14:08:32.757Z"
   },
   {
    "duration": 81,
    "start_time": "2022-06-08T14:08:35.582Z"
   },
   {
    "duration": 86,
    "start_time": "2022-06-08T14:08:44.102Z"
   },
   {
    "duration": 51,
    "start_time": "2022-06-08T14:08:47.221Z"
   },
   {
    "duration": 754,
    "start_time": "2022-06-08T14:08:50.469Z"
   },
   {
    "duration": 12,
    "start_time": "2022-06-08T14:09:00.294Z"
   },
   {
    "duration": 9,
    "start_time": "2022-06-08T14:09:20.797Z"
   },
   {
    "duration": 77,
    "start_time": "2022-06-08T14:09:32.710Z"
   },
   {
    "duration": 9,
    "start_time": "2022-06-08T14:09:56.011Z"
   },
   {
    "duration": 94,
    "start_time": "2022-06-08T14:09:59.221Z"
   },
   {
    "duration": 71,
    "start_time": "2022-06-08T14:11:02.101Z"
   },
   {
    "duration": 84,
    "start_time": "2022-06-08T14:11:19.988Z"
   },
   {
    "duration": 82,
    "start_time": "2022-06-08T14:12:05.323Z"
   },
   {
    "duration": 70,
    "start_time": "2022-06-08T14:20:50.327Z"
   },
   {
    "duration": 67,
    "start_time": "2022-06-08T14:23:18.753Z"
   },
   {
    "duration": 83,
    "start_time": "2022-06-08T14:24:11.846Z"
   },
   {
    "duration": 69,
    "start_time": "2022-06-08T14:24:51.589Z"
   },
   {
    "duration": 73,
    "start_time": "2022-06-08T14:25:00.909Z"
   },
   {
    "duration": 4217,
    "start_time": "2022-06-09T06:28:17.162Z"
   },
   {
    "duration": 2154,
    "start_time": "2022-06-09T06:28:21.382Z"
   },
   {
    "duration": 152,
    "start_time": "2022-06-09T06:28:23.540Z"
   },
   {
    "duration": 7,
    "start_time": "2022-06-09T06:28:23.696Z"
   },
   {
    "duration": 79,
    "start_time": "2022-06-09T06:28:23.706Z"
   },
   {
    "duration": 7,
    "start_time": "2022-06-09T06:28:23.787Z"
   },
   {
    "duration": 39,
    "start_time": "2022-06-09T06:28:23.797Z"
   },
   {
    "duration": 39,
    "start_time": "2022-06-09T06:28:23.838Z"
   },
   {
    "duration": 141,
    "start_time": "2022-06-09T06:28:23.884Z"
   },
   {
    "duration": 94,
    "start_time": "2022-06-09T06:28:24.030Z"
   },
   {
    "duration": 439,
    "start_time": "2022-06-09T06:28:24.126Z"
   },
   {
    "duration": 27,
    "start_time": "2022-06-09T06:28:24.567Z"
   },
   {
    "duration": 62,
    "start_time": "2022-06-09T06:28:24.604Z"
   },
   {
    "duration": 678,
    "start_time": "2022-06-09T06:28:24.671Z"
   },
   {
    "duration": 209,
    "start_time": "2022-06-09T06:28:25.353Z"
   },
   {
    "duration": 200,
    "start_time": "2022-06-09T06:28:25.564Z"
   },
   {
    "duration": 19,
    "start_time": "2022-06-09T06:28:25.767Z"
   },
   {
    "duration": 159,
    "start_time": "2022-06-09T06:28:25.789Z"
   },
   {
    "duration": 1056,
    "start_time": "2022-06-09T06:28:25.951Z"
   },
   {
    "duration": 34,
    "start_time": "2022-06-09T06:28:27.009Z"
   },
   {
    "duration": 187,
    "start_time": "2022-06-09T06:28:27.046Z"
   },
   {
    "duration": 954,
    "start_time": "2022-06-09T06:28:27.236Z"
   },
   {
    "duration": 1260,
    "start_time": "2022-06-09T06:28:28.195Z"
   },
   {
    "duration": 929,
    "start_time": "2022-06-09T06:28:29.458Z"
   },
   {
    "duration": 84,
    "start_time": "2022-06-09T06:28:30.389Z"
   },
   {
    "duration": 99,
    "start_time": "2022-06-09T06:28:30.476Z"
   },
   {
    "duration": 1147,
    "start_time": "2022-06-09T06:28:30.578Z"
   },
   {
    "duration": 27,
    "start_time": "2022-06-09T06:28:31.731Z"
   },
   {
    "duration": 32,
    "start_time": "2022-06-09T06:28:31.761Z"
   },
   {
    "duration": 22,
    "start_time": "2022-06-09T06:28:31.796Z"
   },
   {
    "duration": 37,
    "start_time": "2022-06-09T06:28:31.820Z"
   },
   {
    "duration": 40,
    "start_time": "2022-06-09T06:28:31.860Z"
   },
   {
    "duration": 156,
    "start_time": "2022-06-09T06:28:31.903Z"
   },
   {
    "duration": 29,
    "start_time": "2022-06-09T06:28:32.062Z"
   },
   {
    "duration": 81,
    "start_time": "2022-06-09T06:42:39.860Z"
   },
   {
    "duration": 88,
    "start_time": "2022-06-09T06:42:45.465Z"
   },
   {
    "duration": 80,
    "start_time": "2022-06-09T06:42:58.603Z"
   },
   {
    "duration": 461,
    "start_time": "2022-06-09T06:44:42.423Z"
   },
   {
    "duration": 303,
    "start_time": "2022-06-09T06:44:55.939Z"
   },
   {
    "duration": 2596,
    "start_time": "2022-06-09T06:44:59.772Z"
   },
   {
    "duration": 6,
    "start_time": "2022-06-09T06:45:02.372Z"
   },
   {
    "duration": 122,
    "start_time": "2022-06-09T06:45:02.381Z"
   },
   {
    "duration": 7,
    "start_time": "2022-06-09T06:45:02.506Z"
   },
   {
    "duration": 61,
    "start_time": "2022-06-09T06:45:02.516Z"
   },
   {
    "duration": 9,
    "start_time": "2022-06-09T06:45:02.579Z"
   },
   {
    "duration": 20,
    "start_time": "2022-06-09T06:45:02.590Z"
   },
   {
    "duration": 31,
    "start_time": "2022-06-09T06:45:02.612Z"
   },
   {
    "duration": 43,
    "start_time": "2022-06-09T06:45:02.646Z"
   },
   {
    "duration": 30,
    "start_time": "2022-06-09T06:45:02.693Z"
   },
   {
    "duration": 579,
    "start_time": "2022-06-09T06:45:02.726Z"
   },
   {
    "duration": 40,
    "start_time": "2022-06-09T06:45:03.307Z"
   },
   {
    "duration": 7,
    "start_time": "2022-06-09T06:45:03.349Z"
   },
   {
    "duration": 90,
    "start_time": "2022-06-09T06:45:03.358Z"
   },
   {
    "duration": 90,
    "start_time": "2022-06-09T06:45:03.451Z"
   },
   {
    "duration": 132,
    "start_time": "2022-06-09T06:45:03.543Z"
   },
   {
    "duration": 22,
    "start_time": "2022-06-09T06:45:03.678Z"
   },
   {
    "duration": 87,
    "start_time": "2022-06-09T06:45:03.725Z"
   },
   {
    "duration": 741,
    "start_time": "2022-06-09T06:45:03.826Z"
   },
   {
    "duration": 10,
    "start_time": "2022-06-09T06:45:04.569Z"
   },
   {
    "duration": 102,
    "start_time": "2022-06-09T06:45:04.581Z"
   },
   {
    "duration": 722,
    "start_time": "2022-06-09T06:45:04.685Z"
   },
   {
    "duration": 738,
    "start_time": "2022-06-09T06:45:05.410Z"
   },
   {
    "duration": 1041,
    "start_time": "2022-06-09T06:45:06.151Z"
   },
   {
    "duration": 81,
    "start_time": "2022-06-09T06:45:07.195Z"
   },
   {
    "duration": 79,
    "start_time": "2022-06-09T06:45:07.279Z"
   },
   {
    "duration": 1218,
    "start_time": "2022-06-09T06:45:07.361Z"
   },
   {
    "duration": 18,
    "start_time": "2022-06-09T06:45:08.583Z"
   },
   {
    "duration": 33,
    "start_time": "2022-06-09T06:45:08.603Z"
   },
   {
    "duration": 28,
    "start_time": "2022-06-09T06:45:08.638Z"
   },
   {
    "duration": 49,
    "start_time": "2022-06-09T06:45:08.668Z"
   },
   {
    "duration": 45,
    "start_time": "2022-06-09T06:45:08.719Z"
   },
   {
    "duration": 143,
    "start_time": "2022-06-09T06:45:08.768Z"
   },
   {
    "duration": 28,
    "start_time": "2022-06-09T06:45:08.914Z"
   },
   {
    "duration": 108,
    "start_time": "2022-06-09T06:45:16.611Z"
   },
   {
    "duration": 752,
    "start_time": "2022-06-09T06:45:22.737Z"
   },
   {
    "duration": 694,
    "start_time": "2022-06-09T06:46:03.768Z"
   },
   {
    "duration": 13,
    "start_time": "2022-06-09T06:46:18.207Z"
   },
   {
    "duration": 124,
    "start_time": "2022-06-09T06:47:31.723Z"
   },
   {
    "duration": 984,
    "start_time": "2022-06-09T06:47:56.190Z"
   },
   {
    "duration": 1107,
    "start_time": "2022-06-09T06:48:08.257Z"
   },
   {
    "duration": 828,
    "start_time": "2022-06-09T06:48:33.048Z"
   },
   {
    "duration": 825,
    "start_time": "2022-06-09T06:48:53.087Z"
   },
   {
    "duration": 22,
    "start_time": "2022-06-09T06:50:59.439Z"
   },
   {
    "duration": 23,
    "start_time": "2022-06-09T06:51:11.912Z"
   },
   {
    "duration": 31,
    "start_time": "2022-06-09T06:51:25.147Z"
   },
   {
    "duration": 5358,
    "start_time": "2022-06-09T06:55:44.023Z"
   },
   {
    "duration": 4746,
    "start_time": "2022-06-09T06:56:45.923Z"
   },
   {
    "duration": 2459,
    "start_time": "2022-06-09T06:56:50.673Z"
   },
   {
    "duration": 76,
    "start_time": "2022-06-09T06:56:53.134Z"
   },
   {
    "duration": 6,
    "start_time": "2022-06-09T06:56:53.213Z"
   },
   {
    "duration": 54,
    "start_time": "2022-06-09T06:56:53.221Z"
   },
   {
    "duration": 8,
    "start_time": "2022-06-09T06:56:53.278Z"
   },
   {
    "duration": 39,
    "start_time": "2022-06-09T06:56:53.289Z"
   },
   {
    "duration": 5,
    "start_time": "2022-06-09T06:56:53.332Z"
   },
   {
    "duration": 48,
    "start_time": "2022-06-09T06:56:53.340Z"
   },
   {
    "duration": 68,
    "start_time": "2022-06-09T06:56:53.392Z"
   },
   {
    "duration": 458,
    "start_time": "2022-06-09T06:56:53.462Z"
   },
   {
    "duration": 29,
    "start_time": "2022-06-09T06:56:53.925Z"
   },
   {
    "duration": 9,
    "start_time": "2022-06-09T06:56:53.958Z"
   },
   {
    "duration": 517,
    "start_time": "2022-06-09T06:56:53.970Z"
   },
   {
    "duration": 162,
    "start_time": "2022-06-09T06:56:54.489Z"
   },
   {
    "duration": 321,
    "start_time": "2022-06-09T06:56:54.655Z"
   },
   {
    "duration": 19,
    "start_time": "2022-06-09T06:56:54.979Z"
   },
   {
    "duration": 109,
    "start_time": "2022-06-09T06:56:55.001Z"
   },
   {
    "duration": 751,
    "start_time": "2022-06-09T06:56:55.126Z"
   },
   {
    "duration": 12,
    "start_time": "2022-06-09T06:56:55.879Z"
   },
   {
    "duration": 125,
    "start_time": "2022-06-09T06:56:55.895Z"
   },
   {
    "duration": 899,
    "start_time": "2022-06-09T06:56:56.027Z"
   },
   {
    "duration": 733,
    "start_time": "2022-06-09T06:56:56.929Z"
   },
   {
    "duration": 870,
    "start_time": "2022-06-09T06:56:57.666Z"
   },
   {
    "duration": 87,
    "start_time": "2022-06-09T06:56:58.539Z"
   },
   {
    "duration": 64,
    "start_time": "2022-06-09T06:56:58.629Z"
   },
   {
    "duration": 1352,
    "start_time": "2022-06-09T06:56:58.695Z"
   },
   {
    "duration": 28,
    "start_time": "2022-06-09T06:57:00.053Z"
   },
   {
    "duration": 25,
    "start_time": "2022-06-09T06:57:00.085Z"
   },
   {
    "duration": 30,
    "start_time": "2022-06-09T06:57:00.127Z"
   },
   {
    "duration": 52,
    "start_time": "2022-06-09T06:57:00.160Z"
   },
   {
    "duration": 48,
    "start_time": "2022-06-09T06:57:00.215Z"
   },
   {
    "duration": 109,
    "start_time": "2022-06-09T06:57:00.266Z"
   },
   {
    "duration": 29,
    "start_time": "2022-06-09T06:57:00.378Z"
   },
   {
    "duration": 188,
    "start_time": "2022-06-09T06:57:07.795Z"
   },
   {
    "duration": 985,
    "start_time": "2022-06-09T06:57:33.412Z"
   },
   {
    "duration": 19,
    "start_time": "2022-06-09T06:57:46.100Z"
   },
   {
    "duration": 12,
    "start_time": "2022-06-09T06:57:56.018Z"
   },
   {
    "duration": 35,
    "start_time": "2022-06-09T06:58:02.600Z"
   },
   {
    "duration": 309,
    "start_time": "2022-06-09T06:58:11.781Z"
   },
   {
    "duration": 51,
    "start_time": "2022-06-09T06:58:36.102Z"
   },
   {
    "duration": 30,
    "start_time": "2022-06-09T06:58:54.510Z"
   },
   {
    "duration": 96,
    "start_time": "2022-06-09T06:59:07.181Z"
   },
   {
    "duration": 39,
    "start_time": "2022-06-09T07:03:45.614Z"
   },
   {
    "duration": 40,
    "start_time": "2022-06-09T07:03:59.378Z"
   },
   {
    "duration": 17,
    "start_time": "2022-06-09T07:04:05.868Z"
   },
   {
    "duration": 26,
    "start_time": "2022-06-09T07:06:03.010Z"
   },
   {
    "duration": 41,
    "start_time": "2022-06-09T07:06:29.106Z"
   },
   {
    "duration": 24,
    "start_time": "2022-06-09T07:07:21.935Z"
   },
   {
    "duration": 39,
    "start_time": "2022-06-09T07:07:55.203Z"
   },
   {
    "duration": 25,
    "start_time": "2022-06-09T07:08:28.860Z"
   },
   {
    "duration": 44,
    "start_time": "2022-06-09T07:08:32.268Z"
   },
   {
    "duration": 108,
    "start_time": "2022-06-09T07:08:58.197Z"
   },
   {
    "duration": 5017,
    "start_time": "2022-06-09T07:09:04.353Z"
   },
   {
    "duration": 5,
    "start_time": "2022-06-09T07:09:09.374Z"
   },
   {
    "duration": 104,
    "start_time": "2022-06-09T07:09:09.382Z"
   },
   {
    "duration": 6,
    "start_time": "2022-06-09T07:09:09.490Z"
   },
   {
    "duration": 66,
    "start_time": "2022-06-09T07:09:09.499Z"
   },
   {
    "duration": 8,
    "start_time": "2022-06-09T07:09:09.568Z"
   },
   {
    "duration": 12,
    "start_time": "2022-06-09T07:09:09.578Z"
   },
   {
    "duration": 5,
    "start_time": "2022-06-09T07:09:09.593Z"
   },
   {
    "duration": 51,
    "start_time": "2022-06-09T07:09:09.628Z"
   },
   {
    "duration": 68,
    "start_time": "2022-06-09T07:09:09.684Z"
   },
   {
    "duration": 409,
    "start_time": "2022-06-09T07:09:09.754Z"
   },
   {
    "duration": 22,
    "start_time": "2022-06-09T07:09:10.166Z"
   },
   {
    "duration": 8,
    "start_time": "2022-06-09T07:09:10.190Z"
   },
   {
    "duration": 74,
    "start_time": "2022-06-09T07:09:10.231Z"
   },
   {
    "duration": 91,
    "start_time": "2022-06-09T07:09:10.307Z"
   },
   {
    "duration": 144,
    "start_time": "2022-06-09T07:09:10.400Z"
   },
   {
    "duration": 17,
    "start_time": "2022-06-09T07:09:10.546Z"
   },
   {
    "duration": 94,
    "start_time": "2022-06-09T07:09:10.566Z"
   },
   {
    "duration": 994,
    "start_time": "2022-06-09T07:09:10.663Z"
   },
   {
    "duration": 12,
    "start_time": "2022-06-09T07:09:11.659Z"
   },
   {
    "duration": 124,
    "start_time": "2022-06-09T07:09:11.674Z"
   },
   {
    "duration": 790,
    "start_time": "2022-06-09T07:09:11.801Z"
   },
   {
    "duration": 822,
    "start_time": "2022-06-09T07:09:12.593Z"
   },
   {
    "duration": 814,
    "start_time": "2022-06-09T07:09:13.427Z"
   },
   {
    "duration": 66,
    "start_time": "2022-06-09T07:09:14.243Z"
   },
   {
    "duration": 285,
    "start_time": "2022-06-09T07:09:14.311Z"
   },
   {
    "duration": 1496,
    "start_time": "2022-06-09T07:09:14.599Z"
   },
   {
    "duration": 23,
    "start_time": "2022-06-09T07:09:16.101Z"
   },
   {
    "duration": 37,
    "start_time": "2022-06-09T07:09:16.126Z"
   },
   {
    "duration": 6,
    "start_time": "2022-06-09T07:09:16.165Z"
   },
   {
    "duration": 38,
    "start_time": "2022-06-09T07:09:16.173Z"
   },
   {
    "duration": 31,
    "start_time": "2022-06-09T07:09:16.213Z"
   },
   {
    "duration": 0,
    "start_time": "2022-06-09T07:09:16.248Z"
   },
   {
    "duration": 0,
    "start_time": "2022-06-09T07:09:16.251Z"
   },
   {
    "duration": 0,
    "start_time": "2022-06-09T07:09:16.253Z"
   },
   {
    "duration": 35,
    "start_time": "2022-06-09T07:09:43.649Z"
   },
   {
    "duration": 99,
    "start_time": "2022-06-09T07:09:53.415Z"
   },
   {
    "duration": 13,
    "start_time": "2022-06-09T07:10:41.703Z"
   },
   {
    "duration": 5019,
    "start_time": "2022-06-09T07:10:55.263Z"
   },
   {
    "duration": 8,
    "start_time": "2022-06-09T07:11:00.287Z"
   },
   {
    "duration": 117,
    "start_time": "2022-06-09T07:11:00.298Z"
   },
   {
    "duration": 11,
    "start_time": "2022-06-09T07:11:00.419Z"
   },
   {
    "duration": 78,
    "start_time": "2022-06-09T07:11:00.434Z"
   },
   {
    "duration": 9,
    "start_time": "2022-06-09T07:11:00.515Z"
   },
   {
    "duration": 39,
    "start_time": "2022-06-09T07:11:00.526Z"
   },
   {
    "duration": 15,
    "start_time": "2022-06-09T07:11:00.568Z"
   },
   {
    "duration": 69,
    "start_time": "2022-06-09T07:11:00.586Z"
   },
   {
    "duration": 44,
    "start_time": "2022-06-09T07:11:00.660Z"
   },
   {
    "duration": 427,
    "start_time": "2022-06-09T07:11:00.706Z"
   },
   {
    "duration": 34,
    "start_time": "2022-06-09T07:11:01.136Z"
   },
   {
    "duration": 28,
    "start_time": "2022-06-09T07:11:01.172Z"
   },
   {
    "duration": 109,
    "start_time": "2022-06-09T07:11:01.203Z"
   },
   {
    "duration": 99,
    "start_time": "2022-06-09T07:11:01.315Z"
   },
   {
    "duration": 123,
    "start_time": "2022-06-09T07:11:01.433Z"
   },
   {
    "duration": 17,
    "start_time": "2022-06-09T07:11:01.558Z"
   },
   {
    "duration": 114,
    "start_time": "2022-06-09T07:11:01.578Z"
   },
   {
    "duration": 865,
    "start_time": "2022-06-09T07:11:01.694Z"
   },
   {
    "duration": 15,
    "start_time": "2022-06-09T07:11:02.562Z"
   },
   {
    "duration": 119,
    "start_time": "2022-06-09T07:11:02.579Z"
   },
   {
    "duration": 776,
    "start_time": "2022-06-09T07:11:02.700Z"
   },
   {
    "duration": 809,
    "start_time": "2022-06-09T07:11:03.479Z"
   },
   {
    "duration": 1079,
    "start_time": "2022-06-09T07:11:04.290Z"
   },
   {
    "duration": 88,
    "start_time": "2022-06-09T07:11:05.372Z"
   },
   {
    "duration": 113,
    "start_time": "2022-06-09T07:11:05.463Z"
   },
   {
    "duration": 1138,
    "start_time": "2022-06-09T07:11:05.579Z"
   },
   {
    "duration": 33,
    "start_time": "2022-06-09T07:11:06.723Z"
   },
   {
    "duration": 88,
    "start_time": "2022-06-09T07:11:06.763Z"
   },
   {
    "duration": 30,
    "start_time": "2022-06-09T07:11:06.856Z"
   },
   {
    "duration": 68,
    "start_time": "2022-06-09T07:11:06.888Z"
   },
   {
    "duration": 59,
    "start_time": "2022-06-09T07:11:06.961Z"
   },
   {
    "duration": 109,
    "start_time": "2022-06-09T07:11:07.023Z"
   },
   {
    "duration": 40,
    "start_time": "2022-06-09T07:11:07.139Z"
   },
   {
    "duration": 50,
    "start_time": "2022-06-09T07:11:07.182Z"
   },
   {
    "duration": 136,
    "start_time": "2022-06-09T07:14:19.012Z"
   },
   {
    "duration": 742,
    "start_time": "2022-06-09T07:15:37.681Z"
   },
   {
    "duration": 1308,
    "start_time": "2022-06-09T07:16:23.601Z"
   },
   {
    "duration": 836,
    "start_time": "2022-06-09T07:16:38.479Z"
   },
   {
    "duration": 633,
    "start_time": "2022-06-09T07:16:54.254Z"
   },
   {
    "duration": 528,
    "start_time": "2022-06-09T07:17:10.290Z"
   },
   {
    "duration": 8,
    "start_time": "2022-06-09T07:17:27.816Z"
   },
   {
    "duration": 10,
    "start_time": "2022-06-09T07:18:14.127Z"
   },
   {
    "duration": 612,
    "start_time": "2022-06-09T07:18:21.265Z"
   },
   {
    "duration": 154,
    "start_time": "2022-06-09T07:19:28.404Z"
   },
   {
    "duration": 156,
    "start_time": "2022-06-09T07:19:34.090Z"
   },
   {
    "duration": 33,
    "start_time": "2022-06-09T07:20:44.011Z"
   },
   {
    "duration": 8,
    "start_time": "2022-06-09T07:20:50.783Z"
   },
   {
    "duration": 604,
    "start_time": "2022-06-09T07:21:46.996Z"
   },
   {
    "duration": 4,
    "start_time": "2022-06-09T07:24:54.751Z"
   },
   {
    "duration": 621,
    "start_time": "2022-06-09T07:30:30.744Z"
   },
   {
    "duration": 225295,
    "start_time": "2022-06-09T07:37:01.290Z"
   },
   {
    "duration": 2,
    "start_time": "2022-06-09T07:43:45.214Z"
   },
   {
    "duration": 5,
    "start_time": "2022-06-09T07:49:33.332Z"
   },
   {
    "duration": 9,
    "start_time": "2022-06-09T07:49:52.460Z"
   },
   {
    "duration": 4,
    "start_time": "2022-06-09T07:50:29.588Z"
   },
   {
    "duration": 4,
    "start_time": "2022-06-09T07:51:26.351Z"
   },
   {
    "duration": 7846,
    "start_time": "2022-06-09T11:55:17.685Z"
   },
   {
    "duration": 1814,
    "start_time": "2022-06-09T11:55:25.534Z"
   },
   {
    "duration": 322,
    "start_time": "2022-06-09T11:55:27.351Z"
   },
   {
    "duration": 15,
    "start_time": "2022-06-09T11:55:27.676Z"
   },
   {
    "duration": 53,
    "start_time": "2022-06-09T11:55:27.693Z"
   },
   {
    "duration": 5,
    "start_time": "2022-06-09T11:55:27.747Z"
   },
   {
    "duration": 25,
    "start_time": "2022-06-09T11:55:27.753Z"
   },
   {
    "duration": 9,
    "start_time": "2022-06-09T11:55:27.780Z"
   },
   {
    "duration": 34,
    "start_time": "2022-06-09T11:55:27.791Z"
   },
   {
    "duration": 22,
    "start_time": "2022-06-09T11:55:27.828Z"
   },
   {
    "duration": 344,
    "start_time": "2022-06-09T11:55:27.858Z"
   },
   {
    "duration": 17,
    "start_time": "2022-06-09T11:55:28.204Z"
   },
   {
    "duration": 8,
    "start_time": "2022-06-09T11:55:28.222Z"
   },
   {
    "duration": 492,
    "start_time": "2022-06-09T11:55:28.231Z"
   },
   {
    "duration": 195,
    "start_time": "2022-06-09T11:55:28.725Z"
   },
   {
    "duration": 160,
    "start_time": "2022-06-09T11:55:28.922Z"
   },
   {
    "duration": 13,
    "start_time": "2022-06-09T11:55:29.084Z"
   },
   {
    "duration": 107,
    "start_time": "2022-06-09T11:55:29.099Z"
   },
   {
    "duration": 747,
    "start_time": "2022-06-09T11:55:29.208Z"
   },
   {
    "duration": 17,
    "start_time": "2022-06-09T11:55:29.956Z"
   },
   {
    "duration": 153,
    "start_time": "2022-06-09T11:55:29.975Z"
   },
   {
    "duration": 791,
    "start_time": "2022-06-09T11:55:30.130Z"
   },
   {
    "duration": 708,
    "start_time": "2022-06-09T11:55:30.924Z"
   },
   {
    "duration": 821,
    "start_time": "2022-06-09T11:55:31.633Z"
   },
   {
    "duration": 77,
    "start_time": "2022-06-09T11:55:32.458Z"
   },
   {
    "duration": 83,
    "start_time": "2022-06-09T11:55:32.536Z"
   },
   {
    "duration": 1263,
    "start_time": "2022-06-09T11:55:32.620Z"
   },
   {
    "duration": 17,
    "start_time": "2022-06-09T11:55:33.888Z"
   },
   {
    "duration": 20,
    "start_time": "2022-06-09T11:55:33.907Z"
   },
   {
    "duration": 12,
    "start_time": "2022-06-09T11:55:33.929Z"
   },
   {
    "duration": 60,
    "start_time": "2022-06-09T11:55:33.943Z"
   },
   {
    "duration": 25,
    "start_time": "2022-06-09T11:55:34.006Z"
   },
   {
    "duration": 115,
    "start_time": "2022-06-09T11:55:34.033Z"
   },
   {
    "duration": 39,
    "start_time": "2022-06-09T11:55:34.149Z"
   },
   {
    "duration": 6,
    "start_time": "2022-06-09T11:55:34.190Z"
   },
   {
    "duration": 16,
    "start_time": "2022-06-09T11:55:34.198Z"
   },
   {
    "duration": 29,
    "start_time": "2022-06-09T11:55:34.216Z"
   },
   {
    "duration": 5361,
    "start_time": "2022-06-09T18:40:12.908Z"
   },
   {
    "duration": 1654,
    "start_time": "2022-06-09T18:40:18.272Z"
   },
   {
    "duration": 277,
    "start_time": "2022-06-09T18:40:19.928Z"
   },
   {
    "duration": 6,
    "start_time": "2022-06-09T18:40:20.207Z"
   },
   {
    "duration": 58,
    "start_time": "2022-06-09T18:40:20.216Z"
   },
   {
    "duration": 6,
    "start_time": "2022-06-09T18:40:20.276Z"
   },
   {
    "duration": 33,
    "start_time": "2022-06-09T18:40:20.284Z"
   },
   {
    "duration": 16,
    "start_time": "2022-06-09T18:40:20.318Z"
   },
   {
    "duration": 35,
    "start_time": "2022-06-09T18:40:20.335Z"
   },
   {
    "duration": 24,
    "start_time": "2022-06-09T18:40:20.372Z"
   },
   {
    "duration": 335,
    "start_time": "2022-06-09T18:40:20.402Z"
   },
   {
    "duration": 17,
    "start_time": "2022-06-09T18:40:20.739Z"
   },
   {
    "duration": 5,
    "start_time": "2022-06-09T18:40:20.758Z"
   },
   {
    "duration": 502,
    "start_time": "2022-06-09T18:40:20.766Z"
   },
   {
    "duration": 163,
    "start_time": "2022-06-09T18:40:21.271Z"
   },
   {
    "duration": 128,
    "start_time": "2022-06-09T18:40:21.437Z"
   },
   {
    "duration": 13,
    "start_time": "2022-06-09T18:40:21.566Z"
   },
   {
    "duration": 84,
    "start_time": "2022-06-09T18:40:21.596Z"
   },
   {
    "duration": 747,
    "start_time": "2022-06-09T18:40:21.681Z"
   },
   {
    "duration": 11,
    "start_time": "2022-06-09T18:40:22.429Z"
   },
   {
    "duration": 119,
    "start_time": "2022-06-09T18:40:22.442Z"
   },
   {
    "duration": 772,
    "start_time": "2022-06-09T18:40:22.563Z"
   },
   {
    "duration": 648,
    "start_time": "2022-06-09T18:40:23.337Z"
   },
   {
    "duration": 680,
    "start_time": "2022-06-09T18:40:23.987Z"
   },
   {
    "duration": 61,
    "start_time": "2022-06-09T18:40:24.669Z"
   },
   {
    "duration": 69,
    "start_time": "2022-06-09T18:40:24.732Z"
   },
   {
    "duration": 1246,
    "start_time": "2022-06-09T18:40:24.803Z"
   },
   {
    "duration": 17,
    "start_time": "2022-06-09T18:40:26.051Z"
   },
   {
    "duration": 9,
    "start_time": "2022-06-09T18:40:26.070Z"
   },
   {
    "duration": 29,
    "start_time": "2022-06-09T18:40:26.082Z"
   },
   {
    "duration": 36,
    "start_time": "2022-06-09T18:40:26.113Z"
   },
   {
    "duration": 23,
    "start_time": "2022-06-09T18:40:26.151Z"
   },
   {
    "duration": 97,
    "start_time": "2022-06-09T18:40:26.175Z"
   },
   {
    "duration": 36,
    "start_time": "2022-06-09T18:40:26.274Z"
   },
   {
    "duration": 5,
    "start_time": "2022-06-09T18:40:26.312Z"
   },
   {
    "duration": 10,
    "start_time": "2022-06-09T18:40:26.319Z"
   },
   {
    "duration": 25,
    "start_time": "2022-06-09T18:40:26.331Z"
   },
   {
    "duration": 4128,
    "start_time": "2022-06-09T18:40:53.136Z"
   },
   {
    "duration": 4,
    "start_time": "2022-06-09T18:40:57.267Z"
   },
   {
    "duration": 80,
    "start_time": "2022-06-09T18:40:57.272Z"
   },
   {
    "duration": 5,
    "start_time": "2022-06-09T18:40:57.354Z"
   },
   {
    "duration": 34,
    "start_time": "2022-06-09T18:40:57.361Z"
   },
   {
    "duration": 10,
    "start_time": "2022-06-09T18:40:57.400Z"
   },
   {
    "duration": 7,
    "start_time": "2022-06-09T18:40:57.412Z"
   },
   {
    "duration": 5,
    "start_time": "2022-06-09T18:40:57.421Z"
   },
   {
    "duration": 30,
    "start_time": "2022-06-09T18:40:57.428Z"
   },
   {
    "duration": 39,
    "start_time": "2022-06-09T18:40:57.460Z"
   },
   {
    "duration": 458,
    "start_time": "2022-06-09T18:40:57.500Z"
   },
   {
    "duration": 34,
    "start_time": "2022-06-09T18:40:57.960Z"
   },
   {
    "duration": 10,
    "start_time": "2022-06-09T18:40:57.995Z"
   },
   {
    "duration": 63,
    "start_time": "2022-06-09T18:40:58.008Z"
   },
   {
    "duration": 79,
    "start_time": "2022-06-09T18:40:58.073Z"
   },
   {
    "duration": 100,
    "start_time": "2022-06-09T18:40:58.153Z"
   },
   {
    "duration": 12,
    "start_time": "2022-06-09T18:40:58.255Z"
   },
   {
    "duration": 74,
    "start_time": "2022-06-09T18:40:58.269Z"
   },
   {
    "duration": 648,
    "start_time": "2022-06-09T18:40:58.344Z"
   },
   {
    "duration": 17,
    "start_time": "2022-06-09T18:40:58.994Z"
   },
   {
    "duration": 114,
    "start_time": "2022-06-09T18:40:59.013Z"
   },
   {
    "duration": 626,
    "start_time": "2022-06-09T18:40:59.129Z"
   },
   {
    "duration": 659,
    "start_time": "2022-06-09T18:40:59.756Z"
   },
   {
    "duration": 825,
    "start_time": "2022-06-09T18:41:00.417Z"
   },
   {
    "duration": 70,
    "start_time": "2022-06-09T18:41:01.245Z"
   },
   {
    "duration": 51,
    "start_time": "2022-06-09T18:41:01.317Z"
   },
   {
    "duration": 855,
    "start_time": "2022-06-09T18:41:01.369Z"
   },
   {
    "duration": 14,
    "start_time": "2022-06-09T18:41:02.227Z"
   },
   {
    "duration": 42,
    "start_time": "2022-06-09T18:41:02.244Z"
   },
   {
    "duration": 5,
    "start_time": "2022-06-09T18:41:02.288Z"
   },
   {
    "duration": 54,
    "start_time": "2022-06-09T18:41:02.295Z"
   },
   {
    "duration": 25,
    "start_time": "2022-06-09T18:41:02.350Z"
   },
   {
    "duration": 86,
    "start_time": "2022-06-09T18:41:02.376Z"
   },
   {
    "duration": 49,
    "start_time": "2022-06-09T18:41:02.464Z"
   },
   {
    "duration": 3,
    "start_time": "2022-06-09T18:41:02.515Z"
   },
   {
    "duration": 9,
    "start_time": "2022-06-09T18:41:02.520Z"
   },
   {
    "duration": 30,
    "start_time": "2022-06-09T18:41:02.531Z"
   },
   {
    "duration": 4288,
    "start_time": "2022-06-09T18:42:11.037Z"
   },
   {
    "duration": 4,
    "start_time": "2022-06-09T18:42:15.328Z"
   },
   {
    "duration": 82,
    "start_time": "2022-06-09T18:42:15.334Z"
   },
   {
    "duration": 4,
    "start_time": "2022-06-09T18:42:15.419Z"
   },
   {
    "duration": 38,
    "start_time": "2022-06-09T18:42:15.425Z"
   },
   {
    "duration": 5,
    "start_time": "2022-06-09T18:42:15.465Z"
   },
   {
    "duration": 27,
    "start_time": "2022-06-09T18:42:15.471Z"
   },
   {
    "duration": 7,
    "start_time": "2022-06-09T18:42:15.500Z"
   },
   {
    "duration": 30,
    "start_time": "2022-06-09T18:42:15.509Z"
   },
   {
    "duration": 23,
    "start_time": "2022-06-09T18:42:15.541Z"
   },
   {
    "duration": 323,
    "start_time": "2022-06-09T18:42:15.566Z"
   },
   {
    "duration": 17,
    "start_time": "2022-06-09T18:42:15.894Z"
   },
   {
    "duration": 7,
    "start_time": "2022-06-09T18:42:15.913Z"
   },
   {
    "duration": 75,
    "start_time": "2022-06-09T18:42:15.922Z"
   },
   {
    "duration": 63,
    "start_time": "2022-06-09T18:42:16.003Z"
   },
   {
    "duration": 108,
    "start_time": "2022-06-09T18:42:16.068Z"
   },
   {
    "duration": 32,
    "start_time": "2022-06-09T18:42:16.178Z"
   },
   {
    "duration": 57,
    "start_time": "2022-06-09T18:42:16.212Z"
   },
   {
    "duration": 717,
    "start_time": "2022-06-09T18:42:16.271Z"
   },
   {
    "duration": 17,
    "start_time": "2022-06-09T18:42:16.990Z"
   },
   {
    "duration": 88,
    "start_time": "2022-06-09T18:42:17.011Z"
   },
   {
    "duration": 646,
    "start_time": "2022-06-09T18:42:17.103Z"
   },
   {
    "duration": 866,
    "start_time": "2022-06-09T18:42:17.751Z"
   },
   {
    "duration": 699,
    "start_time": "2022-06-09T18:42:18.618Z"
   },
   {
    "duration": 55,
    "start_time": "2022-06-09T18:42:19.320Z"
   },
   {
    "duration": 64,
    "start_time": "2022-06-09T18:42:19.377Z"
   },
   {
    "duration": 827,
    "start_time": "2022-06-09T18:42:19.443Z"
   },
   {
    "duration": 13,
    "start_time": "2022-06-09T18:42:20.275Z"
   },
   {
    "duration": 18,
    "start_time": "2022-06-09T18:42:20.290Z"
   },
   {
    "duration": 7,
    "start_time": "2022-06-09T18:42:20.309Z"
   },
   {
    "duration": 28,
    "start_time": "2022-06-09T18:42:20.318Z"
   },
   {
    "duration": 23,
    "start_time": "2022-06-09T18:42:20.347Z"
   },
   {
    "duration": 86,
    "start_time": "2022-06-09T18:42:20.372Z"
   },
   {
    "duration": 38,
    "start_time": "2022-06-09T18:42:20.460Z"
   },
   {
    "duration": 5,
    "start_time": "2022-06-09T18:42:20.504Z"
   },
   {
    "duration": 7,
    "start_time": "2022-06-09T18:42:20.511Z"
   },
   {
    "duration": 26,
    "start_time": "2022-06-09T18:42:20.520Z"
   },
   {
    "duration": 54,
    "start_time": "2022-06-09T19:07:48.504Z"
   },
   {
    "duration": 65,
    "start_time": "2022-06-09T19:07:59.028Z"
   },
   {
    "duration": 60,
    "start_time": "2022-06-09T19:08:06.348Z"
   },
   {
    "duration": 66,
    "start_time": "2022-06-09T19:08:16.658Z"
   },
   {
    "duration": 51,
    "start_time": "2022-06-09T19:09:55.541Z"
   },
   {
    "duration": 15,
    "start_time": "2022-06-09T19:20:06.284Z"
   },
   {
    "duration": 16,
    "start_time": "2022-06-09T19:20:43.208Z"
   },
   {
    "duration": 16,
    "start_time": "2022-06-09T19:20:53.998Z"
   },
   {
    "duration": 12,
    "start_time": "2022-06-09T19:21:10.549Z"
   },
   {
    "duration": 11,
    "start_time": "2022-06-09T19:21:14.720Z"
   },
   {
    "duration": 20,
    "start_time": "2022-06-09T19:21:39.588Z"
   },
   {
    "duration": 180,
    "start_time": "2022-06-09T19:21:49.128Z"
   },
   {
    "duration": 14,
    "start_time": "2022-06-09T19:21:58.410Z"
   },
   {
    "duration": 26,
    "start_time": "2022-06-09T19:22:16.585Z"
   },
   {
    "duration": 61,
    "start_time": "2022-06-09T19:24:10.492Z"
   },
   {
    "duration": 54,
    "start_time": "2022-06-09T19:24:23.706Z"
   },
   {
    "duration": 6107,
    "start_time": "2022-06-10T06:41:55.717Z"
   },
   {
    "duration": 1582,
    "start_time": "2022-06-10T06:42:01.827Z"
   },
   {
    "duration": 229,
    "start_time": "2022-06-10T06:42:03.411Z"
   },
   {
    "duration": 5,
    "start_time": "2022-06-10T06:42:03.642Z"
   },
   {
    "duration": 49,
    "start_time": "2022-06-10T06:42:03.649Z"
   },
   {
    "duration": 6,
    "start_time": "2022-06-10T06:42:03.699Z"
   },
   {
    "duration": 8,
    "start_time": "2022-06-10T06:42:03.706Z"
   },
   {
    "duration": 6,
    "start_time": "2022-06-10T06:42:03.715Z"
   },
   {
    "duration": 45,
    "start_time": "2022-06-10T06:42:03.722Z"
   },
   {
    "duration": 24,
    "start_time": "2022-06-10T06:42:03.769Z"
   },
   {
    "duration": 311,
    "start_time": "2022-06-10T06:42:03.794Z"
   },
   {
    "duration": 15,
    "start_time": "2022-06-10T06:42:04.107Z"
   },
   {
    "duration": 4,
    "start_time": "2022-06-10T06:42:04.124Z"
   },
   {
    "duration": 469,
    "start_time": "2022-06-10T06:42:04.131Z"
   },
   {
    "duration": 118,
    "start_time": "2022-06-10T06:42:04.603Z"
   },
   {
    "duration": 119,
    "start_time": "2022-06-10T06:42:04.723Z"
   },
   {
    "duration": 33,
    "start_time": "2022-06-10T06:42:04.843Z"
   },
   {
    "duration": 88,
    "start_time": "2022-06-10T06:42:04.878Z"
   },
   {
    "duration": 651,
    "start_time": "2022-06-10T06:42:04.973Z"
   },
   {
    "duration": 10,
    "start_time": "2022-06-10T06:42:05.626Z"
   },
   {
    "duration": 107,
    "start_time": "2022-06-10T06:42:05.638Z"
   },
   {
    "duration": 683,
    "start_time": "2022-06-10T06:42:05.747Z"
   },
   {
    "duration": 614,
    "start_time": "2022-06-10T06:42:06.432Z"
   },
   {
    "duration": 668,
    "start_time": "2022-06-10T06:42:07.048Z"
   },
   {
    "duration": 65,
    "start_time": "2022-06-10T06:42:07.717Z"
   },
   {
    "duration": 47,
    "start_time": "2022-06-10T06:42:07.783Z"
   },
   {
    "duration": 978,
    "start_time": "2022-06-10T06:42:07.832Z"
   },
   {
    "duration": 13,
    "start_time": "2022-06-10T06:42:08.812Z"
   },
   {
    "duration": 15,
    "start_time": "2022-06-10T06:42:08.827Z"
   },
   {
    "duration": 7,
    "start_time": "2022-06-10T06:42:08.844Z"
   },
   {
    "duration": 32,
    "start_time": "2022-06-10T06:42:08.853Z"
   },
   {
    "duration": 22,
    "start_time": "2022-06-10T06:42:08.887Z"
   },
   {
    "duration": 88,
    "start_time": "2022-06-10T06:42:08.911Z"
   },
   {
    "duration": 9,
    "start_time": "2022-06-10T06:42:09.000Z"
   },
   {
    "duration": 5,
    "start_time": "2022-06-10T06:42:09.011Z"
   },
   {
    "duration": 76,
    "start_time": "2022-06-10T06:42:09.017Z"
   },
   {
    "duration": 2,
    "start_time": "2022-06-10T06:42:09.095Z"
   },
   {
    "duration": 23,
    "start_time": "2022-06-10T06:42:09.099Z"
   },
   {
    "duration": 1602,
    "start_time": "2022-06-10T09:17:34.249Z"
   },
   {
    "duration": 5692,
    "start_time": "2022-06-10T09:17:39.831Z"
   },
   {
    "duration": 1473,
    "start_time": "2022-06-10T09:17:56.444Z"
   },
   {
    "duration": 120,
    "start_time": "2022-06-10T09:18:00.074Z"
   },
   {
    "duration": 4,
    "start_time": "2022-06-10T09:18:23.132Z"
   },
   {
    "duration": 31,
    "start_time": "2022-06-10T09:18:29.100Z"
   },
   {
    "duration": 5,
    "start_time": "2022-06-10T09:18:44.771Z"
   },
   {
    "duration": 7,
    "start_time": "2022-06-10T09:18:52.616Z"
   },
   {
    "duration": 4,
    "start_time": "2022-06-10T09:18:55.659Z"
   },
   {
    "duration": 27,
    "start_time": "2022-06-10T09:19:52.723Z"
   },
   {
    "duration": 24,
    "start_time": "2022-06-10T09:20:17.112Z"
   },
   {
    "duration": 28,
    "start_time": "2022-06-10T09:20:58.123Z"
   },
   {
    "duration": 363,
    "start_time": "2022-06-10T09:21:25.571Z"
   },
   {
    "duration": 141,
    "start_time": "2022-06-10T09:24:37.375Z"
   },
   {
    "duration": 14,
    "start_time": "2022-06-10T09:25:55.559Z"
   },
   {
    "duration": 8,
    "start_time": "2022-06-10T09:26:25.869Z"
   },
   {
    "duration": 28,
    "start_time": "2022-06-10T09:26:30.127Z"
   },
   {
    "duration": 22,
    "start_time": "2022-06-10T09:27:39.230Z"
   },
   {
    "duration": 27,
    "start_time": "2022-06-10T09:28:21.619Z"
   },
   {
    "duration": 44,
    "start_time": "2022-06-10T09:28:43.191Z"
   },
   {
    "duration": 124,
    "start_time": "2022-06-10T09:29:01.821Z"
   },
   {
    "duration": 25,
    "start_time": "2022-06-10T09:31:46.908Z"
   },
   {
    "duration": 26,
    "start_time": "2022-06-10T09:32:16.812Z"
   },
   {
    "duration": 309,
    "start_time": "2022-06-10T09:32:36.339Z"
   },
   {
    "duration": 486,
    "start_time": "2022-06-10T09:33:31.474Z"
   },
   {
    "duration": 87,
    "start_time": "2022-06-10T09:33:48.251Z"
   },
   {
    "duration": 95,
    "start_time": "2022-06-10T09:33:59.395Z"
   },
   {
    "duration": 59,
    "start_time": "2022-06-10T09:34:24.282Z"
   },
   {
    "duration": 7,
    "start_time": "2022-06-10T09:44:53.077Z"
   },
   {
    "duration": 15,
    "start_time": "2022-06-10T09:45:12.122Z"
   },
   {
    "duration": 83,
    "start_time": "2022-06-10T09:46:07.236Z"
   },
   {
    "duration": 676,
    "start_time": "2022-06-10T09:46:15.207Z"
   },
   {
    "duration": 901,
    "start_time": "2022-06-10T09:48:42.829Z"
   },
   {
    "duration": 794,
    "start_time": "2022-06-10T09:49:12.778Z"
   },
   {
    "duration": 737,
    "start_time": "2022-06-10T09:50:42.707Z"
   },
   {
    "duration": 760,
    "start_time": "2022-06-10T09:51:20.779Z"
   },
   {
    "duration": 957,
    "start_time": "2022-06-10T09:53:49.889Z"
   },
   {
    "duration": 761,
    "start_time": "2022-06-10T09:54:20.314Z"
   },
   {
    "duration": 829,
    "start_time": "2022-06-10T09:55:56.905Z"
   },
   {
    "duration": 937,
    "start_time": "2022-06-10T09:57:41.630Z"
   },
   {
    "duration": 989,
    "start_time": "2022-06-10T10:01:56.237Z"
   },
   {
    "duration": 862,
    "start_time": "2022-06-10T10:02:00.941Z"
   },
   {
    "duration": 835,
    "start_time": "2022-06-10T10:02:56.776Z"
   },
   {
    "duration": 10,
    "start_time": "2022-06-10T10:04:58.235Z"
   },
   {
    "duration": 91,
    "start_time": "2022-06-10T10:06:04.075Z"
   },
   {
    "duration": 672,
    "start_time": "2022-06-10T10:06:08.537Z"
   },
   {
    "duration": 697,
    "start_time": "2022-06-10T10:06:13.434Z"
   },
   {
    "duration": 876,
    "start_time": "2022-06-10T10:06:19.068Z"
   },
   {
    "duration": 794,
    "start_time": "2022-06-10T10:06:53.842Z"
   },
   {
    "duration": 735,
    "start_time": "2022-06-10T10:07:00.009Z"
   },
   {
    "duration": 62,
    "start_time": "2022-06-10T10:07:28.419Z"
   },
   {
    "duration": 769,
    "start_time": "2022-06-10T11:17:00.815Z"
   },
   {
    "duration": 14,
    "start_time": "2022-06-10T11:17:24.600Z"
   },
   {
    "duration": 4,
    "start_time": "2022-06-10T11:17:39.159Z"
   },
   {
    "duration": 11,
    "start_time": "2022-06-10T11:17:41.695Z"
   },
   {
    "duration": 162,
    "start_time": "2022-06-10T11:17:46.372Z"
   },
   {
    "duration": 150,
    "start_time": "2022-06-10T11:19:04.391Z"
   },
   {
    "duration": 165,
    "start_time": "2022-06-10T11:19:13.454Z"
   },
   {
    "duration": 188,
    "start_time": "2022-06-10T11:19:40.750Z"
   },
   {
    "duration": 173,
    "start_time": "2022-06-10T11:19:46.919Z"
   },
   {
    "duration": 41,
    "start_time": "2022-06-10T11:24:48.283Z"
   },
   {
    "duration": 142,
    "start_time": "2022-06-10T11:24:50.781Z"
   },
   {
    "duration": 339,
    "start_time": "2022-06-10T11:25:49.260Z"
   },
   {
    "duration": 176,
    "start_time": "2022-06-10T11:27:13.234Z"
   },
   {
    "duration": 20,
    "start_time": "2022-06-10T11:27:31.195Z"
   },
   {
    "duration": 12,
    "start_time": "2022-06-10T11:27:39.995Z"
   },
   {
    "duration": 19,
    "start_time": "2022-06-10T11:27:45.128Z"
   },
   {
    "duration": 297,
    "start_time": "2022-06-10T11:28:30.410Z"
   },
   {
    "duration": 26,
    "start_time": "2022-06-10T11:28:42.714Z"
   },
   {
    "duration": 322,
    "start_time": "2022-06-10T11:28:59.428Z"
   },
   {
    "duration": 78,
    "start_time": "2022-06-10T11:29:47.921Z"
   },
   {
    "duration": 51,
    "start_time": "2022-06-10T11:30:05.193Z"
   },
   {
    "duration": 60,
    "start_time": "2022-06-10T11:30:30.266Z"
   },
   {
    "duration": 17,
    "start_time": "2022-06-10T11:30:43.458Z"
   },
   {
    "duration": 44,
    "start_time": "2022-06-10T11:30:51.176Z"
   },
   {
    "duration": 6,
    "start_time": "2022-06-10T11:31:30.585Z"
   },
   {
    "duration": 78,
    "start_time": "2022-06-10T11:31:32.824Z"
   },
   {
    "duration": 76,
    "start_time": "2022-06-10T11:32:36.520Z"
   },
   {
    "duration": 79,
    "start_time": "2022-06-10T11:34:07.840Z"
   },
   {
    "duration": 22,
    "start_time": "2022-06-10T11:36:06.223Z"
   },
   {
    "duration": 25,
    "start_time": "2022-06-10T11:36:24.054Z"
   },
   {
    "duration": 97,
    "start_time": "2022-06-10T11:36:41.882Z"
   },
   {
    "duration": 84,
    "start_time": "2022-06-10T11:38:37.046Z"
   },
   {
    "duration": 1075,
    "start_time": "2022-06-10T11:44:18.385Z"
   },
   {
    "duration": 35,
    "start_time": "2022-06-10T11:44:23.033Z"
   },
   {
    "duration": 5964,
    "start_time": "2022-06-10T11:45:27.845Z"
   },
   {
    "duration": 4,
    "start_time": "2022-06-10T11:45:33.812Z"
   },
   {
    "duration": 149,
    "start_time": "2022-06-10T11:45:33.818Z"
   },
   {
    "duration": 5,
    "start_time": "2022-06-10T11:45:33.969Z"
   },
   {
    "duration": 65,
    "start_time": "2022-06-10T11:45:33.976Z"
   },
   {
    "duration": 6,
    "start_time": "2022-06-10T11:45:34.043Z"
   },
   {
    "duration": 21,
    "start_time": "2022-06-10T11:45:34.051Z"
   },
   {
    "duration": 51,
    "start_time": "2022-06-10T11:45:34.074Z"
   },
   {
    "duration": 67,
    "start_time": "2022-06-10T11:45:34.127Z"
   },
   {
    "duration": 53,
    "start_time": "2022-06-10T11:45:34.198Z"
   },
   {
    "duration": 29,
    "start_time": "2022-06-10T11:45:34.253Z"
   },
   {
    "duration": 312,
    "start_time": "2022-06-10T11:45:34.284Z"
   },
   {
    "duration": 19,
    "start_time": "2022-06-10T11:45:34.598Z"
   },
   {
    "duration": 23,
    "start_time": "2022-06-10T11:45:34.620Z"
   },
   {
    "duration": 85,
    "start_time": "2022-06-10T11:45:34.644Z"
   },
   {
    "duration": 75,
    "start_time": "2022-06-10T11:45:34.731Z"
   },
   {
    "duration": 85,
    "start_time": "2022-06-10T11:45:34.808Z"
   },
   {
    "duration": 13,
    "start_time": "2022-06-10T11:45:34.894Z"
   },
   {
    "duration": 85,
    "start_time": "2022-06-10T11:45:34.909Z"
   },
   {
    "duration": 847,
    "start_time": "2022-06-10T11:45:34.996Z"
   },
   {
    "duration": 14,
    "start_time": "2022-06-10T11:45:35.845Z"
   },
   {
    "duration": 91,
    "start_time": "2022-06-10T11:45:35.861Z"
   },
   {
    "duration": 784,
    "start_time": "2022-06-10T11:45:35.958Z"
   },
   {
    "duration": 822,
    "start_time": "2022-06-10T11:45:36.744Z"
   },
   {
    "duration": 1191,
    "start_time": "2022-06-10T11:45:37.568Z"
   },
   {
    "duration": 57,
    "start_time": "2022-06-10T11:45:38.760Z"
   },
   {
    "duration": 85,
    "start_time": "2022-06-10T11:45:38.824Z"
   },
   {
    "duration": 85,
    "start_time": "2022-06-10T11:45:38.914Z"
   },
   {
    "duration": 687,
    "start_time": "2022-06-10T11:45:39.001Z"
   },
   {
    "duration": 15,
    "start_time": "2022-06-10T11:45:39.689Z"
   },
   {
    "duration": 26,
    "start_time": "2022-06-10T11:45:39.706Z"
   },
   {
    "duration": 16,
    "start_time": "2022-06-10T11:45:39.733Z"
   },
   {
    "duration": 39,
    "start_time": "2022-06-10T11:45:39.751Z"
   },
   {
    "duration": 25,
    "start_time": "2022-06-10T11:45:39.792Z"
   },
   {
    "duration": 107,
    "start_time": "2022-06-10T11:45:39.819Z"
   },
   {
    "duration": 32,
    "start_time": "2022-06-10T11:45:39.927Z"
   },
   {
    "duration": 4,
    "start_time": "2022-06-10T11:45:39.961Z"
   },
   {
    "duration": 94,
    "start_time": "2022-06-10T11:45:39.967Z"
   },
   {
    "duration": 2,
    "start_time": "2022-06-10T11:45:40.063Z"
   },
   {
    "duration": 59,
    "start_time": "2022-06-10T11:45:40.067Z"
   },
   {
    "duration": 4515,
    "start_time": "2022-06-10T11:46:07.732Z"
   },
   {
    "duration": 5,
    "start_time": "2022-06-10T11:46:12.251Z"
   },
   {
    "duration": 119,
    "start_time": "2022-06-10T11:46:12.259Z"
   },
   {
    "duration": 6,
    "start_time": "2022-06-10T11:46:12.380Z"
   },
   {
    "duration": 42,
    "start_time": "2022-06-10T11:46:12.387Z"
   },
   {
    "duration": 7,
    "start_time": "2022-06-10T11:46:12.431Z"
   },
   {
    "duration": 8,
    "start_time": "2022-06-10T11:46:12.459Z"
   },
   {
    "duration": 23,
    "start_time": "2022-06-10T11:46:12.469Z"
   },
   {
    "duration": 44,
    "start_time": "2022-06-10T11:46:12.494Z"
   },
   {
    "duration": 54,
    "start_time": "2022-06-10T11:46:12.542Z"
   },
   {
    "duration": 32,
    "start_time": "2022-06-10T11:46:12.598Z"
   },
   {
    "duration": 354,
    "start_time": "2022-06-10T11:46:12.632Z"
   },
   {
    "duration": 18,
    "start_time": "2022-06-10T11:46:12.988Z"
   },
   {
    "duration": 8,
    "start_time": "2022-06-10T11:46:13.008Z"
   },
   {
    "duration": 103,
    "start_time": "2022-06-10T11:46:13.018Z"
   },
   {
    "duration": 79,
    "start_time": "2022-06-10T11:46:13.123Z"
   },
   {
    "duration": 84,
    "start_time": "2022-06-10T11:46:13.204Z"
   },
   {
    "duration": 14,
    "start_time": "2022-06-10T11:46:13.290Z"
   },
   {
    "duration": 94,
    "start_time": "2022-06-10T11:46:13.306Z"
   },
   {
    "duration": 907,
    "start_time": "2022-06-10T11:46:13.402Z"
   },
   {
    "duration": 9,
    "start_time": "2022-06-10T11:46:14.311Z"
   },
   {
    "duration": 109,
    "start_time": "2022-06-10T11:46:14.322Z"
   },
   {
    "duration": 836,
    "start_time": "2022-06-10T11:46:14.433Z"
   },
   {
    "duration": 787,
    "start_time": "2022-06-10T11:46:15.271Z"
   },
   {
    "duration": 712,
    "start_time": "2022-06-10T11:46:16.060Z"
   },
   {
    "duration": 56,
    "start_time": "2022-06-10T11:46:16.775Z"
   },
   {
    "duration": 88,
    "start_time": "2022-06-10T11:46:16.833Z"
   },
   {
    "duration": 83,
    "start_time": "2022-06-10T11:46:16.925Z"
   },
   {
    "duration": 709,
    "start_time": "2022-06-10T11:46:17.010Z"
   },
   {
    "duration": 17,
    "start_time": "2022-06-10T11:46:17.721Z"
   },
   {
    "duration": 11,
    "start_time": "2022-06-10T11:46:17.740Z"
   },
   {
    "duration": 8,
    "start_time": "2022-06-10T11:46:17.753Z"
   },
   {
    "duration": 33,
    "start_time": "2022-06-10T11:46:17.763Z"
   },
   {
    "duration": 25,
    "start_time": "2022-06-10T11:46:17.798Z"
   },
   {
    "duration": 95,
    "start_time": "2022-06-10T11:46:17.825Z"
   },
   {
    "duration": 13,
    "start_time": "2022-06-10T11:46:17.922Z"
   },
   {
    "duration": 24,
    "start_time": "2022-06-10T11:46:17.937Z"
   },
   {
    "duration": 58,
    "start_time": "2022-06-10T11:46:17.963Z"
   },
   {
    "duration": 2,
    "start_time": "2022-06-10T11:46:18.023Z"
   },
   {
    "duration": 51,
    "start_time": "2022-06-10T11:46:18.027Z"
   },
   {
    "duration": 28,
    "start_time": "2022-06-10T11:47:08.575Z"
   },
   {
    "duration": 145,
    "start_time": "2022-06-10T11:48:04.095Z"
   },
   {
    "duration": 30,
    "start_time": "2022-06-10T11:48:15.863Z"
   },
   {
    "duration": 21,
    "start_time": "2022-06-10T11:49:49.734Z"
   },
   {
    "duration": 24,
    "start_time": "2022-06-10T11:49:55.895Z"
   },
   {
    "duration": 30,
    "start_time": "2022-06-10T11:50:27.813Z"
   },
   {
    "duration": 22,
    "start_time": "2022-06-10T11:50:36.677Z"
   },
   {
    "duration": 215,
    "start_time": "2022-06-10T11:50:39.252Z"
   },
   {
    "duration": 26,
    "start_time": "2022-06-10T11:51:00.622Z"
   },
   {
    "duration": 24,
    "start_time": "2022-06-10T11:51:16.189Z"
   },
   {
    "duration": 171,
    "start_time": "2022-06-10T11:51:19.767Z"
   },
   {
    "duration": 21,
    "start_time": "2022-06-10T11:51:26.565Z"
   },
   {
    "duration": 171,
    "start_time": "2022-06-10T11:51:28.678Z"
   },
   {
    "duration": 21,
    "start_time": "2022-06-10T11:51:46.325Z"
   },
   {
    "duration": 179,
    "start_time": "2022-06-10T11:51:56.775Z"
   },
   {
    "duration": 30,
    "start_time": "2022-06-10T11:52:04.757Z"
   },
   {
    "duration": 186,
    "start_time": "2022-06-10T11:52:06.893Z"
   },
   {
    "duration": 21,
    "start_time": "2022-06-10T11:52:14.612Z"
   },
   {
    "duration": 188,
    "start_time": "2022-06-10T11:52:19.566Z"
   },
   {
    "duration": 21,
    "start_time": "2022-06-10T11:52:25.811Z"
   },
   {
    "duration": 178,
    "start_time": "2022-06-10T11:52:28.405Z"
   },
   {
    "duration": 4353,
    "start_time": "2022-06-10T11:52:33.679Z"
   },
   {
    "duration": 4,
    "start_time": "2022-06-10T11:52:38.035Z"
   },
   {
    "duration": 80,
    "start_time": "2022-06-10T11:52:38.041Z"
   },
   {
    "duration": 4,
    "start_time": "2022-06-10T11:52:38.123Z"
   },
   {
    "duration": 37,
    "start_time": "2022-06-10T11:52:38.129Z"
   },
   {
    "duration": 5,
    "start_time": "2022-06-10T11:52:38.168Z"
   },
   {
    "duration": 16,
    "start_time": "2022-06-10T11:52:38.174Z"
   },
   {
    "duration": 11,
    "start_time": "2022-06-10T11:52:38.192Z"
   },
   {
    "duration": 32,
    "start_time": "2022-06-10T11:52:38.205Z"
   },
   {
    "duration": 60,
    "start_time": "2022-06-10T11:52:38.239Z"
   },
   {
    "duration": 25,
    "start_time": "2022-06-10T11:52:38.301Z"
   },
   {
    "duration": 321,
    "start_time": "2022-06-10T11:52:38.328Z"
   },
   {
    "duration": 20,
    "start_time": "2022-06-10T11:52:38.651Z"
   },
   {
    "duration": 5,
    "start_time": "2022-06-10T11:52:38.673Z"
   },
   {
    "duration": 89,
    "start_time": "2022-06-10T11:52:38.680Z"
   },
   {
    "duration": 68,
    "start_time": "2022-06-10T11:52:38.771Z"
   },
   {
    "duration": 64,
    "start_time": "2022-06-10T11:52:38.861Z"
   },
   {
    "duration": 37,
    "start_time": "2022-06-10T11:52:38.927Z"
   },
   {
    "duration": 57,
    "start_time": "2022-06-10T11:52:38.966Z"
   },
   {
    "duration": 1354,
    "start_time": "2022-06-10T11:52:39.025Z"
   },
   {
    "duration": 10,
    "start_time": "2022-06-10T11:52:40.380Z"
   },
   {
    "duration": 100,
    "start_time": "2022-06-10T11:52:40.392Z"
   },
   {
    "duration": 746,
    "start_time": "2022-06-10T11:52:40.494Z"
   },
   {
    "duration": 889,
    "start_time": "2022-06-10T11:52:41.242Z"
   },
   {
    "duration": 652,
    "start_time": "2022-06-10T11:52:42.132Z"
   },
   {
    "duration": 60,
    "start_time": "2022-06-10T11:52:42.785Z"
   },
   {
    "duration": 79,
    "start_time": "2022-06-10T11:52:42.847Z"
   },
   {
    "duration": 76,
    "start_time": "2022-06-10T11:52:42.929Z"
   },
   {
    "duration": 1188,
    "start_time": "2022-06-10T11:52:43.007Z"
   },
   {
    "duration": 13,
    "start_time": "2022-06-10T11:52:44.197Z"
   },
   {
    "duration": 12,
    "start_time": "2022-06-10T11:52:44.212Z"
   },
   {
    "duration": 11,
    "start_time": "2022-06-10T11:52:44.225Z"
   },
   {
    "duration": 32,
    "start_time": "2022-06-10T11:52:44.237Z"
   },
   {
    "duration": 21,
    "start_time": "2022-06-10T11:52:44.270Z"
   },
   {
    "duration": 185,
    "start_time": "2022-06-10T11:52:44.293Z"
   },
   {
    "duration": 12,
    "start_time": "2022-06-10T11:52:44.480Z"
   },
   {
    "duration": 9,
    "start_time": "2022-06-10T11:52:44.494Z"
   },
   {
    "duration": 80,
    "start_time": "2022-06-10T11:52:44.505Z"
   },
   {
    "duration": 2,
    "start_time": "2022-06-10T11:52:44.587Z"
   },
   {
    "duration": 27,
    "start_time": "2022-06-10T11:52:44.591Z"
   },
   {
    "duration": 6,
    "start_time": "2022-06-10T11:53:15.163Z"
   },
   {
    "duration": 63,
    "start_time": "2022-06-10T12:20:22.416Z"
   },
   {
    "duration": 42,
    "start_time": "2022-06-10T12:20:45.277Z"
   },
   {
    "duration": 65,
    "start_time": "2022-06-10T12:22:57.678Z"
   },
   {
    "duration": 5247,
    "start_time": "2022-06-10T20:26:53.645Z"
   },
   {
    "duration": 1231,
    "start_time": "2022-06-10T20:26:58.895Z"
   },
   {
    "duration": 109,
    "start_time": "2022-06-10T20:27:00.127Z"
   },
   {
    "duration": 5,
    "start_time": "2022-06-10T20:27:00.238Z"
   },
   {
    "duration": 55,
    "start_time": "2022-06-10T20:27:00.244Z"
   },
   {
    "duration": 4,
    "start_time": "2022-06-10T20:27:00.301Z"
   },
   {
    "duration": 13,
    "start_time": "2022-06-10T20:27:00.306Z"
   },
   {
    "duration": 14,
    "start_time": "2022-06-10T20:27:00.320Z"
   },
   {
    "duration": 33,
    "start_time": "2022-06-10T20:27:00.335Z"
   },
   {
    "duration": 42,
    "start_time": "2022-06-10T20:27:00.369Z"
   },
   {
    "duration": 22,
    "start_time": "2022-06-10T20:27:00.412Z"
   },
   {
    "duration": 267,
    "start_time": "2022-06-10T20:27:00.436Z"
   },
   {
    "duration": 13,
    "start_time": "2022-06-10T20:27:00.705Z"
   },
   {
    "duration": 4,
    "start_time": "2022-06-10T20:27:00.721Z"
   },
   {
    "duration": 418,
    "start_time": "2022-06-10T20:27:00.726Z"
   },
   {
    "duration": 57,
    "start_time": "2022-06-10T20:27:01.146Z"
   },
   {
    "duration": 90,
    "start_time": "2022-06-10T20:27:01.204Z"
   },
   {
    "duration": 11,
    "start_time": "2022-06-10T20:27:01.295Z"
   },
   {
    "duration": 71,
    "start_time": "2022-06-10T20:27:01.307Z"
   },
   {
    "duration": 747,
    "start_time": "2022-06-10T20:27:01.379Z"
   },
   {
    "duration": 8,
    "start_time": "2022-06-10T20:27:02.127Z"
   },
   {
    "duration": 79,
    "start_time": "2022-06-10T20:27:02.136Z"
   },
   {
    "duration": 671,
    "start_time": "2022-06-10T20:27:02.217Z"
   },
   {
    "duration": 819,
    "start_time": "2022-06-10T20:27:02.889Z"
   },
   {
    "duration": 590,
    "start_time": "2022-06-10T20:27:03.710Z"
   },
   {
    "duration": 45,
    "start_time": "2022-06-10T20:27:04.301Z"
   },
   {
    "duration": 74,
    "start_time": "2022-06-10T20:27:04.348Z"
   },
   {
    "duration": 64,
    "start_time": "2022-06-10T20:27:04.423Z"
   },
   {
    "duration": 1446,
    "start_time": "2022-06-10T20:27:04.489Z"
   },
   {
    "duration": 11,
    "start_time": "2022-06-10T20:27:05.936Z"
   },
   {
    "duration": 12,
    "start_time": "2022-06-10T20:27:05.949Z"
   },
   {
    "duration": 5,
    "start_time": "2022-06-10T20:27:05.963Z"
   },
   {
    "duration": 30,
    "start_time": "2022-06-10T20:27:05.969Z"
   },
   {
    "duration": 17,
    "start_time": "2022-06-10T20:27:06.000Z"
   },
   {
    "duration": 149,
    "start_time": "2022-06-10T20:27:06.018Z"
   },
   {
    "duration": 13,
    "start_time": "2022-06-10T20:27:06.168Z"
   },
   {
    "duration": 14,
    "start_time": "2022-06-10T20:27:06.182Z"
   },
   {
    "duration": 50,
    "start_time": "2022-06-10T20:27:06.197Z"
   },
   {
    "duration": 2,
    "start_time": "2022-06-10T20:27:06.248Z"
   },
   {
    "duration": 37,
    "start_time": "2022-06-10T20:27:06.252Z"
   },
   {
    "duration": 5400,
    "start_time": "2022-06-11T12:15:39.743Z"
   },
   {
    "duration": 1582,
    "start_time": "2022-06-11T12:15:45.145Z"
   },
   {
    "duration": 238,
    "start_time": "2022-06-11T12:15:46.729Z"
   },
   {
    "duration": 4,
    "start_time": "2022-06-11T12:15:46.970Z"
   },
   {
    "duration": 34,
    "start_time": "2022-06-11T12:15:46.975Z"
   },
   {
    "duration": 5,
    "start_time": "2022-06-11T12:15:47.011Z"
   },
   {
    "duration": 9,
    "start_time": "2022-06-11T12:15:47.018Z"
   },
   {
    "duration": 8,
    "start_time": "2022-06-11T12:15:47.028Z"
   },
   {
    "duration": 37,
    "start_time": "2022-06-11T12:15:47.064Z"
   },
   {
    "duration": 74,
    "start_time": "2022-06-11T12:15:47.104Z"
   },
   {
    "duration": 25,
    "start_time": "2022-06-11T12:15:47.180Z"
   },
   {
    "duration": 321,
    "start_time": "2022-06-11T12:15:47.207Z"
   },
   {
    "duration": 16,
    "start_time": "2022-06-11T12:15:47.530Z"
   },
   {
    "duration": 19,
    "start_time": "2022-06-11T12:15:47.549Z"
   },
   {
    "duration": 425,
    "start_time": "2022-06-11T12:15:47.569Z"
   },
   {
    "duration": 91,
    "start_time": "2022-06-11T12:15:47.996Z"
   },
   {
    "duration": 125,
    "start_time": "2022-06-11T12:15:48.088Z"
   },
   {
    "duration": 52,
    "start_time": "2022-06-11T12:15:48.215Z"
   },
   {
    "duration": 61,
    "start_time": "2022-06-11T12:15:48.270Z"
   },
   {
    "duration": 962,
    "start_time": "2022-06-11T12:15:48.333Z"
   },
   {
    "duration": 9,
    "start_time": "2022-06-11T12:15:49.297Z"
   },
   {
    "duration": 87,
    "start_time": "2022-06-11T12:15:49.308Z"
   },
   {
    "duration": 718,
    "start_time": "2022-06-11T12:15:49.397Z"
   },
   {
    "duration": 818,
    "start_time": "2022-06-11T12:15:50.117Z"
   },
   {
    "duration": 692,
    "start_time": "2022-06-11T12:15:50.937Z"
   },
   {
    "duration": 62,
    "start_time": "2022-06-11T12:15:51.631Z"
   },
   {
    "duration": 87,
    "start_time": "2022-06-11T12:15:51.696Z"
   },
   {
    "duration": 52,
    "start_time": "2022-06-11T12:15:51.787Z"
   },
   {
    "duration": 1273,
    "start_time": "2022-06-11T12:15:51.840Z"
   },
   {
    "duration": 13,
    "start_time": "2022-06-11T12:15:53.115Z"
   },
   {
    "duration": 22,
    "start_time": "2022-06-11T12:15:53.130Z"
   },
   {
    "duration": 14,
    "start_time": "2022-06-11T12:15:53.154Z"
   },
   {
    "duration": 51,
    "start_time": "2022-06-11T12:15:53.170Z"
   },
   {
    "duration": 39,
    "start_time": "2022-06-11T12:15:53.224Z"
   },
   {
    "duration": 200,
    "start_time": "2022-06-11T12:15:53.265Z"
   },
   {
    "duration": 10,
    "start_time": "2022-06-11T12:15:53.467Z"
   },
   {
    "duration": 18,
    "start_time": "2022-06-11T12:15:53.479Z"
   },
   {
    "duration": 199,
    "start_time": "2022-06-11T12:15:53.499Z"
   },
   {
    "duration": 3,
    "start_time": "2022-06-11T12:15:53.700Z"
   },
   {
    "duration": 42,
    "start_time": "2022-06-11T12:15:53.705Z"
   },
   {
    "duration": 4288,
    "start_time": "2022-06-11T12:16:55.606Z"
   },
   {
    "duration": 8532,
    "start_time": "2022-06-11T12:17:07.192Z"
   },
   {
    "duration": 1459,
    "start_time": "2022-06-11T12:17:41.986Z"
   },
   {
    "duration": 13,
    "start_time": "2022-06-11T12:21:43.015Z"
   },
   {
    "duration": 123,
    "start_time": "2022-06-11T12:29:57.780Z"
   },
   {
    "duration": 6562,
    "start_time": "2022-06-11T12:30:11.514Z"
   },
   {
    "duration": 4,
    "start_time": "2022-06-11T12:30:18.079Z"
   },
   {
    "duration": 76,
    "start_time": "2022-06-11T12:30:18.085Z"
   },
   {
    "duration": 7,
    "start_time": "2022-06-11T12:30:18.163Z"
   },
   {
    "duration": 47,
    "start_time": "2022-06-11T12:30:18.172Z"
   },
   {
    "duration": 5,
    "start_time": "2022-06-11T12:30:18.221Z"
   },
   {
    "duration": 13,
    "start_time": "2022-06-11T12:30:18.227Z"
   },
   {
    "duration": 9,
    "start_time": "2022-06-11T12:30:18.242Z"
   },
   {
    "duration": 31,
    "start_time": "2022-06-11T12:30:18.266Z"
   },
   {
    "duration": 44,
    "start_time": "2022-06-11T12:30:18.299Z"
   },
   {
    "duration": 46,
    "start_time": "2022-06-11T12:30:18.345Z"
   },
   {
    "duration": 315,
    "start_time": "2022-06-11T12:30:18.393Z"
   },
   {
    "duration": 16,
    "start_time": "2022-06-11T12:30:18.710Z"
   },
   {
    "duration": 6,
    "start_time": "2022-06-11T12:30:18.727Z"
   },
   {
    "duration": 520,
    "start_time": "2022-06-11T12:30:18.735Z"
   },
   {
    "duration": 130,
    "start_time": "2022-06-11T12:30:19.257Z"
   },
   {
    "duration": 99,
    "start_time": "2022-06-11T12:30:19.389Z"
   },
   {
    "duration": 11,
    "start_time": "2022-06-11T12:30:19.489Z"
   },
   {
    "duration": 69,
    "start_time": "2022-06-11T12:30:19.502Z"
   },
   {
    "duration": 871,
    "start_time": "2022-06-11T12:30:19.573Z"
   },
   {
    "duration": 8,
    "start_time": "2022-06-11T12:30:20.447Z"
   },
   {
    "duration": 113,
    "start_time": "2022-06-11T12:30:20.456Z"
   },
   {
    "duration": 771,
    "start_time": "2022-06-11T12:30:20.577Z"
   },
   {
    "duration": 904,
    "start_time": "2022-06-11T12:30:21.351Z"
   },
   {
    "duration": 685,
    "start_time": "2022-06-11T12:30:22.256Z"
   },
   {
    "duration": 59,
    "start_time": "2022-06-11T12:30:22.943Z"
   },
   {
    "duration": 84,
    "start_time": "2022-06-11T12:30:23.003Z"
   },
   {
    "duration": 73,
    "start_time": "2022-06-11T12:30:23.091Z"
   },
   {
    "duration": 1355,
    "start_time": "2022-06-11T12:30:23.166Z"
   },
   {
    "duration": 12,
    "start_time": "2022-06-11T12:30:24.523Z"
   },
   {
    "duration": 19,
    "start_time": "2022-06-11T12:30:24.537Z"
   },
   {
    "duration": 7,
    "start_time": "2022-06-11T12:30:24.557Z"
   },
   {
    "duration": 61,
    "start_time": "2022-06-11T12:30:24.566Z"
   },
   {
    "duration": 18,
    "start_time": "2022-06-11T12:30:24.628Z"
   },
   {
    "duration": 170,
    "start_time": "2022-06-11T12:30:24.648Z"
   },
   {
    "duration": 11,
    "start_time": "2022-06-11T12:30:24.820Z"
   },
   {
    "duration": 7,
    "start_time": "2022-06-11T12:30:24.832Z"
   },
   {
    "duration": 218,
    "start_time": "2022-06-11T12:30:24.841Z"
   },
   {
    "duration": 4,
    "start_time": "2022-06-11T12:30:25.060Z"
   },
   {
    "duration": 45,
    "start_time": "2022-06-11T12:30:25.067Z"
   },
   {
    "duration": 24,
    "start_time": "2022-06-11T12:30:25.114Z"
   },
   {
    "duration": 468,
    "start_time": "2022-06-11T12:35:30.888Z"
   },
   {
    "duration": 30,
    "start_time": "2022-06-11T12:35:59.028Z"
   },
   {
    "duration": 401,
    "start_time": "2022-06-11T12:36:09.084Z"
   },
   {
    "duration": 363,
    "start_time": "2022-06-11T12:36:20.739Z"
   },
   {
    "duration": 29,
    "start_time": "2022-06-11T12:36:32.686Z"
   },
   {
    "duration": 20,
    "start_time": "2022-06-11T12:36:55.289Z"
   },
   {
    "duration": 21,
    "start_time": "2022-06-11T12:37:18.096Z"
   },
   {
    "duration": 370,
    "start_time": "2022-06-11T12:37:51.446Z"
   },
   {
    "duration": 8,
    "start_time": "2022-06-11T12:37:56.528Z"
   },
   {
    "duration": 20,
    "start_time": "2022-06-11T12:38:15.621Z"
   },
   {
    "duration": 6410,
    "start_time": "2022-06-11T12:46:21.182Z"
   },
   {
    "duration": 4,
    "start_time": "2022-06-11T12:46:27.595Z"
   },
   {
    "duration": 88,
    "start_time": "2022-06-11T12:46:27.600Z"
   },
   {
    "duration": 5,
    "start_time": "2022-06-11T12:46:27.690Z"
   },
   {
    "duration": 35,
    "start_time": "2022-06-11T12:46:27.697Z"
   },
   {
    "duration": 5,
    "start_time": "2022-06-11T12:46:27.733Z"
   },
   {
    "duration": 32,
    "start_time": "2022-06-11T12:46:27.740Z"
   },
   {
    "duration": 11,
    "start_time": "2022-06-11T12:46:27.774Z"
   },
   {
    "duration": 27,
    "start_time": "2022-06-11T12:46:27.787Z"
   },
   {
    "duration": 64,
    "start_time": "2022-06-11T12:46:27.817Z"
   },
   {
    "duration": 23,
    "start_time": "2022-06-11T12:46:27.883Z"
   },
   {
    "duration": 303,
    "start_time": "2022-06-11T12:46:27.907Z"
   },
   {
    "duration": 14,
    "start_time": "2022-06-11T12:46:28.212Z"
   },
   {
    "duration": 4,
    "start_time": "2022-06-11T12:46:28.229Z"
   },
   {
    "duration": 83,
    "start_time": "2022-06-11T12:46:28.234Z"
   },
   {
    "duration": 77,
    "start_time": "2022-06-11T12:46:28.318Z"
   },
   {
    "duration": 77,
    "start_time": "2022-06-11T12:46:28.396Z"
   },
   {
    "duration": 13,
    "start_time": "2022-06-11T12:46:28.477Z"
   },
   {
    "duration": 51,
    "start_time": "2022-06-11T12:46:28.491Z"
   },
   {
    "duration": 984,
    "start_time": "2022-06-11T12:46:28.544Z"
   },
   {
    "duration": 9,
    "start_time": "2022-06-11T12:46:29.530Z"
   },
   {
    "duration": 92,
    "start_time": "2022-06-11T12:46:29.540Z"
   },
   {
    "duration": 767,
    "start_time": "2022-06-11T12:46:29.634Z"
   },
   {
    "duration": 961,
    "start_time": "2022-06-11T12:46:30.403Z"
   },
   {
    "duration": 712,
    "start_time": "2022-06-11T12:46:31.366Z"
   },
   {
    "duration": 49,
    "start_time": "2022-06-11T12:46:32.080Z"
   },
   {
    "duration": 89,
    "start_time": "2022-06-11T12:46:32.131Z"
   },
   {
    "duration": 71,
    "start_time": "2022-06-11T12:46:32.221Z"
   },
   {
    "duration": 1223,
    "start_time": "2022-06-11T12:46:32.294Z"
   },
   {
    "duration": 12,
    "start_time": "2022-06-11T12:46:33.519Z"
   },
   {
    "duration": 13,
    "start_time": "2022-06-11T12:46:33.533Z"
   },
   {
    "duration": 5,
    "start_time": "2022-06-11T12:46:33.547Z"
   },
   {
    "duration": 35,
    "start_time": "2022-06-11T12:46:33.554Z"
   },
   {
    "duration": 21,
    "start_time": "2022-06-11T12:46:33.590Z"
   },
   {
    "duration": 193,
    "start_time": "2022-06-11T12:46:33.613Z"
   },
   {
    "duration": 10,
    "start_time": "2022-06-11T12:46:33.808Z"
   },
   {
    "duration": 6,
    "start_time": "2022-06-11T12:46:33.820Z"
   },
   {
    "duration": 82,
    "start_time": "2022-06-11T12:46:33.828Z"
   },
   {
    "duration": 3,
    "start_time": "2022-06-11T12:46:33.912Z"
   },
   {
    "duration": 27,
    "start_time": "2022-06-11T12:46:33.917Z"
   },
   {
    "duration": 25,
    "start_time": "2022-06-11T12:46:33.964Z"
   },
   {
    "duration": 27,
    "start_time": "2022-06-11T12:48:22.278Z"
   },
   {
    "duration": 41,
    "start_time": "2022-06-11T12:50:00.686Z"
   },
   {
    "duration": 27,
    "start_time": "2022-06-11T12:50:24.133Z"
   },
   {
    "duration": 26,
    "start_time": "2022-06-11T12:51:11.438Z"
   },
   {
    "duration": 27,
    "start_time": "2022-06-11T12:55:15.442Z"
   },
   {
    "duration": 28,
    "start_time": "2022-06-11T12:55:19.780Z"
   },
   {
    "duration": 41,
    "start_time": "2022-06-11T12:55:30.918Z"
   },
   {
    "duration": 28,
    "start_time": "2022-06-11T12:56:02.181Z"
   },
   {
    "duration": 21,
    "start_time": "2022-06-11T12:57:08.698Z"
   },
   {
    "duration": 40,
    "start_time": "2022-06-11T12:57:19.090Z"
   },
   {
    "duration": 17,
    "start_time": "2022-06-11T12:57:36.132Z"
   },
   {
    "duration": 19,
    "start_time": "2022-06-11T12:58:37.951Z"
   },
   {
    "duration": 16,
    "start_time": "2022-06-11T12:58:55.537Z"
   },
   {
    "duration": 27,
    "start_time": "2022-06-11T12:59:48.311Z"
   },
   {
    "duration": 13,
    "start_time": "2022-06-11T13:01:04.981Z"
   },
   {
    "duration": 17,
    "start_time": "2022-06-11T13:01:18.216Z"
   },
   {
    "duration": 27,
    "start_time": "2022-06-11T13:01:42.018Z"
   },
   {
    "duration": 26,
    "start_time": "2022-06-11T13:01:56.146Z"
   },
   {
    "duration": 28,
    "start_time": "2022-06-11T13:05:19.398Z"
   },
   {
    "duration": 9805,
    "start_time": "2022-06-11T19:24:57.390Z"
   },
   {
    "duration": 1652,
    "start_time": "2022-06-11T19:25:07.197Z"
   },
   {
    "duration": 243,
    "start_time": "2022-06-11T19:25:08.851Z"
   },
   {
    "duration": 5,
    "start_time": "2022-06-11T19:25:09.096Z"
   },
   {
    "duration": 36,
    "start_time": "2022-06-11T19:25:09.102Z"
   },
   {
    "duration": 5,
    "start_time": "2022-06-11T19:25:09.140Z"
   },
   {
    "duration": 9,
    "start_time": "2022-06-11T19:25:09.146Z"
   },
   {
    "duration": 7,
    "start_time": "2022-06-11T19:25:09.157Z"
   },
   {
    "duration": 26,
    "start_time": "2022-06-11T19:25:09.166Z"
   },
   {
    "duration": 71,
    "start_time": "2022-06-11T19:25:09.194Z"
   },
   {
    "duration": 27,
    "start_time": "2022-06-11T19:25:09.266Z"
   },
   {
    "duration": 308,
    "start_time": "2022-06-11T19:25:09.295Z"
   },
   {
    "duration": 24,
    "start_time": "2022-06-11T19:25:09.605Z"
   },
   {
    "duration": 5,
    "start_time": "2022-06-11T19:25:09.631Z"
   },
   {
    "duration": 468,
    "start_time": "2022-06-11T19:25:09.637Z"
   },
   {
    "duration": 147,
    "start_time": "2022-06-11T19:25:10.107Z"
   },
   {
    "duration": 99,
    "start_time": "2022-06-11T19:25:10.256Z"
   },
   {
    "duration": 13,
    "start_time": "2022-06-11T19:25:10.357Z"
   },
   {
    "duration": 84,
    "start_time": "2022-06-11T19:25:10.372Z"
   },
   {
    "duration": 822,
    "start_time": "2022-06-11T19:25:10.458Z"
   },
   {
    "duration": 9,
    "start_time": "2022-06-11T19:25:11.282Z"
   },
   {
    "duration": 96,
    "start_time": "2022-06-11T19:25:11.293Z"
   },
   {
    "duration": 895,
    "start_time": "2022-06-11T19:25:11.391Z"
   },
   {
    "duration": 767,
    "start_time": "2022-06-11T19:25:12.288Z"
   },
   {
    "duration": 662,
    "start_time": "2022-06-11T19:25:13.057Z"
   },
   {
    "duration": 51,
    "start_time": "2022-06-11T19:25:13.721Z"
   },
   {
    "duration": 86,
    "start_time": "2022-06-11T19:25:13.774Z"
   },
   {
    "duration": 67,
    "start_time": "2022-06-11T19:25:13.863Z"
   },
   {
    "duration": 1291,
    "start_time": "2022-06-11T19:25:13.931Z"
   },
   {
    "duration": 13,
    "start_time": "2022-06-11T19:25:15.224Z"
   },
   {
    "duration": 42,
    "start_time": "2022-06-11T19:25:15.240Z"
   },
   {
    "duration": 18,
    "start_time": "2022-06-11T19:25:15.284Z"
   },
   {
    "duration": 64,
    "start_time": "2022-06-11T19:25:15.303Z"
   },
   {
    "duration": 26,
    "start_time": "2022-06-11T19:25:15.369Z"
   },
   {
    "duration": 180,
    "start_time": "2022-06-11T19:25:15.396Z"
   },
   {
    "duration": 13,
    "start_time": "2022-06-11T19:25:15.578Z"
   },
   {
    "duration": 38,
    "start_time": "2022-06-11T19:25:15.593Z"
   },
   {
    "duration": 84,
    "start_time": "2022-06-11T19:25:15.633Z"
   },
   {
    "duration": 3,
    "start_time": "2022-06-11T19:25:15.719Z"
   },
   {
    "duration": 49,
    "start_time": "2022-06-11T19:25:15.724Z"
   },
   {
    "duration": 29,
    "start_time": "2022-06-11T19:25:15.775Z"
   },
   {
    "duration": 32,
    "start_time": "2022-06-11T19:28:33.742Z"
   },
   {
    "duration": 39,
    "start_time": "2022-06-11T19:28:42.547Z"
   },
   {
    "duration": 28,
    "start_time": "2022-06-11T19:28:53.815Z"
   },
   {
    "duration": 23,
    "start_time": "2022-06-11T19:30:22.200Z"
   },
   {
    "duration": 26,
    "start_time": "2022-06-11T19:30:29.202Z"
   },
   {
    "duration": 47,
    "start_time": "2022-06-11T19:36:30.527Z"
   },
   {
    "duration": 3,
    "start_time": "2022-06-11T19:38:21.205Z"
   },
   {
    "duration": 9660,
    "start_time": "2022-06-21T08:40:59.739Z"
   },
   {
    "duration": 1453,
    "start_time": "2022-06-21T08:41:09.401Z"
   },
   {
    "duration": 115,
    "start_time": "2022-06-21T08:41:10.855Z"
   },
   {
    "duration": 4,
    "start_time": "2022-06-21T08:41:10.972Z"
   },
   {
    "duration": 38,
    "start_time": "2022-06-21T08:41:10.978Z"
   },
   {
    "duration": 4,
    "start_time": "2022-06-21T08:41:11.017Z"
   },
   {
    "duration": 10,
    "start_time": "2022-06-21T08:41:11.022Z"
   },
   {
    "duration": 5,
    "start_time": "2022-06-21T08:41:11.035Z"
   },
   {
    "duration": 25,
    "start_time": "2022-06-21T08:41:11.042Z"
   },
   {
    "duration": 35,
    "start_time": "2022-06-21T08:41:11.069Z"
   },
   {
    "duration": 34,
    "start_time": "2022-06-21T08:41:11.106Z"
   },
   {
    "duration": 295,
    "start_time": "2022-06-21T08:41:11.142Z"
   },
   {
    "duration": 17,
    "start_time": "2022-06-21T08:41:11.438Z"
   },
   {
    "duration": 4,
    "start_time": "2022-06-21T08:41:11.456Z"
   },
   {
    "duration": 430,
    "start_time": "2022-06-21T08:41:11.462Z"
   },
   {
    "duration": 61,
    "start_time": "2022-06-21T08:41:11.894Z"
   },
   {
    "duration": 81,
    "start_time": "2022-06-21T08:41:11.957Z"
   },
   {
    "duration": 11,
    "start_time": "2022-06-21T08:41:12.039Z"
   },
   {
    "duration": 50,
    "start_time": "2022-06-21T08:41:12.051Z"
   },
   {
    "duration": 783,
    "start_time": "2022-06-21T08:41:12.102Z"
   },
   {
    "duration": 8,
    "start_time": "2022-06-21T08:41:12.887Z"
   },
   {
    "duration": 82,
    "start_time": "2022-06-21T08:41:12.896Z"
   },
   {
    "duration": 790,
    "start_time": "2022-06-21T08:41:12.979Z"
   },
   {
    "duration": 684,
    "start_time": "2022-06-21T08:41:13.771Z"
   },
   {
    "duration": 588,
    "start_time": "2022-06-21T08:41:14.456Z"
   },
   {
    "duration": 45,
    "start_time": "2022-06-21T08:41:15.046Z"
   },
   {
    "duration": 81,
    "start_time": "2022-06-21T08:41:15.092Z"
   },
   {
    "duration": 59,
    "start_time": "2022-06-21T08:41:15.178Z"
   },
   {
    "duration": 1427,
    "start_time": "2022-06-21T08:41:15.239Z"
   },
   {
    "duration": 12,
    "start_time": "2022-06-21T08:41:16.668Z"
   },
   {
    "duration": 14,
    "start_time": "2022-06-21T08:41:16.681Z"
   },
   {
    "duration": 4,
    "start_time": "2022-06-21T08:41:16.697Z"
   },
   {
    "duration": 32,
    "start_time": "2022-06-21T08:41:16.703Z"
   },
   {
    "duration": 27,
    "start_time": "2022-06-21T08:41:16.736Z"
   },
   {
    "duration": 204,
    "start_time": "2022-06-21T08:41:16.765Z"
   },
   {
    "duration": 11,
    "start_time": "2022-06-21T08:41:16.971Z"
   },
   {
    "duration": 10,
    "start_time": "2022-06-21T08:41:16.984Z"
   },
   {
    "duration": 75,
    "start_time": "2022-06-21T08:41:16.995Z"
   },
   {
    "duration": 2,
    "start_time": "2022-06-21T08:41:17.072Z"
   },
   {
    "duration": 25,
    "start_time": "2022-06-21T08:41:17.076Z"
   },
   {
    "duration": 38,
    "start_time": "2022-06-21T08:41:17.103Z"
   }
  ],
  "kernelspec": {
   "display_name": "Python 3 (ipykernel)",
   "language": "python",
   "name": "python3"
  },
  "language_info": {
   "codemirror_mode": {
    "name": "ipython",
    "version": 3
   },
   "file_extension": ".py",
   "mimetype": "text/x-python",
   "name": "python",
   "nbconvert_exporter": "python",
   "pygments_lexer": "ipython3",
   "version": "3.10.7"
  },
  "toc": {
   "base_numbering": 1,
   "nav_menu": {},
   "number_sections": true,
   "sideBar": true,
   "skip_h1_title": true,
   "title_cell": "Table of Contents",
   "title_sidebar": "Contents",
   "toc_cell": false,
   "toc_position": {
    "height": "calc(100% - 180px)",
    "left": "10px",
    "top": "150px",
    "width": "165px"
   },
   "toc_section_display": true,
   "toc_window_display": true
  }
 },
 "nbformat": 4,
 "nbformat_minor": 2
}
