{
 "cells": [
  {
   "cell_type": "markdown",
   "id": "67e70c36",
   "metadata": {
    "toc": true
   },
   "source": [
    "<h1>Содержание<span class=\"tocSkip\"></span></h1>\n",
    "<div class=\"toc\"><ul class=\"toc-item\"><li><span><a href=\"#Изучение-данных-из-файла\" data-toc-modified-id=\"Изучение-данных-из-файла-1\"><span class=\"toc-item-num\">1&nbsp;&nbsp;</span>Изучение данных из файла</a></span><ul class=\"toc-item\"><li><span><a href=\"#Обзор-данных\" data-toc-modified-id=\"Обзор-данных-1.1\"><span class=\"toc-item-num\">1.1&nbsp;&nbsp;</span>Обзор данных</a></span></li></ul></li><li><span><a href=\"#Предобработка-данных\" data-toc-modified-id=\"Предобработка-данных-2\"><span class=\"toc-item-num\">2&nbsp;&nbsp;</span>Предобработка данных</a></span><ul class=\"toc-item\"><li><span><a href=\"#Названия-столбцов-(приведите-к-нижнему-регистру)\" data-toc-modified-id=\"Названия-столбцов-(приведите-к-нижнему-регистру)-2.1\"><span class=\"toc-item-num\">2.1&nbsp;&nbsp;</span>Названия столбцов (приведите к нижнему регистру)</a></span></li><li><span><a href=\"#Преобразование-типов\" data-toc-modified-id=\"Преобразование-типов-2.2\"><span class=\"toc-item-num\">2.2&nbsp;&nbsp;</span>Преобразование типов</a></span></li><li><span><a href=\"#Удаление-дубликатов\" data-toc-modified-id=\"Удаление-дубликатов-2.3\"><span class=\"toc-item-num\">2.3&nbsp;&nbsp;</span>Удаление дубликатов</a></span></li><li><span><a href=\"#Работа-с-пропусками\" data-toc-modified-id=\"Работа-с-пропусками-2.4\"><span class=\"toc-item-num\">2.4&nbsp;&nbsp;</span>Работа с пропусками</a></span></li><li><span><a href=\"#Подсчет-сумарных-продаж-всех-регионов\" data-toc-modified-id=\"Подсчет-сумарных-продаж-всех-регионов-2.5\"><span class=\"toc-item-num\">2.5&nbsp;&nbsp;</span>Подсчет сумарных продаж всех регионов</a></span></li></ul></li><li><span><a href=\"#Исследовательский-анализ-данных\" data-toc-modified-id=\"Исследовательский-анализ-данных-3\"><span class=\"toc-item-num\">3&nbsp;&nbsp;</span>Исследовательский анализ данных</a></span><ul class=\"toc-item\"><li><span><a href=\"#Анализ-количества-выпущенных-игр-по-годам\" data-toc-modified-id=\"Анализ-количества-выпущенных-игр-по-годам-3.1\"><span class=\"toc-item-num\">3.1&nbsp;&nbsp;</span>Анализ количества выпущенных игр по годам</a></span></li><li><span><a href=\"#Исследование-продаж-по-платформам\" data-toc-modified-id=\"Исследование-продаж-по-платформам-3.2\"><span class=\"toc-item-num\">3.2&nbsp;&nbsp;</span>Исследование продаж по платформам</a></span><ul class=\"toc-item\"><li><span><a href=\"#Поиск-самых-прибыльных-платформ\" data-toc-modified-id=\"Поиск-самых-прибыльных-платформ-3.2.1\"><span class=\"toc-item-num\">3.2.1&nbsp;&nbsp;</span>Поиск самых прибыльных платформ</a></span></li><li><span><a href=\"#Графики-продаж-для-топ-5-платформ-по-годам\" data-toc-modified-id=\"Графики-продаж-для-топ-5-платформ-по-годам-3.2.2\"><span class=\"toc-item-num\">3.2.2&nbsp;&nbsp;</span>Графики продаж для топ-5 платформ по годам</a></span></li></ul></li><li><span><a href=\"#График-«ящик-с-усами»-по-глобальным-продажам-игр-в-разбивке-по-платформам.\" data-toc-modified-id=\"График-«ящик-с-усами»-по-глобальным-продажам-игр-в-разбивке-по-платформам.-3.3\"><span class=\"toc-item-num\">3.3&nbsp;&nbsp;</span>График «ящик с усами» по глобальным продажам игр в разбивке по платформам.</a></span></li><li><span><a href=\"#Влияние-отзывов-на-продажи\" data-toc-modified-id=\"Влияние-отзывов-на-продажи-3.4\"><span class=\"toc-item-num\">3.4&nbsp;&nbsp;</span>Влияние отзывов на продажи</a></span></li><li><span><a href=\"#Общее-распределение-игр-по-жанрам.\" data-toc-modified-id=\"Общее-распределение-игр-по-жанрам.-3.5\"><span class=\"toc-item-num\">3.5&nbsp;&nbsp;</span>Общее распределение игр по жанрам.</a></span></li><li><span><a href=\"#Выводы-исследовательского-анализа\" data-toc-modified-id=\"Выводы-исследовательского-анализа-3.6\"><span class=\"toc-item-num\">3.6&nbsp;&nbsp;</span>Выводы исследовательского анализа</a></span></li></ul></li><li><span><a href=\"#Составим-портрет-пользователя-каждого-региона\" data-toc-modified-id=\"Составим-портрет-пользователя-каждого-региона-4\"><span class=\"toc-item-num\">4&nbsp;&nbsp;</span>Составим портрет пользователя каждого региона</a></span><ul class=\"toc-item\"><li><span><a href=\"#Самые-популярные-платформы-(топ-5).\" data-toc-modified-id=\"Самые-популярные-платформы-(топ-5).-4.1\"><span class=\"toc-item-num\">4.1&nbsp;&nbsp;</span>Самые популярные платформы (топ-5).</a></span><ul class=\"toc-item\"><li><span><a href=\"#Северная-Америка\" data-toc-modified-id=\"Северная-Америка-4.1.1\"><span class=\"toc-item-num\">4.1.1&nbsp;&nbsp;</span>Северная Америка</a></span></li><li><span><a href=\"#Европа\" data-toc-modified-id=\"Европа-4.1.2\"><span class=\"toc-item-num\">4.1.2&nbsp;&nbsp;</span>Европа</a></span></li><li><span><a href=\"#Япония\" data-toc-modified-id=\"Япония-4.1.3\"><span class=\"toc-item-num\">4.1.3&nbsp;&nbsp;</span>Япония</a></span></li></ul></li><li><span><a href=\"#Самые-популярные-жанры-(топ-5).\" data-toc-modified-id=\"Самые-популярные-жанры-(топ-5).-4.2\"><span class=\"toc-item-num\">4.2&nbsp;&nbsp;</span>Самые популярные жанры (топ-5).</a></span><ul class=\"toc-item\"><li><span><a href=\"#Северная-Америка\" data-toc-modified-id=\"Северная-Америка-4.2.1\"><span class=\"toc-item-num\">4.2.1&nbsp;&nbsp;</span>Северная Америка</a></span></li><li><span><a href=\"#Европа\" data-toc-modified-id=\"Европа-4.2.2\"><span class=\"toc-item-num\">4.2.2&nbsp;&nbsp;</span>Европа</a></span></li><li><span><a href=\"#Япония\" data-toc-modified-id=\"Япония-4.2.3\"><span class=\"toc-item-num\">4.2.3&nbsp;&nbsp;</span>Япония</a></span></li></ul></li><li><span><a href=\"#Влияние-рейтинга-ESRB-на-продажи-в-отдельных-регионах\" data-toc-modified-id=\"Влияние-рейтинга-ESRB-на-продажи-в-отдельных-регионах-4.3\"><span class=\"toc-item-num\">4.3&nbsp;&nbsp;</span>Влияние рейтинга ESRB на продажи в отдельных регионах</a></span><ul class=\"toc-item\"><li><span><a href=\"#Северная-Америка\" data-toc-modified-id=\"Северная-Америка-4.3.1\"><span class=\"toc-item-num\">4.3.1&nbsp;&nbsp;</span>Северная Америка</a></span></li><li><span><a href=\"#Европа\" data-toc-modified-id=\"Европа-4.3.2\"><span class=\"toc-item-num\">4.3.2&nbsp;&nbsp;</span>Европа</a></span></li><li><span><a href=\"#Япония\" data-toc-modified-id=\"Япония-4.3.3\"><span class=\"toc-item-num\">4.3.3&nbsp;&nbsp;</span>Япония</a></span></li></ul></li><li><span><a href=\"#Выводы-по-портрету\" data-toc-modified-id=\"Выводы-по-портрету-4.4\"><span class=\"toc-item-num\">4.4&nbsp;&nbsp;</span>Выводы по портрету</a></span></li></ul></li><li><span><a href=\"#Проверка-гипотез\" data-toc-modified-id=\"Проверка-гипотез-5\"><span class=\"toc-item-num\">5&nbsp;&nbsp;</span>Проверка гипотез</a></span><ul class=\"toc-item\"><li><span><a href=\"#Сравнение-средних-пользовательских-рейтингов-платформ-Xbox-One-и-PC\" data-toc-modified-id=\"Сравнение-средних-пользовательских-рейтингов-платформ-Xbox-One-и-PC-5.1\"><span class=\"toc-item-num\">5.1&nbsp;&nbsp;</span>Сравнение средних пользовательских рейтингов платформ Xbox One и PC</a></span></li><li><span><a href=\"#Сравнение-средних-пользовательские-рейтинги-жанров-Action--и-Sports\" data-toc-modified-id=\"Сравнение-средних-пользовательские-рейтинги-жанров-Action--и-Sports-5.2\"><span class=\"toc-item-num\">5.2&nbsp;&nbsp;</span>Сравнение средних пользовательские рейтинги жанров Action  и Sports</a></span></li><li><span><a href=\"#Выводы-по-гипотезам\" data-toc-modified-id=\"Выводы-по-гипотезам-5.3\"><span class=\"toc-item-num\">5.3&nbsp;&nbsp;</span>Выводы по гипотезам</a></span></li></ul></li><li><span><a href=\"#Общий-вывод\" data-toc-modified-id=\"Общий-вывод-6\"><span class=\"toc-item-num\">6&nbsp;&nbsp;</span>Общий вывод</a></span></li></ul></div>"
   ]
  },
  {
   "cell_type": "markdown",
   "id": "00c73e8b",
   "metadata": {},
   "source": [
    "# Анализ продаж и определение рекомендаций для интернет магазина игр для приставок"
   ]
  },
  {
   "cell_type": "markdown",
   "id": "d257b3ef",
   "metadata": {},
   "source": [
    "# Описание проекта"
   ]
  },
  {
   "cell_type": "markdown",
   "id": "de0d16a1",
   "metadata": {},
   "source": [
    "Мы работаем в интернет-магазине «Стримчик», который продаёт по всему миру\n",
    "компьютерные игры. Из открытых источников доступны исторические данные о\n",
    "продажах игр, оценки пользователей и экспертов, жанры и платформы\n",
    "(например, Xboxили PlayStation). Нам нужно выявить определяющие успешность\n",
    "игры закономерности. Это позволит сделать ставку на потенциально популярный\n",
    "продукт и спланировать рекламные кампании."
   ]
  },
  {
   "cell_type": "markdown",
   "id": "9e882d3a",
   "metadata": {},
   "source": [
    "## Изучение данных из файла"
   ]
  },
  {
   "cell_type": "code",
   "execution_count": 1,
   "id": "b15610e8",
   "metadata": {},
   "outputs": [],
   "source": [
    "# импорт библиотек\n",
    "import os\n",
    "import pandas as pd\n",
    "import matplotlib.pyplot as plt\n",
    "import numpy as np\n",
    "from scipy import stats as st"
   ]
  },
  {
   "cell_type": "code",
   "execution_count": 2,
   "id": "88d55a26",
   "metadata": {},
   "outputs": [],
   "source": [
    "# знакомство с данными\n",
    "\n",
    "pth1 = r'C:\\Users\\nekrasovev\\games (2).csv' # Локальный путь\n",
    "pth2 = '/datasets/games.csv' # Серверный путь\n",
    "pth3 = r'C:\\Users\\Егор\\Downloads\\Telegram Desktop\\games (2).csv' # локальный путь 2\n",
    "\n",
    "if os.path.exists(pth1):\n",
    "    df = pd.read_csv(pth1)\n",
    "elif os.path.exists(pth2):\n",
    "    df = pd.read_csv(pth2)\n",
    "elif os.path.exists(pth3):\n",
    "    df = pd.read_csv(pth3) \n",
    "else:\n",
    "    print('Something is wrong')  \n"
   ]
  },
  {
   "cell_type": "code",
   "execution_count": 3,
   "id": "eb548dae",
   "metadata": {},
   "outputs": [
    {
     "name": "stdout",
     "output_type": "stream",
     "text": [
      "<class 'pandas.core.frame.DataFrame'>\n",
      "RangeIndex: 16715 entries, 0 to 16714\n",
      "Data columns (total 11 columns):\n",
      " #   Column           Non-Null Count  Dtype  \n",
      "---  ------           --------------  -----  \n",
      " 0   Name             16713 non-null  object \n",
      " 1   Platform         16715 non-null  object \n",
      " 2   Year_of_Release  16446 non-null  float64\n",
      " 3   Genre            16713 non-null  object \n",
      " 4   NA_sales         16715 non-null  float64\n",
      " 5   EU_sales         16715 non-null  float64\n",
      " 6   JP_sales         16715 non-null  float64\n",
      " 7   Other_sales      16715 non-null  float64\n",
      " 8   Critic_Score     8137 non-null   float64\n",
      " 9   User_Score       10014 non-null  object \n",
      " 10  Rating           9949 non-null   object \n",
      "dtypes: float64(6), object(5)\n",
      "memory usage: 1.4+ MB\n"
     ]
    }
   ],
   "source": [
    "# получение общей информации о данных в таблице df\n",
    "df.info()"
   ]
  },
  {
   "cell_type": "markdown",
   "id": "3329feff",
   "metadata": {},
   "source": [
    "### Обзор данных"
   ]
  },
  {
   "cell_type": "markdown",
   "id": "4ef36bb6",
   "metadata": {},
   "source": [
    "* `Name` — название игры\n",
    "* `Platform` — платформа\n",
    "* `Year_of_Release` — год выпуска\n",
    "* `Genre` — жанр игры\n",
    "* `NA_sales` — продажи в Северной Америке (миллионы проданных копий)\n",
    "* `EU_sales` — продажи в Европе (миллионы проданных копий)\n",
    "* `JP_sales` — продажи в Японии (миллионы проданных копий)\n",
    "* `Other_sales` — продажи в других странах (миллионы проданных копий)\n",
    "* `Critic_Score` — оценка критиков (максимум 100)\n",
    "* `User_Score` — оценка пользователей (максимум 10)\n",
    "* `Rating` — рейтинг от организации ESRB (англ. Entertainment Software Rating\n",
    "  Board). Эта ассоциация определяет рейтинг компьютерных игр и присваивает\n",
    "  им подходящую возрастную категорию."
   ]
  },
  {
   "cell_type": "markdown",
   "id": "be57a2a2",
   "metadata": {},
   "source": [
    "## Предобработка данных"
   ]
  },
  {
   "cell_type": "markdown",
   "id": "d8704852",
   "metadata": {},
   "source": [
    "### Названия столбцов (приведите к нижнему регистру)"
   ]
  },
  {
   "cell_type": "code",
   "execution_count": 4,
   "id": "e3085165",
   "metadata": {},
   "outputs": [],
   "source": [
    "# приведем названия столбцов в нижний регистр\n",
    "df = df.rename(columns={\n",
    "    'Name': 'name',\n",
    "    'Platform': 'platform',\n",
    "    'Year_of_Release': 'year_of_release',\n",
    "    'Genre' : 'genre',\n",
    "    'NA_sales': 'na_sales',\n",
    "    'EU_sales' : 'eu_sales',\n",
    "    'JP_sales' : 'jp_sales',\n",
    "    'Other_sales' : 'other_sales',\n",
    "    'Critic_Score' : 'critic_score',\n",
    "    'User_Score' : 'user_score',\n",
    "    'Rating' : 'rating'\n",
    "    })\n",
    "\n",
    "# приведем к нижнему регистру все строковые значения\n",
    "df['name'] = df['name'].str.lower()\n",
    "df['platform'] = df['platform'].str.lower()\n",
    "df['genre'] = df['genre'].str.lower()\n"
   ]
  },
  {
   "cell_type": "markdown",
   "id": "70fe3328",
   "metadata": {},
   "source": [
    "### Преобразование типов"
   ]
  },
  {
   "cell_type": "code",
   "execution_count": 5,
   "id": "c972d264",
   "metadata": {},
   "outputs": [
    {
     "data": {
      "text/html": [
       "<div>\n",
       "<style scoped>\n",
       "    .dataframe tbody tr th:only-of-type {\n",
       "        vertical-align: middle;\n",
       "    }\n",
       "\n",
       "    .dataframe tbody tr th {\n",
       "        vertical-align: top;\n",
       "    }\n",
       "\n",
       "    .dataframe thead th {\n",
       "        text-align: right;\n",
       "    }\n",
       "</style>\n",
       "<table border=\"1\" class=\"dataframe\">\n",
       "  <thead>\n",
       "    <tr style=\"text-align: right;\">\n",
       "      <th></th>\n",
       "      <th>name</th>\n",
       "      <th>platform</th>\n",
       "      <th>year_of_release</th>\n",
       "      <th>genre</th>\n",
       "      <th>na_sales</th>\n",
       "      <th>eu_sales</th>\n",
       "      <th>jp_sales</th>\n",
       "      <th>other_sales</th>\n",
       "      <th>critic_score</th>\n",
       "      <th>user_score</th>\n",
       "      <th>rating</th>\n",
       "    </tr>\n",
       "  </thead>\n",
       "  <tbody>\n",
       "    <tr>\n",
       "      <th>0</th>\n",
       "      <td>wii sports</td>\n",
       "      <td>wii</td>\n",
       "      <td>2006-01-01</td>\n",
       "      <td>sports</td>\n",
       "      <td>41.36</td>\n",
       "      <td>28.96</td>\n",
       "      <td>3.77</td>\n",
       "      <td>8.45</td>\n",
       "      <td>76.0</td>\n",
       "      <td>8</td>\n",
       "      <td>E</td>\n",
       "    </tr>\n",
       "    <tr>\n",
       "      <th>1</th>\n",
       "      <td>super mario bros.</td>\n",
       "      <td>nes</td>\n",
       "      <td>1985-01-01</td>\n",
       "      <td>platform</td>\n",
       "      <td>29.08</td>\n",
       "      <td>3.58</td>\n",
       "      <td>6.81</td>\n",
       "      <td>0.77</td>\n",
       "      <td>NaN</td>\n",
       "      <td>NaN</td>\n",
       "      <td>NaN</td>\n",
       "    </tr>\n",
       "    <tr>\n",
       "      <th>2</th>\n",
       "      <td>mario kart wii</td>\n",
       "      <td>wii</td>\n",
       "      <td>2008-01-01</td>\n",
       "      <td>racing</td>\n",
       "      <td>15.68</td>\n",
       "      <td>12.76</td>\n",
       "      <td>3.79</td>\n",
       "      <td>3.29</td>\n",
       "      <td>82.0</td>\n",
       "      <td>8.3</td>\n",
       "      <td>E</td>\n",
       "    </tr>\n",
       "    <tr>\n",
       "      <th>3</th>\n",
       "      <td>wii sports resort</td>\n",
       "      <td>wii</td>\n",
       "      <td>2009-01-01</td>\n",
       "      <td>sports</td>\n",
       "      <td>15.61</td>\n",
       "      <td>10.93</td>\n",
       "      <td>3.28</td>\n",
       "      <td>2.95</td>\n",
       "      <td>80.0</td>\n",
       "      <td>8</td>\n",
       "      <td>E</td>\n",
       "    </tr>\n",
       "    <tr>\n",
       "      <th>4</th>\n",
       "      <td>pokemon red/pokemon blue</td>\n",
       "      <td>gb</td>\n",
       "      <td>1996-01-01</td>\n",
       "      <td>role-playing</td>\n",
       "      <td>11.27</td>\n",
       "      <td>8.89</td>\n",
       "      <td>10.22</td>\n",
       "      <td>1.00</td>\n",
       "      <td>NaN</td>\n",
       "      <td>NaN</td>\n",
       "      <td>NaN</td>\n",
       "    </tr>\n",
       "    <tr>\n",
       "      <th>...</th>\n",
       "      <td>...</td>\n",
       "      <td>...</td>\n",
       "      <td>...</td>\n",
       "      <td>...</td>\n",
       "      <td>...</td>\n",
       "      <td>...</td>\n",
       "      <td>...</td>\n",
       "      <td>...</td>\n",
       "      <td>...</td>\n",
       "      <td>...</td>\n",
       "      <td>...</td>\n",
       "    </tr>\n",
       "    <tr>\n",
       "      <th>16710</th>\n",
       "      <td>samurai warriors: sanada maru</td>\n",
       "      <td>ps3</td>\n",
       "      <td>2016-01-01</td>\n",
       "      <td>action</td>\n",
       "      <td>0.00</td>\n",
       "      <td>0.00</td>\n",
       "      <td>0.01</td>\n",
       "      <td>0.00</td>\n",
       "      <td>NaN</td>\n",
       "      <td>NaN</td>\n",
       "      <td>NaN</td>\n",
       "    </tr>\n",
       "    <tr>\n",
       "      <th>16711</th>\n",
       "      <td>lma manager 2007</td>\n",
       "      <td>x360</td>\n",
       "      <td>2006-01-01</td>\n",
       "      <td>sports</td>\n",
       "      <td>0.00</td>\n",
       "      <td>0.01</td>\n",
       "      <td>0.00</td>\n",
       "      <td>0.00</td>\n",
       "      <td>NaN</td>\n",
       "      <td>NaN</td>\n",
       "      <td>NaN</td>\n",
       "    </tr>\n",
       "    <tr>\n",
       "      <th>16712</th>\n",
       "      <td>haitaka no psychedelica</td>\n",
       "      <td>psv</td>\n",
       "      <td>2016-01-01</td>\n",
       "      <td>adventure</td>\n",
       "      <td>0.00</td>\n",
       "      <td>0.00</td>\n",
       "      <td>0.01</td>\n",
       "      <td>0.00</td>\n",
       "      <td>NaN</td>\n",
       "      <td>NaN</td>\n",
       "      <td>NaN</td>\n",
       "    </tr>\n",
       "    <tr>\n",
       "      <th>16713</th>\n",
       "      <td>spirits &amp; spells</td>\n",
       "      <td>gba</td>\n",
       "      <td>2003-01-01</td>\n",
       "      <td>platform</td>\n",
       "      <td>0.01</td>\n",
       "      <td>0.00</td>\n",
       "      <td>0.00</td>\n",
       "      <td>0.00</td>\n",
       "      <td>NaN</td>\n",
       "      <td>NaN</td>\n",
       "      <td>NaN</td>\n",
       "    </tr>\n",
       "    <tr>\n",
       "      <th>16714</th>\n",
       "      <td>winning post 8 2016</td>\n",
       "      <td>psv</td>\n",
       "      <td>2016-01-01</td>\n",
       "      <td>simulation</td>\n",
       "      <td>0.00</td>\n",
       "      <td>0.00</td>\n",
       "      <td>0.01</td>\n",
       "      <td>0.00</td>\n",
       "      <td>NaN</td>\n",
       "      <td>NaN</td>\n",
       "      <td>NaN</td>\n",
       "    </tr>\n",
       "  </tbody>\n",
       "</table>\n",
       "<p>16715 rows × 11 columns</p>\n",
       "</div>"
      ],
      "text/plain": [
       "                                name platform year_of_release         genre  \\\n",
       "0                         wii sports      wii      2006-01-01        sports   \n",
       "1                  super mario bros.      nes      1985-01-01      platform   \n",
       "2                     mario kart wii      wii      2008-01-01        racing   \n",
       "3                  wii sports resort      wii      2009-01-01        sports   \n",
       "4           pokemon red/pokemon blue       gb      1996-01-01  role-playing   \n",
       "...                              ...      ...             ...           ...   \n",
       "16710  samurai warriors: sanada maru      ps3      2016-01-01        action   \n",
       "16711               lma manager 2007     x360      2006-01-01        sports   \n",
       "16712        haitaka no psychedelica      psv      2016-01-01     adventure   \n",
       "16713               spirits & spells      gba      2003-01-01      platform   \n",
       "16714            winning post 8 2016      psv      2016-01-01    simulation   \n",
       "\n",
       "       na_sales  eu_sales  jp_sales  other_sales  critic_score user_score  \\\n",
       "0         41.36     28.96      3.77         8.45          76.0          8   \n",
       "1         29.08      3.58      6.81         0.77           NaN        NaN   \n",
       "2         15.68     12.76      3.79         3.29          82.0        8.3   \n",
       "3         15.61     10.93      3.28         2.95          80.0          8   \n",
       "4         11.27      8.89     10.22         1.00           NaN        NaN   \n",
       "...         ...       ...       ...          ...           ...        ...   \n",
       "16710      0.00      0.00      0.01         0.00           NaN        NaN   \n",
       "16711      0.00      0.01      0.00         0.00           NaN        NaN   \n",
       "16712      0.00      0.00      0.01         0.00           NaN        NaN   \n",
       "16713      0.01      0.00      0.00         0.00           NaN        NaN   \n",
       "16714      0.00      0.00      0.01         0.00           NaN        NaN   \n",
       "\n",
       "      rating  \n",
       "0          E  \n",
       "1        NaN  \n",
       "2          E  \n",
       "3          E  \n",
       "4        NaN  \n",
       "...      ...  \n",
       "16710    NaN  \n",
       "16711    NaN  \n",
       "16712    NaN  \n",
       "16713    NaN  \n",
       "16714    NaN  \n",
       "\n",
       "[16715 rows x 11 columns]"
      ]
     },
     "execution_count": 5,
     "metadata": {},
     "output_type": "execute_result"
    }
   ],
   "source": [
    "# приведем столбец year_of_release к типу Datetime\n",
    "\n",
    "df['year_of_release'] = pd.to_datetime(df['year_of_release'], format='%Y')\n",
    "df"
   ]
  },
  {
   "cell_type": "markdown",
   "id": "1834f454",
   "metadata": {},
   "source": [
    "### Удаление дубликатов"
   ]
  },
  {
   "cell_type": "code",
   "execution_count": 6,
   "id": "500f937b",
   "metadata": {},
   "outputs": [
    {
     "name": "stdout",
     "output_type": "stream",
     "text": [
      "Дубликатов не было\n"
     ]
    }
   ],
   "source": [
    "# Удалим явные дубликаты\n",
    "len_before = len(df)\n",
    "df = df.drop_duplicates().reset_index(drop=True)\n",
    "\n",
    "# Проверим, сократилось ли значение\n",
    "if len_before > len(df): print('Дубликаты выброшены')\n",
    "else: print('Дубликатов не было')"
   ]
  },
  {
   "cell_type": "code",
   "execution_count": 7,
   "id": "8e7683a4",
   "metadata": {
    "scrolled": true
   },
   "outputs": [
    {
     "data": {
      "text/plain": [
       "array(['2600', '3do', '3ds', 'dc', 'ds', 'gb', 'gba', 'gc', 'gen', 'gg',\n",
       "       'n64', 'nes', 'ng', 'pc', 'pcfx', 'ps', 'ps2', 'ps3', 'ps4', 'psp',\n",
       "       'psv', 'sat', 'scd', 'snes', 'tg16', 'wii', 'wiiu', 'ws', 'x360',\n",
       "       'xb', 'xone'], dtype=object)"
      ]
     },
     "execution_count": 7,
     "metadata": {},
     "output_type": "execute_result"
    }
   ],
   "source": [
    "df['platform'].sort_values().unique()"
   ]
  },
  {
   "cell_type": "code",
   "execution_count": 8,
   "id": "8d7fd4ae",
   "metadata": {},
   "outputs": [
    {
     "data": {
      "text/plain": [
       "need for speed: most wanted    12\n",
       "lego marvel super heroes        9\n",
       "fifa 14                         9\n",
       "madden nfl 07                   9\n",
       "ratatouille                     9\n",
       "                               ..\n",
       "hakuouki                        1\n",
       "toeic test training ds          1\n",
       "star ocean: blue sphere         1\n",
       "medabots ax: metabee            1\n",
       "tsuyo kiss: mighty heart        1\n",
       "Name: name, Length: 11559, dtype: int64"
      ]
     },
     "execution_count": 8,
     "metadata": {},
     "output_type": "execute_result"
    }
   ],
   "source": [
    "df['name'].value_counts()"
   ]
  },
  {
   "cell_type": "code",
   "execution_count": 9,
   "id": "ce166034",
   "metadata": {},
   "outputs": [
    {
     "data": {
      "text/plain": [
       "action          3369\n",
       "sports          2348\n",
       "misc            1750\n",
       "role-playing    1498\n",
       "shooter         1323\n",
       "adventure       1303\n",
       "racing          1249\n",
       "platform         888\n",
       "simulation       873\n",
       "fighting         849\n",
       "strategy         683\n",
       "puzzle           580\n",
       "Name: genre, dtype: int64"
      ]
     },
     "execution_count": 9,
     "metadata": {},
     "output_type": "execute_result"
    }
   ],
   "source": [
    "df['genre'].value_counts()"
   ]
  },
  {
   "cell_type": "code",
   "execution_count": 10,
   "id": "24f097db",
   "metadata": {},
   "outputs": [
    {
     "data": {
      "text/plain": [
       "array(['AO', 'E', 'E10+', 'EC', 'K-A', 'M', 'RP', 'T', nan], dtype=object)"
      ]
     },
     "execution_count": 10,
     "metadata": {},
     "output_type": "execute_result"
    }
   ],
   "source": [
    "df['rating'].sort_values().unique()"
   ]
  },
  {
   "cell_type": "code",
   "execution_count": 11,
   "id": "aa6d6432",
   "metadata": {},
   "outputs": [
    {
     "data": {
      "text/plain": [
       "array(['action', 'adventure', 'fighting', 'misc', 'platform', 'puzzle',\n",
       "       'racing', 'role-playing', 'shooter', 'simulation', 'sports',\n",
       "       'strategy', nan], dtype=object)"
      ]
     },
     "execution_count": 11,
     "metadata": {},
     "output_type": "execute_result"
    }
   ],
   "source": [
    "df['genre'].sort_values().unique()"
   ]
  },
  {
   "cell_type": "code",
   "execution_count": 12,
   "id": "9c74c132",
   "metadata": {
    "scrolled": true
   },
   "outputs": [
    {
     "data": {
      "text/plain": [
       "array(['0', '0.2', '0.3', '0.5', '0.6', '0.7', '0.9', '1', '1.1', '1.2',\n",
       "       '1.3', '1.4', '1.5', '1.6', '1.7', '1.8', '1.9', '2', '2.1', '2.2',\n",
       "       '2.3', '2.4', '2.5', '2.6', '2.7', '2.8', '2.9', '3', '3.1', '3.2',\n",
       "       '3.3', '3.4', '3.5', '3.6', '3.7', '3.8', '3.9', '4', '4.1', '4.2',\n",
       "       '4.3', '4.4', '4.5', '4.6', '4.7', '4.8', '4.9', '5', '5.1', '5.2',\n",
       "       '5.3', '5.4', '5.5', '5.6', '5.7', '5.8', '5.9', '6', '6.1', '6.2',\n",
       "       '6.3', '6.4', '6.5', '6.6', '6.7', '6.8', '6.9', '7', '7.1', '7.2',\n",
       "       '7.3', '7.4', '7.5', '7.6', '7.7', '7.8', '7.9', '8', '8.1', '8.2',\n",
       "       '8.3', '8.4', '8.5', '8.6', '8.7', '8.8', '8.9', '9', '9.1', '9.2',\n",
       "       '9.3', '9.4', '9.5', '9.6', '9.7', 'tbd', nan], dtype=object)"
      ]
     },
     "execution_count": 12,
     "metadata": {},
     "output_type": "execute_result"
    }
   ],
   "source": [
    "df['user_score'].sort_values().unique()\n"
   ]
  },
  {
   "cell_type": "code",
   "execution_count": 13,
   "id": "9e900b8f",
   "metadata": {},
   "outputs": [
    {
     "data": {
      "text/plain": [
       "array([13., 17., 19., 20., 21., 22., 23., 24., 25., 26., 27., 28., 29.,\n",
       "       30., 31., 32., 33., 34., 35., 36., 37., 38., 39., 40., 41., 42.,\n",
       "       43., 44., 45., 46., 47., 48., 49., 50., 51., 52., 53., 54., 55.,\n",
       "       56., 57., 58., 59., 60., 61., 62., 63., 64., 65., 66., 67., 68.,\n",
       "       69., 70., 71., 72., 73., 74., 75., 76., 77., 78., 79., 80., 81.,\n",
       "       82., 83., 84., 85., 86., 87., 88., 89., 90., 91., 92., 93., 94.,\n",
       "       95., 96., 97., 98., nan])"
      ]
     },
     "execution_count": 13,
     "metadata": {},
     "output_type": "execute_result"
    }
   ],
   "source": [
    "df['critic_score'].sort_values().unique()"
   ]
  },
  {
   "cell_type": "markdown",
   "id": "4ebab73f",
   "metadata": {},
   "source": [
    "### Работа с пропусками"
   ]
  },
  {
   "cell_type": "code",
   "execution_count": 14,
   "id": "694a866a",
   "metadata": {},
   "outputs": [],
   "source": [
    "# Удалим строки с пропущенными названиями игр и годом выпуска, эти данные не информативны\n",
    "\n",
    "df = df.dropna(subset = ['name','year_of_release'])\n",
    "\n",
    "# строки с рейтингом 'tbd' заполним медианным значением\n",
    "# TBD - аббревиатура от английского To Be Determined (будет определено) или To Be Decided (будет решено).\n",
    "# Используется, если какая-то информация еще не определена или решение по вопросу не принято.\n",
    "# Акроним служит для отметки неясностей или пропусков, которые надо заполнить, в информации требований.\n",
    "\n",
    "# пропуски в user_score, а также tbd заменим на служебное числовое значение \"100\"\n",
    "df['user_score'] = pd.to_numeric(df['user_score'], errors='coerce')\n",
    "df['user_score'] = df['user_score'].fillna(100)\n",
    "\n",
    "# пропуски в critic_score заменим на служебное числовое значение \"1000\"\n",
    "df['critic_score'] = pd.to_numeric(df['critic_score'], errors='coerce')\n",
    "df['critic_score'] = df['critic_score'].fillna(1000)\n",
    "\n",
    "\n",
    "# пропуски в rating заменим на \"TBD\"\n",
    "df['rating'] = df['rating'].fillna('TBD')\n",
    "\n"
   ]
  },
  {
   "cell_type": "markdown",
   "id": "0020a292",
   "metadata": {},
   "source": [
    "Пропуски в Critic_Score, User_Score, Rating оставим как есть"
   ]
  },
  {
   "cell_type": "code",
   "execution_count": 15,
   "id": "a3af081c",
   "metadata": {},
   "outputs": [
    {
     "name": "stdout",
     "output_type": "stream",
     "text": [
      "<class 'pandas.core.frame.DataFrame'>\n",
      "Int64Index: 16444 entries, 0 to 16714\n",
      "Data columns (total 11 columns):\n",
      " #   Column           Non-Null Count  Dtype         \n",
      "---  ------           --------------  -----         \n",
      " 0   name             16444 non-null  object        \n",
      " 1   platform         16444 non-null  object        \n",
      " 2   year_of_release  16444 non-null  datetime64[ns]\n",
      " 3   genre            16444 non-null  object        \n",
      " 4   na_sales         16444 non-null  float64       \n",
      " 5   eu_sales         16444 non-null  float64       \n",
      " 6   jp_sales         16444 non-null  float64       \n",
      " 7   other_sales      16444 non-null  float64       \n",
      " 8   critic_score     16444 non-null  float64       \n",
      " 9   user_score       16444 non-null  float64       \n",
      " 10  rating           16444 non-null  object        \n",
      "dtypes: datetime64[ns](1), float64(6), object(4)\n",
      "memory usage: 1.5+ MB\n"
     ]
    }
   ],
   "source": [
    "# Финальная проверка работы с пропусками\n",
    "df.info()"
   ]
  },
  {
   "cell_type": "markdown",
   "id": "dfe2899b",
   "metadata": {},
   "source": [
    "### Подсчет сумарных продаж всех регионов"
   ]
  },
  {
   "cell_type": "code",
   "execution_count": 16,
   "id": "e51478c5",
   "metadata": {
    "scrolled": true
   },
   "outputs": [
    {
     "data": {
      "text/html": [
       "<div>\n",
       "<style scoped>\n",
       "    .dataframe tbody tr th:only-of-type {\n",
       "        vertical-align: middle;\n",
       "    }\n",
       "\n",
       "    .dataframe tbody tr th {\n",
       "        vertical-align: top;\n",
       "    }\n",
       "\n",
       "    .dataframe thead th {\n",
       "        text-align: right;\n",
       "    }\n",
       "</style>\n",
       "<table border=\"1\" class=\"dataframe\">\n",
       "  <thead>\n",
       "    <tr style=\"text-align: right;\">\n",
       "      <th></th>\n",
       "      <th>name</th>\n",
       "      <th>platform</th>\n",
       "      <th>year_of_release</th>\n",
       "      <th>genre</th>\n",
       "      <th>na_sales</th>\n",
       "      <th>eu_sales</th>\n",
       "      <th>jp_sales</th>\n",
       "      <th>other_sales</th>\n",
       "      <th>critic_score</th>\n",
       "      <th>user_score</th>\n",
       "      <th>rating</th>\n",
       "      <th>total_sales</th>\n",
       "    </tr>\n",
       "  </thead>\n",
       "  <tbody>\n",
       "    <tr>\n",
       "      <th>0</th>\n",
       "      <td>wii sports</td>\n",
       "      <td>wii</td>\n",
       "      <td>2006-01-01</td>\n",
       "      <td>sports</td>\n",
       "      <td>41.36</td>\n",
       "      <td>28.96</td>\n",
       "      <td>3.77</td>\n",
       "      <td>8.45</td>\n",
       "      <td>76.0</td>\n",
       "      <td>8.0</td>\n",
       "      <td>E</td>\n",
       "      <td>82.54</td>\n",
       "    </tr>\n",
       "    <tr>\n",
       "      <th>1</th>\n",
       "      <td>super mario bros.</td>\n",
       "      <td>nes</td>\n",
       "      <td>1985-01-01</td>\n",
       "      <td>platform</td>\n",
       "      <td>29.08</td>\n",
       "      <td>3.58</td>\n",
       "      <td>6.81</td>\n",
       "      <td>0.77</td>\n",
       "      <td>1000.0</td>\n",
       "      <td>100.0</td>\n",
       "      <td>TBD</td>\n",
       "      <td>40.24</td>\n",
       "    </tr>\n",
       "    <tr>\n",
       "      <th>2</th>\n",
       "      <td>mario kart wii</td>\n",
       "      <td>wii</td>\n",
       "      <td>2008-01-01</td>\n",
       "      <td>racing</td>\n",
       "      <td>15.68</td>\n",
       "      <td>12.76</td>\n",
       "      <td>3.79</td>\n",
       "      <td>3.29</td>\n",
       "      <td>82.0</td>\n",
       "      <td>8.3</td>\n",
       "      <td>E</td>\n",
       "      <td>35.52</td>\n",
       "    </tr>\n",
       "    <tr>\n",
       "      <th>3</th>\n",
       "      <td>wii sports resort</td>\n",
       "      <td>wii</td>\n",
       "      <td>2009-01-01</td>\n",
       "      <td>sports</td>\n",
       "      <td>15.61</td>\n",
       "      <td>10.93</td>\n",
       "      <td>3.28</td>\n",
       "      <td>2.95</td>\n",
       "      <td>80.0</td>\n",
       "      <td>8.0</td>\n",
       "      <td>E</td>\n",
       "      <td>32.77</td>\n",
       "    </tr>\n",
       "    <tr>\n",
       "      <th>4</th>\n",
       "      <td>pokemon red/pokemon blue</td>\n",
       "      <td>gb</td>\n",
       "      <td>1996-01-01</td>\n",
       "      <td>role-playing</td>\n",
       "      <td>11.27</td>\n",
       "      <td>8.89</td>\n",
       "      <td>10.22</td>\n",
       "      <td>1.00</td>\n",
       "      <td>1000.0</td>\n",
       "      <td>100.0</td>\n",
       "      <td>TBD</td>\n",
       "      <td>31.38</td>\n",
       "    </tr>\n",
       "  </tbody>\n",
       "</table>\n",
       "</div>"
      ],
      "text/plain": [
       "                       name platform year_of_release         genre  na_sales  \\\n",
       "0                wii sports      wii      2006-01-01        sports     41.36   \n",
       "1         super mario bros.      nes      1985-01-01      platform     29.08   \n",
       "2            mario kart wii      wii      2008-01-01        racing     15.68   \n",
       "3         wii sports resort      wii      2009-01-01        sports     15.61   \n",
       "4  pokemon red/pokemon blue       gb      1996-01-01  role-playing     11.27   \n",
       "\n",
       "   eu_sales  jp_sales  other_sales  critic_score  user_score rating  \\\n",
       "0     28.96      3.77         8.45          76.0         8.0      E   \n",
       "1      3.58      6.81         0.77        1000.0       100.0    TBD   \n",
       "2     12.76      3.79         3.29          82.0         8.3      E   \n",
       "3     10.93      3.28         2.95          80.0         8.0      E   \n",
       "4      8.89     10.22         1.00        1000.0       100.0    TBD   \n",
       "\n",
       "   total_sales  \n",
       "0        82.54  \n",
       "1        40.24  \n",
       "2        35.52  \n",
       "3        32.77  \n",
       "4        31.38  "
      ]
     },
     "execution_count": 16,
     "metadata": {},
     "output_type": "execute_result"
    }
   ],
   "source": [
    "# Посчитаем суммарные продажи во всех регионах и запишите их в отдельные столбцы total_sales\n",
    "df['total_sales'] = df['na_sales'] + df['eu_sales'] + df['jp_sales'] + df['other_sales']\n",
    "df.head()\n",
    "\n"
   ]
  },
  {
   "cell_type": "markdown",
   "id": "ab8bf978",
   "metadata": {},
   "source": [
    "Выводы по пропускам:\n",
    "* пропуски в названии игр и года выхода - скорее всего техническая ошибка - мы удалили такие строки\n",
    "* пропуски в оценках пользователей и критиков, рейтинге, жанре - это просто отсутсвие нужных оценок, такие данные оставляем"
   ]
  },
  {
   "cell_type": "markdown",
   "id": "b4167cba",
   "metadata": {},
   "source": [
    "## Исследовательский анализ данных"
   ]
  },
  {
   "cell_type": "markdown",
   "id": "9a418afa",
   "metadata": {},
   "source": [
    "### Анализ количества выпущенных игр по годам"
   ]
  },
  {
   "cell_type": "code",
   "execution_count": 17,
   "id": "7546c559",
   "metadata": {},
   "outputs": [
    {
     "data": {
      "text/plain": [
       "<AxesSubplot:xlabel='year_of_release'>"
      ]
     },
     "execution_count": 17,
     "metadata": {},
     "output_type": "execute_result"
    },
    {
     "data": {
      "image/png": "[encoded data removed]",
      "text/plain": [
       "<Figure size 1080x720 with 1 Axes>"
      ]
     },
     "metadata": {
      "needs_background": "light"
     },
     "output_type": "display_data"
    }
   ],
   "source": [
    "df.pivot_table(\n",
    "index = 'year_of_release',\n",
    "values = 'name',\n",
    "aggfunc = 'count').plot(grid = True, figsize = (15,10))"
   ]
  },
  {
   "cell_type": "markdown",
   "id": "036f0123",
   "metadata": {},
   "source": [
    "Выводы:\n",
    "* Максимум выпущенных игр пришелся на период 2005 - 2010 года, после 2008 года наблюдается спад рынка видеоигр\n",
    "* До 2000 года игр выпускалось мало - менее 400 игр в год, считаю этот период не важным для исследования\n",
    "* После 2013 года наблюдается небольшой рост рынка, предлагаем не использовать данные до 2013, также дальше мы увидим, что \n",
    "  это время появления платформ новых поколений"
   ]
  },
  {
   "cell_type": "markdown",
   "id": "7b6fe485",
   "metadata": {},
   "source": [
    "### Исследование продаж по платформам"
   ]
  },
  {
   "cell_type": "markdown",
   "id": "d26c3512",
   "metadata": {},
   "source": [
    "#### Поиск самых прибыльных платформ"
   ]
  },
  {
   "cell_type": "code",
   "execution_count": 18,
   "id": "76472804",
   "metadata": {
    "scrolled": false
   },
   "outputs": [
    {
     "data": {
      "text/html": [
       "<div>\n",
       "<style scoped>\n",
       "    .dataframe tbody tr th:only-of-type {\n",
       "        vertical-align: middle;\n",
       "    }\n",
       "\n",
       "    .dataframe tbody tr th {\n",
       "        vertical-align: top;\n",
       "    }\n",
       "\n",
       "    .dataframe thead th {\n",
       "        text-align: right;\n",
       "    }\n",
       "</style>\n",
       "<table border=\"1\" class=\"dataframe\">\n",
       "  <thead>\n",
       "    <tr style=\"text-align: right;\">\n",
       "      <th></th>\n",
       "      <th>platform</th>\n",
       "      <th>total_sales</th>\n",
       "    </tr>\n",
       "  </thead>\n",
       "  <tbody>\n",
       "    <tr>\n",
       "      <th>0</th>\n",
       "      <td>ps4</td>\n",
       "      <td>288.15</td>\n",
       "    </tr>\n",
       "    <tr>\n",
       "      <th>1</th>\n",
       "      <td>xone</td>\n",
       "      <td>140.36</td>\n",
       "    </tr>\n",
       "    <tr>\n",
       "      <th>2</th>\n",
       "      <td>3ds</td>\n",
       "      <td>86.68</td>\n",
       "    </tr>\n",
       "    <tr>\n",
       "      <th>3</th>\n",
       "      <td>ps3</td>\n",
       "      <td>68.18</td>\n",
       "    </tr>\n",
       "    <tr>\n",
       "      <th>4</th>\n",
       "      <td>x360</td>\n",
       "      <td>48.22</td>\n",
       "    </tr>\n",
       "    <tr>\n",
       "      <th>5</th>\n",
       "      <td>wiiu</td>\n",
       "      <td>42.98</td>\n",
       "    </tr>\n",
       "    <tr>\n",
       "      <th>6</th>\n",
       "      <td>pc</td>\n",
       "      <td>27.05</td>\n",
       "    </tr>\n",
       "    <tr>\n",
       "      <th>7</th>\n",
       "      <td>psv</td>\n",
       "      <td>22.40</td>\n",
       "    </tr>\n",
       "    <tr>\n",
       "      <th>8</th>\n",
       "      <td>wii</td>\n",
       "      <td>5.07</td>\n",
       "    </tr>\n",
       "    <tr>\n",
       "      <th>9</th>\n",
       "      <td>psp</td>\n",
       "      <td>0.36</td>\n",
       "    </tr>\n",
       "  </tbody>\n",
       "</table>\n",
       "</div>"
      ],
      "text/plain": [
       "  platform  total_sales\n",
       "0      ps4       288.15\n",
       "1     xone       140.36\n",
       "2      3ds        86.68\n",
       "3      ps3        68.18\n",
       "4     x360        48.22\n",
       "5     wiiu        42.98\n",
       "6       pc        27.05\n",
       "7      psv        22.40\n",
       "8      wii         5.07\n",
       "9      psp         0.36"
      ]
     },
     "execution_count": 18,
     "metadata": {},
     "output_type": "execute_result"
    }
   ],
   "source": [
    "# Найдём 5 самых прибыльных платформ после 2013\n",
    "top_platform = df.query('year_of_release > 2013').pivot_table(index = ['platform'], values = 'total_sales', aggfunc = 'sum').sort_values(by = 'total_sales',ascending = False).reset_index().head(10)\n",
    "top_platform"
   ]
  },
  {
   "cell_type": "markdown",
   "id": "40073453",
   "metadata": {},
   "source": [
    "#### Графики продаж для топ-5 платформ по годам"
   ]
  },
  {
   "cell_type": "code",
   "execution_count": 19,
   "id": "daf082b0",
   "metadata": {},
   "outputs": [
    {
     "data": {
      "text/html": [
       "<div>\n",
       "<style scoped>\n",
       "    .dataframe tbody tr th:only-of-type {\n",
       "        vertical-align: middle;\n",
       "    }\n",
       "\n",
       "    .dataframe tbody tr th {\n",
       "        vertical-align: top;\n",
       "    }\n",
       "\n",
       "    .dataframe thead th {\n",
       "        text-align: right;\n",
       "    }\n",
       "</style>\n",
       "<table border=\"1\" class=\"dataframe\">\n",
       "  <thead>\n",
       "    <tr style=\"text-align: right;\">\n",
       "      <th></th>\n",
       "      <th>platform</th>\n",
       "      <th>year_of_release</th>\n",
       "      <th>total_sales</th>\n",
       "    </tr>\n",
       "  </thead>\n",
       "  <tbody>\n",
       "    <tr>\n",
       "      <th>0</th>\n",
       "      <td>3ds</td>\n",
       "      <td>2011-01-01</td>\n",
       "      <td>63.20</td>\n",
       "    </tr>\n",
       "    <tr>\n",
       "      <th>1</th>\n",
       "      <td>3ds</td>\n",
       "      <td>2012-01-01</td>\n",
       "      <td>51.36</td>\n",
       "    </tr>\n",
       "    <tr>\n",
       "      <th>2</th>\n",
       "      <td>3ds</td>\n",
       "      <td>2013-01-01</td>\n",
       "      <td>56.57</td>\n",
       "    </tr>\n",
       "    <tr>\n",
       "      <th>3</th>\n",
       "      <td>3ds</td>\n",
       "      <td>2014-01-01</td>\n",
       "      <td>43.76</td>\n",
       "    </tr>\n",
       "    <tr>\n",
       "      <th>4</th>\n",
       "      <td>3ds</td>\n",
       "      <td>2015-01-01</td>\n",
       "      <td>27.78</td>\n",
       "    </tr>\n",
       "  </tbody>\n",
       "</table>\n",
       "</div>"
      ],
      "text/plain": [
       "  platform year_of_release  total_sales\n",
       "0      3ds      2011-01-01        63.20\n",
       "1      3ds      2012-01-01        51.36\n",
       "2      3ds      2013-01-01        56.57\n",
       "3      3ds      2014-01-01        43.76\n",
       "4      3ds      2015-01-01        27.78"
      ]
     },
     "execution_count": 19,
     "metadata": {},
     "output_type": "execute_result"
    }
   ],
   "source": [
    "df_grouped_by_platform =  df.query('year_of_release > 2004').pivot_table(index = ['platform', 'year_of_release'],\n",
    "                                       values = 'total_sales',\n",
    "                                       aggfunc = 'sum').reset_index()\n",
    "df_grouped_by_platform.head()"
   ]
  },
  {
   "cell_type": "code",
   "execution_count": 20,
   "id": "1320fb95",
   "metadata": {},
   "outputs": [
    {
     "name": "stdout",
     "output_type": "stream",
     "text": [
      "Суммарные продажи по платформам\n"
     ]
    },
    {
     "data": {
      "image/png": "[encoded data removed]",
      "text/plain": [
       "<Figure size 1440x864 with 1 Axes>"
      ]
     },
     "metadata": {
      "needs_background": "light"
     },
     "output_type": "display_data"
    }
   ],
   "source": [
    "fig, ax = plt.subplots()\n",
    "fig.set_size_inches(20, 12)\n",
    "\n",
    "for platform in top_platform['platform']:\n",
    "    plt.plot(df_grouped_by_platform [df_grouped_by_platform['platform'] == platform]['year_of_release'],\n",
    "             df_grouped_by_platform [df_grouped_by_platform['platform'] == platform]['total_sales'],\n",
    "            label = platform)\n",
    "    \n",
    "plt.xlabel('год')\n",
    "plt.ylabel('продажи, млн')\n",
    "plt.grid()\n",
    "plt.legend()\n",
    "\n",
    "\n",
    "print('Суммарные продажи по платформам')\n",
    "plt.show()\n",
    "    "
   ]
  },
  {
   "cell_type": "markdown",
   "id": "ef17c74f",
   "metadata": {},
   "source": [
    "* Изучая график продаж игр по платформам мы пришли к выводу, что у платформы есть срок жизни то есть период, когда игры на эту платформу покупают. Это может быть 5-8 лет"
   ]
  },
  {
   "cell_type": "markdown",
   "id": "42f4c3ed",
   "metadata": {},
   "source": [
    "### График «ящик с усами» по глобальным продажам игр в разбивке по платформам."
   ]
  },
  {
   "cell_type": "code",
   "execution_count": 21,
   "id": "59d7f268",
   "metadata": {
    "scrolled": false
   },
   "outputs": [
    {
     "data": {
      "image/png": "[encoded data removed]",
      "text/plain": [
       "<Figure size 720x720 with 1 Axes>"
      ]
     },
     "metadata": {
      "needs_background": "light"
     },
     "output_type": "display_data"
    }
   ],
   "source": [
    "axes = df.query('year_of_release > 2013').boxplot(column=['total_sales'], by=['platform'], figsize=(10,10))\n",
    "plt.ylim(0,2)\n",
    "plt.show()"
   ]
  },
  {
   "cell_type": "markdown",
   "id": "34427356",
   "metadata": {},
   "source": [
    "В силу большого числа выбросов, график не информативен"
   ]
  },
  {
   "cell_type": "markdown",
   "id": "f4348c51",
   "metadata": {},
   "source": [
    "### Влияние отзывов на продажи"
   ]
  },
  {
   "cell_type": "markdown",
   "id": "b2487376",
   "metadata": {},
   "source": [
    "Хотим обратить внимание, что в данных о пользовательских оценок и оценок критиков  было использовано службное числовое значение \"100\" и \"1000\" для заполнения пропусков. Их мы не будем учитывать."
   ]
  },
  {
   "cell_type": "code",
   "execution_count": 22,
   "id": "a439775d",
   "metadata": {
    "scrolled": true
   },
   "outputs": [
    {
     "name": "stdout",
     "output_type": "stream",
     "text": [
      "Коэффициент корреляции для пользовательского рейтинга и -0.0917343450331075\n"
     ]
    },
    {
     "data": {
      "image/png": "[encoded data removed]",
      "text/plain": [
       "<Figure size 360x360 with 1 Axes>"
      ]
     },
     "metadata": {
      "needs_background": "light"
     },
     "output_type": "display_data"
    }
   ],
   "source": [
    "# выберем для проверки платформу Xbox One 🎮\n",
    "xbox_sales = df.query('year_of_release > 2013 and platform == \"xone\" and user_score!=100 and critic_score!=1000')\n",
    "\n",
    "# построим диаграмму рассеяния для пользовательского рейтинга\n",
    "xbox_sales.plot(x=['user_score'],\n",
    "                y=['total_sales'],\n",
    "                kind='scatter', grid = True,\n",
    "                figsize = (5,5));\n",
    "\n",
    "print('Коэффициент корреляции для пользовательского рейтинга и',xbox_sales['user_score'].corr(xbox_sales['total_sales']) )\n"
   ]
  },
  {
   "cell_type": "code",
   "execution_count": 23,
   "id": "6c6ca765",
   "metadata": {
    "scrolled": true
   },
   "outputs": [
    {
     "name": "stdout",
     "output_type": "stream",
     "text": [
      "Коэффициент корреляции для рейтинга критиков 0.42211185105557647\n"
     ]
    },
    {
     "data": {
      "image/png": "[encoded data removed]",
      "text/plain": [
       "<Figure size 360x360 with 1 Axes>"
      ]
     },
     "metadata": {
      "needs_background": "light"
     },
     "output_type": "display_data"
    }
   ],
   "source": [
    "# построим диаграмму рассеяния для рейтинга критиков\n",
    "xbox_sales.plot(x=['critic_score'],\n",
    "                y=['total_sales'],\n",
    "                kind='scatter', grid = True,\n",
    "                figsize = (5,5));\n",
    "\n",
    "print('Коэффициент корреляции для рейтинга критиков',xbox_sales['critic_score'].corr(xbox_sales['total_sales']) )"
   ]
  },
  {
   "cell_type": "markdown",
   "id": "06041d45",
   "metadata": {},
   "source": [
    "Сравноим эти результаты с результатми на платформе PS4"
   ]
  },
  {
   "cell_type": "code",
   "execution_count": 24,
   "id": "c48f5967",
   "metadata": {},
   "outputs": [
    {
     "name": "stdout",
     "output_type": "stream",
     "text": [
      "Коэффициент корреляции для пользовательского рейтинга и -0.04318585997193634\n"
     ]
    },
    {
     "data": {
      "image/png": "[encoded data removed]",
      "text/plain": [
       "<Figure size 360x360 with 1 Axes>"
      ]
     },
     "metadata": {
      "needs_background": "light"
     },
     "output_type": "display_data"
    }
   ],
   "source": [
    "# выберем для проверки платформу  PS4\n",
    "ps4_sales = df.query('year_of_release > 2013 and platform == \"ps4\" and user_score!=100 and critic_score!=1000')\n",
    "\n",
    "# построим диаграмму рассеяния для пользовательского рейтинга\n",
    "ps4_sales.plot(x=['user_score'],\n",
    "                y=['total_sales'],\n",
    "                kind='scatter', grid = True,\n",
    "                figsize = (5,5));\n",
    "\n",
    "print('Коэффициент корреляции для пользовательского рейтинга и',ps4_sales['user_score'].corr(ps4_sales['total_sales']) )"
   ]
  },
  {
   "cell_type": "code",
   "execution_count": 25,
   "id": "e9d7f230",
   "metadata": {},
   "outputs": [
    {
     "name": "stdout",
     "output_type": "stream",
     "text": [
      "Коэффициент корреляции для рейтинга критиков 0.40190287811475334\n"
     ]
    },
    {
     "data": {
      "image/png": "[encoded data removed]",
      "text/plain": [
       "<Figure size 360x360 with 1 Axes>"
      ]
     },
     "metadata": {
      "needs_background": "light"
     },
     "output_type": "display_data"
    }
   ],
   "source": [
    "# построим диаграмму рассеяния для рейтинга критиков\n",
    "ps4_sales.plot(x=['critic_score'],\n",
    "                y=['total_sales'],\n",
    "                kind='scatter', grid = True,\n",
    "                figsize = (5,5));\n",
    "\n",
    "print('Коэффициент корреляции для рейтинга критиков',ps4_sales['critic_score'].corr(ps4_sales['total_sales']) )"
   ]
  },
  {
   "cell_type": "code",
   "execution_count": 26,
   "id": "251ee173",
   "metadata": {},
   "outputs": [
    {
     "name": "stdout",
     "output_type": "stream",
     "text": [
      "Коэффициент корреляции для пользовательского рейтинга и 0.2798498792503281\n"
     ]
    },
    {
     "data": {
      "image/png": "[encoded data removed]",
      "text/plain": [
       "<Figure size 360x360 with 1 Axes>"
      ]
     },
     "metadata": {
      "needs_background": "light"
     },
     "output_type": "display_data"
    }
   ],
   "source": [
    "\n",
    "# выберем для проверки платформу  3ds\n",
    "ds_sales = df.query('year_of_release > 2013 and platform == \"3ds\" and user_score!=100 and critic_score!=1000')\n",
    "\n",
    "# построим диаграмму рассеяния для пользовательского рейтинга\n",
    "ds_sales.plot(x=['user_score'],\n",
    "                y=['total_sales'],\n",
    "                kind='scatter', grid = True,\n",
    "                figsize = (5,5));\n",
    "\n",
    "print('Коэффициент корреляции для пользовательского рейтинга и',ds_sales['user_score'].corr(ds_sales['total_sales']) )"
   ]
  },
  {
   "cell_type": "code",
   "execution_count": 27,
   "id": "b52d7b98",
   "metadata": {},
   "outputs": [
    {
     "name": "stdout",
     "output_type": "stream",
     "text": [
      "Коэффициент корреляции для рейтинга критиков 0.28468579095782925\n"
     ]
    },
    {
     "data": {
      "image/png": "[encoded data removed]",
      "text/plain": [
       "<Figure size 360x360 with 1 Axes>"
      ]
     },
     "metadata": {
      "needs_background": "light"
     },
     "output_type": "display_data"
    }
   ],
   "source": [
    "# построим диаграмму рассеяния для рейтинга критиков\n",
    "ds_sales.plot(x=['critic_score'],\n",
    "                y=['total_sales'],\n",
    "                kind='scatter', grid = True,\n",
    "                figsize = (5,5));\n",
    "\n",
    "print('Коэффициент корреляции для рейтинга критиков',ds_sales['critic_score'].corr(ds_sales['total_sales']) )"
   ]
  },
  {
   "cell_type": "markdown",
   "id": "9cf75eb1",
   "metadata": {},
   "source": [
    "* Мы проанализоровали влияние оценок пользователей и критиков на продажи в срезах разных платформ и пришли к выводу, что оценки пользователей практически не влияют на продажи. Оценки критиков влияют положительно (лучше оценка - лучше продажи, коэффициент корреляции ~ 0.5)\n",
    "* также заметим, что игры без рейтинга тоже продаются"
   ]
  },
  {
   "cell_type": "markdown",
   "id": "de29e88f",
   "metadata": {},
   "source": [
    "### Общее распределение игр по жанрам."
   ]
  },
  {
   "cell_type": "code",
   "execution_count": 28,
   "id": "060456d4",
   "metadata": {},
   "outputs": [
    {
     "data": {
      "image/png": "[encoded data removed]",
      "text/plain": [
       "<Figure size 1080x432 with 1 Axes>"
      ]
     },
     "metadata": {
      "needs_background": "light"
     },
     "output_type": "display_data"
    }
   ],
   "source": [
    "# сгруппируем общие продажи по жанрам и узнаем медиану продаж\n",
    "genre_sales = df.query('year_of_release > 2013').pivot_table(\n",
    "    index = 'genre',\n",
    "    values = 'total_sales',\n",
    "    aggfunc = 'mean').reset_index().sort_values(\n",
    "    by = 'total_sales',\n",
    "    ascending = False)\n",
    "\n",
    "\n",
    "plt.figure(figsize=(15,6))\n",
    "plt.grid()\n",
    "plt.bar(genre_sales['genre'], genre_sales['total_sales'])\n",
    "plt.show()"
   ]
  },
  {
   "cell_type": "markdown",
   "id": "743a7932",
   "metadata": {},
   "source": [
    "Выводы:\n",
    "\n",
    "*  Жанр, где игры стабильно приносят высокий доход это шутеры\n",
    "* на втором месте - жанр спортивных игр"
   ]
  },
  {
   "cell_type": "markdown",
   "id": "67fbd078",
   "metadata": {},
   "source": [
    "<div class=\"alert-success\">\n",
    "<b>Комментарий ревьюера V2 ✔️</b>\n",
    "\n",
    "Верно, теперь и лидер прибыльности поменялся.</div>"
   ]
  },
  {
   "cell_type": "markdown",
   "id": "1149869e",
   "metadata": {},
   "source": [
    "### Выводы исследовательского анализа"
   ]
  },
  {
   "cell_type": "markdown",
   "id": "0eaddcfb",
   "metadata": {},
   "source": [
    "* Изучая график продаж игр по платформам мы пришли к выводу, что у платформы есть срок жизни\n",
    "  то есть период, когда игры на эту платформу покупают. Это может быть 5-8 лет\n",
    "* Максимум выпущенных игр пришелся на период 2005 - 2010 года, после 2008 года наблюдается спад рынка видеоигр\n",
    "* До 2000 года игр выпускалось мало - менее 400 игр в год, считаю этот период не важным для исследования\n",
    "* После 2013 года наблюдается небольшой рост рынка, предлагаем не использовать данные до 2013, также дальше мы увидим, что \n",
    "  это время появления платформ новых поколений\n",
    "* Проанализировав графики продаж и приняв во внимание, что данные за 2016 год (последний в данных) не полные, можно назвать лидеров по продажам - это платформы Xbox One и Sony PlayStation   Они единственные демонстрируют рост продаж и их можно назвать перспективными\n",
    "* Остальные платформы демонстрируют спад продаж\n",
    "* Мы проанализоровали влияние оценок пользователей и критиков на продажи в срезах разных    платформ и пришли к выводу, что \n",
    "  оценки пользователей практически не влияют на продажи. Оценки критиков влияют положительно (лучше оценка - лучше продажи, коэффициент корреляции ~ 0.5)\n",
    "*  Самыми прибильными жанрами являютмся - Shooter, Sports. Platform, fighting и role-playing делят третье место\n",
    "* Явные аутсайдеры это Strategy, Puzzle и Adventure. Видимо век стратегий и квестов прошёл :("
   ]
  },
  {
   "cell_type": "markdown",
   "id": "d2006d69",
   "metadata": {},
   "source": [
    "## Составим портрет пользователя каждого региона"
   ]
  },
  {
   "cell_type": "markdown",
   "id": "fea8f063",
   "metadata": {},
   "source": [
    "### Самые популярные платформы (топ-5)."
   ]
  },
  {
   "cell_type": "markdown",
   "id": "82531804",
   "metadata": {},
   "source": [
    "#### Северная Америка"
   ]
  },
  {
   "cell_type": "code",
   "execution_count": 29,
   "id": "bb8d1d4d",
   "metadata": {},
   "outputs": [
    {
     "data": {
      "image/png": "[encoded data removed]",
      "text/plain": [
       "<Figure size 432x288 with 1 Axes>"
      ]
     },
     "metadata": {},
     "output_type": "display_data"
    }
   ],
   "source": [
    "top_5_na = df.query('year_of_release > 2013').pivot_table(\n",
    "    index = 'platform',\n",
    "    values = 'na_sales',\n",
    "    aggfunc = 'sum').reset_index().sort_values(by = 'na_sales', ascending = False).head()\n",
    "\n",
    "fig1, ax1 = plt.subplots()\n",
    "labels = top_5_na['platform']\n",
    "ax1.pie(top_5_na['na_sales'], labels = labels, autopct='%1.1f%%',\n",
    "        shadow=True, startangle=90)\n",
    "ax1.axis('equal')\n",
    "plt.xlabel('ТОП 5 ПЛАТФОРМ В СЕВЕРНОЙ АМЕРИКЕ')\n",
    "plt.show()"
   ]
  },
  {
   "cell_type": "markdown",
   "id": "34057adb",
   "metadata": {},
   "source": [
    "#### Европа"
   ]
  },
  {
   "cell_type": "code",
   "execution_count": 30,
   "id": "b97a8f18",
   "metadata": {},
   "outputs": [
    {
     "data": {
      "image/png": "[encoded data removed]",
      "text/plain": [
       "<Figure size 432x288 with 1 Axes>"
      ]
     },
     "metadata": {},
     "output_type": "display_data"
    }
   ],
   "source": [
    "top_5_eu = df.query('year_of_release > 2013').pivot_table(\n",
    "    index = 'platform',\n",
    "    values = 'eu_sales',\n",
    "    aggfunc = 'sum').reset_index().sort_values(by = 'eu_sales', ascending = False).head()\n",
    "\n",
    "fig1, ax1 = plt.subplots()\n",
    "labels = top_5_eu['platform']\n",
    "ax1.pie(top_5_eu['eu_sales'], labels = labels, autopct='%1.1f%%',\n",
    "        shadow=True, startangle=90)\n",
    "ax1.axis('equal')\n",
    "plt.xlabel('ТОП 5 ПЛАТФОРМ В ЕВРОПЕ')\n",
    "plt.show()"
   ]
  },
  {
   "cell_type": "markdown",
   "id": "641e3b10",
   "metadata": {},
   "source": [
    "#### Япония"
   ]
  },
  {
   "cell_type": "code",
   "execution_count": 31,
   "id": "fc9cb040",
   "metadata": {},
   "outputs": [
    {
     "data": {
      "image/png": "[encoded data removed]",
      "text/plain": [
       "<Figure size 432x288 with 1 Axes>"
      ]
     },
     "metadata": {},
     "output_type": "display_data"
    }
   ],
   "source": [
    "top_5_jp = df.query('year_of_release > 2013').pivot_table(\n",
    "    index = 'platform',\n",
    "    values = 'jp_sales',\n",
    "    aggfunc = 'sum').reset_index().sort_values(by = 'jp_sales', ascending = False).head()\n",
    "\n",
    "fig1, ax1 = plt.subplots()\n",
    "labels = top_5_jp['platform']\n",
    "ax1.pie(top_5_jp['jp_sales'], labels = labels, autopct='%1.1f%%',\n",
    "        shadow=True, startangle=90)\n",
    "ax1.axis('equal')\n",
    "plt.xlabel('ТОП 5 ПЛАТФОРМ В ЯПОНИИ')\n",
    "plt.show()"
   ]
  },
  {
   "cell_type": "markdown",
   "id": "9e13e545",
   "metadata": {},
   "source": [
    "### Самые популярные жанры (топ-5)."
   ]
  },
  {
   "cell_type": "markdown",
   "id": "6ff16205",
   "metadata": {},
   "source": [
    "#### Северная Америка"
   ]
  },
  {
   "cell_type": "code",
   "execution_count": 32,
   "id": "d98c31c3",
   "metadata": {},
   "outputs": [
    {
     "data": {
      "image/png": "[encoded data removed]",
      "text/plain": [
       "<Figure size 432x288 with 1 Axes>"
      ]
     },
     "metadata": {},
     "output_type": "display_data"
    }
   ],
   "source": [
    "top_5_na_genre = df.query('year_of_release > 2013').pivot_table(\n",
    "    index = 'genre',\n",
    "    values = 'na_sales',\n",
    "    aggfunc = 'sum').reset_index().sort_values(by = 'na_sales', ascending = False).head()\n",
    "\n",
    "fig1, ax1 = plt.subplots()\n",
    "labels = top_5_na_genre['genre']\n",
    "ax1.pie(top_5_na_genre['na_sales'], labels = labels, autopct='%1.1f%%',\n",
    "        shadow=True, startangle=90)\n",
    "ax1.axis('equal')\n",
    "plt.xlabel('ТОП 5 ЖАНРОВ В СЕВЕРНОЙ АМЕРИКЕ')\n",
    "plt.show()"
   ]
  },
  {
   "cell_type": "markdown",
   "id": "c81b386f",
   "metadata": {},
   "source": [
    "#### Европа"
   ]
  },
  {
   "cell_type": "code",
   "execution_count": 33,
   "id": "10217d7c",
   "metadata": {},
   "outputs": [
    {
     "data": {
      "image/png": "[encoded data removed]",
      "text/plain": [
       "<Figure size 432x288 with 1 Axes>"
      ]
     },
     "metadata": {},
     "output_type": "display_data"
    }
   ],
   "source": [
    "top_5_eu_genre = df.query('year_of_release > 2013').pivot_table(\n",
    "    index = 'genre',\n",
    "    values = 'eu_sales',\n",
    "    aggfunc = 'sum').reset_index().sort_values(by = 'eu_sales', ascending = False).head()\n",
    "\n",
    "fig1, ax1 = plt.subplots()\n",
    "labels = top_5_eu_genre['genre']\n",
    "ax1.pie(top_5_eu_genre['eu_sales'], labels = labels, autopct='%1.1f%%',\n",
    "        shadow=True, startangle=90)\n",
    "ax1.axis('equal')\n",
    "plt.xlabel('ТОП 5 ЖАНРОВ В ЕВРОПЕ')\n",
    "plt.show()"
   ]
  },
  {
   "cell_type": "markdown",
   "id": "7f2de6d1",
   "metadata": {},
   "source": [
    "#### Япония"
   ]
  },
  {
   "cell_type": "code",
   "execution_count": 34,
   "id": "0436d469",
   "metadata": {},
   "outputs": [
    {
     "data": {
      "image/png": "[encoded data removed]",
      "text/plain": [
       "<Figure size 432x288 with 1 Axes>"
      ]
     },
     "metadata": {},
     "output_type": "display_data"
    }
   ],
   "source": [
    "top_5_jp_genre = df.query('year_of_release > 2013').pivot_table(\n",
    "    index = 'genre',\n",
    "    values = 'jp_sales',\n",
    "    aggfunc = 'sum').reset_index().sort_values(by = 'jp_sales', ascending = False).head()\n",
    "\n",
    "fig1, ax1 = plt.subplots()\n",
    "labels = top_5_jp_genre['genre']\n",
    "ax1.pie(top_5_jp_genre['jp_sales'], labels = labels, autopct='%1.1f%%',\n",
    "        shadow=True, startangle=90)\n",
    "ax1.axis('equal')\n",
    "plt.xlabel('ТОП 5 ЖАНРОВ В ЯПОНИИ')\n",
    "plt.show()"
   ]
  },
  {
   "cell_type": "markdown",
   "id": "9a1f1109",
   "metadata": {},
   "source": [
    "### Влияние рейтинга ESRB на продажи в отдельных регионах"
   ]
  },
  {
   "cell_type": "markdown",
   "id": "2510abb0",
   "metadata": {},
   "source": [
    "#### Северная Америка"
   ]
  },
  {
   "cell_type": "code",
   "execution_count": 35,
   "id": "a7fc0a7a",
   "metadata": {},
   "outputs": [
    {
     "data": {
      "text/html": [
       "<div>\n",
       "<style scoped>\n",
       "    .dataframe tbody tr th:only-of-type {\n",
       "        vertical-align: middle;\n",
       "    }\n",
       "\n",
       "    .dataframe tbody tr th {\n",
       "        vertical-align: top;\n",
       "    }\n",
       "\n",
       "    .dataframe thead th {\n",
       "        text-align: right;\n",
       "    }\n",
       "</style>\n",
       "<table border=\"1\" class=\"dataframe\">\n",
       "  <thead>\n",
       "    <tr style=\"text-align: right;\">\n",
       "      <th></th>\n",
       "      <th>rating</th>\n",
       "      <th>na_sales</th>\n",
       "    </tr>\n",
       "  </thead>\n",
       "  <tbody>\n",
       "    <tr>\n",
       "      <th>2</th>\n",
       "      <td>M</td>\n",
       "      <td>96.42</td>\n",
       "    </tr>\n",
       "    <tr>\n",
       "      <th>4</th>\n",
       "      <td>TBD</td>\n",
       "      <td>64.72</td>\n",
       "    </tr>\n",
       "    <tr>\n",
       "      <th>0</th>\n",
       "      <td>E</td>\n",
       "      <td>50.74</td>\n",
       "    </tr>\n",
       "    <tr>\n",
       "      <th>3</th>\n",
       "      <td>T</td>\n",
       "      <td>38.95</td>\n",
       "    </tr>\n",
       "    <tr>\n",
       "      <th>1</th>\n",
       "      <td>E10+</td>\n",
       "      <td>33.23</td>\n",
       "    </tr>\n",
       "  </tbody>\n",
       "</table>\n",
       "</div>"
      ],
      "text/plain": [
       "  rating  na_sales\n",
       "2      M     96.42\n",
       "4    TBD     64.72\n",
       "0      E     50.74\n",
       "3      T     38.95\n",
       "1   E10+     33.23"
      ]
     },
     "execution_count": 35,
     "metadata": {},
     "output_type": "execute_result"
    }
   ],
   "source": [
    "df.query('year_of_release > 2013').pivot_table(\n",
    "    index = 'rating',\n",
    "    values = 'na_sales',\n",
    "    aggfunc = 'sum').reset_index().sort_values(by = 'na_sales', ascending = False)"
   ]
  },
  {
   "cell_type": "markdown",
   "id": "9527c309",
   "metadata": {},
   "source": [
    "#### Европа"
   ]
  },
  {
   "cell_type": "code",
   "execution_count": 36,
   "id": "22a88332",
   "metadata": {},
   "outputs": [
    {
     "data": {
      "text/html": [
       "<div>\n",
       "<style scoped>\n",
       "    .dataframe tbody tr th:only-of-type {\n",
       "        vertical-align: middle;\n",
       "    }\n",
       "\n",
       "    .dataframe tbody tr th {\n",
       "        vertical-align: top;\n",
       "    }\n",
       "\n",
       "    .dataframe thead th {\n",
       "        text-align: right;\n",
       "    }\n",
       "</style>\n",
       "<table border=\"1\" class=\"dataframe\">\n",
       "  <thead>\n",
       "    <tr style=\"text-align: right;\">\n",
       "      <th></th>\n",
       "      <th>rating</th>\n",
       "      <th>eu_sales</th>\n",
       "    </tr>\n",
       "  </thead>\n",
       "  <tbody>\n",
       "    <tr>\n",
       "      <th>2</th>\n",
       "      <td>M</td>\n",
       "      <td>93.44</td>\n",
       "    </tr>\n",
       "    <tr>\n",
       "      <th>4</th>\n",
       "      <td>TBD</td>\n",
       "      <td>58.95</td>\n",
       "    </tr>\n",
       "    <tr>\n",
       "      <th>0</th>\n",
       "      <td>E</td>\n",
       "      <td>58.06</td>\n",
       "    </tr>\n",
       "    <tr>\n",
       "      <th>3</th>\n",
       "      <td>T</td>\n",
       "      <td>34.07</td>\n",
       "    </tr>\n",
       "    <tr>\n",
       "      <th>1</th>\n",
       "      <td>E10+</td>\n",
       "      <td>26.16</td>\n",
       "    </tr>\n",
       "  </tbody>\n",
       "</table>\n",
       "</div>"
      ],
      "text/plain": [
       "  rating  eu_sales\n",
       "2      M     93.44\n",
       "4    TBD     58.95\n",
       "0      E     58.06\n",
       "3      T     34.07\n",
       "1   E10+     26.16"
      ]
     },
     "execution_count": 36,
     "metadata": {},
     "output_type": "execute_result"
    }
   ],
   "source": [
    "df.query('year_of_release > 2013').pivot_table(\n",
    "    index = 'rating',\n",
    "    values = 'eu_sales',\n",
    "    aggfunc = 'sum').reset_index().sort_values(by = 'eu_sales', ascending = False)"
   ]
  },
  {
   "cell_type": "markdown",
   "id": "66919006",
   "metadata": {},
   "source": [
    "#### Япония"
   ]
  },
  {
   "cell_type": "code",
   "execution_count": 37,
   "id": "38166f5f",
   "metadata": {},
   "outputs": [
    {
     "data": {
      "text/html": [
       "<div>\n",
       "<style scoped>\n",
       "    .dataframe tbody tr th:only-of-type {\n",
       "        vertical-align: middle;\n",
       "    }\n",
       "\n",
       "    .dataframe tbody tr th {\n",
       "        vertical-align: top;\n",
       "    }\n",
       "\n",
       "    .dataframe thead th {\n",
       "        text-align: right;\n",
       "    }\n",
       "</style>\n",
       "<table border=\"1\" class=\"dataframe\">\n",
       "  <thead>\n",
       "    <tr style=\"text-align: right;\">\n",
       "      <th></th>\n",
       "      <th>rating</th>\n",
       "      <th>jp_sales</th>\n",
       "    </tr>\n",
       "  </thead>\n",
       "  <tbody>\n",
       "    <tr>\n",
       "      <th>4</th>\n",
       "      <td>TBD</td>\n",
       "      <td>56.90</td>\n",
       "    </tr>\n",
       "    <tr>\n",
       "      <th>3</th>\n",
       "      <td>T</td>\n",
       "      <td>14.78</td>\n",
       "    </tr>\n",
       "    <tr>\n",
       "      <th>0</th>\n",
       "      <td>E</td>\n",
       "      <td>8.94</td>\n",
       "    </tr>\n",
       "    <tr>\n",
       "      <th>2</th>\n",
       "      <td>M</td>\n",
       "      <td>8.01</td>\n",
       "    </tr>\n",
       "    <tr>\n",
       "      <th>1</th>\n",
       "      <td>E10+</td>\n",
       "      <td>4.46</td>\n",
       "    </tr>\n",
       "  </tbody>\n",
       "</table>\n",
       "</div>"
      ],
      "text/plain": [
       "  rating  jp_sales\n",
       "4    TBD     56.90\n",
       "3      T     14.78\n",
       "0      E      8.94\n",
       "2      M      8.01\n",
       "1   E10+      4.46"
      ]
     },
     "execution_count": 37,
     "metadata": {},
     "output_type": "execute_result"
    }
   ],
   "source": [
    "df.query('year_of_release > 2013').pivot_table(\n",
    "    index = 'rating',\n",
    "    values = 'jp_sales',\n",
    "    aggfunc = 'sum').reset_index().sort_values(by = 'jp_sales', ascending = False)"
   ]
  },
  {
   "cell_type": "markdown",
   "id": "e520020c",
   "metadata": {},
   "source": [
    "Выводы о влиянии рейтинга ESRB:\n",
    "* Игры без рейтинга входят в топ продаж в каждом регионе. Из этого можно сделать вывод что наличие рейтинга у игры не влияет на ее продажи\n",
    "    \n",
    "* В северноей америке и европе - самые большие продажи у категории M, в два раза меньше E\n",
    "    \n",
    "* В японии - самые большие продажи у игр без рейтинга, далее в четыре раза меньше категория T"
   ]
  },
  {
   "cell_type": "markdown",
   "id": "1975990d",
   "metadata": {},
   "source": [
    "### Выводы по портрету"
   ]
  },
  {
   "cell_type": "markdown",
   "id": "14802643",
   "metadata": {},
   "source": [
    "* В северной америке - лидирует по продажам PS4 и Xbox One\n",
    "они занимают 70% рынка. По жанрам ситуация аналогична\n",
    "общему распределению - в топе Shooter, Action, Sports\n",
    "Рейтинг ESRB - самые большие продажи у категории M,\n",
    "потом игры без рейтинга и Е."
   ]
  },
  {
   "cell_type": "markdown",
   "id": "f446f965",
   "metadata": {},
   "source": [
    "* В Европе PS4 преобладает над остальными платформами,\n",
    " она занимает больше половины рынка. По жанрам и рейтингу\n",
    " ESRB ситуация полностью повторяет северную америку"
   ]
  },
  {
   "cell_type": "markdown",
   "id": "7be2f8c7",
   "metadata": {},
   "source": [
    "* В Японии на первое место вырывается жанр ролевых игр,\n",
    "на втором с небольшим отставание Action. По платформам\n",
    "ситуация отличается - Nintendo 3ds на первом месте,\n",
    "остальное делят дргие поколения PLay Station и Nintendo\n",
    "Видимо японцы патриоты своих платформ.\n",
    "Рейтинг ESRB - самые большие продажи у игр без рейтинга,\n",
    "далее в четыре раза меньше категория T."
   ]
  },
  {
   "cell_type": "markdown",
   "id": "5c6a096e",
   "metadata": {},
   "source": [
    "## Проверка гипотез"
   ]
  },
  {
   "cell_type": "markdown",
   "id": "d0eb65f0",
   "metadata": {},
   "source": [
    "### Сравнение средних пользовательских рейтингов платформ Xbox One и PC"
   ]
  },
  {
   "cell_type": "markdown",
   "id": "4dcca500",
   "metadata": {},
   "source": [
    "Н0 - Средние пользовательские рейтинги платформ Xbox One и PC **равны**, т.е. средние значения равны. \n",
    "\n",
    "Н1 - Средние пользовательские рейтинги платформ Xbox One и PC **не равны**, т.е. средние значения не равны."
   ]
  },
  {
   "cell_type": "code",
   "execution_count": 38,
   "id": "ceabf9b6",
   "metadata": {},
   "outputs": [
    {
     "name": "stdout",
     "output_type": "stream",
     "text": [
      "Дисперсии отличаются на 18 %\n"
     ]
    }
   ],
   "source": [
    "# рассчитаем дисперсии выборок\n",
    "xbox_ratings = df.query('platform == \"xone\"')['user_score'].dropna()\n",
    "pc_ratings = df.query('platform == \"pc\"')['user_score'].dropna()\n",
    "\n",
    "\n",
    "# посчитаем дисепрсии\n",
    "xbox_variance = np.var(xbox_ratings)\n",
    "pc_variance = np.var(pc_ratings)\n",
    "\n",
    "# сравним дисперсии\n",
    "print('Дисперсии отличаются на',round(((xbox_variance - pc_variance)/pc_variance)*100),'%')"
   ]
  },
  {
   "cell_type": "code",
   "execution_count": 39,
   "id": "95d44e32",
   "metadata": {},
   "outputs": [
    {
     "name": "stdout",
     "output_type": "stream",
     "text": [
      "p-значение: 0.12649988964603429\n",
      "Не получилось отвергнуть нулевую гипотезу\n"
     ]
    }
   ],
   "source": [
    "alpha =0.05\n",
    "\n",
    "results = st.ttest_ind(\n",
    "    xbox_ratings, \n",
    "    pc_ratings,\n",
    "    equal_var = False) # проверим гипотезу о равенстве средних двух независимых совокупностей\n",
    "\n",
    "print('p-значение:',results.pvalue) # выведем на экран получившеся p-значение\n",
    "\n",
    "if results.pvalue < alpha: # сравним получившееся p-значение с заданным уровнем статистической значимости:\n",
    "    print(\"Отвергаем нулевую гипотезу\")\n",
    "else:\n",
    "    print(\"Не получилось отвергнуть нулевую гипотезу\")"
   ]
  },
  {
   "cell_type": "markdown",
   "id": "0a509540",
   "metadata": {},
   "source": [
    "### Сравнение средних пользовательские рейтинги жанров Action  и Sports"
   ]
  },
  {
   "cell_type": "markdown",
   "id": "e1d25fbb",
   "metadata": {},
   "source": [
    "Н0 - Средние пользовательские рейтинги жанров Action и Sports **равны**, т.е. средние значения равны. \n",
    "\n",
    "Н1 - Средние пользовательские рейтинги жанров Action и Sports **не равны**, т.е. средние значения не равны."
   ]
  },
  {
   "cell_type": "code",
   "execution_count": 40,
   "id": "731a9dcd",
   "metadata": {},
   "outputs": [
    {
     "name": "stdout",
     "output_type": "stream",
     "text": [
      "Дисперсии отличаются на -23 %\n"
     ]
    }
   ],
   "source": [
    "# рассчитаем дисперсии выборок\n",
    "action_ratings = df.query('genre == \"action\" and user_score!=100')['user_score'].dropna()\n",
    "sports_ratings = df.query('genre == \"sports\" and user_score!=100')['user_score'].dropna()\n",
    "\n",
    "\n",
    "# посчитаем дисепрсии\n",
    "action_variance = np.var(action_ratings)\n",
    "sports_variance = np.var(sports_ratings)\n",
    "\n",
    "# сравним дисперсии\n",
    "print('Дисперсии отличаются на',round(((action_variance - sports_variance)/sports_variance)*100),'%')"
   ]
  },
  {
   "cell_type": "code",
   "execution_count": 41,
   "id": "8bd64de6",
   "metadata": {},
   "outputs": [
    {
     "name": "stdout",
     "output_type": "stream",
     "text": [
      "p-значение: 0.07370217419278534\n",
      "Не получилось отвергнуть нулевую гипотезу\n"
     ]
    }
   ],
   "source": [
    "alpha =0.05\n",
    "\n",
    "results = st.ttest_ind(\n",
    "    action_ratings, \n",
    "    sports_ratings,\n",
    "    equal_var = False) # проверим гипотезу о равенстве средних двух независимых совокупностей\n",
    "\n",
    "print('p-значение:',results.pvalue) # выведем на экран получившеся p-значение\n",
    "\n",
    "if results.pvalue < alpha: # сравним получившееся p-значение с заданным уровнем статистической значимости:\n",
    "    print(\"Отвергаем нулевую гипотезу\")\n",
    "else:\n",
    "    print(\"Не получилось отвергнуть нулевую гипотезу\")"
   ]
  },
  {
   "cell_type": "markdown",
   "id": "f8d5ce72",
   "metadata": {},
   "source": [
    "### Выводы по гипотезам"
   ]
  },
  {
   "cell_type": "markdown",
   "id": "4e07ea55",
   "metadata": {},
   "source": [
    "В результате проверок гипотез получаем следующие выводы:\n",
    "* При сравнении средних оценок на \n",
    "Xbox One и PC,  p - значение оказалось ниже порогового, что позволяет заявить о равенстве\n",
    "средних пользовательских оценок на данных платформах.\n",
    "* Отвергаем гипотезу о средних пользовательские рейтинги жанров Action и Sports ввиду высокого p-значения"
   ]
  },
  {
   "cell_type": "markdown",
   "id": "acad15d9",
   "metadata": {},
   "source": [
    "## Общий вывод"
   ]
  },
  {
   "cell_type": "markdown",
   "id": "070bd895",
   "metadata": {},
   "source": [
    "* Изучая график продаж игр по платформам мы пришли к выводу, что у платформы есть срок жизни\n",
    "  то есть период, когда игры на эту платформу покупают. Это может быть 5-8 лет\n",
    "* Максимум выпущенных игр пришелся на период 2005 - 2010 года, после 2008 года наблюдается спад рынка видеоигр\n",
    "* До 2000 года игр выпускалось мало - менее 400 игр в год, считаю этот период не важным для исследования\n",
    "* После 2013 года наблюдается небольшой рост рынка, предлагаем не использовать данные до 2013, также дальше мы увидим, что \n",
    "  это время появления платформ новых поколений\n",
    "* Проанализировав графики продаж и приняв во внимание, что данные за 2016 год (последний в данных) не полные, можно назвать лидеров по продажам - это платформы `Xbox One и Sony PlayStation`. Они единственные демонстрируют рост продаж и их можно назвать перспективными\n",
    "* Остальные платформы демонстрируют спад продаж\n",
    "* Мы проанализоровали влияние оценок пользователей и критиков на продажи в срезах разных    платформ и пришли к выводу, что \n",
    "  оценки пользователей практически не влияют на продажи. Оценки критиков влияют положительно (лучше оценка - лучше продажи, коэффициент корреляции ~ 0.5)\n",
    "* Самыми прибильными жанрами являютмся - Shooter, Sports. Platform, fighting и role-playing делят третье место\n",
    "* Явные аутсайдеры это Strategy, Puzzle и Adventure. Видимо век стратегий и квестов прошёл :(\n",
    "* Игры без рейтинга ESRB входят в топ продаж в каждом регионе. Из этого можно сделать вывод что наличие рейтинга у игры не влияет на ее продажи :\n",
    "  * в северноей америке и европе - самые большие продажи у категории M, в два раза меньше E\n",
    "  * в японии - самые большие продажи у игр без рейтинга, далее в четыре раза меньше категория T\n",
    "* В северной америке - лидирует по продажам PS4 и Xbox One они занимают 70% рынка. По жанрам ситуация аналогична общему распределению - в топе Shooter, Action, Sports Рейтинг ESRB - самые большие продажи у категории M, потом игры без рейтинга и Е.\n",
    "* В Европе PS4 преобладает над остальными платформами, она занимает больше половины рынка. По жанрам и рейтингу ESRB ситуация полностью повторяет северную америку\n",
    "* В Японии на первое место вырывается жанр ролевых игр, на втором с небольшим отставание Action. По платформам ситуация отличается - Nintendo 3ds на первом месте, остальное делят дргие поколения PLay Station и Nintendo Видимо японцы патриоты своих платформ. Рейтинг ESRB - самые большие продажи у игр без рейтинга, далее в четыре раза меньше категория T.\n",
    "* В результате проверок гипотез получаем следующие выводы:\n",
    "  * При сравнении средних оценок на \n",
    "    Xbox One и PC,  p - значение оказалось ниже порогового, что позволяет заявить о равенстве\n",
    "    средних пользовательских оценок на данных платформах.\n",
    "  * Отвергаем гипотезу о средних пользовательские рейтинги жанров Action и Sports ввиду высокого p-значения\n"
   ]
  }
 ],
 "metadata": {
  "ExecuteTimeLog": [
   {
    "duration": 1353,
    "start_time": "2022-04-20T08:15:23.660Z"
   },
   {
    "duration": 82,
    "start_time": "2022-04-20T08:15:25.016Z"
   },
   {
    "duration": 15,
    "start_time": "2022-04-20T08:15:25.100Z"
   },
   {
    "duration": 20,
    "start_time": "2022-04-20T08:15:25.117Z"
   },
   {
    "duration": 27,
    "start_time": "2022-04-20T08:15:25.139Z"
   },
   {
    "duration": 21,
    "start_time": "2022-04-20T08:15:25.168Z"
   },
   {
    "duration": 16,
    "start_time": "2022-04-20T08:15:25.191Z"
   },
   {
    "duration": 11,
    "start_time": "2022-04-20T08:15:25.208Z"
   },
   {
    "duration": 12,
    "start_time": "2022-04-20T08:15:25.248Z"
   },
   {
    "duration": 14,
    "start_time": "2022-04-20T08:15:25.263Z"
   },
   {
    "duration": 17,
    "start_time": "2022-04-20T08:15:25.278Z"
   },
   {
    "duration": 12,
    "start_time": "2022-04-20T08:15:25.296Z"
   },
   {
    "duration": 53,
    "start_time": "2022-04-20T08:15:25.309Z"
   },
   {
    "duration": 15,
    "start_time": "2022-04-20T08:15:25.365Z"
   },
   {
    "duration": 22,
    "start_time": "2022-04-20T08:15:25.382Z"
   },
   {
    "duration": 288,
    "start_time": "2022-04-20T08:15:25.405Z"
   },
   {
    "duration": 18,
    "start_time": "2022-04-20T08:15:25.695Z"
   },
   {
    "duration": 39,
    "start_time": "2022-04-20T08:15:25.715Z"
   },
   {
    "duration": 612,
    "start_time": "2022-04-20T08:15:25.756Z"
   },
   {
    "duration": 329,
    "start_time": "2022-04-20T08:15:26.371Z"
   },
   {
    "duration": 162,
    "start_time": "2022-04-20T08:15:26.703Z"
   },
   {
    "duration": 145,
    "start_time": "2022-04-20T08:15:26.867Z"
   },
   {
    "duration": 160,
    "start_time": "2022-04-20T08:15:27.014Z"
   },
   {
    "duration": 145,
    "start_time": "2022-04-20T08:15:27.176Z"
   },
   {
    "duration": 252,
    "start_time": "2022-04-20T08:15:27.323Z"
   },
   {
    "duration": 224,
    "start_time": "2022-04-20T08:15:27.577Z"
   },
   {
    "duration": 181,
    "start_time": "2022-04-20T08:15:27.803Z"
   },
   {
    "duration": 124,
    "start_time": "2022-04-20T08:15:27.985Z"
   },
   {
    "duration": 122,
    "start_time": "2022-04-20T08:15:28.110Z"
   },
   {
    "duration": 122,
    "start_time": "2022-04-20T08:15:28.234Z"
   },
   {
    "duration": 132,
    "start_time": "2022-04-20T08:15:28.358Z"
   },
   {
    "duration": 126,
    "start_time": "2022-04-20T08:15:28.491Z"
   },
   {
    "duration": 126,
    "start_time": "2022-04-20T08:15:28.619Z"
   },
   {
    "duration": 21,
    "start_time": "2022-04-20T08:15:28.747Z"
   },
   {
    "duration": 20,
    "start_time": "2022-04-20T08:15:28.770Z"
   },
   {
    "duration": 17,
    "start_time": "2022-04-20T08:15:28.792Z"
   },
   {
    "duration": 44,
    "start_time": "2022-04-20T08:15:28.811Z"
   },
   {
    "duration": 8,
    "start_time": "2022-04-20T08:15:28.857Z"
   },
   {
    "duration": 16,
    "start_time": "2022-04-20T08:15:28.867Z"
   },
   {
    "duration": 6,
    "start_time": "2022-04-20T08:15:28.885Z"
   },
   {
    "duration": 1393,
    "start_time": "2022-04-20T11:09:38.096Z"
   },
   {
    "duration": 150,
    "start_time": "2022-04-20T11:09:39.491Z"
   },
   {
    "duration": 15,
    "start_time": "2022-04-20T11:09:39.642Z"
   },
   {
    "duration": 21,
    "start_time": "2022-04-20T11:09:39.660Z"
   },
   {
    "duration": 26,
    "start_time": "2022-04-20T11:09:39.683Z"
   },
   {
    "duration": 21,
    "start_time": "2022-04-20T11:09:39.723Z"
   },
   {
    "duration": 16,
    "start_time": "2022-04-20T11:09:39.745Z"
   },
   {
    "duration": 11,
    "start_time": "2022-04-20T11:09:39.763Z"
   },
   {
    "duration": 6,
    "start_time": "2022-04-20T11:09:39.776Z"
   },
   {
    "duration": 43,
    "start_time": "2022-04-20T11:09:39.785Z"
   },
   {
    "duration": 16,
    "start_time": "2022-04-20T11:09:39.830Z"
   },
   {
    "duration": 12,
    "start_time": "2022-04-20T11:09:39.848Z"
   },
   {
    "duration": 16,
    "start_time": "2022-04-20T11:09:39.861Z"
   },
   {
    "duration": 13,
    "start_time": "2022-04-20T11:09:39.879Z"
   },
   {
    "duration": 42,
    "start_time": "2022-04-20T11:09:39.894Z"
   },
   {
    "duration": 242,
    "start_time": "2022-04-20T11:09:39.938Z"
   },
   {
    "duration": 19,
    "start_time": "2022-04-20T11:09:40.181Z"
   },
   {
    "duration": 37,
    "start_time": "2022-04-20T11:09:40.202Z"
   },
   {
    "duration": 418,
    "start_time": "2022-04-20T11:09:40.241Z"
   },
   {
    "duration": 232,
    "start_time": "2022-04-20T11:09:40.661Z"
   },
   {
    "duration": 162,
    "start_time": "2022-04-20T11:09:40.895Z"
   },
   {
    "duration": 166,
    "start_time": "2022-04-20T11:09:41.059Z"
   },
   {
    "duration": 153,
    "start_time": "2022-04-20T11:09:41.227Z"
   },
   {
    "duration": 168,
    "start_time": "2022-04-20T11:09:41.381Z"
   },
   {
    "duration": 220,
    "start_time": "2022-04-20T11:09:41.551Z"
   },
   {
    "duration": 152,
    "start_time": "2022-04-20T11:09:41.772Z"
   },
   {
    "duration": 185,
    "start_time": "2022-04-20T11:09:41.927Z"
   },
   {
    "duration": 123,
    "start_time": "2022-04-20T11:09:42.122Z"
   },
   {
    "duration": 126,
    "start_time": "2022-04-20T11:09:42.247Z"
   },
   {
    "duration": 123,
    "start_time": "2022-04-20T11:09:42.374Z"
   },
   {
    "duration": 128,
    "start_time": "2022-04-20T11:09:42.499Z"
   },
   {
    "duration": 125,
    "start_time": "2022-04-20T11:09:42.629Z"
   },
   {
    "duration": 129,
    "start_time": "2022-04-20T11:09:42.755Z"
   },
   {
    "duration": 17,
    "start_time": "2022-04-20T11:09:42.886Z"
   },
   {
    "duration": 30,
    "start_time": "2022-04-20T11:09:42.905Z"
   },
   {
    "duration": 17,
    "start_time": "2022-04-20T11:09:42.937Z"
   },
   {
    "duration": 12,
    "start_time": "2022-04-20T11:09:42.956Z"
   },
   {
    "duration": 6,
    "start_time": "2022-04-20T11:09:42.970Z"
   },
   {
    "duration": 49,
    "start_time": "2022-04-20T11:09:42.977Z"
   },
   {
    "duration": 5,
    "start_time": "2022-04-20T11:09:43.029Z"
   },
   {
    "duration": 4,
    "start_time": "2022-04-20T11:19:50.080Z"
   },
   {
    "duration": 191,
    "start_time": "2022-04-20T11:19:50.086Z"
   },
   {
    "duration": 14,
    "start_time": "2022-04-20T11:19:50.279Z"
   },
   {
    "duration": 23,
    "start_time": "2022-04-20T11:19:50.295Z"
   },
   {
    "duration": 22,
    "start_time": "2022-04-20T11:19:50.319Z"
   },
   {
    "duration": 22,
    "start_time": "2022-04-20T11:19:50.343Z"
   },
   {
    "duration": 18,
    "start_time": "2022-04-20T11:19:50.367Z"
   },
   {
    "duration": 38,
    "start_time": "2022-04-20T11:19:50.387Z"
   },
   {
    "duration": 7,
    "start_time": "2022-04-20T11:19:50.428Z"
   },
   {
    "duration": 14,
    "start_time": "2022-04-20T11:19:50.437Z"
   },
   {
    "duration": 20,
    "start_time": "2022-04-20T11:19:50.452Z"
   },
   {
    "duration": 16,
    "start_time": "2022-04-20T11:19:50.474Z"
   },
   {
    "duration": 17,
    "start_time": "2022-04-20T11:20:01.087Z"
   },
   {
    "duration": 15,
    "start_time": "2022-04-20T11:20:05.523Z"
   },
   {
    "duration": 388,
    "start_time": "2022-04-20T11:20:47.274Z"
   },
   {
    "duration": 288,
    "start_time": "2022-04-20T11:20:53.834Z"
   },
   {
    "duration": 355,
    "start_time": "2022-04-20T11:20:58.650Z"
   },
   {
    "duration": 211,
    "start_time": "2022-04-20T11:30:56.162Z"
   },
   {
    "duration": 3,
    "start_time": "2022-04-20T11:31:07.191Z"
   },
   {
    "duration": 140,
    "start_time": "2022-04-20T11:31:07.196Z"
   },
   {
    "duration": 14,
    "start_time": "2022-04-20T11:31:07.338Z"
   },
   {
    "duration": 24,
    "start_time": "2022-04-20T11:31:07.354Z"
   },
   {
    "duration": 22,
    "start_time": "2022-04-20T11:31:07.379Z"
   },
   {
    "duration": 22,
    "start_time": "2022-04-20T11:31:07.430Z"
   },
   {
    "duration": 17,
    "start_time": "2022-04-20T11:31:07.454Z"
   },
   {
    "duration": 13,
    "start_time": "2022-04-20T11:31:07.473Z"
   },
   {
    "duration": 7,
    "start_time": "2022-04-20T11:31:07.490Z"
   },
   {
    "duration": 13,
    "start_time": "2022-04-20T11:31:07.531Z"
   },
   {
    "duration": 17,
    "start_time": "2022-04-20T11:31:07.546Z"
   },
   {
    "duration": 11,
    "start_time": "2022-04-20T11:31:07.565Z"
   },
   {
    "duration": 15,
    "start_time": "2022-04-20T11:31:07.577Z"
   },
   {
    "duration": 40,
    "start_time": "2022-04-20T11:31:07.594Z"
   },
   {
    "duration": 16,
    "start_time": "2022-04-20T11:31:07.636Z"
   },
   {
    "duration": 278,
    "start_time": "2022-04-20T11:31:07.654Z"
   },
   {
    "duration": 19,
    "start_time": "2022-04-20T11:31:07.934Z"
   },
   {
    "duration": 19,
    "start_time": "2022-04-20T11:31:07.955Z"
   },
   {
    "duration": 344,
    "start_time": "2022-04-20T11:31:07.976Z"
   },
   {
    "duration": 130,
    "start_time": "2022-04-20T11:31:08.323Z"
   },
   {
    "duration": 0,
    "start_time": "2022-04-20T11:31:08.455Z"
   },
   {
    "duration": 0,
    "start_time": "2022-04-20T11:31:08.457Z"
   },
   {
    "duration": 0,
    "start_time": "2022-04-20T11:31:08.458Z"
   },
   {
    "duration": 0,
    "start_time": "2022-04-20T11:31:08.459Z"
   },
   {
    "duration": 0,
    "start_time": "2022-04-20T11:31:08.460Z"
   },
   {
    "duration": 0,
    "start_time": "2022-04-20T11:31:08.461Z"
   },
   {
    "duration": 0,
    "start_time": "2022-04-20T11:31:08.462Z"
   },
   {
    "duration": 0,
    "start_time": "2022-04-20T11:31:08.463Z"
   },
   {
    "duration": 0,
    "start_time": "2022-04-20T11:31:08.464Z"
   },
   {
    "duration": 0,
    "start_time": "2022-04-20T11:31:08.465Z"
   },
   {
    "duration": 0,
    "start_time": "2022-04-20T11:31:08.466Z"
   },
   {
    "duration": 0,
    "start_time": "2022-04-20T11:31:08.467Z"
   },
   {
    "duration": 0,
    "start_time": "2022-04-20T11:31:08.468Z"
   },
   {
    "duration": 0,
    "start_time": "2022-04-20T11:31:08.469Z"
   },
   {
    "duration": 0,
    "start_time": "2022-04-20T11:31:08.470Z"
   },
   {
    "duration": 0,
    "start_time": "2022-04-20T11:31:08.471Z"
   },
   {
    "duration": 0,
    "start_time": "2022-04-20T11:31:08.472Z"
   },
   {
    "duration": 0,
    "start_time": "2022-04-20T11:31:08.473Z"
   },
   {
    "duration": 0,
    "start_time": "2022-04-20T11:31:08.475Z"
   },
   {
    "duration": 0,
    "start_time": "2022-04-20T11:31:08.476Z"
   },
   {
    "duration": 244,
    "start_time": "2022-04-20T11:31:25.308Z"
   },
   {
    "duration": 289,
    "start_time": "2022-04-20T11:38:05.505Z"
   },
   {
    "duration": 223,
    "start_time": "2022-04-20T11:38:32.832Z"
   },
   {
    "duration": 476,
    "start_time": "2022-04-20T11:39:00.495Z"
   },
   {
    "duration": 226,
    "start_time": "2022-04-20T11:39:11.455Z"
   },
   {
    "duration": 237,
    "start_time": "2022-04-20T11:42:11.334Z"
   },
   {
    "duration": 237,
    "start_time": "2022-04-20T11:42:29.980Z"
   },
   {
    "duration": 236,
    "start_time": "2022-04-20T11:43:20.765Z"
   },
   {
    "duration": 351,
    "start_time": "2022-04-20T11:43:35.380Z"
   },
   {
    "duration": 3,
    "start_time": "2022-04-20T11:46:00.576Z"
   },
   {
    "duration": 143,
    "start_time": "2022-04-20T11:46:00.581Z"
   },
   {
    "duration": 15,
    "start_time": "2022-04-20T11:46:00.725Z"
   },
   {
    "duration": 35,
    "start_time": "2022-04-20T11:46:00.742Z"
   },
   {
    "duration": 21,
    "start_time": "2022-04-20T11:46:00.778Z"
   },
   {
    "duration": 32,
    "start_time": "2022-04-20T11:46:00.801Z"
   },
   {
    "duration": 17,
    "start_time": "2022-04-20T11:46:00.834Z"
   },
   {
    "duration": 15,
    "start_time": "2022-04-20T11:46:00.852Z"
   },
   {
    "duration": 9,
    "start_time": "2022-04-20T11:46:00.869Z"
   },
   {
    "duration": 28,
    "start_time": "2022-04-20T11:46:00.880Z"
   },
   {
    "duration": 26,
    "start_time": "2022-04-20T11:46:00.910Z"
   },
   {
    "duration": 11,
    "start_time": "2022-04-20T11:46:00.938Z"
   },
   {
    "duration": 17,
    "start_time": "2022-04-20T11:46:00.951Z"
   },
   {
    "duration": 17,
    "start_time": "2022-04-20T11:46:00.970Z"
   },
   {
    "duration": 34,
    "start_time": "2022-04-20T11:46:00.989Z"
   },
   {
    "duration": 268,
    "start_time": "2022-04-20T11:46:01.024Z"
   },
   {
    "duration": 17,
    "start_time": "2022-04-20T11:46:01.294Z"
   },
   {
    "duration": 28,
    "start_time": "2022-04-20T11:46:01.312Z"
   },
   {
    "duration": 328,
    "start_time": "2022-04-20T11:46:01.342Z"
   },
   {
    "duration": 127,
    "start_time": "2022-04-20T11:46:07.700Z"
   },
   {
    "duration": 144,
    "start_time": "2022-04-20T11:46:11.917Z"
   },
   {
    "duration": 161,
    "start_time": "2022-04-20T11:46:12.064Z"
   },
   {
    "duration": 154,
    "start_time": "2022-04-20T11:46:12.227Z"
   },
   {
    "duration": 159,
    "start_time": "2022-04-20T11:46:12.384Z"
   },
   {
    "duration": 137,
    "start_time": "2022-04-20T11:46:12.545Z"
   },
   {
    "duration": 166,
    "start_time": "2022-04-20T11:46:12.684Z"
   },
   {
    "duration": 191,
    "start_time": "2022-04-20T11:46:12.852Z"
   },
   {
    "duration": 127,
    "start_time": "2022-04-20T11:46:13.045Z"
   },
   {
    "duration": 131,
    "start_time": "2022-04-20T11:46:13.174Z"
   },
   {
    "duration": 120,
    "start_time": "2022-04-20T11:46:13.309Z"
   },
   {
    "duration": 133,
    "start_time": "2022-04-20T11:46:13.431Z"
   },
   {
    "duration": 125,
    "start_time": "2022-04-20T11:46:13.566Z"
   },
   {
    "duration": 130,
    "start_time": "2022-04-20T11:46:13.694Z"
   },
   {
    "duration": 18,
    "start_time": "2022-04-20T11:46:13.826Z"
   },
   {
    "duration": 17,
    "start_time": "2022-04-20T11:46:13.846Z"
   },
   {
    "duration": 16,
    "start_time": "2022-04-20T11:46:13.865Z"
   },
   {
    "duration": 41,
    "start_time": "2022-04-20T11:46:13.883Z"
   },
   {
    "duration": 6,
    "start_time": "2022-04-20T11:46:13.925Z"
   },
   {
    "duration": 20,
    "start_time": "2022-04-20T11:46:13.933Z"
   },
   {
    "duration": 5,
    "start_time": "2022-04-20T11:46:13.955Z"
   },
   {
    "duration": 296,
    "start_time": "2022-04-20T12:06:30.546Z"
   },
   {
    "duration": 7,
    "start_time": "2022-04-20T12:11:56.813Z"
   },
   {
    "duration": 11,
    "start_time": "2022-04-20T12:12:45.877Z"
   },
   {
    "duration": 125,
    "start_time": "2022-04-20T12:12:57.645Z"
   },
   {
    "duration": 3,
    "start_time": "2022-04-20T12:13:44.633Z"
   },
   {
    "duration": 156,
    "start_time": "2022-04-20T12:13:44.638Z"
   },
   {
    "duration": 13,
    "start_time": "2022-04-20T12:13:44.796Z"
   },
   {
    "duration": 20,
    "start_time": "2022-04-20T12:13:44.811Z"
   },
   {
    "duration": 20,
    "start_time": "2022-04-20T12:13:44.833Z"
   },
   {
    "duration": 19,
    "start_time": "2022-04-20T12:13:44.854Z"
   },
   {
    "duration": 17,
    "start_time": "2022-04-20T12:13:44.875Z"
   },
   {
    "duration": 38,
    "start_time": "2022-04-20T12:13:44.894Z"
   },
   {
    "duration": 7,
    "start_time": "2022-04-20T12:13:44.935Z"
   },
   {
    "duration": 14,
    "start_time": "2022-04-20T12:13:44.943Z"
   },
   {
    "duration": 18,
    "start_time": "2022-04-20T12:13:44.958Z"
   },
   {
    "duration": 12,
    "start_time": "2022-04-20T12:13:44.978Z"
   },
   {
    "duration": 35,
    "start_time": "2022-04-20T12:13:44.992Z"
   },
   {
    "duration": 19,
    "start_time": "2022-04-20T12:13:45.029Z"
   },
   {
    "duration": 14,
    "start_time": "2022-04-20T12:13:45.050Z"
   },
   {
    "duration": 18,
    "start_time": "2022-04-20T12:13:45.066Z"
   },
   {
    "duration": 293,
    "start_time": "2022-04-20T12:13:45.085Z"
   },
   {
    "duration": 19,
    "start_time": "2022-04-20T12:13:45.379Z"
   },
   {
    "duration": 38,
    "start_time": "2022-04-20T12:13:45.399Z"
   },
   {
    "duration": 310,
    "start_time": "2022-04-20T12:13:45.439Z"
   },
   {
    "duration": 248,
    "start_time": "2022-04-20T12:13:45.751Z"
   },
   {
    "duration": 131,
    "start_time": "2022-04-20T12:13:46.001Z"
   },
   {
    "duration": 140,
    "start_time": "2022-04-20T12:13:46.134Z"
   },
   {
    "duration": 140,
    "start_time": "2022-04-20T12:13:46.278Z"
   },
   {
    "duration": 133,
    "start_time": "2022-04-20T12:13:46.422Z"
   },
   {
    "duration": 131,
    "start_time": "2022-04-20T12:13:46.556Z"
   },
   {
    "duration": 133,
    "start_time": "2022-04-20T12:13:46.689Z"
   },
   {
    "duration": 165,
    "start_time": "2022-04-20T12:13:46.824Z"
   },
   {
    "duration": 114,
    "start_time": "2022-04-20T12:13:46.991Z"
   },
   {
    "duration": 120,
    "start_time": "2022-04-20T12:13:47.107Z"
   },
   {
    "duration": 118,
    "start_time": "2022-04-20T12:13:47.228Z"
   },
   {
    "duration": 241,
    "start_time": "2022-04-20T12:13:47.347Z"
   },
   {
    "duration": 118,
    "start_time": "2022-04-20T12:13:47.589Z"
   },
   {
    "duration": 127,
    "start_time": "2022-04-20T12:13:47.709Z"
   },
   {
    "duration": 16,
    "start_time": "2022-04-20T12:13:47.837Z"
   },
   {
    "duration": 15,
    "start_time": "2022-04-20T12:13:47.854Z"
   },
   {
    "duration": 14,
    "start_time": "2022-04-20T12:13:47.871Z"
   },
   {
    "duration": 37,
    "start_time": "2022-04-20T12:13:47.886Z"
   },
   {
    "duration": 5,
    "start_time": "2022-04-20T12:13:47.924Z"
   },
   {
    "duration": 12,
    "start_time": "2022-04-20T12:13:47.930Z"
   },
   {
    "duration": 4,
    "start_time": "2022-04-20T12:13:47.944Z"
   },
   {
    "duration": 217,
    "start_time": "2022-04-20T12:14:17.531Z"
   },
   {
    "duration": 237,
    "start_time": "2022-04-20T12:14:25.203Z"
   },
   {
    "duration": 124,
    "start_time": "2022-04-20T12:15:36.739Z"
   },
   {
    "duration": 130,
    "start_time": "2022-04-20T12:15:50.147Z"
   },
   {
    "duration": 134,
    "start_time": "2022-04-20T12:15:57.715Z"
   },
   {
    "duration": 122,
    "start_time": "2022-04-20T12:16:45.747Z"
   },
   {
    "duration": 139,
    "start_time": "2022-04-20T12:17:00.266Z"
   },
   {
    "duration": 126,
    "start_time": "2022-04-20T12:17:03.723Z"
   },
   {
    "duration": 135,
    "start_time": "2022-04-20T12:17:24.322Z"
   },
   {
    "duration": 131,
    "start_time": "2022-04-20T12:17:27.018Z"
   },
   {
    "duration": 136,
    "start_time": "2022-04-20T12:17:51.818Z"
   },
   {
    "duration": 13,
    "start_time": "2022-04-20T12:22:17.367Z"
   },
   {
    "duration": 13,
    "start_time": "2022-04-20T12:22:31.710Z"
   },
   {
    "duration": 17,
    "start_time": "2022-04-20T12:23:01.885Z"
   },
   {
    "duration": 17,
    "start_time": "2022-04-20T12:23:04.806Z"
   },
   {
    "duration": 17,
    "start_time": "2022-04-20T12:23:07.319Z"
   },
   {
    "duration": 5,
    "start_time": "2022-04-20T12:34:51.409Z"
   },
   {
    "duration": 5,
    "start_time": "2022-04-20T12:35:36.552Z"
   },
   {
    "duration": 11,
    "start_time": "2022-04-20T12:35:46.831Z"
   },
   {
    "duration": 13,
    "start_time": "2022-04-20T12:36:34.550Z"
   },
   {
    "duration": 1380,
    "start_time": "2022-04-20T16:28:08.047Z"
   },
   {
    "duration": 97,
    "start_time": "2022-04-20T16:28:09.429Z"
   },
   {
    "duration": 21,
    "start_time": "2022-04-20T16:28:09.528Z"
   },
   {
    "duration": 40,
    "start_time": "2022-04-20T16:28:09.552Z"
   },
   {
    "duration": 39,
    "start_time": "2022-04-20T16:28:09.594Z"
   },
   {
    "duration": 55,
    "start_time": "2022-04-20T16:28:09.635Z"
   },
   {
    "duration": 24,
    "start_time": "2022-04-20T16:28:09.693Z"
   },
   {
    "duration": 15,
    "start_time": "2022-04-20T16:28:09.719Z"
   },
   {
    "duration": 44,
    "start_time": "2022-04-20T16:28:09.737Z"
   },
   {
    "duration": 14,
    "start_time": "2022-04-20T16:28:09.785Z"
   },
   {
    "duration": 22,
    "start_time": "2022-04-20T16:28:09.802Z"
   },
   {
    "duration": 57,
    "start_time": "2022-04-20T16:28:09.827Z"
   },
   {
    "duration": 9,
    "start_time": "2022-04-20T16:28:09.886Z"
   },
   {
    "duration": 29,
    "start_time": "2022-04-20T16:28:09.898Z"
   },
   {
    "duration": 52,
    "start_time": "2022-04-20T16:28:09.930Z"
   },
   {
    "duration": 25,
    "start_time": "2022-04-20T16:28:09.984Z"
   },
   {
    "duration": 511,
    "start_time": "2022-04-20T16:28:10.012Z"
   },
   {
    "duration": 28,
    "start_time": "2022-04-20T16:28:10.526Z"
   },
   {
    "duration": 55,
    "start_time": "2022-04-20T16:28:10.556Z"
   },
   {
    "duration": 714,
    "start_time": "2022-04-20T16:28:10.613Z"
   },
   {
    "duration": 554,
    "start_time": "2022-04-20T16:28:11.330Z"
   },
   {
    "duration": 256,
    "start_time": "2022-04-20T16:28:11.887Z"
   },
   {
    "duration": 254,
    "start_time": "2022-04-20T16:28:12.146Z"
   },
   {
    "duration": 245,
    "start_time": "2022-04-20T16:28:12.402Z"
   },
   {
    "duration": 307,
    "start_time": "2022-04-20T16:28:12.649Z"
   },
   {
    "duration": 312,
    "start_time": "2022-04-20T16:28:12.958Z"
   },
   {
    "duration": 251,
    "start_time": "2022-04-20T16:28:13.272Z"
   },
   {
    "duration": 321,
    "start_time": "2022-04-20T16:28:13.528Z"
   },
   {
    "duration": 208,
    "start_time": "2022-04-20T16:28:13.851Z"
   },
   {
    "duration": 227,
    "start_time": "2022-04-20T16:28:14.062Z"
   },
   {
    "duration": 201,
    "start_time": "2022-04-20T16:28:14.292Z"
   },
   {
    "duration": 309,
    "start_time": "2022-04-20T16:28:14.495Z"
   },
   {
    "duration": 218,
    "start_time": "2022-04-20T16:28:14.806Z"
   },
   {
    "duration": 239,
    "start_time": "2022-04-20T16:28:15.026Z"
   },
   {
    "duration": 29,
    "start_time": "2022-04-20T16:28:15.267Z"
   },
   {
    "duration": 24,
    "start_time": "2022-04-20T16:28:15.298Z"
   },
   {
    "duration": 24,
    "start_time": "2022-04-20T16:28:15.324Z"
   },
   {
    "duration": 16,
    "start_time": "2022-04-20T16:28:15.382Z"
   },
   {
    "duration": 8,
    "start_time": "2022-04-20T16:28:15.400Z"
   },
   {
    "duration": 19,
    "start_time": "2022-04-20T16:28:15.410Z"
   },
   {
    "duration": 6,
    "start_time": "2022-04-20T16:28:15.431Z"
   }
  ],
  "kernelspec": {
   "display_name": "Python 3 (ipykernel)",
   "language": "python",
   "name": "python3"
  },
  "language_info": {
   "codemirror_mode": {
    "name": "ipython",
    "version": 3
   },
   "file_extension": ".py",
   "mimetype": "text/x-python",
   "name": "python",
   "nbconvert_exporter": "python",
   "pygments_lexer": "ipython3",
   "version": "3.9.5"
  },
  "toc": {
   "base_numbering": 1,
   "nav_menu": {},
   "number_sections": true,
   "sideBar": true,
   "skip_h1_title": true,
   "title_cell": "Содержание",
   "title_sidebar": "Contents",
   "toc_cell": true,
   "toc_position": {
    "height": "calc(100% - 180px)",
    "left": "10px",
    "top": "150px",
    "width": "180.391px"
   },
   "toc_section_display": true,
   "toc_window_display": true
  },
  "widgets": {
   "application/vnd.jupyter.widget-state+json": {
    "state": {},
    "version_major": 2,
    "version_minor": 0
   }
  }
 },
 "nbformat": 4,
 "nbformat_minor": 5
}
