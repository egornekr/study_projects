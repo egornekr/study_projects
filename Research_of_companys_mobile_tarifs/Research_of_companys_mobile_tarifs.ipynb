{
 "cells": [
  {
   "cell_type": "markdown",
   "metadata": {
    "toc": true
   },
   "source": [
    "<h1>Содержание<span class=\"tocSkip\"></span></h1>\n",
    "<div class=\"toc\"><ul class=\"toc-item\"><li><span><a href=\"#Изучение-данных-из-файла\" data-toc-modified-id=\"Изучение-данных-из-файла-1\"><span class=\"toc-item-num\">1&nbsp;&nbsp;</span>Изучение данных из файла</a></span><ul class=\"toc-item\"><li><span><a href=\"#Обзор-данных\" data-toc-modified-id=\"Обзор-данных-1.1\"><span class=\"toc-item-num\">1.1&nbsp;&nbsp;</span>Обзор данных</a></span></li><li><span><a href=\"#Описание-данных\" data-toc-modified-id=\"Описание-данных-1.2\"><span class=\"toc-item-num\">1.2&nbsp;&nbsp;</span>Описание данных</a></span></li></ul></li><li><span><a href=\"#Предобработка-данных\" data-toc-modified-id=\"Предобработка-данных-2\"><span class=\"toc-item-num\">2&nbsp;&nbsp;</span>Предобработка данных</a></span><ul class=\"toc-item\"><li><span><a href=\"#Предобрaботка-таблицы-calls\" data-toc-modified-id=\"Предобрaботка-таблицы-calls-2.1\"><span class=\"toc-item-num\">2.1&nbsp;&nbsp;</span>Предобрaботка таблицы calls</a></span><ul class=\"toc-item\"><li><span><a href=\"#Обзор-данных\" data-toc-modified-id=\"Обзор-данных-2.1.1\"><span class=\"toc-item-num\">2.1.1&nbsp;&nbsp;</span>Обзор данных</a></span></li><li><span><a href=\"#Выводы-по-обзору\" data-toc-modified-id=\"Выводы-по-обзору-2.1.2\"><span class=\"toc-item-num\">2.1.2&nbsp;&nbsp;</span>Выводы по обзору</a></span></li><li><span><a href=\"#Предобработка\" data-toc-modified-id=\"Предобработка-2.1.3\"><span class=\"toc-item-num\">2.1.3&nbsp;&nbsp;</span>Предобработка</a></span></li><li><span><a href=\"#Удаление-дубликатов\" data-toc-modified-id=\"Удаление-дубликатов-2.1.4\"><span class=\"toc-item-num\">2.1.4&nbsp;&nbsp;</span>Удаление дубликатов</a></span></li></ul></li><li><span><a href=\"#Предобрaботка-таблицы-users\" data-toc-modified-id=\"Предобрaботка-таблицы-users-2.2\"><span class=\"toc-item-num\">2.2&nbsp;&nbsp;</span>Предобрaботка таблицы users</a></span><ul class=\"toc-item\"><li><span><a href=\"#Обзор-данных\" data-toc-modified-id=\"Обзор-данных-2.2.1\"><span class=\"toc-item-num\">2.2.1&nbsp;&nbsp;</span>Обзор данных</a></span></li><li><span><a href=\"#Выводы-по-обзору\" data-toc-modified-id=\"Выводы-по-обзору-2.2.2\"><span class=\"toc-item-num\">2.2.2&nbsp;&nbsp;</span>Выводы по обзору</a></span></li><li><span><a href=\"#Предобработка\" data-toc-modified-id=\"Предобработка-2.2.3\"><span class=\"toc-item-num\">2.2.3&nbsp;&nbsp;</span>Предобработка</a></span></li></ul></li><li><span><a href=\"#Предобрaботка-таблицы-internet\" data-toc-modified-id=\"Предобрaботка-таблицы-internet-2.3\"><span class=\"toc-item-num\">2.3&nbsp;&nbsp;</span>Предобрaботка таблицы internet</a></span><ul class=\"toc-item\"><li><span><a href=\"#Обзор-данных\" data-toc-modified-id=\"Обзор-данных-2.3.1\"><span class=\"toc-item-num\">2.3.1&nbsp;&nbsp;</span>Обзор данных</a></span></li><li><span><a href=\"#Выводы-по-обзору\" data-toc-modified-id=\"Выводы-по-обзору-2.3.2\"><span class=\"toc-item-num\">2.3.2&nbsp;&nbsp;</span>Выводы по обзору</a></span></li></ul></li><li><span><a href=\"#Предобработка-таблицы-messages\" data-toc-modified-id=\"Предобработка-таблицы-messages-2.4\"><span class=\"toc-item-num\">2.4&nbsp;&nbsp;</span>Предобработка таблицы messages</a></span><ul class=\"toc-item\"><li><span><a href=\"#Обзор-данных\" data-toc-modified-id=\"Обзор-данных-2.4.1\"><span class=\"toc-item-num\">2.4.1&nbsp;&nbsp;</span>Обзор данных</a></span></li><li><span><a href=\"#Выводы-по-обзору\" data-toc-modified-id=\"Выводы-по-обзору-2.4.2\"><span class=\"toc-item-num\">2.4.2&nbsp;&nbsp;</span>Выводы по обзору</a></span></li></ul></li><li><span><a href=\"#Предобработка-таблицы-tariffs\" data-toc-modified-id=\"Предобработка-таблицы-tariffs-2.5\"><span class=\"toc-item-num\">2.5&nbsp;&nbsp;</span>Предобработка таблицы tariffs</a></span><ul class=\"toc-item\"><li><span><a href=\"#Обзор-данных\" data-toc-modified-id=\"Обзор-данных-2.5.1\"><span class=\"toc-item-num\">2.5.1&nbsp;&nbsp;</span>Обзор данных</a></span></li><li><span><a href=\"#Выводы-по-обзору\" data-toc-modified-id=\"Выводы-по-обзору-2.5.2\"><span class=\"toc-item-num\">2.5.2&nbsp;&nbsp;</span>Выводы по обзору</a></span></li></ul></li></ul></li><li><span><a href=\"#Подготовка-данных\" data-toc-modified-id=\"Подготовка-данных-3\"><span class=\"toc-item-num\">3&nbsp;&nbsp;</span>Подготовка данных</a></span><ul class=\"toc-item\"><li><span><a href=\"#Подсчет-количества-звонков-для-каждого-пользователя\" data-toc-modified-id=\"Подсчет-количества-звонков-для-каждого-пользователя-3.1\"><span class=\"toc-item-num\">3.1&nbsp;&nbsp;</span>Подсчет количества звонков для каждого пользователя</a></span></li><li><span><a href=\"#Подсчет-количества-сообщений-для-каждого-пользователя\" data-toc-modified-id=\"Подсчет-количества-сообщений-для-каждого-пользователя-3.2\"><span class=\"toc-item-num\">3.2&nbsp;&nbsp;</span>Подсчет количества сообщений для каждого пользователя</a></span></li><li><span><a href=\"#Подсчет-объема-израсходованного-интернет-трафика-по-месяцам\" data-toc-modified-id=\"Подсчет-объема-израсходованного-интернет-трафика-по-месяцам-3.3\"><span class=\"toc-item-num\">3.3&nbsp;&nbsp;</span>Подсчет объема израсходованного интернет-трафика по месяцам</a></span></li><li><span><a href=\"#Подсчёт-помесячной-выручки-с-каждого-пользователя\" data-toc-modified-id=\"Подсчёт-помесячной-выручки-с-каждого-пользователя-3.4\"><span class=\"toc-item-num\">3.4&nbsp;&nbsp;</span>Подсчёт помесячной выручки с каждого пользователя</a></span></li></ul></li><li><span><a href=\"#Анализ-данных\" data-toc-modified-id=\"Анализ-данных-4\"><span class=\"toc-item-num\">4&nbsp;&nbsp;</span>Анализ данных</a></span><ul class=\"toc-item\"><li><span><a href=\"#Сравнение-потраченных-минут\" data-toc-modified-id=\"Сравнение-потраченных-минут-4.1\"><span class=\"toc-item-num\">4.1&nbsp;&nbsp;</span>Сравнение потраченных минут</a></span></li><li><span><a href=\"#Анализ-потраченных-сообщений\" data-toc-modified-id=\"Анализ-потраченных-сообщений-4.2\"><span class=\"toc-item-num\">4.2&nbsp;&nbsp;</span>Анализ потраченных сообщений</a></span></li><li><span><a href=\"#Анализ-интернет-траффика\" data-toc-modified-id=\"Анализ-интернет-траффика-4.3\"><span class=\"toc-item-num\">4.3&nbsp;&nbsp;</span>Анализ интернет траффика</a></span></li><li><span><a href=\"#Выводы-о-сравнении-тарифов\" data-toc-modified-id=\"Выводы-о-сравнении-тарифов-4.4\"><span class=\"toc-item-num\">4.4&nbsp;&nbsp;</span>Выводы о сравнении тарифов</a></span></li></ul></li><li><span><a href=\"#Проверка-гипотез\" data-toc-modified-id=\"Проверка-гипотез-5\"><span class=\"toc-item-num\">5&nbsp;&nbsp;</span>Проверка гипотез</a></span><ul class=\"toc-item\"><li><span><a href=\"#Средняя-выручка-пользователей-тарифов-«Ультра»-и-«Смарт»-различаются\" data-toc-modified-id=\"Средняя-выручка-пользователей-тарифов-«Ультра»-и-«Смарт»-различаются-5.1\"><span class=\"toc-item-num\">5.1&nbsp;&nbsp;</span>Средняя выручка пользователей тарифов «Ультра» и «Смарт» различаются</a></span></li><li><span><a href=\"#Средняя-выручка-пользователей-из-Москвы-отличается-от-выручки-пользователей-из-других-регионов\" data-toc-modified-id=\"Средняя-выручка-пользователей-из-Москвы-отличается-от-выручки-пользователей-из-других-регионов-5.2\"><span class=\"toc-item-num\">5.2&nbsp;&nbsp;</span>Средняя выручка пользователей из Москвы отличается от выручки пользователей из других регионов</a></span></li><li><span><a href=\"#Выводы-по-проверке-гипотез\" data-toc-modified-id=\"Выводы-по-проверке-гипотез-5.3\"><span class=\"toc-item-num\">5.3&nbsp;&nbsp;</span>Выводы по проверке гипотез</a></span></li></ul></li><li><span><a href=\"#Общий-вывод\" data-toc-modified-id=\"Общий-вывод-6\"><span class=\"toc-item-num\">6&nbsp;&nbsp;</span>Общий вывод</a></span></li></ul></div>"
   ]
  },
  {
   "cell_type": "markdown",
   "metadata": {},
   "source": [
    "# Определение перспективного тарифа для телеком-компании\n",
    "\n"
   ]
  },
  {
   "cell_type": "markdown",
   "metadata": {},
   "source": [
    "Клиентам сотового оператора предлагают два тарифных плана: «Смарт» и «Ультра». Чтобы скорректировать рекламный бюджет, коммерческий департамент хочет понять, какой тариф приносит больше денег.\n",
    "\n",
    "Нам предстоит сделать предварительный анализ тарифов на небольшой выборке клиентов. В нашем распоряжении данные 500 пользователей «Мегалайна»: кто они, откуда, каким тарифом пользуются, сколько звонков и сообщений каждый отправил за 2018 год. Нужно проанализировать поведение клиентов и сделать вывод — какой тариф лучше.\n",
    "\n",
    "Цель иследования: Определить тарифный план для корректировнки рекламного бюджета.\n",
    "\n",
    "Выборка: данные 500 пользователей тарифных планов Смарт и Ультра: кто они, откуда, каким тарифом пользуются, сколько звонков\n",
    "и сообщений каждый отправил за 2018."
   ]
  },
  {
   "cell_type": "markdown",
   "metadata": {},
   "source": [
    "## Изучение данных из файла"
   ]
  },
  {
   "cell_type": "markdown",
   "metadata": {},
   "source": [
    "### Обзор данных\n"
   ]
  },
  {
   "cell_type": "code",
   "execution_count": 1,
   "metadata": {},
   "outputs": [],
   "source": [
    "# импорт библиотек\n",
    "import pandas as pd\n",
    "import statistics\n",
    "import numpy as np\n",
    "import matplotlib.pyplot as plt\n",
    "import math\n",
    "from scipy import stats as st\n",
    "import matplotlib.patches as mpatches"
   ]
  },
  {
   "cell_type": "code",
   "execution_count": 2,
   "metadata": {},
   "outputs": [],
   "source": [
    "# чтение файла с данными и сохранение в датафреймы\n",
    "calls = pd.read_csv('/datasets/calls.csv', parse_dates=['call_date'])\n",
    "users = pd.read_csv('/datasets/users.csv')\n",
    "internet = pd.read_csv('/datasets/internet.csv', parse_dates=['session_date'])\n",
    "messages = pd.read_csv('/datasets/messages.csv', parse_dates=['message_date'])\n",
    "tariffs = pd.read_csv('/datasets/tariffs.csv')\n"
   ]
  },
  {
   "cell_type": "markdown",
   "metadata": {},
   "source": [
    "### Описание данных\n"
   ]
  },
  {
   "cell_type": "markdown",
   "metadata": {},
   "source": [
    "   Таблица users (информация о пользователях):\n",
    "* `user_id` — уникальный идентификатор пользователя\n",
    "* `first_name` — имя пользователя\n",
    "* `last_name` — фамилия пользователя\n",
    "* `age` — возраст пользователя (годы)\n",
    "* `reg_date` — дата подключения тарифа (день, месяц, год)\n",
    "* `churn_date` — дата прекращения пользования тарифом (если значение пропущено, то тариф ещё действовал на момент выгрузки данных)\n",
    "* `city` — город проживания пользователя\n",
    "* `tariff` — название тарифного плана\n",
    "\n",
    "  Таблица calls (информация о звонках):\n",
    "* `id` — уникальный номер звонка\n",
    "* `call_date` — дата звонка\n",
    "* `duration` — длительность звонка в минутах\n",
    "* `user_id` — идентификатор пользователя, сделавшего звонок\n",
    "\n",
    "  Таблица messages (информация о сообщениях):\n",
    "* `id` — уникальный номер сообщения\n",
    "* `message_date` — дата сообщения\n",
    "* `user_id` — идентификатор пользователя, отправившего сообщение\n",
    "\n",
    "  Таблица internet (информация об интернет-сессиях):\n",
    "* `id` — уникальный номер сессии\n",
    "* `mb_used` — объём потраченного за сессию интернет-трафика (в мегабайтах)\n",
    "* `session_date` — дата интернет-сессии\n",
    "* `user_id` — идентификатор пользователя\n",
    "\n",
    "  Таблица tariffs (информация о тарифах):\n",
    "* `tariff_name` — название тарифа\n",
    "* `rub_monthly_fee` — ежемесячная абонентская плата в рублях\n",
    "* `minutes_included` — количество минут разговора в месяц, включённых в абонентскую плату\n",
    "* `messages_included` — количество сообщений в месяц, включённых в абонентскую плату\n",
    "* `mb_per_month_included` — объём интернет-трафика, включённого в абонентскую плату (в мегабайтах)\n",
    "* `rub_per_minute` — стоимость минуты разговора сверх тарифного пакета (например, если в тарифе 100 минут разговора в месяц, то со * 101 минуты будет взиматься плата)\n",
    "* `rub_per_message` — стоимость отправки сообщения сверх тарифного пакета\n",
    "* `rub_per_gb` — стоимость дополнительного гигабайта интернет-трафика сверх тарифного пакета (1 гигабайт = 1024 мегабайта)"
   ]
  },
  {
   "cell_type": "markdown",
   "metadata": {},
   "source": [
    "## Предобработка данных"
   ]
  },
  {
   "cell_type": "markdown",
   "metadata": {},
   "source": [
    "### Предобрaботка таблицы calls"
   ]
  },
  {
   "cell_type": "code",
   "execution_count": 3,
   "metadata": {},
   "outputs": [],
   "source": [
    "# честно скопипастим код из вебинара для гистограммы\n",
    "def hist_maker(column):\n",
    "    print(column.describe())\n",
    "    plt.figure(figsize=(10,6))\n",
    "    plt.hist(column, bins=30, color='grey', edgecolor='grey', alpha=0.8, label = column)\n",
    "    plt.axvline(column.describe()['mean'], color='r', linestyle='dashed', linewidth=3, label='Mean value: {:.2f}'.format(column.describe()['mean']))\n",
    "    plt.axvline(column.describe()['50%'], color='b', linestyle='dotted', linewidth=3, label='Median value: {:.0f}'.format(column.describe()['50%']))\n",
    "    plt.xlabel(column.name)\n",
    "    plt.ylabel('count')\n",
    "    plt.legend()\n",
    "    plt.title('Histogramm {}'.format(column.name))"
   ]
  },
  {
   "cell_type": "markdown",
   "metadata": {},
   "source": [
    "#### Обзор данных"
   ]
  },
  {
   "cell_type": "code",
   "execution_count": 4,
   "metadata": {},
   "outputs": [
    {
     "data": {
      "text/html": [
       "<div>\n",
       "<style scoped>\n",
       "    .dataframe tbody tr th:only-of-type {\n",
       "        vertical-align: middle;\n",
       "    }\n",
       "\n",
       "    .dataframe tbody tr th {\n",
       "        vertical-align: top;\n",
       "    }\n",
       "\n",
       "    .dataframe thead th {\n",
       "        text-align: right;\n",
       "    }\n",
       "</style>\n",
       "<table border=\"1\" class=\"dataframe\">\n",
       "  <thead>\n",
       "    <tr style=\"text-align: right;\">\n",
       "      <th></th>\n",
       "      <th>id</th>\n",
       "      <th>call_date</th>\n",
       "      <th>duration</th>\n",
       "      <th>user_id</th>\n",
       "    </tr>\n",
       "  </thead>\n",
       "  <tbody>\n",
       "    <tr>\n",
       "      <th>0</th>\n",
       "      <td>1000_0</td>\n",
       "      <td>2018-07-25</td>\n",
       "      <td>0.00</td>\n",
       "      <td>1000</td>\n",
       "    </tr>\n",
       "    <tr>\n",
       "      <th>1</th>\n",
       "      <td>1000_1</td>\n",
       "      <td>2018-08-17</td>\n",
       "      <td>0.00</td>\n",
       "      <td>1000</td>\n",
       "    </tr>\n",
       "    <tr>\n",
       "      <th>2</th>\n",
       "      <td>1000_2</td>\n",
       "      <td>2018-06-11</td>\n",
       "      <td>2.85</td>\n",
       "      <td>1000</td>\n",
       "    </tr>\n",
       "    <tr>\n",
       "      <th>3</th>\n",
       "      <td>1000_3</td>\n",
       "      <td>2018-09-21</td>\n",
       "      <td>13.80</td>\n",
       "      <td>1000</td>\n",
       "    </tr>\n",
       "    <tr>\n",
       "      <th>4</th>\n",
       "      <td>1000_4</td>\n",
       "      <td>2018-12-15</td>\n",
       "      <td>5.18</td>\n",
       "      <td>1000</td>\n",
       "    </tr>\n",
       "  </tbody>\n",
       "</table>\n",
       "</div>"
      ],
      "text/plain": [
       "       id  call_date  duration  user_id\n",
       "0  1000_0 2018-07-25      0.00     1000\n",
       "1  1000_1 2018-08-17      0.00     1000\n",
       "2  1000_2 2018-06-11      2.85     1000\n",
       "3  1000_3 2018-09-21     13.80     1000\n",
       "4  1000_4 2018-12-15      5.18     1000"
      ]
     },
     "execution_count": 4,
     "metadata": {},
     "output_type": "execute_result"
    }
   ],
   "source": [
    "# получим первые 5 строк таблицы\n",
    "calls.head()"
   ]
  },
  {
   "cell_type": "code",
   "execution_count": 5,
   "metadata": {},
   "outputs": [
    {
     "name": "stdout",
     "output_type": "stream",
     "text": [
      "<class 'pandas.core.frame.DataFrame'>\n",
      "RangeIndex: 202607 entries, 0 to 202606\n",
      "Data columns (total 4 columns):\n",
      " #   Column     Non-Null Count   Dtype         \n",
      "---  ------     --------------   -----         \n",
      " 0   id         202607 non-null  object        \n",
      " 1   call_date  202607 non-null  datetime64[ns]\n",
      " 2   duration   202607 non-null  float64       \n",
      " 3   user_id    202607 non-null  int64         \n",
      "dtypes: datetime64[ns](1), float64(1), int64(1), object(1)\n",
      "memory usage: 6.2+ MB\n"
     ]
    }
   ],
   "source": [
    "# получение информации о таблице\n",
    "calls.info()"
   ]
  },
  {
   "cell_type": "code",
   "execution_count": 6,
   "metadata": {},
   "outputs": [
    {
     "data": {
      "text/plain": [
       "id           0\n",
       "call_date    0\n",
       "duration     0\n",
       "user_id      0\n",
       "dtype: int64"
      ]
     },
     "execution_count": 6,
     "metadata": {},
     "output_type": "execute_result"
    }
   ],
   "source": [
    "# подсчёт пропусков\n",
    "calls.isna().sum()"
   ]
  },
  {
   "cell_type": "code",
   "execution_count": 7,
   "metadata": {},
   "outputs": [
    {
     "data": {
      "text/html": [
       "<div>\n",
       "<style scoped>\n",
       "    .dataframe tbody tr th:only-of-type {\n",
       "        vertical-align: middle;\n",
       "    }\n",
       "\n",
       "    .dataframe tbody tr th {\n",
       "        vertical-align: top;\n",
       "    }\n",
       "\n",
       "    .dataframe thead th {\n",
       "        text-align: right;\n",
       "    }\n",
       "</style>\n",
       "<table border=\"1\" class=\"dataframe\">\n",
       "  <thead>\n",
       "    <tr style=\"text-align: right;\">\n",
       "      <th></th>\n",
       "      <th>duration</th>\n",
       "      <th>user_id</th>\n",
       "    </tr>\n",
       "  </thead>\n",
       "  <tbody>\n",
       "    <tr>\n",
       "      <th>count</th>\n",
       "      <td>202607.000000</td>\n",
       "      <td>202607.000000</td>\n",
       "    </tr>\n",
       "    <tr>\n",
       "      <th>mean</th>\n",
       "      <td>6.755887</td>\n",
       "      <td>1253.940619</td>\n",
       "    </tr>\n",
       "    <tr>\n",
       "      <th>std</th>\n",
       "      <td>5.843365</td>\n",
       "      <td>144.722751</td>\n",
       "    </tr>\n",
       "    <tr>\n",
       "      <th>min</th>\n",
       "      <td>0.000000</td>\n",
       "      <td>1000.000000</td>\n",
       "    </tr>\n",
       "    <tr>\n",
       "      <th>25%</th>\n",
       "      <td>1.300000</td>\n",
       "      <td>1126.000000</td>\n",
       "    </tr>\n",
       "    <tr>\n",
       "      <th>50%</th>\n",
       "      <td>6.000000</td>\n",
       "      <td>1260.000000</td>\n",
       "    </tr>\n",
       "    <tr>\n",
       "      <th>75%</th>\n",
       "      <td>10.700000</td>\n",
       "      <td>1379.000000</td>\n",
       "    </tr>\n",
       "    <tr>\n",
       "      <th>max</th>\n",
       "      <td>38.000000</td>\n",
       "      <td>1499.000000</td>\n",
       "    </tr>\n",
       "  </tbody>\n",
       "</table>\n",
       "</div>"
      ],
      "text/plain": [
       "            duration        user_id\n",
       "count  202607.000000  202607.000000\n",
       "mean        6.755887    1253.940619\n",
       "std         5.843365     144.722751\n",
       "min         0.000000    1000.000000\n",
       "25%         1.300000    1126.000000\n",
       "50%         6.000000    1260.000000\n",
       "75%        10.700000    1379.000000\n",
       "max        38.000000    1499.000000"
      ]
     },
     "execution_count": 7,
     "metadata": {},
     "output_type": "execute_result"
    }
   ],
   "source": [
    "# получение описательной статистики\n",
    "calls.describe()"
   ]
  },
  {
   "cell_type": "code",
   "execution_count": 8,
   "metadata": {},
   "outputs": [
    {
     "name": "stdout",
     "output_type": "stream",
     "text": [
      "count    202607.000000\n",
      "mean          6.755887\n",
      "std           5.843365\n",
      "min           0.000000\n",
      "25%           1.300000\n",
      "50%           6.000000\n",
      "75%          10.700000\n",
      "max          38.000000\n",
      "Name: duration, dtype: float64\n"
     ]
    },
    {
     "data": {
      "image/png": "[encoded data removed]",
      "text/plain": [
       "<Figure size 720x432 with 1 Axes>"
      ]
     },
     "metadata": {
      "needs_background": "light"
     },
     "output_type": "display_data"
    }
   ],
   "source": [
    "hist_maker(calls['duration'])"
   ]
  },
  {
   "cell_type": "code",
   "execution_count": 9,
   "metadata": {},
   "outputs": [
    {
     "name": "stdout",
     "output_type": "stream",
     "text": [
      "Количество звонков с нулевой длительностью:  39613\n"
     ]
    }
   ],
   "source": [
    "# подсчитаем количество звонков с нулевой длительностью\n",
    "\n",
    "\n",
    "counter = 0\n",
    "for el in calls['duration']:\n",
    "    if el == 0 : counter+=1\n",
    "print('Количество звонков с нулевой длительностью: ', counter)"
   ]
  },
  {
   "cell_type": "markdown",
   "metadata": {},
   "source": [
    "#### Выводы по обзору"
   ]
  },
  {
   "cell_type": "markdown",
   "metadata": {},
   "source": [
    "* пропусков не обнаружено\n",
    "* 39613 разговора с нулевой длительностью, по этому поводу стоит обратится к коллегам. Являются ли они \"пропущенными\" или    нетарифицированными (первые 5 секунд бесплатно)?\n",
    "* ввиду политики компании по окргуления длительности звонков до минуты, преобразуем столбец duration в int"
   ]
  },
  {
   "cell_type": "markdown",
   "metadata": {},
   "source": [
    "#### Предобработка"
   ]
  },
  {
   "cell_type": "code",
   "execution_count": 10,
   "metadata": {},
   "outputs": [],
   "source": [
    "calls['duration'] = np.ceil(calls['duration']).astype('int')"
   ]
  },
  {
   "cell_type": "markdown",
   "metadata": {},
   "source": [
    "#### Удаление дубликатов"
   ]
  },
  {
   "cell_type": "code",
   "execution_count": 11,
   "metadata": {},
   "outputs": [
    {
     "name": "stdout",
     "output_type": "stream",
     "text": [
      "<class 'pandas.core.frame.DataFrame'>\n",
      "RangeIndex: 202607 entries, 0 to 202606\n",
      "Data columns (total 4 columns):\n",
      " #   Column     Non-Null Count   Dtype         \n",
      "---  ------     --------------   -----         \n",
      " 0   id         202607 non-null  object        \n",
      " 1   call_date  202607 non-null  datetime64[ns]\n",
      " 2   duration   202607 non-null  int64         \n",
      " 3   user_id    202607 non-null  int64         \n",
      "dtypes: datetime64[ns](1), int64(2), object(1)\n",
      "memory usage: 6.2+ MB\n",
      "\n",
      "Дубликатов не было\n"
     ]
    }
   ],
   "source": [
    "# Удалим явные дубликаты\n",
    "len_before = len(calls)\n",
    "calls = calls.drop_duplicates().reset_index(drop=True)\n",
    "\n",
    "# Проверим, сократилось ли значение\n",
    "calls.info()\n",
    "print()\n",
    "if len_before > len(calls): print('Дубликаты выброшены')\n",
    "else: print('Дубликатов не было')"
   ]
  },
  {
   "cell_type": "markdown",
   "metadata": {},
   "source": [
    "### Предобрaботка таблицы users"
   ]
  },
  {
   "cell_type": "markdown",
   "metadata": {},
   "source": [
    "#### Обзор данных"
   ]
  },
  {
   "cell_type": "code",
   "execution_count": 12,
   "metadata": {},
   "outputs": [
    {
     "data": {
      "text/html": [
       "<div>\n",
       "<style scoped>\n",
       "    .dataframe tbody tr th:only-of-type {\n",
       "        vertical-align: middle;\n",
       "    }\n",
       "\n",
       "    .dataframe tbody tr th {\n",
       "        vertical-align: top;\n",
       "    }\n",
       "\n",
       "    .dataframe thead th {\n",
       "        text-align: right;\n",
       "    }\n",
       "</style>\n",
       "<table border=\"1\" class=\"dataframe\">\n",
       "  <thead>\n",
       "    <tr style=\"text-align: right;\">\n",
       "      <th></th>\n",
       "      <th>user_id</th>\n",
       "      <th>age</th>\n",
       "      <th>churn_date</th>\n",
       "      <th>city</th>\n",
       "      <th>first_name</th>\n",
       "      <th>last_name</th>\n",
       "      <th>reg_date</th>\n",
       "      <th>tariff</th>\n",
       "    </tr>\n",
       "  </thead>\n",
       "  <tbody>\n",
       "    <tr>\n",
       "      <th>0</th>\n",
       "      <td>1000</td>\n",
       "      <td>52</td>\n",
       "      <td>NaN</td>\n",
       "      <td>Краснодар</td>\n",
       "      <td>Рафаил</td>\n",
       "      <td>Верещагин</td>\n",
       "      <td>2018-05-25</td>\n",
       "      <td>ultra</td>\n",
       "    </tr>\n",
       "    <tr>\n",
       "      <th>1</th>\n",
       "      <td>1001</td>\n",
       "      <td>41</td>\n",
       "      <td>NaN</td>\n",
       "      <td>Москва</td>\n",
       "      <td>Иван</td>\n",
       "      <td>Ежов</td>\n",
       "      <td>2018-11-01</td>\n",
       "      <td>smart</td>\n",
       "    </tr>\n",
       "    <tr>\n",
       "      <th>2</th>\n",
       "      <td>1002</td>\n",
       "      <td>59</td>\n",
       "      <td>NaN</td>\n",
       "      <td>Стерлитамак</td>\n",
       "      <td>Евгений</td>\n",
       "      <td>Абрамович</td>\n",
       "      <td>2018-06-17</td>\n",
       "      <td>smart</td>\n",
       "    </tr>\n",
       "    <tr>\n",
       "      <th>3</th>\n",
       "      <td>1003</td>\n",
       "      <td>23</td>\n",
       "      <td>NaN</td>\n",
       "      <td>Москва</td>\n",
       "      <td>Белла</td>\n",
       "      <td>Белякова</td>\n",
       "      <td>2018-08-17</td>\n",
       "      <td>ultra</td>\n",
       "    </tr>\n",
       "    <tr>\n",
       "      <th>4</th>\n",
       "      <td>1004</td>\n",
       "      <td>68</td>\n",
       "      <td>NaN</td>\n",
       "      <td>Новокузнецк</td>\n",
       "      <td>Татьяна</td>\n",
       "      <td>Авдеенко</td>\n",
       "      <td>2018-05-14</td>\n",
       "      <td>ultra</td>\n",
       "    </tr>\n",
       "  </tbody>\n",
       "</table>\n",
       "</div>"
      ],
      "text/plain": [
       "   user_id  age churn_date         city first_name  last_name    reg_date  \\\n",
       "0     1000   52        NaN    Краснодар     Рафаил  Верещагин  2018-05-25   \n",
       "1     1001   41        NaN       Москва       Иван       Ежов  2018-11-01   \n",
       "2     1002   59        NaN  Стерлитамак    Евгений  Абрамович  2018-06-17   \n",
       "3     1003   23        NaN       Москва      Белла   Белякова  2018-08-17   \n",
       "4     1004   68        NaN  Новокузнецк    Татьяна   Авдеенко  2018-05-14   \n",
       "\n",
       "  tariff  \n",
       "0  ultra  \n",
       "1  smart  \n",
       "2  smart  \n",
       "3  ultra  \n",
       "4  ultra  "
      ]
     },
     "execution_count": 12,
     "metadata": {},
     "output_type": "execute_result"
    }
   ],
   "source": [
    "# получим первые 5 строк таблицы\n",
    "users.head()"
   ]
  },
  {
   "cell_type": "code",
   "execution_count": 13,
   "metadata": {},
   "outputs": [
    {
     "name": "stdout",
     "output_type": "stream",
     "text": [
      "<class 'pandas.core.frame.DataFrame'>\n",
      "RangeIndex: 500 entries, 0 to 499\n",
      "Data columns (total 8 columns):\n",
      " #   Column      Non-Null Count  Dtype \n",
      "---  ------      --------------  ----- \n",
      " 0   user_id     500 non-null    int64 \n",
      " 1   age         500 non-null    int64 \n",
      " 2   churn_date  38 non-null     object\n",
      " 3   city        500 non-null    object\n",
      " 4   first_name  500 non-null    object\n",
      " 5   last_name   500 non-null    object\n",
      " 6   reg_date    500 non-null    object\n",
      " 7   tariff      500 non-null    object\n",
      "dtypes: int64(2), object(6)\n",
      "memory usage: 31.4+ KB\n"
     ]
    }
   ],
   "source": [
    "# получение информации о таблице\n",
    "users.info()"
   ]
  },
  {
   "cell_type": "code",
   "execution_count": 14,
   "metadata": {},
   "outputs": [
    {
     "data": {
      "text/html": [
       "<div>\n",
       "<style scoped>\n",
       "    .dataframe tbody tr th:only-of-type {\n",
       "        vertical-align: middle;\n",
       "    }\n",
       "\n",
       "    .dataframe tbody tr th {\n",
       "        vertical-align: top;\n",
       "    }\n",
       "\n",
       "    .dataframe thead th {\n",
       "        text-align: right;\n",
       "    }\n",
       "</style>\n",
       "<table border=\"1\" class=\"dataframe\">\n",
       "  <thead>\n",
       "    <tr style=\"text-align: right;\">\n",
       "      <th></th>\n",
       "      <th>user_id</th>\n",
       "      <th>age</th>\n",
       "    </tr>\n",
       "  </thead>\n",
       "  <tbody>\n",
       "    <tr>\n",
       "      <th>count</th>\n",
       "      <td>500.000000</td>\n",
       "      <td>500.00000</td>\n",
       "    </tr>\n",
       "    <tr>\n",
       "      <th>mean</th>\n",
       "      <td>1249.500000</td>\n",
       "      <td>46.58800</td>\n",
       "    </tr>\n",
       "    <tr>\n",
       "      <th>std</th>\n",
       "      <td>144.481833</td>\n",
       "      <td>16.66763</td>\n",
       "    </tr>\n",
       "    <tr>\n",
       "      <th>min</th>\n",
       "      <td>1000.000000</td>\n",
       "      <td>18.00000</td>\n",
       "    </tr>\n",
       "    <tr>\n",
       "      <th>25%</th>\n",
       "      <td>1124.750000</td>\n",
       "      <td>32.00000</td>\n",
       "    </tr>\n",
       "    <tr>\n",
       "      <th>50%</th>\n",
       "      <td>1249.500000</td>\n",
       "      <td>46.00000</td>\n",
       "    </tr>\n",
       "    <tr>\n",
       "      <th>75%</th>\n",
       "      <td>1374.250000</td>\n",
       "      <td>62.00000</td>\n",
       "    </tr>\n",
       "    <tr>\n",
       "      <th>max</th>\n",
       "      <td>1499.000000</td>\n",
       "      <td>75.00000</td>\n",
       "    </tr>\n",
       "  </tbody>\n",
       "</table>\n",
       "</div>"
      ],
      "text/plain": [
       "           user_id        age\n",
       "count   500.000000  500.00000\n",
       "mean   1249.500000   46.58800\n",
       "std     144.481833   16.66763\n",
       "min    1000.000000   18.00000\n",
       "25%    1124.750000   32.00000\n",
       "50%    1249.500000   46.00000\n",
       "75%    1374.250000   62.00000\n",
       "max    1499.000000   75.00000"
      ]
     },
     "execution_count": 14,
     "metadata": {},
     "output_type": "execute_result"
    }
   ],
   "source": [
    "# получение описательной статистики\n",
    "users.describe()"
   ]
  },
  {
   "cell_type": "code",
   "execution_count": 15,
   "metadata": {},
   "outputs": [
    {
     "data": {
      "text/plain": [
       "array(['Архангельск', 'Астрахань', 'Балашиха', 'Барнаул', 'Белгород',\n",
       "       'Брянск', 'Владивосток', 'Владикавказ', 'Владимир', 'Волгоград',\n",
       "       'Волжский', 'Вологда', 'Воронеж', 'Грозный', 'Екатеринбург',\n",
       "       'Иваново', 'Ижевск', 'Иркутск', 'Казань', 'Калининград', 'Калуга',\n",
       "       'Кемерово', 'Киров', 'Кострома', 'Краснодар', 'Красноярск',\n",
       "       'Курган', 'Курск', 'Липецк', 'Магнитогорск', 'Махачкала', 'Москва',\n",
       "       'Мурманск', 'Набережные Челны', 'Нижневартовск', 'Нижний Новгород',\n",
       "       'Нижний Тагил', 'Новокузнецк', 'Новороссийск', 'Новосибирск',\n",
       "       'Омск', 'Оренбург', 'Орёл', 'Пенза', 'Пермь', 'Петрозаводск',\n",
       "       'Подольск', 'Ростов-на-Дону', 'Рязань', 'Самара',\n",
       "       'Санкт-Петербург', 'Саранск', 'Саратов', 'Севастополь', 'Смоленск',\n",
       "       'Сочи', 'Ставрополь', 'Стерлитамак', 'Сургут', 'Тамбов', 'Тверь',\n",
       "       'Тольятти', 'Томск', 'Тула', 'Тюмень', 'Улан-Удэ', 'Ульяновск',\n",
       "       'Уфа', 'Хабаровск', 'Химки', 'Чебоксары', 'Челябинск', 'Череповец',\n",
       "       'Чита', 'Якутск', 'Ярославль'], dtype=object)"
      ]
     },
     "execution_count": 15,
     "metadata": {},
     "output_type": "execute_result"
    }
   ],
   "source": [
    "# посмотрим на список городов\n",
    "users['city'].sort_values().unique()"
   ]
  },
  {
   "cell_type": "code",
   "execution_count": 16,
   "metadata": {},
   "outputs": [
    {
     "data": {
      "text/plain": [
       "array(['Авксентий', 'Агата', 'Агафья', 'Агнесса', 'Адам', 'Аким', 'Аксён',\n",
       "       'Алан', 'Алевтина', 'Александр', 'Александра', 'Алексей', 'Алина',\n",
       "       'Алиса', 'Алла', 'Альберта', 'Альбин', 'Альфред', 'Алёна',\n",
       "       'Анатолий', 'Анвар', 'Ангелина', 'Андрей', 'Анжелика', 'Анита',\n",
       "       'Антонина', 'Анфиса', 'Арина', 'Арнольд', 'Арсен', 'Арсений',\n",
       "       'Артемий', 'Артём', 'Аурелия', 'Афанасий', 'Ахмет', 'Аюна',\n",
       "       'Белла', 'Берта', 'Борис', 'Вадим', 'Валентина', 'Валерий',\n",
       "       'Валерия', 'Варвара', 'Варлам', 'Василиса', 'Вениамин', 'Вера',\n",
       "       'Вероника', 'Веселина', 'Виктор', 'Виктория', 'Виолетта',\n",
       "       'Виталий', 'Владимир', 'Владислав', 'Владислава', 'Всеволод',\n",
       "       'Габриель', 'Габриэль', 'Гайдар', 'Галина', 'Гарри', 'Гектор',\n",
       "       'Гелена', 'Геннадий', 'Геодар', 'Георгий', 'Георгина', 'Геральд',\n",
       "       'Герасим', 'Глеб', 'Гордей', 'Григорий', 'Дайна', 'Дана', 'Даниил',\n",
       "       'Даниэла', 'Дебора', 'Демьян', 'Денис', 'Джемма', 'Джозефина',\n",
       "       'Джулия', 'Динара', 'Доминика', 'Ева', 'Евгений', 'Евгения',\n",
       "       'Евдокия', 'Евфросинья', 'Егор', 'Екатерина', 'Елена', 'Еремей',\n",
       "       'Ермолай', 'Ефим', 'Зинаида', 'Иван', 'Игнатий', 'Игорь',\n",
       "       'Изольда', 'Илзе', 'Илья', 'Инара', 'Инга', 'Инесса', 'Инна',\n",
       "       'Иннокентий', 'Ириней', 'Исаак', 'Исак', 'Иулиан', 'Камилла',\n",
       "       'Карина', 'Каролина', 'Касьян', 'Ким', 'Клавдия', 'Клара',\n",
       "       'Клариса', 'Константин', 'Кристина', 'Ксения', 'Кузьма',\n",
       "       'Лаврентий', 'Лариса', 'Лаура', 'Лев', 'Лейла', 'Леон', 'Леонид',\n",
       "       'Леонтий', 'Леся', 'Лидия', 'Лилия', 'Лия', 'Лола', 'Лолита',\n",
       "       'Луиза', 'Лукий', 'Людмила', 'Мадина', 'Майя', 'Максим',\n",
       "       'Мальвина', 'Мануэла', 'Маргарита', 'Марианна', 'Мариетта',\n",
       "       'Марина', 'Марица', 'Мария', 'Марта', 'Марьяна', 'Матвей',\n",
       "       'Милана', 'Милена', 'Милица', 'Мирослава', 'Михаил', 'Мстислав',\n",
       "       'Надежда', 'Наида', 'Наталья', 'Нателла', 'Нелли', 'Николай',\n",
       "       'Нина', 'Оксана', 'Олег', 'Олеся', 'Онисим', 'Павел', 'Пётр',\n",
       "       'Радим', 'Радислав', 'Радомир', 'Раиса', 'Рауль', 'Рафаил',\n",
       "       'Рафаэль', 'Рашид', 'Рем', 'Ренальд', 'Ренат', 'Рената', 'Ринат',\n",
       "       'Роберт', 'Роза', 'Розалия', 'Роксана', 'Ростислав', 'Рубен',\n",
       "       'Рудольф', 'Рузана', 'Руслан', 'Руслана', 'Рустам', 'Рустем',\n",
       "       'Рустэм', 'Рэм', 'Сабина', 'Саида', 'Сара', 'Светлана',\n",
       "       'Святослав', 'Семён', 'Серафима', 'Симона', 'Снежана', 'Софья',\n",
       "       'Станислав', 'Степан', 'Таира', 'Таисия', 'Тала', 'Тамара',\n",
       "       'Татьяна', 'Тимофей', 'Тихон', 'Трифон', 'Трофим', 'Фаддей',\n",
       "       'Фёдор', 'Харитон', 'Эдита', 'Эдуард', 'Элеонора', 'Элина', 'Элла',\n",
       "       'Эллада', 'Эльвира', 'Эльга', 'Эльза', 'Эльмира', 'Эмилия',\n",
       "       'Эсмеральда', 'Юзефа', 'Юлий', 'Юлия', 'Юна', 'Юрий', 'Яков',\n",
       "       'Яна'], dtype=object)"
      ]
     },
     "execution_count": 16,
     "metadata": {},
     "output_type": "execute_result"
    }
   ],
   "source": [
    "users['first_name'].sort_values().unique()"
   ]
  },
  {
   "cell_type": "code",
   "execution_count": 17,
   "metadata": {},
   "outputs": [
    {
     "data": {
      "text/plain": [
       "array(['Ёлчина', 'Ёркин', 'Ёркина', 'Ёрохов', 'Ёрохова', 'Абаимов',\n",
       "       'Абакумов', 'Абакшина', 'Абалакова', 'Абалдуева', 'Абалкин',\n",
       "       'Абашкин', 'Абашкина', 'Абдулина', 'Абоимов', 'Абрамович',\n",
       "       'Абрамцев', 'Абрамычева', 'Абрашина', 'Абрикосова', 'Авдеев',\n",
       "       'Авдеенко', 'Авдонюшкин', 'Авдушева', 'Авдышев', 'Авдюков',\n",
       "       'Авраамова', 'Авраменко', 'Авринский', 'Аврорин', 'Авроров',\n",
       "       'Авросимова', 'Авросинова', 'Авсейкина', 'Авчинникова', 'Агаев',\n",
       "       'Агаева', 'Агапеева', 'Агеева', 'Адаменко', 'Адамов', 'Азаров',\n",
       "       'Азерников', 'Азимова', 'Акимов', 'Акимчин', 'Акимычева',\n",
       "       'Акиндинов', 'Акинин', 'Акинфьев', 'Аксёнов', 'Акуленко',\n",
       "       'Александрова', 'Александрович', 'Александрюк', 'Алексеева',\n",
       "       'Алексеенко', 'Алексеичев', 'Аленникова', 'Алесин', 'Алехина',\n",
       "       'Алешин', 'Алешина', 'Алешкова', 'Алиев', 'Алфеева', 'Алфимов',\n",
       "       'Алфимова', 'Алымова', 'Алютин', 'Алюшина', 'Алёшко', 'Алёшкова',\n",
       "       'Амелин', 'Амелишко', 'Амельченко', 'Ананьева', 'Андреенко',\n",
       "       'Андрейкин', 'Андрейчук', 'Андрианов', 'Андропов', 'Андропова',\n",
       "       'Андрющенко', 'Аникина', 'Аничкина', 'Анищенко', 'Антипов',\n",
       "       'Антоненко', 'Антонова', 'Антропов', 'Антропова', 'Аракина',\n",
       "       'Аракчеев', 'Аркадьев', 'Арсенкова', 'Артемчук', 'Артемьев',\n",
       "       'Артёменко', 'Артёмов', 'Артёшин', 'Архипова', 'Асафьева',\n",
       "       'Астапенко', 'Астапов', 'Астафьева', 'Афанасенко', 'Афанасова',\n",
       "       'Афинин', 'Афонасьева', 'Афонин', 'Афонина', 'Ахмадулин',\n",
       "       'Ахматов', 'Ахматулин', 'Ахматулина', 'Ахмедов', 'Бабушкина',\n",
       "       'Барсуков', 'Басова', 'Безруков', 'Беликова', 'Белова',\n",
       "       'Белозёров', 'Белоусова', 'Беляев', 'Беляева', 'Белякова',\n",
       "       'Березина', 'Блинова', 'Блохин', 'Блохина', 'Боброва', 'Бобылёв',\n",
       "       'Богданов', 'Богданова', 'Болдырев', 'Болдырева', 'Бондарев',\n",
       "       'Борисова', 'Бородин', 'Бородина', 'Булгаков', 'Бычкова',\n",
       "       'Васильева', 'Верещагин', 'Верещагина', 'Веселов', 'Вешнякова',\n",
       "       'Вишневский', 'Вишняков', 'Воронин', 'Воронина', 'Гаврилова',\n",
       "       'Галкин', 'Глушков', 'Голованова', 'Гончаров', 'Горбачева',\n",
       "       'Горбунов', 'Горлов', 'Григорьев', 'Григорьева', 'Гришина',\n",
       "       'Громова', 'Давыдов', 'Демидов', 'Демьянов', 'Демьянова',\n",
       "       'Денисова', 'Добрынин', 'Добрынина', 'Дорофеева', 'Дроздов',\n",
       "       'Дубинина', 'Дьячкова', 'Евсеев', 'Ежов', 'Елизаров', 'Емельянова',\n",
       "       'Еремин', 'Ермилов', 'Ермолаев', 'Ерофеев', 'Ерофеева', 'Ефремов',\n",
       "       'Жарова', 'Жданов', 'Жукова', 'Завьялова', 'Зайцев', 'Зеленина',\n",
       "       'Зимина', 'Золотов', 'Золотова', 'Зубков', 'Зубкова', 'Зуев',\n",
       "       'Зыков', 'Иванов', 'Иванова', 'Игнатова', 'Игнатьев', 'Игнатьева',\n",
       "       'Измайлова', 'Ильин', 'Ильина', 'Кабанова', 'Казакова', 'Казанцев',\n",
       "       'Калинина', 'Капустин', 'Карасев', 'Карасева', 'Карташова',\n",
       "       'Касьянова', 'Киреева', 'Кириллов', 'Киселёв', 'Климова',\n",
       "       'Ковалева', 'Козлов', 'Козлова', 'Козырева', 'Колесова', 'Колобов',\n",
       "       'Кольцова', 'Кондратов', 'Коновалова', 'Кононов', 'Константинова',\n",
       "       'Корнеева', 'Корнилов', 'Корнилова', 'Корольков', 'Королькова',\n",
       "       'Короткова', 'Коршунов', 'Костин', 'Костина', 'Кочергина',\n",
       "       'Кочетков', 'Кочетов', 'Кошелева', 'Кравцов', 'Красильников',\n",
       "       'Круглов', 'Крылова', 'Крюков', 'Крюкова', 'Крючков', 'Кузнецов',\n",
       "       'Кукушкин', 'Кулагина', 'Кулешова', 'Куприянов', 'Курочкин',\n",
       "       'Лазарева', 'Лапина', 'Лаптева', 'Ларин', 'Ларина', 'Ларионова',\n",
       "       'Латышева', 'Лебедев', 'Левин', 'Леонтьев', 'Литвинов', 'Лобанова',\n",
       "       'Логинов', 'Лосева', 'Лукин', 'Любимов', 'Макаров', 'Макарова',\n",
       "       'Макеев', 'Малахов', 'Малинин', 'Малинина', 'Малышев', 'Мальцев',\n",
       "       'Мамонтова', 'Марков', 'Масленникова', 'Матвеев', 'Медведев',\n",
       "       'Мельникова', 'Меркулова', 'Минаев', 'Минаева', 'Мишин',\n",
       "       'Молчанова', 'Моргунов', 'Морозов', 'Муравьева', 'Муравьёв',\n",
       "       'Мясникова', 'Наумов', 'Некрасов', 'Нестеров', 'Нестерова',\n",
       "       'Нечаева', 'Никонов', 'Никулин', 'Новикова', 'Носкова',\n",
       "       'Овчинников', 'Одинцов', 'Одинцова', 'Озерова', 'Орлов',\n",
       "       'Павловский', 'Панов', 'Пантелеева', 'Панфилов', 'Панфилова',\n",
       "       'Парфенов', 'Петухова', 'Пирогова', 'Платонова', 'Покровский',\n",
       "       'Поликарпова', 'Поляков', 'Пономарев', 'Пономарева', 'Пономарёв',\n",
       "       'Попов', 'Прокофьева', 'Пугачева', 'Ракова', 'Родина', 'Родионов',\n",
       "       'Родионова', 'Розанова', 'Рудаков', 'Румянцева', 'Русанова',\n",
       "       'Рыбакова', 'Рябов', 'Савельева', 'Сазонов', 'Сазонова',\n",
       "       'Сальников', 'Сафонова', 'Сахарова', 'Свиридов', 'Севастьянова',\n",
       "       'Седова', 'Селезнев', 'Селезнева', 'Селиванова', 'Семенова',\n",
       "       'Семин', 'Семина', 'Семёнов', 'Сергеева', 'Серебрякова', 'Серов',\n",
       "       'Силин', 'Симонова', 'Синицын', 'Ситникова', 'Соколов', 'Соловьев',\n",
       "       'Соловьёв', 'Сомова', 'Сорокин', 'Софронов', 'Спиридонова',\n",
       "       'Субботина', 'Суслов', 'Суслова', 'Сухарев', 'Сухарева', 'Сухова',\n",
       "       'Сысоев', 'Тарасов', 'Тарасова', 'Терехова', 'Тетерина',\n",
       "       'Тимофеев', 'Тимофеева', 'Тихомирова', 'Тихонов', 'Толкачев',\n",
       "       'Третьякова', 'Троицкий', 'Трофимов', 'Трофимова', 'Трошин',\n",
       "       'Уваров', 'Устинов', 'Устинова', 'Фадеева', 'Федосеев', 'Фетисова',\n",
       "       'Филатов', 'Фокин', 'Фокина', 'Фомин', 'Фролов', 'Фёдоров',\n",
       "       'Худяков', 'Чернов', 'Черный', 'Чернышев', 'Черняев', 'Чеснокова',\n",
       "       'Чижова', 'Чистякова', 'Чумаков', 'Шарапов', 'Шарапова', 'Шарова',\n",
       "       'Швецов', 'Шевцов', 'Шевцова', 'Щербакова', 'Яшина'], dtype=object)"
      ]
     },
     "execution_count": 17,
     "metadata": {},
     "output_type": "execute_result"
    }
   ],
   "source": [
    "users['last_name'].sort_values().unique()"
   ]
  },
  {
   "cell_type": "code",
   "execution_count": 18,
   "metadata": {},
   "outputs": [
    {
     "data": {
      "text/plain": [
       "array(['smart', 'ultra'], dtype=object)"
      ]
     },
     "execution_count": 18,
     "metadata": {},
     "output_type": "execute_result"
    }
   ],
   "source": [
    "users['tariff'].sort_values().unique()"
   ]
  },
  {
   "cell_type": "markdown",
   "metadata": {},
   "source": [
    "#### Выводы по обзору"
   ]
  },
  {
   "cell_type": "markdown",
   "metadata": {},
   "source": [
    "* пропуски обнаружены только в столбце \"churn_date\", исходя из описания данных, оставляем их как есть\n",
    "* все строковые данные приведем в нижний регистр"
   ]
  },
  {
   "cell_type": "markdown",
   "metadata": {},
   "source": [
    "#### Предобработка"
   ]
  },
  {
   "cell_type": "code",
   "execution_count": 19,
   "metadata": {},
   "outputs": [
    {
     "data": {
      "text/html": [
       "<div>\n",
       "<style scoped>\n",
       "    .dataframe tbody tr th:only-of-type {\n",
       "        vertical-align: middle;\n",
       "    }\n",
       "\n",
       "    .dataframe tbody tr th {\n",
       "        vertical-align: top;\n",
       "    }\n",
       "\n",
       "    .dataframe thead th {\n",
       "        text-align: right;\n",
       "    }\n",
       "</style>\n",
       "<table border=\"1\" class=\"dataframe\">\n",
       "  <thead>\n",
       "    <tr style=\"text-align: right;\">\n",
       "      <th></th>\n",
       "      <th>user_id</th>\n",
       "      <th>age</th>\n",
       "      <th>churn_date</th>\n",
       "      <th>city</th>\n",
       "      <th>first_name</th>\n",
       "      <th>last_name</th>\n",
       "      <th>reg_date</th>\n",
       "      <th>tariff_name</th>\n",
       "    </tr>\n",
       "  </thead>\n",
       "  <tbody>\n",
       "    <tr>\n",
       "      <th>0</th>\n",
       "      <td>1000</td>\n",
       "      <td>52</td>\n",
       "      <td>NaN</td>\n",
       "      <td>краснодар</td>\n",
       "      <td>рафаил</td>\n",
       "      <td>верещагин</td>\n",
       "      <td>2018-05-25</td>\n",
       "      <td>ultra</td>\n",
       "    </tr>\n",
       "    <tr>\n",
       "      <th>1</th>\n",
       "      <td>1001</td>\n",
       "      <td>41</td>\n",
       "      <td>NaN</td>\n",
       "      <td>москва</td>\n",
       "      <td>иван</td>\n",
       "      <td>ежов</td>\n",
       "      <td>2018-11-01</td>\n",
       "      <td>smart</td>\n",
       "    </tr>\n",
       "    <tr>\n",
       "      <th>2</th>\n",
       "      <td>1002</td>\n",
       "      <td>59</td>\n",
       "      <td>NaN</td>\n",
       "      <td>стерлитамак</td>\n",
       "      <td>евгений</td>\n",
       "      <td>абрамович</td>\n",
       "      <td>2018-06-17</td>\n",
       "      <td>smart</td>\n",
       "    </tr>\n",
       "    <tr>\n",
       "      <th>3</th>\n",
       "      <td>1003</td>\n",
       "      <td>23</td>\n",
       "      <td>NaN</td>\n",
       "      <td>москва</td>\n",
       "      <td>белла</td>\n",
       "      <td>белякова</td>\n",
       "      <td>2018-08-17</td>\n",
       "      <td>ultra</td>\n",
       "    </tr>\n",
       "    <tr>\n",
       "      <th>4</th>\n",
       "      <td>1004</td>\n",
       "      <td>68</td>\n",
       "      <td>NaN</td>\n",
       "      <td>новокузнецк</td>\n",
       "      <td>татьяна</td>\n",
       "      <td>авдеенко</td>\n",
       "      <td>2018-05-14</td>\n",
       "      <td>ultra</td>\n",
       "    </tr>\n",
       "  </tbody>\n",
       "</table>\n",
       "</div>"
      ],
      "text/plain": [
       "   user_id  age churn_date         city first_name  last_name    reg_date  \\\n",
       "0     1000   52        NaN    краснодар     рафаил  верещагин  2018-05-25   \n",
       "1     1001   41        NaN       москва       иван       ежов  2018-11-01   \n",
       "2     1002   59        NaN  стерлитамак    евгений  абрамович  2018-06-17   \n",
       "3     1003   23        NaN       москва      белла   белякова  2018-08-17   \n",
       "4     1004   68        NaN  новокузнецк    татьяна   авдеенко  2018-05-14   \n",
       "\n",
       "  tariff_name  \n",
       "0       ultra  \n",
       "1       smart  \n",
       "2       smart  \n",
       "3       ultra  \n",
       "4       ultra  "
      ]
     },
     "execution_count": 19,
     "metadata": {},
     "output_type": "execute_result"
    }
   ],
   "source": [
    "# все строковые данные приведем в нижний регистр\n",
    "users['city'] = users['city'].str.lower()\n",
    "users['first_name'] = users['first_name'].str.lower()\n",
    "users['last_name'] = users['last_name'].str.lower()\n",
    "\n",
    "# переименуум tariff на tariff_name для последующего объединения\n",
    "users = users.rename(columns={users.columns[7]: 'tariff_name'})\n",
    "\n",
    "# проверим\n",
    "users.head()"
   ]
  },
  {
   "cell_type": "markdown",
   "metadata": {},
   "source": [
    "### Предобрaботка таблицы internet"
   ]
  },
  {
   "cell_type": "markdown",
   "metadata": {},
   "source": [
    "#### Обзор данных"
   ]
  },
  {
   "cell_type": "code",
   "execution_count": 20,
   "metadata": {},
   "outputs": [
    {
     "name": "stdout",
     "output_type": "stream",
     "text": [
      "<class 'pandas.core.frame.DataFrame'>\n",
      "RangeIndex: 149396 entries, 0 to 149395\n",
      "Data columns (total 5 columns):\n",
      " #   Column        Non-Null Count   Dtype         \n",
      "---  ------        --------------   -----         \n",
      " 0   Unnamed: 0    149396 non-null  int64         \n",
      " 1   id            149396 non-null  object        \n",
      " 2   mb_used       149396 non-null  float64       \n",
      " 3   session_date  149396 non-null  datetime64[ns]\n",
      " 4   user_id       149396 non-null  int64         \n",
      "dtypes: datetime64[ns](1), float64(1), int64(2), object(1)\n",
      "memory usage: 5.7+ MB\n"
     ]
    }
   ],
   "source": [
    "# посмотрим на количество строк\n",
    "internet.info()"
   ]
  },
  {
   "cell_type": "code",
   "execution_count": 21,
   "metadata": {},
   "outputs": [],
   "source": [
    "# удалим столбец \"Unnamed: 0\"\n",
    "internet = internet.drop(columns = ['Unnamed: 0'],axis = 1)"
   ]
  },
  {
   "cell_type": "code",
   "execution_count": 22,
   "metadata": {
    "scrolled": true
   },
   "outputs": [
    {
     "data": {
      "text/html": [
       "<div>\n",
       "<style scoped>\n",
       "    .dataframe tbody tr th:only-of-type {\n",
       "        vertical-align: middle;\n",
       "    }\n",
       "\n",
       "    .dataframe tbody tr th {\n",
       "        vertical-align: top;\n",
       "    }\n",
       "\n",
       "    .dataframe thead th {\n",
       "        text-align: right;\n",
       "    }\n",
       "</style>\n",
       "<table border=\"1\" class=\"dataframe\">\n",
       "  <thead>\n",
       "    <tr style=\"text-align: right;\">\n",
       "      <th></th>\n",
       "      <th>id</th>\n",
       "      <th>mb_used</th>\n",
       "      <th>session_date</th>\n",
       "      <th>user_id</th>\n",
       "    </tr>\n",
       "  </thead>\n",
       "  <tbody>\n",
       "    <tr>\n",
       "      <th>0</th>\n",
       "      <td>1000_0</td>\n",
       "      <td>112.95</td>\n",
       "      <td>2018-11-25</td>\n",
       "      <td>1000</td>\n",
       "    </tr>\n",
       "    <tr>\n",
       "      <th>1</th>\n",
       "      <td>1000_1</td>\n",
       "      <td>1052.81</td>\n",
       "      <td>2018-09-07</td>\n",
       "      <td>1000</td>\n",
       "    </tr>\n",
       "    <tr>\n",
       "      <th>2</th>\n",
       "      <td>1000_2</td>\n",
       "      <td>1197.26</td>\n",
       "      <td>2018-06-25</td>\n",
       "      <td>1000</td>\n",
       "    </tr>\n",
       "    <tr>\n",
       "      <th>3</th>\n",
       "      <td>1000_3</td>\n",
       "      <td>550.27</td>\n",
       "      <td>2018-08-22</td>\n",
       "      <td>1000</td>\n",
       "    </tr>\n",
       "    <tr>\n",
       "      <th>4</th>\n",
       "      <td>1000_4</td>\n",
       "      <td>302.56</td>\n",
       "      <td>2018-09-24</td>\n",
       "      <td>1000</td>\n",
       "    </tr>\n",
       "  </tbody>\n",
       "</table>\n",
       "</div>"
      ],
      "text/plain": [
       "       id  mb_used session_date  user_id\n",
       "0  1000_0   112.95   2018-11-25     1000\n",
       "1  1000_1  1052.81   2018-09-07     1000\n",
       "2  1000_2  1197.26   2018-06-25     1000\n",
       "3  1000_3   550.27   2018-08-22     1000\n",
       "4  1000_4   302.56   2018-09-24     1000"
      ]
     },
     "execution_count": 22,
     "metadata": {},
     "output_type": "execute_result"
    }
   ],
   "source": [
    "# посмотрим на первые 5 строк\n",
    "internet.head()"
   ]
  },
  {
   "cell_type": "code",
   "execution_count": 23,
   "metadata": {},
   "outputs": [
    {
     "data": {
      "text/plain": [
       "id           0\n",
       "call_date    0\n",
       "duration     0\n",
       "user_id      0\n",
       "dtype: int64"
      ]
     },
     "execution_count": 23,
     "metadata": {},
     "output_type": "execute_result"
    }
   ],
   "source": [
    "# подсчёт пропусков\n",
    "calls.isna().sum()"
   ]
  },
  {
   "cell_type": "code",
   "execution_count": 24,
   "metadata": {},
   "outputs": [
    {
     "name": "stdout",
     "output_type": "stream",
     "text": [
      "count    149396.000000\n",
      "mean        370.192426\n",
      "std         278.300951\n",
      "min           0.000000\n",
      "25%         138.187500\n",
      "50%         348.015000\n",
      "75%         559.552500\n",
      "max        1724.830000\n",
      "Name: mb_used, dtype: float64\n"
     ]
    },
    {
     "data": {
      "image/png": "[encoded data removed]",
      "text/plain": [
       "<Figure size 720x432 with 1 Axes>"
      ]
     },
     "metadata": {
      "needs_background": "light"
     },
     "output_type": "display_data"
    }
   ],
   "source": [
    "hist_maker(internet['mb_used'])"
   ]
  },
  {
   "cell_type": "markdown",
   "metadata": {},
   "source": [
    "#### Выводы по обзору"
   ]
  },
  {
   "cell_type": "markdown",
   "metadata": {},
   "source": [
    "* Аналогичная ситуация с сессиями с нулевым трафиком"
   ]
  },
  {
   "cell_type": "markdown",
   "metadata": {},
   "source": [
    "### Предобработка таблицы messages"
   ]
  },
  {
   "cell_type": "markdown",
   "metadata": {},
   "source": [
    "#### Обзор данных"
   ]
  },
  {
   "cell_type": "code",
   "execution_count": 25,
   "metadata": {},
   "outputs": [
    {
     "name": "stdout",
     "output_type": "stream",
     "text": [
      "<class 'pandas.core.frame.DataFrame'>\n",
      "RangeIndex: 123036 entries, 0 to 123035\n",
      "Data columns (total 3 columns):\n",
      " #   Column        Non-Null Count   Dtype         \n",
      "---  ------        --------------   -----         \n",
      " 0   id            123036 non-null  object        \n",
      " 1   message_date  123036 non-null  datetime64[ns]\n",
      " 2   user_id       123036 non-null  int64         \n",
      "dtypes: datetime64[ns](1), int64(1), object(1)\n",
      "memory usage: 2.8+ MB\n"
     ]
    }
   ],
   "source": [
    "# первый взгляд на таблицу\n",
    "messages.info()"
   ]
  },
  {
   "cell_type": "code",
   "execution_count": 26,
   "metadata": {
    "scrolled": true
   },
   "outputs": [
    {
     "data": {
      "text/html": [
       "<div>\n",
       "<style scoped>\n",
       "    .dataframe tbody tr th:only-of-type {\n",
       "        vertical-align: middle;\n",
       "    }\n",
       "\n",
       "    .dataframe tbody tr th {\n",
       "        vertical-align: top;\n",
       "    }\n",
       "\n",
       "    .dataframe thead th {\n",
       "        text-align: right;\n",
       "    }\n",
       "</style>\n",
       "<table border=\"1\" class=\"dataframe\">\n",
       "  <thead>\n",
       "    <tr style=\"text-align: right;\">\n",
       "      <th></th>\n",
       "      <th>id</th>\n",
       "      <th>message_date</th>\n",
       "      <th>user_id</th>\n",
       "    </tr>\n",
       "  </thead>\n",
       "  <tbody>\n",
       "    <tr>\n",
       "      <th>0</th>\n",
       "      <td>1000_0</td>\n",
       "      <td>2018-06-27</td>\n",
       "      <td>1000</td>\n",
       "    </tr>\n",
       "    <tr>\n",
       "      <th>1</th>\n",
       "      <td>1000_1</td>\n",
       "      <td>2018-10-08</td>\n",
       "      <td>1000</td>\n",
       "    </tr>\n",
       "    <tr>\n",
       "      <th>2</th>\n",
       "      <td>1000_2</td>\n",
       "      <td>2018-08-04</td>\n",
       "      <td>1000</td>\n",
       "    </tr>\n",
       "    <tr>\n",
       "      <th>3</th>\n",
       "      <td>1000_3</td>\n",
       "      <td>2018-06-16</td>\n",
       "      <td>1000</td>\n",
       "    </tr>\n",
       "    <tr>\n",
       "      <th>4</th>\n",
       "      <td>1000_4</td>\n",
       "      <td>2018-12-05</td>\n",
       "      <td>1000</td>\n",
       "    </tr>\n",
       "  </tbody>\n",
       "</table>\n",
       "</div>"
      ],
      "text/plain": [
       "       id message_date  user_id\n",
       "0  1000_0   2018-06-27     1000\n",
       "1  1000_1   2018-10-08     1000\n",
       "2  1000_2   2018-08-04     1000\n",
       "3  1000_3   2018-06-16     1000\n",
       "4  1000_4   2018-12-05     1000"
      ]
     },
     "execution_count": 26,
     "metadata": {},
     "output_type": "execute_result"
    }
   ],
   "source": [
    "# посмотрим на первые 5 строк\n",
    "messages.head()"
   ]
  },
  {
   "cell_type": "code",
   "execution_count": 27,
   "metadata": {},
   "outputs": [
    {
     "name": "stdout",
     "output_type": "stream",
     "text": [
      "count    123036.000000\n",
      "mean       1256.989410\n",
      "std         143.523967\n",
      "min        1000.000000\n",
      "25%        1134.000000\n",
      "50%        1271.000000\n",
      "75%        1381.000000\n",
      "max        1499.000000\n",
      "Name: user_id, dtype: float64\n"
     ]
    },
    {
     "data": {
      "image/png": "[encoded data removed]",
      "text/plain": [
       "<Figure size 720x432 with 1 Axes>"
      ]
     },
     "metadata": {
      "needs_background": "light"
     },
     "output_type": "display_data"
    }
   ],
   "source": [
    "hist_maker(messages['user_id'])"
   ]
  },
  {
   "cell_type": "markdown",
   "metadata": {},
   "source": [
    "#### Выводы по обзору"
   ]
  },
  {
   "cell_type": "markdown",
   "metadata": {},
   "source": [
    "* Предобработка не требуется"
   ]
  },
  {
   "cell_type": "markdown",
   "metadata": {},
   "source": [
    "### Предобработка таблицы tariffs"
   ]
  },
  {
   "cell_type": "markdown",
   "metadata": {},
   "source": [
    "#### Обзор данных"
   ]
  },
  {
   "cell_type": "code",
   "execution_count": 28,
   "metadata": {},
   "outputs": [
    {
     "name": "stdout",
     "output_type": "stream",
     "text": [
      "<class 'pandas.core.frame.DataFrame'>\n",
      "RangeIndex: 2 entries, 0 to 1\n",
      "Data columns (total 8 columns):\n",
      " #   Column                 Non-Null Count  Dtype \n",
      "---  ------                 --------------  ----- \n",
      " 0   messages_included      2 non-null      int64 \n",
      " 1   mb_per_month_included  2 non-null      int64 \n",
      " 2   minutes_included       2 non-null      int64 \n",
      " 3   rub_monthly_fee        2 non-null      int64 \n",
      " 4   rub_per_gb             2 non-null      int64 \n",
      " 5   rub_per_message        2 non-null      int64 \n",
      " 6   rub_per_minute         2 non-null      int64 \n",
      " 7   tariff_name            2 non-null      object\n",
      "dtypes: int64(7), object(1)\n",
      "memory usage: 256.0+ bytes\n"
     ]
    }
   ],
   "source": [
    "tariffs.info()"
   ]
  },
  {
   "cell_type": "code",
   "execution_count": 29,
   "metadata": {},
   "outputs": [
    {
     "data": {
      "text/html": [
       "<div>\n",
       "<style scoped>\n",
       "    .dataframe tbody tr th:only-of-type {\n",
       "        vertical-align: middle;\n",
       "    }\n",
       "\n",
       "    .dataframe tbody tr th {\n",
       "        vertical-align: top;\n",
       "    }\n",
       "\n",
       "    .dataframe thead th {\n",
       "        text-align: right;\n",
       "    }\n",
       "</style>\n",
       "<table border=\"1\" class=\"dataframe\">\n",
       "  <thead>\n",
       "    <tr style=\"text-align: right;\">\n",
       "      <th></th>\n",
       "      <th>messages_included</th>\n",
       "      <th>mb_per_month_included</th>\n",
       "      <th>minutes_included</th>\n",
       "      <th>rub_monthly_fee</th>\n",
       "      <th>rub_per_gb</th>\n",
       "      <th>rub_per_message</th>\n",
       "      <th>rub_per_minute</th>\n",
       "      <th>tariff_name</th>\n",
       "    </tr>\n",
       "  </thead>\n",
       "  <tbody>\n",
       "    <tr>\n",
       "      <th>0</th>\n",
       "      <td>50</td>\n",
       "      <td>15360</td>\n",
       "      <td>500</td>\n",
       "      <td>550</td>\n",
       "      <td>200</td>\n",
       "      <td>3</td>\n",
       "      <td>3</td>\n",
       "      <td>smart</td>\n",
       "    </tr>\n",
       "    <tr>\n",
       "      <th>1</th>\n",
       "      <td>1000</td>\n",
       "      <td>30720</td>\n",
       "      <td>3000</td>\n",
       "      <td>1950</td>\n",
       "      <td>150</td>\n",
       "      <td>1</td>\n",
       "      <td>1</td>\n",
       "      <td>ultra</td>\n",
       "    </tr>\n",
       "  </tbody>\n",
       "</table>\n",
       "</div>"
      ],
      "text/plain": [
       "   messages_included  mb_per_month_included  minutes_included  \\\n",
       "0                 50                  15360               500   \n",
       "1               1000                  30720              3000   \n",
       "\n",
       "   rub_monthly_fee  rub_per_gb  rub_per_message  rub_per_minute tariff_name  \n",
       "0              550         200                3               3       smart  \n",
       "1             1950         150                1               1       ultra  "
      ]
     },
     "execution_count": 29,
     "metadata": {},
     "output_type": "execute_result"
    }
   ],
   "source": [
    "tariffs"
   ]
  },
  {
   "cell_type": "markdown",
   "metadata": {},
   "source": [
    "#### Выводы по обзору"
   ]
  },
  {
   "cell_type": "markdown",
   "metadata": {},
   "source": [
    "* Предобработка не требуется"
   ]
  },
  {
   "cell_type": "markdown",
   "metadata": {},
   "source": [
    "## Подготовка данных"
   ]
  },
  {
   "cell_type": "markdown",
   "metadata": {},
   "source": [
    "### Подсчет количества звонков для каждого пользователя"
   ]
  },
  {
   "cell_type": "code",
   "execution_count": 30,
   "metadata": {},
   "outputs": [
    {
     "data": {
      "text/html": [
       "<div>\n",
       "<style scoped>\n",
       "    .dataframe tbody tr th:only-of-type {\n",
       "        vertical-align: middle;\n",
       "    }\n",
       "\n",
       "    .dataframe tbody tr th {\n",
       "        vertical-align: top;\n",
       "    }\n",
       "\n",
       "    .dataframe thead th {\n",
       "        text-align: right;\n",
       "    }\n",
       "</style>\n",
       "<table border=\"1\" class=\"dataframe\">\n",
       "  <thead>\n",
       "    <tr style=\"text-align: right;\">\n",
       "      <th></th>\n",
       "      <th>id</th>\n",
       "      <th>call_date</th>\n",
       "      <th>duration</th>\n",
       "      <th>user_id</th>\n",
       "      <th>month</th>\n",
       "    </tr>\n",
       "  </thead>\n",
       "  <tbody>\n",
       "    <tr>\n",
       "      <th>0</th>\n",
       "      <td>1000_0</td>\n",
       "      <td>2018-07-25</td>\n",
       "      <td>0</td>\n",
       "      <td>1000</td>\n",
       "      <td>2018-07-01</td>\n",
       "    </tr>\n",
       "    <tr>\n",
       "      <th>1</th>\n",
       "      <td>1000_1</td>\n",
       "      <td>2018-08-17</td>\n",
       "      <td>0</td>\n",
       "      <td>1000</td>\n",
       "      <td>2018-08-01</td>\n",
       "    </tr>\n",
       "    <tr>\n",
       "      <th>2</th>\n",
       "      <td>1000_2</td>\n",
       "      <td>2018-06-11</td>\n",
       "      <td>3</td>\n",
       "      <td>1000</td>\n",
       "      <td>2018-06-01</td>\n",
       "    </tr>\n",
       "    <tr>\n",
       "      <th>3</th>\n",
       "      <td>1000_3</td>\n",
       "      <td>2018-09-21</td>\n",
       "      <td>14</td>\n",
       "      <td>1000</td>\n",
       "      <td>2018-09-01</td>\n",
       "    </tr>\n",
       "    <tr>\n",
       "      <th>4</th>\n",
       "      <td>1000_4</td>\n",
       "      <td>2018-12-15</td>\n",
       "      <td>6</td>\n",
       "      <td>1000</td>\n",
       "      <td>2018-12-01</td>\n",
       "    </tr>\n",
       "  </tbody>\n",
       "</table>\n",
       "</div>"
      ],
      "text/plain": [
       "       id  call_date  duration  user_id      month\n",
       "0  1000_0 2018-07-25         0     1000 2018-07-01\n",
       "1  1000_1 2018-08-17         0     1000 2018-08-01\n",
       "2  1000_2 2018-06-11         3     1000 2018-06-01\n",
       "3  1000_3 2018-09-21        14     1000 2018-09-01\n",
       "4  1000_4 2018-12-15         6     1000 2018-12-01"
      ]
     },
     "execution_count": 30,
     "metadata": {},
     "output_type": "execute_result"
    }
   ],
   "source": [
    "# добавим новый столбец с названием месяца\n",
    "calls['month'] = calls['call_date'].astype('datetime64[M]')\n",
    "calls.head()"
   ]
  },
  {
   "cell_type": "code",
   "execution_count": 31,
   "metadata": {
    "scrolled": true
   },
   "outputs": [
    {
     "data": {
      "text/html": [
       "<div>\n",
       "<style scoped>\n",
       "    .dataframe tbody tr th:only-of-type {\n",
       "        vertical-align: middle;\n",
       "    }\n",
       "\n",
       "    .dataframe tbody tr th {\n",
       "        vertical-align: top;\n",
       "    }\n",
       "\n",
       "    .dataframe thead th {\n",
       "        text-align: right;\n",
       "    }\n",
       "</style>\n",
       "<table border=\"1\" class=\"dataframe\">\n",
       "  <thead>\n",
       "    <tr style=\"text-align: right;\">\n",
       "      <th></th>\n",
       "      <th>user_id</th>\n",
       "      <th>month</th>\n",
       "      <th>calls_per_month</th>\n",
       "      <th>minutes_per_month</th>\n",
       "    </tr>\n",
       "  </thead>\n",
       "  <tbody>\n",
       "    <tr>\n",
       "      <th>0</th>\n",
       "      <td>1000</td>\n",
       "      <td>2018-05-01</td>\n",
       "      <td>22</td>\n",
       "      <td>159</td>\n",
       "    </tr>\n",
       "    <tr>\n",
       "      <th>1</th>\n",
       "      <td>1000</td>\n",
       "      <td>2018-06-01</td>\n",
       "      <td>43</td>\n",
       "      <td>172</td>\n",
       "    </tr>\n",
       "    <tr>\n",
       "      <th>2</th>\n",
       "      <td>1000</td>\n",
       "      <td>2018-07-01</td>\n",
       "      <td>47</td>\n",
       "      <td>340</td>\n",
       "    </tr>\n",
       "    <tr>\n",
       "      <th>3</th>\n",
       "      <td>1000</td>\n",
       "      <td>2018-08-01</td>\n",
       "      <td>52</td>\n",
       "      <td>408</td>\n",
       "    </tr>\n",
       "    <tr>\n",
       "      <th>4</th>\n",
       "      <td>1000</td>\n",
       "      <td>2018-09-01</td>\n",
       "      <td>58</td>\n",
       "      <td>466</td>\n",
       "    </tr>\n",
       "    <tr>\n",
       "      <th>...</th>\n",
       "      <td>...</td>\n",
       "      <td>...</td>\n",
       "      <td>...</td>\n",
       "      <td>...</td>\n",
       "    </tr>\n",
       "    <tr>\n",
       "      <th>3169</th>\n",
       "      <td>1498</td>\n",
       "      <td>2018-10-01</td>\n",
       "      <td>41</td>\n",
       "      <td>247</td>\n",
       "    </tr>\n",
       "    <tr>\n",
       "      <th>3170</th>\n",
       "      <td>1499</td>\n",
       "      <td>2018-09-01</td>\n",
       "      <td>9</td>\n",
       "      <td>70</td>\n",
       "    </tr>\n",
       "    <tr>\n",
       "      <th>3171</th>\n",
       "      <td>1499</td>\n",
       "      <td>2018-10-01</td>\n",
       "      <td>68</td>\n",
       "      <td>449</td>\n",
       "    </tr>\n",
       "    <tr>\n",
       "      <th>3172</th>\n",
       "      <td>1499</td>\n",
       "      <td>2018-11-01</td>\n",
       "      <td>74</td>\n",
       "      <td>612</td>\n",
       "    </tr>\n",
       "    <tr>\n",
       "      <th>3173</th>\n",
       "      <td>1499</td>\n",
       "      <td>2018-12-01</td>\n",
       "      <td>69</td>\n",
       "      <td>492</td>\n",
       "    </tr>\n",
       "  </tbody>\n",
       "</table>\n",
       "<p>3174 rows × 4 columns</p>\n",
       "</div>"
      ],
      "text/plain": [
       "      user_id      month  calls_per_month  minutes_per_month\n",
       "0        1000 2018-05-01               22                159\n",
       "1        1000 2018-06-01               43                172\n",
       "2        1000 2018-07-01               47                340\n",
       "3        1000 2018-08-01               52                408\n",
       "4        1000 2018-09-01               58                466\n",
       "...       ...        ...              ...                ...\n",
       "3169     1498 2018-10-01               41                247\n",
       "3170     1499 2018-09-01                9                 70\n",
       "3171     1499 2018-10-01               68                449\n",
       "3172     1499 2018-11-01               74                612\n",
       "3173     1499 2018-12-01               69                492\n",
       "\n",
       "[3174 rows x 4 columns]"
      ]
     },
     "execution_count": 31,
     "metadata": {},
     "output_type": "execute_result"
    }
   ],
   "source": [
    "# создадим свобдную таблицу с количеством звонков и суммой минут в месяц по клиентам\n",
    "call_count = calls.pivot_table(\n",
    "    index = ['user_id','month'], \n",
    "    values = 'duration', \n",
    "    aggfunc = ['count', 'sum'] \n",
    ").reset_index()\n",
    "\n",
    "\n",
    "call_count.columns = ['user_id', 'month', 'calls_per_month', 'minutes_per_month']\n",
    "call_count"
   ]
  },
  {
   "cell_type": "markdown",
   "metadata": {},
   "source": [
    "### Подсчет количества сообщений для каждого пользователя"
   ]
  },
  {
   "cell_type": "code",
   "execution_count": 32,
   "metadata": {},
   "outputs": [
    {
     "data": {
      "text/html": [
       "<div>\n",
       "<style scoped>\n",
       "    .dataframe tbody tr th:only-of-type {\n",
       "        vertical-align: middle;\n",
       "    }\n",
       "\n",
       "    .dataframe tbody tr th {\n",
       "        vertical-align: top;\n",
       "    }\n",
       "\n",
       "    .dataframe thead th {\n",
       "        text-align: right;\n",
       "    }\n",
       "</style>\n",
       "<table border=\"1\" class=\"dataframe\">\n",
       "  <thead>\n",
       "    <tr style=\"text-align: right;\">\n",
       "      <th></th>\n",
       "      <th>id</th>\n",
       "      <th>message_date</th>\n",
       "      <th>user_id</th>\n",
       "      <th>month</th>\n",
       "    </tr>\n",
       "  </thead>\n",
       "  <tbody>\n",
       "    <tr>\n",
       "      <th>0</th>\n",
       "      <td>1000_0</td>\n",
       "      <td>2018-06-27</td>\n",
       "      <td>1000</td>\n",
       "      <td>2018-06-01</td>\n",
       "    </tr>\n",
       "    <tr>\n",
       "      <th>1</th>\n",
       "      <td>1000_1</td>\n",
       "      <td>2018-10-08</td>\n",
       "      <td>1000</td>\n",
       "      <td>2018-10-01</td>\n",
       "    </tr>\n",
       "    <tr>\n",
       "      <th>2</th>\n",
       "      <td>1000_2</td>\n",
       "      <td>2018-08-04</td>\n",
       "      <td>1000</td>\n",
       "      <td>2018-08-01</td>\n",
       "    </tr>\n",
       "    <tr>\n",
       "      <th>3</th>\n",
       "      <td>1000_3</td>\n",
       "      <td>2018-06-16</td>\n",
       "      <td>1000</td>\n",
       "      <td>2018-06-01</td>\n",
       "    </tr>\n",
       "    <tr>\n",
       "      <th>4</th>\n",
       "      <td>1000_4</td>\n",
       "      <td>2018-12-05</td>\n",
       "      <td>1000</td>\n",
       "      <td>2018-12-01</td>\n",
       "    </tr>\n",
       "    <tr>\n",
       "      <th>...</th>\n",
       "      <td>...</td>\n",
       "      <td>...</td>\n",
       "      <td>...</td>\n",
       "      <td>...</td>\n",
       "    </tr>\n",
       "    <tr>\n",
       "      <th>123031</th>\n",
       "      <td>1499_179</td>\n",
       "      <td>2018-12-12</td>\n",
       "      <td>1499</td>\n",
       "      <td>2018-12-01</td>\n",
       "    </tr>\n",
       "    <tr>\n",
       "      <th>123032</th>\n",
       "      <td>1499_180</td>\n",
       "      <td>2018-09-28</td>\n",
       "      <td>1499</td>\n",
       "      <td>2018-09-01</td>\n",
       "    </tr>\n",
       "    <tr>\n",
       "      <th>123033</th>\n",
       "      <td>1499_181</td>\n",
       "      <td>2018-09-27</td>\n",
       "      <td>1499</td>\n",
       "      <td>2018-09-01</td>\n",
       "    </tr>\n",
       "    <tr>\n",
       "      <th>123034</th>\n",
       "      <td>1499_182</td>\n",
       "      <td>2018-11-15</td>\n",
       "      <td>1499</td>\n",
       "      <td>2018-11-01</td>\n",
       "    </tr>\n",
       "    <tr>\n",
       "      <th>123035</th>\n",
       "      <td>1499_183</td>\n",
       "      <td>2018-11-16</td>\n",
       "      <td>1499</td>\n",
       "      <td>2018-11-01</td>\n",
       "    </tr>\n",
       "  </tbody>\n",
       "</table>\n",
       "<p>123036 rows × 4 columns</p>\n",
       "</div>"
      ],
      "text/plain": [
       "              id message_date  user_id      month\n",
       "0         1000_0   2018-06-27     1000 2018-06-01\n",
       "1         1000_1   2018-10-08     1000 2018-10-01\n",
       "2         1000_2   2018-08-04     1000 2018-08-01\n",
       "3         1000_3   2018-06-16     1000 2018-06-01\n",
       "4         1000_4   2018-12-05     1000 2018-12-01\n",
       "...          ...          ...      ...        ...\n",
       "123031  1499_179   2018-12-12     1499 2018-12-01\n",
       "123032  1499_180   2018-09-28     1499 2018-09-01\n",
       "123033  1499_181   2018-09-27     1499 2018-09-01\n",
       "123034  1499_182   2018-11-15     1499 2018-11-01\n",
       "123035  1499_183   2018-11-16     1499 2018-11-01\n",
       "\n",
       "[123036 rows x 4 columns]"
      ]
     },
     "execution_count": 32,
     "metadata": {},
     "output_type": "execute_result"
    }
   ],
   "source": [
    "# добавим новый столбец с названием месяца\n",
    "messages['month'] = messages['message_date'].astype('datetime64[M]')\n",
    "messages"
   ]
  },
  {
   "cell_type": "code",
   "execution_count": 33,
   "metadata": {},
   "outputs": [
    {
     "data": {
      "text/html": [
       "<div>\n",
       "<style scoped>\n",
       "    .dataframe tbody tr th:only-of-type {\n",
       "        vertical-align: middle;\n",
       "    }\n",
       "\n",
       "    .dataframe tbody tr th {\n",
       "        vertical-align: top;\n",
       "    }\n",
       "\n",
       "    .dataframe thead th {\n",
       "        text-align: right;\n",
       "    }\n",
       "</style>\n",
       "<table border=\"1\" class=\"dataframe\">\n",
       "  <thead>\n",
       "    <tr style=\"text-align: right;\">\n",
       "      <th></th>\n",
       "      <th>user_id</th>\n",
       "      <th>month</th>\n",
       "      <th>messages_per_month</th>\n",
       "    </tr>\n",
       "  </thead>\n",
       "  <tbody>\n",
       "    <tr>\n",
       "      <th>0</th>\n",
       "      <td>1000</td>\n",
       "      <td>2018-05-01</td>\n",
       "      <td>22</td>\n",
       "    </tr>\n",
       "    <tr>\n",
       "      <th>1</th>\n",
       "      <td>1000</td>\n",
       "      <td>2018-06-01</td>\n",
       "      <td>60</td>\n",
       "    </tr>\n",
       "    <tr>\n",
       "      <th>2</th>\n",
       "      <td>1000</td>\n",
       "      <td>2018-07-01</td>\n",
       "      <td>75</td>\n",
       "    </tr>\n",
       "    <tr>\n",
       "      <th>3</th>\n",
       "      <td>1000</td>\n",
       "      <td>2018-08-01</td>\n",
       "      <td>81</td>\n",
       "    </tr>\n",
       "    <tr>\n",
       "      <th>4</th>\n",
       "      <td>1000</td>\n",
       "      <td>2018-09-01</td>\n",
       "      <td>57</td>\n",
       "    </tr>\n",
       "    <tr>\n",
       "      <th>...</th>\n",
       "      <td>...</td>\n",
       "      <td>...</td>\n",
       "      <td>...</td>\n",
       "    </tr>\n",
       "    <tr>\n",
       "      <th>2712</th>\n",
       "      <td>1498</td>\n",
       "      <td>2018-10-01</td>\n",
       "      <td>42</td>\n",
       "    </tr>\n",
       "    <tr>\n",
       "      <th>2713</th>\n",
       "      <td>1499</td>\n",
       "      <td>2018-09-01</td>\n",
       "      <td>11</td>\n",
       "    </tr>\n",
       "    <tr>\n",
       "      <th>2714</th>\n",
       "      <td>1499</td>\n",
       "      <td>2018-10-01</td>\n",
       "      <td>48</td>\n",
       "    </tr>\n",
       "    <tr>\n",
       "      <th>2715</th>\n",
       "      <td>1499</td>\n",
       "      <td>2018-11-01</td>\n",
       "      <td>59</td>\n",
       "    </tr>\n",
       "    <tr>\n",
       "      <th>2716</th>\n",
       "      <td>1499</td>\n",
       "      <td>2018-12-01</td>\n",
       "      <td>66</td>\n",
       "    </tr>\n",
       "  </tbody>\n",
       "</table>\n",
       "<p>2717 rows × 3 columns</p>\n",
       "</div>"
      ],
      "text/plain": [
       "      user_id      month  messages_per_month\n",
       "0        1000 2018-05-01                  22\n",
       "1        1000 2018-06-01                  60\n",
       "2        1000 2018-07-01                  75\n",
       "3        1000 2018-08-01                  81\n",
       "4        1000 2018-09-01                  57\n",
       "...       ...        ...                 ...\n",
       "2712     1498 2018-10-01                  42\n",
       "2713     1499 2018-09-01                  11\n",
       "2714     1499 2018-10-01                  48\n",
       "2715     1499 2018-11-01                  59\n",
       "2716     1499 2018-12-01                  66\n",
       "\n",
       "[2717 rows x 3 columns]"
      ]
     },
     "execution_count": 33,
     "metadata": {},
     "output_type": "execute_result"
    }
   ],
   "source": [
    "# создадим свобдную таблицу количеством сообщений по клиентам\n",
    "messages_count = messages.pivot_table(\n",
    "    index = ['user_id','month'], \n",
    "    values = 'id', \n",
    "    aggfunc = 'count').reset_index()\n",
    "\n",
    "messages_count = messages_count.rename(columns={messages_count.columns[2]: 'messages_per_month'})\n",
    "\n",
    "messages_count"
   ]
  },
  {
   "cell_type": "markdown",
   "metadata": {},
   "source": [
    " ### Подсчет объема израсходованного интернет-трафика по месяцам"
   ]
  },
  {
   "cell_type": "code",
   "execution_count": 34,
   "metadata": {},
   "outputs": [
    {
     "data": {
      "text/html": [
       "<div>\n",
       "<style scoped>\n",
       "    .dataframe tbody tr th:only-of-type {\n",
       "        vertical-align: middle;\n",
       "    }\n",
       "\n",
       "    .dataframe tbody tr th {\n",
       "        vertical-align: top;\n",
       "    }\n",
       "\n",
       "    .dataframe thead th {\n",
       "        text-align: right;\n",
       "    }\n",
       "</style>\n",
       "<table border=\"1\" class=\"dataframe\">\n",
       "  <thead>\n",
       "    <tr style=\"text-align: right;\">\n",
       "      <th></th>\n",
       "      <th>id</th>\n",
       "      <th>mb_used</th>\n",
       "      <th>session_date</th>\n",
       "      <th>user_id</th>\n",
       "      <th>month</th>\n",
       "    </tr>\n",
       "  </thead>\n",
       "  <tbody>\n",
       "    <tr>\n",
       "      <th>0</th>\n",
       "      <td>1000_0</td>\n",
       "      <td>112.95</td>\n",
       "      <td>2018-11-25</td>\n",
       "      <td>1000</td>\n",
       "      <td>2018-11-01</td>\n",
       "    </tr>\n",
       "    <tr>\n",
       "      <th>1</th>\n",
       "      <td>1000_1</td>\n",
       "      <td>1052.81</td>\n",
       "      <td>2018-09-07</td>\n",
       "      <td>1000</td>\n",
       "      <td>2018-09-01</td>\n",
       "    </tr>\n",
       "    <tr>\n",
       "      <th>2</th>\n",
       "      <td>1000_2</td>\n",
       "      <td>1197.26</td>\n",
       "      <td>2018-06-25</td>\n",
       "      <td>1000</td>\n",
       "      <td>2018-06-01</td>\n",
       "    </tr>\n",
       "    <tr>\n",
       "      <th>3</th>\n",
       "      <td>1000_3</td>\n",
       "      <td>550.27</td>\n",
       "      <td>2018-08-22</td>\n",
       "      <td>1000</td>\n",
       "      <td>2018-08-01</td>\n",
       "    </tr>\n",
       "    <tr>\n",
       "      <th>4</th>\n",
       "      <td>1000_4</td>\n",
       "      <td>302.56</td>\n",
       "      <td>2018-09-24</td>\n",
       "      <td>1000</td>\n",
       "      <td>2018-09-01</td>\n",
       "    </tr>\n",
       "    <tr>\n",
       "      <th>...</th>\n",
       "      <td>...</td>\n",
       "      <td>...</td>\n",
       "      <td>...</td>\n",
       "      <td>...</td>\n",
       "      <td>...</td>\n",
       "    </tr>\n",
       "    <tr>\n",
       "      <th>149391</th>\n",
       "      <td>1499_152</td>\n",
       "      <td>318.90</td>\n",
       "      <td>2018-10-03</td>\n",
       "      <td>1499</td>\n",
       "      <td>2018-10-01</td>\n",
       "    </tr>\n",
       "    <tr>\n",
       "      <th>149392</th>\n",
       "      <td>1499_153</td>\n",
       "      <td>490.13</td>\n",
       "      <td>2018-12-14</td>\n",
       "      <td>1499</td>\n",
       "      <td>2018-12-01</td>\n",
       "    </tr>\n",
       "    <tr>\n",
       "      <th>149393</th>\n",
       "      <td>1499_154</td>\n",
       "      <td>0.00</td>\n",
       "      <td>2018-10-27</td>\n",
       "      <td>1499</td>\n",
       "      <td>2018-10-01</td>\n",
       "    </tr>\n",
       "    <tr>\n",
       "      <th>149394</th>\n",
       "      <td>1499_155</td>\n",
       "      <td>1246.32</td>\n",
       "      <td>2018-11-26</td>\n",
       "      <td>1499</td>\n",
       "      <td>2018-11-01</td>\n",
       "    </tr>\n",
       "    <tr>\n",
       "      <th>149395</th>\n",
       "      <td>1499_156</td>\n",
       "      <td>544.37</td>\n",
       "      <td>2018-10-26</td>\n",
       "      <td>1499</td>\n",
       "      <td>2018-10-01</td>\n",
       "    </tr>\n",
       "  </tbody>\n",
       "</table>\n",
       "<p>149396 rows × 5 columns</p>\n",
       "</div>"
      ],
      "text/plain": [
       "              id  mb_used session_date  user_id      month\n",
       "0         1000_0   112.95   2018-11-25     1000 2018-11-01\n",
       "1         1000_1  1052.81   2018-09-07     1000 2018-09-01\n",
       "2         1000_2  1197.26   2018-06-25     1000 2018-06-01\n",
       "3         1000_3   550.27   2018-08-22     1000 2018-08-01\n",
       "4         1000_4   302.56   2018-09-24     1000 2018-09-01\n",
       "...          ...      ...          ...      ...        ...\n",
       "149391  1499_152   318.90   2018-10-03     1499 2018-10-01\n",
       "149392  1499_153   490.13   2018-12-14     1499 2018-12-01\n",
       "149393  1499_154     0.00   2018-10-27     1499 2018-10-01\n",
       "149394  1499_155  1246.32   2018-11-26     1499 2018-11-01\n",
       "149395  1499_156   544.37   2018-10-26     1499 2018-10-01\n",
       "\n",
       "[149396 rows x 5 columns]"
      ]
     },
     "execution_count": 34,
     "metadata": {},
     "output_type": "execute_result"
    }
   ],
   "source": [
    "# добавим новый столбец с названием месяца\n",
    "internet['month'] = internet['session_date'].astype('datetime64[M]')\n",
    "internet"
   ]
  },
  {
   "cell_type": "code",
   "execution_count": 35,
   "metadata": {},
   "outputs": [
    {
     "data": {
      "text/html": [
       "<div>\n",
       "<style scoped>\n",
       "    .dataframe tbody tr th:only-of-type {\n",
       "        vertical-align: middle;\n",
       "    }\n",
       "\n",
       "    .dataframe tbody tr th {\n",
       "        vertical-align: top;\n",
       "    }\n",
       "\n",
       "    .dataframe thead th {\n",
       "        text-align: right;\n",
       "    }\n",
       "</style>\n",
       "<table border=\"1\" class=\"dataframe\">\n",
       "  <thead>\n",
       "    <tr style=\"text-align: right;\">\n",
       "      <th></th>\n",
       "      <th>user_id</th>\n",
       "      <th>month</th>\n",
       "      <th>traffic_per_month</th>\n",
       "    </tr>\n",
       "  </thead>\n",
       "  <tbody>\n",
       "    <tr>\n",
       "      <th>0</th>\n",
       "      <td>1000</td>\n",
       "      <td>2018-05-01</td>\n",
       "      <td>3.0</td>\n",
       "    </tr>\n",
       "    <tr>\n",
       "      <th>1</th>\n",
       "      <td>1000</td>\n",
       "      <td>2018-06-01</td>\n",
       "      <td>23.0</td>\n",
       "    </tr>\n",
       "    <tr>\n",
       "      <th>2</th>\n",
       "      <td>1000</td>\n",
       "      <td>2018-07-01</td>\n",
       "      <td>14.0</td>\n",
       "    </tr>\n",
       "    <tr>\n",
       "      <th>3</th>\n",
       "      <td>1000</td>\n",
       "      <td>2018-08-01</td>\n",
       "      <td>14.0</td>\n",
       "    </tr>\n",
       "    <tr>\n",
       "      <th>4</th>\n",
       "      <td>1000</td>\n",
       "      <td>2018-09-01</td>\n",
       "      <td>15.0</td>\n",
       "    </tr>\n",
       "    <tr>\n",
       "      <th>...</th>\n",
       "      <td>...</td>\n",
       "      <td>...</td>\n",
       "      <td>...</td>\n",
       "    </tr>\n",
       "    <tr>\n",
       "      <th>3198</th>\n",
       "      <td>1498</td>\n",
       "      <td>2018-10-01</td>\n",
       "      <td>21.0</td>\n",
       "    </tr>\n",
       "    <tr>\n",
       "      <th>3199</th>\n",
       "      <td>1499</td>\n",
       "      <td>2018-09-01</td>\n",
       "      <td>2.0</td>\n",
       "    </tr>\n",
       "    <tr>\n",
       "      <th>3200</th>\n",
       "      <td>1499</td>\n",
       "      <td>2018-10-01</td>\n",
       "      <td>18.0</td>\n",
       "    </tr>\n",
       "    <tr>\n",
       "      <th>3201</th>\n",
       "      <td>1499</td>\n",
       "      <td>2018-11-01</td>\n",
       "      <td>18.0</td>\n",
       "    </tr>\n",
       "    <tr>\n",
       "      <th>3202</th>\n",
       "      <td>1499</td>\n",
       "      <td>2018-12-01</td>\n",
       "      <td>13.0</td>\n",
       "    </tr>\n",
       "  </tbody>\n",
       "</table>\n",
       "<p>3203 rows × 3 columns</p>\n",
       "</div>"
      ],
      "text/plain": [
       "      user_id      month  traffic_per_month\n",
       "0        1000 2018-05-01                3.0\n",
       "1        1000 2018-06-01               23.0\n",
       "2        1000 2018-07-01               14.0\n",
       "3        1000 2018-08-01               14.0\n",
       "4        1000 2018-09-01               15.0\n",
       "...       ...        ...                ...\n",
       "3198     1498 2018-10-01               21.0\n",
       "3199     1499 2018-09-01                2.0\n",
       "3200     1499 2018-10-01               18.0\n",
       "3201     1499 2018-11-01               18.0\n",
       "3202     1499 2018-12-01               13.0\n",
       "\n",
       "[3203 rows x 3 columns]"
      ]
     },
     "execution_count": 35,
     "metadata": {},
     "output_type": "execute_result"
    }
   ],
   "source": [
    "# создадим свобдную таблицу количеством сообщений по клиентам\n",
    "internet_count = internet.pivot_table(\n",
    "    index = ['user_id','month'], \n",
    "    values = 'mb_used', \n",
    "    aggfunc = 'sum').reset_index()\n",
    "\n",
    "internet_count = internet_count.rename(columns={internet_count.columns[2]: 'traffic_per_month'})\n",
    "\n",
    "# округлим мегабайты в гигабайты в соответсвии с политикой компании\n",
    "internet_count['traffic_per_month'] = np.ceil(internet_count['traffic_per_month']/1024)\n",
    "\n",
    "internet_count"
   ]
  },
  {
   "cell_type": "markdown",
   "metadata": {},
   "source": [
    "### Подсчёт помесячной выручки с каждого пользователя"
   ]
  },
  {
   "cell_type": "code",
   "execution_count": 36,
   "metadata": {
    "scrolled": true
   },
   "outputs": [
    {
     "data": {
      "text/html": [
       "<div>\n",
       "<style scoped>\n",
       "    .dataframe tbody tr th:only-of-type {\n",
       "        vertical-align: middle;\n",
       "    }\n",
       "\n",
       "    .dataframe tbody tr th {\n",
       "        vertical-align: top;\n",
       "    }\n",
       "\n",
       "    .dataframe thead th {\n",
       "        text-align: right;\n",
       "    }\n",
       "</style>\n",
       "<table border=\"1\" class=\"dataframe\">\n",
       "  <thead>\n",
       "    <tr style=\"text-align: right;\">\n",
       "      <th></th>\n",
       "      <th>user_id</th>\n",
       "      <th>month</th>\n",
       "      <th>calls_per_month</th>\n",
       "      <th>minutes_per_month</th>\n",
       "      <th>messages_per_month</th>\n",
       "      <th>traffic_per_month</th>\n",
       "      <th>age</th>\n",
       "      <th>churn_date</th>\n",
       "      <th>city</th>\n",
       "      <th>first_name</th>\n",
       "      <th>last_name</th>\n",
       "      <th>reg_date</th>\n",
       "      <th>tariff_name</th>\n",
       "      <th>messages_included</th>\n",
       "      <th>mb_per_month_included</th>\n",
       "      <th>minutes_included</th>\n",
       "      <th>rub_monthly_fee</th>\n",
       "      <th>rub_per_gb</th>\n",
       "      <th>rub_per_message</th>\n",
       "      <th>rub_per_minute</th>\n",
       "    </tr>\n",
       "  </thead>\n",
       "  <tbody>\n",
       "    <tr>\n",
       "      <th>0</th>\n",
       "      <td>1000</td>\n",
       "      <td>2018-05-01</td>\n",
       "      <td>22.0</td>\n",
       "      <td>159.0</td>\n",
       "      <td>22.0</td>\n",
       "      <td>3.0</td>\n",
       "      <td>52</td>\n",
       "      <td>NaN</td>\n",
       "      <td>краснодар</td>\n",
       "      <td>рафаил</td>\n",
       "      <td>верещагин</td>\n",
       "      <td>2018-05-25</td>\n",
       "      <td>ultra</td>\n",
       "      <td>1000</td>\n",
       "      <td>30720</td>\n",
       "      <td>3000</td>\n",
       "      <td>1950</td>\n",
       "      <td>150</td>\n",
       "      <td>1</td>\n",
       "      <td>1</td>\n",
       "    </tr>\n",
       "    <tr>\n",
       "      <th>1</th>\n",
       "      <td>1000</td>\n",
       "      <td>2018-06-01</td>\n",
       "      <td>43.0</td>\n",
       "      <td>172.0</td>\n",
       "      <td>60.0</td>\n",
       "      <td>23.0</td>\n",
       "      <td>52</td>\n",
       "      <td>NaN</td>\n",
       "      <td>краснодар</td>\n",
       "      <td>рафаил</td>\n",
       "      <td>верещагин</td>\n",
       "      <td>2018-05-25</td>\n",
       "      <td>ultra</td>\n",
       "      <td>1000</td>\n",
       "      <td>30720</td>\n",
       "      <td>3000</td>\n",
       "      <td>1950</td>\n",
       "      <td>150</td>\n",
       "      <td>1</td>\n",
       "      <td>1</td>\n",
       "    </tr>\n",
       "    <tr>\n",
       "      <th>2</th>\n",
       "      <td>1000</td>\n",
       "      <td>2018-07-01</td>\n",
       "      <td>47.0</td>\n",
       "      <td>340.0</td>\n",
       "      <td>75.0</td>\n",
       "      <td>14.0</td>\n",
       "      <td>52</td>\n",
       "      <td>NaN</td>\n",
       "      <td>краснодар</td>\n",
       "      <td>рафаил</td>\n",
       "      <td>верещагин</td>\n",
       "      <td>2018-05-25</td>\n",
       "      <td>ultra</td>\n",
       "      <td>1000</td>\n",
       "      <td>30720</td>\n",
       "      <td>3000</td>\n",
       "      <td>1950</td>\n",
       "      <td>150</td>\n",
       "      <td>1</td>\n",
       "      <td>1</td>\n",
       "    </tr>\n",
       "    <tr>\n",
       "      <th>3</th>\n",
       "      <td>1000</td>\n",
       "      <td>2018-08-01</td>\n",
       "      <td>52.0</td>\n",
       "      <td>408.0</td>\n",
       "      <td>81.0</td>\n",
       "      <td>14.0</td>\n",
       "      <td>52</td>\n",
       "      <td>NaN</td>\n",
       "      <td>краснодар</td>\n",
       "      <td>рафаил</td>\n",
       "      <td>верещагин</td>\n",
       "      <td>2018-05-25</td>\n",
       "      <td>ultra</td>\n",
       "      <td>1000</td>\n",
       "      <td>30720</td>\n",
       "      <td>3000</td>\n",
       "      <td>1950</td>\n",
       "      <td>150</td>\n",
       "      <td>1</td>\n",
       "      <td>1</td>\n",
       "    </tr>\n",
       "    <tr>\n",
       "      <th>4</th>\n",
       "      <td>1000</td>\n",
       "      <td>2018-09-01</td>\n",
       "      <td>58.0</td>\n",
       "      <td>466.0</td>\n",
       "      <td>57.0</td>\n",
       "      <td>15.0</td>\n",
       "      <td>52</td>\n",
       "      <td>NaN</td>\n",
       "      <td>краснодар</td>\n",
       "      <td>рафаил</td>\n",
       "      <td>верещагин</td>\n",
       "      <td>2018-05-25</td>\n",
       "      <td>ultra</td>\n",
       "      <td>1000</td>\n",
       "      <td>30720</td>\n",
       "      <td>3000</td>\n",
       "      <td>1950</td>\n",
       "      <td>150</td>\n",
       "      <td>1</td>\n",
       "      <td>1</td>\n",
       "    </tr>\n",
       "    <tr>\n",
       "      <th>...</th>\n",
       "      <td>...</td>\n",
       "      <td>...</td>\n",
       "      <td>...</td>\n",
       "      <td>...</td>\n",
       "      <td>...</td>\n",
       "      <td>...</td>\n",
       "      <td>...</td>\n",
       "      <td>...</td>\n",
       "      <td>...</td>\n",
       "      <td>...</td>\n",
       "      <td>...</td>\n",
       "      <td>...</td>\n",
       "      <td>...</td>\n",
       "      <td>...</td>\n",
       "      <td>...</td>\n",
       "      <td>...</td>\n",
       "      <td>...</td>\n",
       "      <td>...</td>\n",
       "      <td>...</td>\n",
       "      <td>...</td>\n",
       "    </tr>\n",
       "    <tr>\n",
       "      <th>3209</th>\n",
       "      <td>1489</td>\n",
       "      <td>2018-09-01</td>\n",
       "      <td>NaN</td>\n",
       "      <td>NaN</td>\n",
       "      <td>32.0</td>\n",
       "      <td>17.0</td>\n",
       "      <td>35</td>\n",
       "      <td>NaN</td>\n",
       "      <td>санкт-петербург</td>\n",
       "      <td>павел</td>\n",
       "      <td>гончаров</td>\n",
       "      <td>2018-08-15</td>\n",
       "      <td>smart</td>\n",
       "      <td>50</td>\n",
       "      <td>15360</td>\n",
       "      <td>500</td>\n",
       "      <td>550</td>\n",
       "      <td>200</td>\n",
       "      <td>3</td>\n",
       "      <td>3</td>\n",
       "    </tr>\n",
       "    <tr>\n",
       "      <th>3210</th>\n",
       "      <td>1489</td>\n",
       "      <td>2018-10-01</td>\n",
       "      <td>NaN</td>\n",
       "      <td>NaN</td>\n",
       "      <td>21.0</td>\n",
       "      <td>20.0</td>\n",
       "      <td>35</td>\n",
       "      <td>NaN</td>\n",
       "      <td>санкт-петербург</td>\n",
       "      <td>павел</td>\n",
       "      <td>гончаров</td>\n",
       "      <td>2018-08-15</td>\n",
       "      <td>smart</td>\n",
       "      <td>50</td>\n",
       "      <td>15360</td>\n",
       "      <td>500</td>\n",
       "      <td>550</td>\n",
       "      <td>200</td>\n",
       "      <td>3</td>\n",
       "      <td>3</td>\n",
       "    </tr>\n",
       "    <tr>\n",
       "      <th>3211</th>\n",
       "      <td>1489</td>\n",
       "      <td>2018-11-01</td>\n",
       "      <td>NaN</td>\n",
       "      <td>NaN</td>\n",
       "      <td>20.0</td>\n",
       "      <td>18.0</td>\n",
       "      <td>35</td>\n",
       "      <td>NaN</td>\n",
       "      <td>санкт-петербург</td>\n",
       "      <td>павел</td>\n",
       "      <td>гончаров</td>\n",
       "      <td>2018-08-15</td>\n",
       "      <td>smart</td>\n",
       "      <td>50</td>\n",
       "      <td>15360</td>\n",
       "      <td>500</td>\n",
       "      <td>550</td>\n",
       "      <td>200</td>\n",
       "      <td>3</td>\n",
       "      <td>3</td>\n",
       "    </tr>\n",
       "    <tr>\n",
       "      <th>3212</th>\n",
       "      <td>1489</td>\n",
       "      <td>2018-12-01</td>\n",
       "      <td>NaN</td>\n",
       "      <td>NaN</td>\n",
       "      <td>35.0</td>\n",
       "      <td>17.0</td>\n",
       "      <td>35</td>\n",
       "      <td>NaN</td>\n",
       "      <td>санкт-петербург</td>\n",
       "      <td>павел</td>\n",
       "      <td>гончаров</td>\n",
       "      <td>2018-08-15</td>\n",
       "      <td>smart</td>\n",
       "      <td>50</td>\n",
       "      <td>15360</td>\n",
       "      <td>500</td>\n",
       "      <td>550</td>\n",
       "      <td>200</td>\n",
       "      <td>3</td>\n",
       "      <td>3</td>\n",
       "    </tr>\n",
       "    <tr>\n",
       "      <th>3213</th>\n",
       "      <td>1476</td>\n",
       "      <td>2018-04-01</td>\n",
       "      <td>NaN</td>\n",
       "      <td>NaN</td>\n",
       "      <td>NaN</td>\n",
       "      <td>1.0</td>\n",
       "      <td>50</td>\n",
       "      <td>NaN</td>\n",
       "      <td>москва</td>\n",
       "      <td>валентина</td>\n",
       "      <td>семенова</td>\n",
       "      <td>2018-04-30</td>\n",
       "      <td>ultra</td>\n",
       "      <td>1000</td>\n",
       "      <td>30720</td>\n",
       "      <td>3000</td>\n",
       "      <td>1950</td>\n",
       "      <td>150</td>\n",
       "      <td>1</td>\n",
       "      <td>1</td>\n",
       "    </tr>\n",
       "  </tbody>\n",
       "</table>\n",
       "<p>3214 rows × 20 columns</p>\n",
       "</div>"
      ],
      "text/plain": [
       "      user_id      month  calls_per_month  minutes_per_month  \\\n",
       "0        1000 2018-05-01             22.0              159.0   \n",
       "1        1000 2018-06-01             43.0              172.0   \n",
       "2        1000 2018-07-01             47.0              340.0   \n",
       "3        1000 2018-08-01             52.0              408.0   \n",
       "4        1000 2018-09-01             58.0              466.0   \n",
       "...       ...        ...              ...                ...   \n",
       "3209     1489 2018-09-01              NaN                NaN   \n",
       "3210     1489 2018-10-01              NaN                NaN   \n",
       "3211     1489 2018-11-01              NaN                NaN   \n",
       "3212     1489 2018-12-01              NaN                NaN   \n",
       "3213     1476 2018-04-01              NaN                NaN   \n",
       "\n",
       "      messages_per_month  traffic_per_month  age churn_date             city  \\\n",
       "0                   22.0                3.0   52        NaN        краснодар   \n",
       "1                   60.0               23.0   52        NaN        краснодар   \n",
       "2                   75.0               14.0   52        NaN        краснодар   \n",
       "3                   81.0               14.0   52        NaN        краснодар   \n",
       "4                   57.0               15.0   52        NaN        краснодар   \n",
       "...                  ...                ...  ...        ...              ...   \n",
       "3209                32.0               17.0   35        NaN  санкт-петербург   \n",
       "3210                21.0               20.0   35        NaN  санкт-петербург   \n",
       "3211                20.0               18.0   35        NaN  санкт-петербург   \n",
       "3212                35.0               17.0   35        NaN  санкт-петербург   \n",
       "3213                 NaN                1.0   50        NaN           москва   \n",
       "\n",
       "     first_name  last_name    reg_date tariff_name  messages_included  \\\n",
       "0        рафаил  верещагин  2018-05-25       ultra               1000   \n",
       "1        рафаил  верещагин  2018-05-25       ultra               1000   \n",
       "2        рафаил  верещагин  2018-05-25       ultra               1000   \n",
       "3        рафаил  верещагин  2018-05-25       ultra               1000   \n",
       "4        рафаил  верещагин  2018-05-25       ultra               1000   \n",
       "...         ...        ...         ...         ...                ...   \n",
       "3209      павел   гончаров  2018-08-15       smart                 50   \n",
       "3210      павел   гончаров  2018-08-15       smart                 50   \n",
       "3211      павел   гончаров  2018-08-15       smart                 50   \n",
       "3212      павел   гончаров  2018-08-15       smart                 50   \n",
       "3213  валентина   семенова  2018-04-30       ultra               1000   \n",
       "\n",
       "      mb_per_month_included  minutes_included  rub_monthly_fee  rub_per_gb  \\\n",
       "0                     30720              3000             1950         150   \n",
       "1                     30720              3000             1950         150   \n",
       "2                     30720              3000             1950         150   \n",
       "3                     30720              3000             1950         150   \n",
       "4                     30720              3000             1950         150   \n",
       "...                     ...               ...              ...         ...   \n",
       "3209                  15360               500              550         200   \n",
       "3210                  15360               500              550         200   \n",
       "3211                  15360               500              550         200   \n",
       "3212                  15360               500              550         200   \n",
       "3213                  30720              3000             1950         150   \n",
       "\n",
       "      rub_per_message  rub_per_minute  \n",
       "0                   1               1  \n",
       "1                   1               1  \n",
       "2                   1               1  \n",
       "3                   1               1  \n",
       "4                   1               1  \n",
       "...               ...             ...  \n",
       "3209                3               3  \n",
       "3210                3               3  \n",
       "3211                3               3  \n",
       "3212                3               3  \n",
       "3213                1               1  \n",
       "\n",
       "[3214 rows x 20 columns]"
      ]
     },
     "execution_count": 36,
     "metadata": {},
     "output_type": "execute_result"
    }
   ],
   "source": [
    "# объединим таблицы call_count, minutes_count, messages count, internet_count, users, tariff\n",
    "\n",
    "data = call_count.merge(messages_count,\n",
    "                        how='outer',\n",
    "                        on=['user_id', 'month'])\n",
    "\n",
    "data = data.merge(internet_count,\n",
    "                  how='outer',\n",
    "                  on=['user_id', 'month'])\n",
    "\n",
    "data = data.merge(users,\n",
    "                  how='left',\n",
    "                  on='user_id')\n",
    "\n",
    "data = data.merge(tariffs,\n",
    "                  how='left',\n",
    "                  on='tariff_name')\n",
    "\n",
    "data"
   ]
  },
  {
   "cell_type": "code",
   "execution_count": 37,
   "metadata": {},
   "outputs": [
    {
     "name": "stdout",
     "output_type": "stream",
     "text": [
      "Не вошло:  2\n"
     ]
    }
   ],
   "source": [
    "# Заполним пропуски значением \"0\"\n",
    "\n",
    "data = data.fillna(0)\n",
    "\n",
    "# Проверим, все ли полльзователи вошли в наш датафрейм\n",
    "\n",
    "print('Не вошло: ', len(users) - data['user_id'].nunique())"
   ]
  },
  {
   "cell_type": "code",
   "execution_count": 38,
   "metadata": {},
   "outputs": [],
   "source": [
    "# напишем функцию для подсчета выручки\n",
    "\n",
    "def revenue(row):\n",
    "    res = row['rub_monthly_fee']\n",
    "    if row['minutes_per_month'] > row['minutes_included'] : \n",
    "        res+= (row['minutes_per_month'] - row['minutes_included'])*row['rub_per_minute']\n",
    "    if row['messages_per_month'] > row['messages_included'] : \n",
    "        res+= (row['messages_per_month'] - row['messages_included'])*row['rub_per_message']\n",
    "    if row['traffic_per_month'] > row['mb_per_month_included']/1024 : \n",
    "        res+= (row['traffic_per_month'] - row['mb_per_month_included']/1024)*row['rub_per_gb']\n",
    "    \n",
    "    return round(res,2)"
   ]
  },
  {
   "cell_type": "code",
   "execution_count": 39,
   "metadata": {},
   "outputs": [
    {
     "data": {
      "text/html": [
       "<div>\n",
       "<style scoped>\n",
       "    .dataframe tbody tr th:only-of-type {\n",
       "        vertical-align: middle;\n",
       "    }\n",
       "\n",
       "    .dataframe tbody tr th {\n",
       "        vertical-align: top;\n",
       "    }\n",
       "\n",
       "    .dataframe thead th {\n",
       "        text-align: right;\n",
       "    }\n",
       "</style>\n",
       "<table border=\"1\" class=\"dataframe\">\n",
       "  <thead>\n",
       "    <tr style=\"text-align: right;\">\n",
       "      <th></th>\n",
       "      <th>user_id</th>\n",
       "      <th>month</th>\n",
       "      <th>calls_per_month</th>\n",
       "      <th>minutes_per_month</th>\n",
       "      <th>messages_per_month</th>\n",
       "      <th>traffic_per_month</th>\n",
       "      <th>age</th>\n",
       "      <th>churn_date</th>\n",
       "      <th>city</th>\n",
       "      <th>first_name</th>\n",
       "      <th>...</th>\n",
       "      <th>reg_date</th>\n",
       "      <th>tariff_name</th>\n",
       "      <th>messages_included</th>\n",
       "      <th>mb_per_month_included</th>\n",
       "      <th>minutes_included</th>\n",
       "      <th>rub_monthly_fee</th>\n",
       "      <th>rub_per_gb</th>\n",
       "      <th>rub_per_message</th>\n",
       "      <th>rub_per_minute</th>\n",
       "      <th>revenue</th>\n",
       "    </tr>\n",
       "  </thead>\n",
       "  <tbody>\n",
       "    <tr>\n",
       "      <th>0</th>\n",
       "      <td>1000</td>\n",
       "      <td>2018-05-01</td>\n",
       "      <td>22.0</td>\n",
       "      <td>159.0</td>\n",
       "      <td>22.0</td>\n",
       "      <td>3.0</td>\n",
       "      <td>52</td>\n",
       "      <td>0</td>\n",
       "      <td>краснодар</td>\n",
       "      <td>рафаил</td>\n",
       "      <td>...</td>\n",
       "      <td>2018-05-25</td>\n",
       "      <td>ultra</td>\n",
       "      <td>1000</td>\n",
       "      <td>30720</td>\n",
       "      <td>3000</td>\n",
       "      <td>1950</td>\n",
       "      <td>150</td>\n",
       "      <td>1</td>\n",
       "      <td>1</td>\n",
       "      <td>1950.0</td>\n",
       "    </tr>\n",
       "    <tr>\n",
       "      <th>1</th>\n",
       "      <td>1000</td>\n",
       "      <td>2018-06-01</td>\n",
       "      <td>43.0</td>\n",
       "      <td>172.0</td>\n",
       "      <td>60.0</td>\n",
       "      <td>23.0</td>\n",
       "      <td>52</td>\n",
       "      <td>0</td>\n",
       "      <td>краснодар</td>\n",
       "      <td>рафаил</td>\n",
       "      <td>...</td>\n",
       "      <td>2018-05-25</td>\n",
       "      <td>ultra</td>\n",
       "      <td>1000</td>\n",
       "      <td>30720</td>\n",
       "      <td>3000</td>\n",
       "      <td>1950</td>\n",
       "      <td>150</td>\n",
       "      <td>1</td>\n",
       "      <td>1</td>\n",
       "      <td>1950.0</td>\n",
       "    </tr>\n",
       "    <tr>\n",
       "      <th>2</th>\n",
       "      <td>1000</td>\n",
       "      <td>2018-07-01</td>\n",
       "      <td>47.0</td>\n",
       "      <td>340.0</td>\n",
       "      <td>75.0</td>\n",
       "      <td>14.0</td>\n",
       "      <td>52</td>\n",
       "      <td>0</td>\n",
       "      <td>краснодар</td>\n",
       "      <td>рафаил</td>\n",
       "      <td>...</td>\n",
       "      <td>2018-05-25</td>\n",
       "      <td>ultra</td>\n",
       "      <td>1000</td>\n",
       "      <td>30720</td>\n",
       "      <td>3000</td>\n",
       "      <td>1950</td>\n",
       "      <td>150</td>\n",
       "      <td>1</td>\n",
       "      <td>1</td>\n",
       "      <td>1950.0</td>\n",
       "    </tr>\n",
       "    <tr>\n",
       "      <th>3</th>\n",
       "      <td>1000</td>\n",
       "      <td>2018-08-01</td>\n",
       "      <td>52.0</td>\n",
       "      <td>408.0</td>\n",
       "      <td>81.0</td>\n",
       "      <td>14.0</td>\n",
       "      <td>52</td>\n",
       "      <td>0</td>\n",
       "      <td>краснодар</td>\n",
       "      <td>рафаил</td>\n",
       "      <td>...</td>\n",
       "      <td>2018-05-25</td>\n",
       "      <td>ultra</td>\n",
       "      <td>1000</td>\n",
       "      <td>30720</td>\n",
       "      <td>3000</td>\n",
       "      <td>1950</td>\n",
       "      <td>150</td>\n",
       "      <td>1</td>\n",
       "      <td>1</td>\n",
       "      <td>1950.0</td>\n",
       "    </tr>\n",
       "    <tr>\n",
       "      <th>4</th>\n",
       "      <td>1000</td>\n",
       "      <td>2018-09-01</td>\n",
       "      <td>58.0</td>\n",
       "      <td>466.0</td>\n",
       "      <td>57.0</td>\n",
       "      <td>15.0</td>\n",
       "      <td>52</td>\n",
       "      <td>0</td>\n",
       "      <td>краснодар</td>\n",
       "      <td>рафаил</td>\n",
       "      <td>...</td>\n",
       "      <td>2018-05-25</td>\n",
       "      <td>ultra</td>\n",
       "      <td>1000</td>\n",
       "      <td>30720</td>\n",
       "      <td>3000</td>\n",
       "      <td>1950</td>\n",
       "      <td>150</td>\n",
       "      <td>1</td>\n",
       "      <td>1</td>\n",
       "      <td>1950.0</td>\n",
       "    </tr>\n",
       "  </tbody>\n",
       "</table>\n",
       "<p>5 rows × 21 columns</p>\n",
       "</div>"
      ],
      "text/plain": [
       "   user_id      month  calls_per_month  minutes_per_month  messages_per_month  \\\n",
       "0     1000 2018-05-01             22.0              159.0                22.0   \n",
       "1     1000 2018-06-01             43.0              172.0                60.0   \n",
       "2     1000 2018-07-01             47.0              340.0                75.0   \n",
       "3     1000 2018-08-01             52.0              408.0                81.0   \n",
       "4     1000 2018-09-01             58.0              466.0                57.0   \n",
       "\n",
       "   traffic_per_month  age churn_date       city first_name  ...    reg_date  \\\n",
       "0                3.0   52          0  краснодар     рафаил  ...  2018-05-25   \n",
       "1               23.0   52          0  краснодар     рафаил  ...  2018-05-25   \n",
       "2               14.0   52          0  краснодар     рафаил  ...  2018-05-25   \n",
       "3               14.0   52          0  краснодар     рафаил  ...  2018-05-25   \n",
       "4               15.0   52          0  краснодар     рафаил  ...  2018-05-25   \n",
       "\n",
       "  tariff_name messages_included  mb_per_month_included  minutes_included  \\\n",
       "0       ultra              1000                  30720              3000   \n",
       "1       ultra              1000                  30720              3000   \n",
       "2       ultra              1000                  30720              3000   \n",
       "3       ultra              1000                  30720              3000   \n",
       "4       ultra              1000                  30720              3000   \n",
       "\n",
       "   rub_monthly_fee  rub_per_gb  rub_per_message  rub_per_minute  revenue  \n",
       "0             1950         150                1               1   1950.0  \n",
       "1             1950         150                1               1   1950.0  \n",
       "2             1950         150                1               1   1950.0  \n",
       "3             1950         150                1               1   1950.0  \n",
       "4             1950         150                1               1   1950.0  \n",
       "\n",
       "[5 rows x 21 columns]"
      ]
     },
     "execution_count": 39,
     "metadata": {},
     "output_type": "execute_result"
    }
   ],
   "source": [
    "#  Добавим к каждому клиенту выручку за месяц\n",
    "\n",
    "data['revenue'] = data.apply(revenue, axis = 1)\n",
    "data.head()"
   ]
  },
  {
   "cell_type": "markdown",
   "metadata": {},
   "source": [
    "## Анализ данных"
   ]
  },
  {
   "cell_type": "markdown",
   "metadata": {},
   "source": [
    "### Сравнение потраченных минут\n"
   ]
  },
  {
   "cell_type": "code",
   "execution_count": 40,
   "metadata": {},
   "outputs": [],
   "source": [
    "# Выделим датафреймы по тарифам\n",
    "smart_df = data.query('tariff_name == \"smart\"')\n",
    "ultra_df = data.query('tariff_name == \"ultra\"')"
   ]
  },
  {
   "cell_type": "code",
   "execution_count": 41,
   "metadata": {},
   "outputs": [
    {
     "name": "stdout",
     "output_type": "stream",
     "text": [
      "ПОТРАЧЕННЫЕ МИНУТЫ НА ТАРИФЕ SMART\n",
      "\n",
      "count    350.000000\n",
      "mean     419.634803\n",
      "std      145.031543\n",
      "min        0.000000\n",
      "25%      316.886364\n",
      "50%      425.062500\n",
      "75%      519.508333\n",
      "max      891.500000\n",
      "Name: minutes_per_month, dtype: float64\n"
     ]
    },
    {
     "data": {
      "image/png": "[encoded data removed]",
      "text/plain": [
       "<Figure size 720x432 with 1 Axes>"
      ]
     },
     "metadata": {
      "needs_background": "light"
     },
     "output_type": "display_data"
    }
   ],
   "source": [
    "print('ПОТРАЧЕННЫЕ МИНУТЫ НА ТАРИФЕ SMART')\n",
    "print()\n",
    "hist_maker(smart_df.pivot_table(index = 'user_id', values = 'minutes_per_month', aggfunc = 'mean')['minutes_per_month'])"
   ]
  },
  {
   "cell_type": "code",
   "execution_count": 42,
   "metadata": {},
   "outputs": [
    {
     "name": "stdout",
     "output_type": "stream",
     "text": [
      "ПОТРАЧЕННЫЕ МИНУТЫ НА ТАРИФЕ ULTRA\n",
      "\n",
      "count     148.000000\n",
      "mean      527.821819\n",
      "std       281.786359\n",
      "min         0.000000\n",
      "25%       325.437500\n",
      "50%       514.541667\n",
      "75%       746.972222\n",
      "max      1179.363636\n",
      "Name: minutes_per_month, dtype: float64\n"
     ]
    },
    {
     "data": {
      "image/png": "[encoded data removed]",
      "text/plain": [
       "<Figure size 720x432 with 1 Axes>"
      ]
     },
     "metadata": {
      "needs_background": "light"
     },
     "output_type": "display_data"
    }
   ],
   "source": [
    "print('ПОТРАЧЕННЫЕ МИНУТЫ НА ТАРИФЕ ULTRA')\n",
    "print()\n",
    "\n",
    "#посчитаем среднее число потраченных для каждого пользователя минут и построим гистограмму\n",
    "hist_maker(ultra_df.pivot_table(index = 'user_id', values = 'minutes_per_month', aggfunc = 'mean')['minutes_per_month'])\n"
   ]
  },
  {
   "cell_type": "code",
   "execution_count": 43,
   "metadata": {},
   "outputs": [
    {
     "name": "stdout",
     "output_type": "stream",
     "text": [
      "Дисперсия на тарифе по звонкам SMART: 36203.06665209469\n",
      "Дисперсия на тарифе по звонкам ULTRA: 100771.2236172022\n"
     ]
    }
   ],
   "source": [
    "#Посчитаем дисперсию\n",
    "\n",
    "smart_minutes_per_month_variance = np.var(smart_df['minutes_per_month'])\n",
    "ultra_minutes_per_month_variance = np.var(ultra_df['minutes_per_month'])\n",
    "\n",
    "print('Дисперсия на тарифе по звонкам SMART:', smart_minutes_per_month_variance)\n",
    "print('Дисперсия на тарифе по звонкам ULTRA:', ultra_minutes_per_month_variance)"
   ]
  },
  {
   "cell_type": "code",
   "execution_count": 44,
   "metadata": {
    "scrolled": true
   },
   "outputs": [
    {
     "name": "stdout",
     "output_type": "stream",
     "text": [
      "СРАВНИМ ДЛИТЕЛЬНОСТЬ ЗВОНКОВ\n"
     ]
    },
    {
     "data": {
      "image/png": "[encoded data removed]",
      "text/plain": [
       "<Figure size 1512x720 with 2 Axes>"
      ]
     },
     "metadata": {
      "needs_background": "light"
     },
     "output_type": "display_data"
    }
   ],
   "source": [
    "print('СРАВНИМ ДЛИТЕЛЬНОСТЬ ЗВОНКОВ')\n",
    "fig = plt.figure(figsize = (21,10))\n",
    "\n",
    "data[data['tariff_name'] == 'ultra'].boxplot('minutes_per_month', ax = plt.subplot(1,2,1)).set_title('ultra');\n",
    "data[data['tariff_name'] == 'smart'].boxplot('minutes_per_month', ax = plt.subplot(1,2,2)).set_title('smart');\n",
    "\n",
    "plt.show()"
   ]
  },
  {
   "cell_type": "code",
   "execution_count": 45,
   "metadata": {},
   "outputs": [
    {
     "name": "stdout",
     "output_type": "stream",
     "text": [
      "Сравнение потраченных минут в двух тарифах\n"
     ]
    },
    {
     "data": {
      "image/png": "[encoded data removed]",
      "text/plain": [
       "<Figure size 432x288 with 1 Axes>"
      ]
     },
     "metadata": {
      "needs_background": "light"
     },
     "output_type": "display_data"
    }
   ],
   "source": [
    "print('Сравнение потраченных минут в двух тарифах')\n",
    "\n",
    "bins = 30\n",
    "\n",
    "plt.hist(data[data['tariff_name'] == 'ultra']['minutes_per_month'], bins, alpha = 0.5, label='ultra')\n",
    "plt.hist(data[data['tariff_name'] == 'smart']['minutes_per_month'], bins, alpha = 0.5, label='smart')\n",
    "plt.legend(loc='upper right')\n",
    "plt.xlabel('minutes_per_month')\n",
    "plt.ylabel('count')\n",
    "\n",
    "plt.show()"
   ]
  },
  {
   "cell_type": "markdown",
   "metadata": {},
   "source": [
    "Вывод по минутам:\n",
    "* Пользователи тарифа ULTRA тратят на 20% минут в месяц, чем пользователи тарифа SMART\n",
    "* Дисперсия на тарифе ULTRA в 3 раза больше (стандартное отклонение в 2 раза)\n",
    "* Большинство пользователей SMART укладываются в пакет 1000 минут"
   ]
  },
  {
   "cell_type": "markdown",
   "metadata": {},
   "source": [
    "### Анализ потраченных сообщений"
   ]
  },
  {
   "cell_type": "code",
   "execution_count": 46,
   "metadata": {
    "scrolled": true
   },
   "outputs": [
    {
     "name": "stdout",
     "output_type": "stream",
     "text": [
      "ПОТРАЧЕННЫЕ СООБЩЕНИЯ НА ТАРИФЕ SMART\n",
      "\n",
      "count    350.000000\n",
      "mean      32.352078\n",
      "std       26.512448\n",
      "min        0.000000\n",
      "25%       11.000000\n",
      "50%       27.750000\n",
      "75%       48.000000\n",
      "max      118.000000\n",
      "Name: messages_per_month, dtype: float64\n"
     ]
    },
    {
     "data": {
      "image/png": "[encoded data removed]",
      "text/plain": [
       "<Figure size 720x432 with 1 Axes>"
      ]
     },
     "metadata": {
      "needs_background": "light"
     },
     "output_type": "display_data"
    }
   ],
   "source": [
    "print('ПОТРАЧЕННЫЕ СООБЩЕНИЯ НА ТАРИФЕ SMART')\n",
    "print()\n",
    "hist_maker(smart_df.pivot_table(index = 'user_id', values = 'messages_per_month', aggfunc = 'mean')['messages_per_month'])"
   ]
  },
  {
   "cell_type": "code",
   "execution_count": 47,
   "metadata": {
    "scrolled": true
   },
   "outputs": [
    {
     "name": "stdout",
     "output_type": "stream",
     "text": [
      "ПОТРАЧЕННЫЕ СООБЩЕНИЯ НА ТАРИФЕ ULTRA\n",
      "\n",
      "count    148.000000\n",
      "mean      54.030743\n",
      "std       46.366246\n",
      "min        0.000000\n",
      "25%       17.000000\n",
      "50%       45.500000\n",
      "75%       84.250000\n",
      "max      192.000000\n",
      "Name: messages_per_month, dtype: float64\n"
     ]
    },
    {
     "data": {
      "image/png": "[encoded data removed]",
      "text/plain": [
       "<Figure size 720x432 with 1 Axes>"
      ]
     },
     "metadata": {
      "needs_background": "light"
     },
     "output_type": "display_data"
    }
   ],
   "source": [
    "print('ПОТРАЧЕННЫЕ СООБЩЕНИЯ НА ТАРИФЕ ULTRA')\n",
    "print()\n",
    "hist_maker(ultra_df.pivot_table(index = 'user_id', values = 'messages_per_month', aggfunc = 'mean')['messages_per_month'])"
   ]
  },
  {
   "cell_type": "code",
   "execution_count": 48,
   "metadata": {
    "scrolled": false
   },
   "outputs": [
    {
     "name": "stdout",
     "output_type": "stream",
     "text": [
      "Дисперсия на тарифе по сообщениям SMART: 700.9015956121176\n",
      "Дисперсия на тарифе по сообщениям ULTRA: 2135.302923096238\n"
     ]
    }
   ],
   "source": [
    "smart_messages_per_month_variance = np.var(smart_df.pivot_table(index = 'user_id', values = 'messages_per_month', aggfunc = 'mean')['messages_per_month'])\n",
    "ultra_messages_per_month_variance = np.var(ultra_df.pivot_table(index = 'user_id', values = 'messages_per_month', aggfunc = 'mean')['messages_per_month'])\n",
    "\n",
    "\n",
    "\n",
    "print('Дисперсия на тарифе по сообщениям SMART:', smart_messages_per_month_variance)\n",
    "print('Дисперсия на тарифе по сообщениям ULTRA:', ultra_messages_per_month_variance)"
   ]
  },
  {
   "cell_type": "code",
   "execution_count": 49,
   "metadata": {},
   "outputs": [
    {
     "name": "stdout",
     "output_type": "stream",
     "text": [
      "Сравнение количества сообщений в двух тарифах\n"
     ]
    },
    {
     "data": {
      "image/png": "[encoded data removed]",
      "text/plain": [
       "<Figure size 432x288 with 1 Axes>"
      ]
     },
     "metadata": {
      "needs_background": "light"
     },
     "output_type": "display_data"
    }
   ],
   "source": [
    "print('Сравнение количества сообщений в двух тарифах')\n",
    "\n",
    "bins = 30\n",
    "\n",
    "plt.hist(data[data['tariff_name'] == 'ultra']['messages_per_month'], bins, alpha = 0.5, label='ultra')\n",
    "plt.hist(data[data['tariff_name'] == 'smart']['messages_per_month'], bins, alpha = 0.5, label='smart')\n",
    "plt.legend(loc='upper right')\n",
    "plt.xlabel('messages_per_month')\n",
    "plt.ylabel('count')\n",
    "\n",
    "plt.show()"
   ]
  },
  {
   "cell_type": "code",
   "execution_count": 50,
   "metadata": {
    "scrolled": true
   },
   "outputs": [
    {
     "name": "stdout",
     "output_type": "stream",
     "text": [
      "СРАВНИМ КОЛИЧЕСТВО СООБЩЕНИЙ\n"
     ]
    },
    {
     "data": {
      "image/png": "[encoded data removed]",
      "text/plain": [
       "<Figure size 1512x432 with 2 Axes>"
      ]
     },
     "metadata": {
      "needs_background": "light"
     },
     "output_type": "display_data"
    }
   ],
   "source": [
    "print('СРАВНИМ КОЛИЧЕСТВО СООБЩЕНИЙ')\n",
    "fig = plt.figure(figsize = (21,6))\n",
    "data[data['tariff_name'] == 'ultra'].boxplot('messages_per_month', ax = plt.subplot(1,2,1)).set_title('ultra');\n",
    "data[data['tariff_name'] == 'smart'].boxplot('messages_per_month', ax = plt.subplot(1,2,2)).set_title('smart');"
   ]
  },
  {
   "cell_type": "markdown",
   "metadata": {},
   "source": [
    "Вывод по сообщениям:\n",
    "* Пользователи тарифа ULTRA тратят в 2 раза больше сообщений в месяц, чем пользователи тарифа SMART\n",
    "* Дисперсия на тарифе ULTRA в 3 раза больше (стандартное отклонение в 2 раза)\n",
    "* Большинство пользователей SMART укладываются в пакет 100 сообщений\n",
    "* Пользователи ULTRA не приближаются к лимиту пакета в 1000 сообщений"
   ]
  },
  {
   "cell_type": "markdown",
   "metadata": {},
   "source": [
    "### Анализ интернет траффика"
   ]
  },
  {
   "cell_type": "code",
   "execution_count": 51,
   "metadata": {},
   "outputs": [
    {
     "name": "stdout",
     "output_type": "stream",
     "text": [
      "ПОТРАЧЕННЫЙ ТРАФФИК НА ТАРИФЕ SMART\n",
      "\n",
      "count    350.000000\n",
      "mean      16.308519\n",
      "std        3.501643\n",
      "min        5.727273\n",
      "25%       14.000000\n",
      "50%       16.333333\n",
      "75%       18.691667\n",
      "max       27.250000\n",
      "Name: traffic_per_month, dtype: float64\n"
     ]
    },
    {
     "data": {
      "image/png": "[encoded data removed]",
      "text/plain": [
       "<Figure size 720x432 with 1 Axes>"
      ]
     },
     "metadata": {
      "needs_background": "light"
     },
     "output_type": "display_data"
    }
   ],
   "source": [
    "print('ПОТРАЧЕННЫЙ ТРАФФИК НА ТАРИФЕ SMART')\n",
    "print()\n",
    "\n",
    "hist_maker(smart_df.pivot_table(index = 'user_id', values = 'traffic_per_month', aggfunc = 'mean')['traffic_per_month'])"
   ]
  },
  {
   "cell_type": "code",
   "execution_count": 52,
   "metadata": {},
   "outputs": [
    {
     "name": "stdout",
     "output_type": "stream",
     "text": [
      "ПОТРАЧЕННЫЙ ТРАФФИК НА ТАРИФЕ ULTRA\n",
      "\n",
      "count    148.000000\n",
      "mean      19.588446\n",
      "std        8.116120\n",
      "min        0.000000\n",
      "25%       14.727273\n",
      "50%       18.775000\n",
      "75%       25.687500\n",
      "max       38.500000\n",
      "Name: traffic_per_month, dtype: float64\n"
     ]
    },
    {
     "data": {
      "image/png": "[encoded data removed]",
      "text/plain": [
       "<Figure size 720x432 with 1 Axes>"
      ]
     },
     "metadata": {
      "needs_background": "light"
     },
     "output_type": "display_data"
    }
   ],
   "source": [
    "print('ПОТРАЧЕННЫЙ ТРАФФИК НА ТАРИФЕ ULTRA')\n",
    "print()\n",
    "\n",
    "hist_maker(ultra_df.pivot_table(index = 'user_id', values = 'traffic_per_month', aggfunc = 'mean')['traffic_per_month'])"
   ]
  },
  {
   "cell_type": "code",
   "execution_count": 53,
   "metadata": {},
   "outputs": [
    {
     "name": "stdout",
     "output_type": "stream",
     "text": [
      "Дисперсия  по трафику на тарифе SMART: 12.22647033852252\n",
      "Дисперсия по трафику тарифе на ULTRA: 65.42632506451598\n"
     ]
    }
   ],
   "source": [
    "smart_traffic_per_month_variance = np.var(smart_df.pivot_table(index = 'user_id', values = 'traffic_per_month', aggfunc = 'mean')['traffic_per_month'])\n",
    "ultra_traffic_per_month_variance = np.var(ultra_df.pivot_table(index = 'user_id', values = 'traffic_per_month', aggfunc = 'mean')['traffic_per_month'])\n",
    "\n",
    "print('Дисперсия  по трафику на тарифе SMART:', smart_traffic_per_month_variance)\n",
    "print('Дисперсия по трафику тарифе на ULTRA:', ultra_traffic_per_month_variance)"
   ]
  },
  {
   "cell_type": "code",
   "execution_count": 54,
   "metadata": {
    "scrolled": true
   },
   "outputs": [
    {
     "name": "stdout",
     "output_type": "stream",
     "text": [
      "СРАВНИМ ТРАФФИК\n"
     ]
    },
    {
     "data": {
      "image/png": "[encoded data removed]",
      "text/plain": [
       "<Figure size 1512x432 with 2 Axes>"
      ]
     },
     "metadata": {
      "needs_background": "light"
     },
     "output_type": "display_data"
    }
   ],
   "source": [
    "\n",
    "print('СРАВНИМ ТРАФФИК')\n",
    "fig = plt.figure(figsize = (21,6))\n",
    "data[data['tariff_name'] == 'ultra'].boxplot('traffic_per_month', ax = plt.subplot(1,2,1)).set_title('ultra');\n",
    "data[data['tariff_name'] == 'smart'].boxplot('traffic_per_month', ax = plt.subplot(1,2,2)).set_title('smart');"
   ]
  },
  {
   "cell_type": "code",
   "execution_count": 55,
   "metadata": {
    "scrolled": true
   },
   "outputs": [
    {
     "name": "stdout",
     "output_type": "stream",
     "text": [
      "Сравнение трафика в двух тарифах\n"
     ]
    },
    {
     "data": {
      "image/png": "[encoded data removed]",
      "text/plain": [
       "<Figure size 720x360 with 1 Axes>"
      ]
     },
     "metadata": {
      "needs_background": "light"
     },
     "output_type": "display_data"
    }
   ],
   "source": [
    "print('Сравнение трафика в двух тарифах')\n",
    "\n",
    "bins = 30\n",
    "fig = plt.figure(figsize = (10,5))\n",
    "plt.hist(data[data['tariff_name'] == 'ultra']['traffic_per_month'], bins, alpha = 0.5, label='ultra')\n",
    "plt.hist(data[data['tariff_name'] == 'smart']['traffic_per_month'], bins, alpha = 0.5, label='smart')\n",
    "plt.legend(loc='upper right')\n",
    "plt.xlabel('traffic_per_month')\n",
    "plt.ylabel('count')\n",
    "\n",
    "plt.show()"
   ]
  },
  {
   "cell_type": "markdown",
   "metadata": {},
   "source": [
    "Вывод по трафику:\n",
    "* Пользователи тарифа ULTRA тратят на 18% больше Гб в месяц, чем пользователи тарифа SMART\n",
    "* Дисперсия на тарифе ULTRA в 5 раза больше (стандартное отклонение в 2 раза)\n",
    "* Больше 50% пользователей SMART превышают включенный в пакет трафик\n",
    "* Больше 10% пользователей ULTRA превышают включенный в пакет трафик"
   ]
  },
  {
   "cell_type": "markdown",
   "metadata": {},
   "source": [
    "### Выводы о сравнении тарифов"
   ]
  },
  {
   "cell_type": "markdown",
   "metadata": {},
   "source": [
    "* Дительность звонков: среднее в SMART - 418 минут, в ULTRA - 524, в обоих тарифах данные распределены нормально\n",
    "* Отправленные сообщения: среднее в SMART - 32.2, в ULTRA - 53.6, распределения напоминают распределение пуассона\n",
    "* Интернет траффик: среднее в SMART - 16.2 Гб, в ULTRA - 19.4, в обоих тарифах данные распределены нормально\n",
    "* Можно сказать, что пользователи тарифа ULTRA более активны, в среднем они тратят больше ресурсов\n",
    "* Перерасход на SMART по минутам у 20% пользователей, ULTRA - ни у кого\n",
    "* Перерасход на SMART по сообщениям у 25% пользователей, ULTRA - 20%\n",
    "* Перерасход на SMART по трафику у 50% пользователей, ULTRA - 10%\n",
    "* Пользователи SMART чаще превышают лимиты\n",
    "* Дисперсия в ULTRA всегда меньше, что говорит о большей однородности данных\n"
   ]
  },
  {
   "cell_type": "markdown",
   "metadata": {},
   "source": [
    "## Проверка гипотез"
   ]
  },
  {
   "cell_type": "markdown",
   "metadata": {},
   "source": [
    "### Средняя выручка пользователей тарифов «Ультра» и «Смарт» различаются"
   ]
  },
  {
   "cell_type": "markdown",
   "metadata": {},
   "source": [
    "Н0 - Средняя выручка пользователей тарифов «Ультра» и «Смарт» **равны**, т.е. средние значения равны.\n",
    "\n",
    "Н1 - Средняя выручка пользователей тарифов «Ультра» и «Смарт» **не равны**, т.е. средние значения не равны.\n",
    "\n",
    "Дисперсии выборок были расчитаны выше, они отличаются более чем на 5%"
   ]
  },
  {
   "cell_type": "code",
   "execution_count": 56,
   "metadata": {},
   "outputs": [
    {
     "name": "stdout",
     "output_type": "stream",
     "text": [
      "p-значение: 1.4229814360764067e-160\n",
      "Принимаем нулевую гипотезу\n"
     ]
    }
   ],
   "source": [
    "smart_revenue = data[data['tariff_name'] == 'smart']['revenue']\n",
    "ultra_revenue = data[data['tariff_name'] == 'ultra']['revenue']\n",
    "\n",
    "alpha =0.05\n",
    "\n",
    "results = st.ttest_ind(\n",
    "    smart_revenue, \n",
    "    ultra_revenue) # проверим гипотезу о равенстве средних двух независимых совокупностей\n",
    "\n",
    "print('p-значение:',results.pvalue) # выведем на экран получившеся p-значение\n",
    "\n",
    "if results.pvalue < alpha: # сравним получившееся p-значение с заданным уровнем статистической значимости:\n",
    "    print(\"Принимаем нулевую гипотезу\")\n",
    "else:\n",
    "    print(\"Опровергнуть нулевую гипотезу нельзя\")"
   ]
  },
  {
   "cell_type": "code",
   "execution_count": 57,
   "metadata": {
    "scrolled": false
   },
   "outputs": [
    {
     "name": "stdout",
     "output_type": "stream",
     "text": [
      "Средняя выручка на тарифе SMART: 1289.9735307312696\n",
      "Средняя выручка на тарифе ULTRA: 2070.1522842639592\n"
     ]
    }
   ],
   "source": [
    "print('Средняя выручка на тарифе SMART:', smart_revenue.mean())\n",
    "print('Средняя выручка на тарифе ULTRA:', ultra_revenue.mean())"
   ]
  },
  {
   "cell_type": "code",
   "execution_count": 58,
   "metadata": {
    "scrolled": true
   },
   "outputs": [
    {
     "name": "stdout",
     "output_type": "stream",
     "text": [
      "Гистограмма выручки на тарифе SMART\n",
      "count    2229.000000\n",
      "mean     1289.973531\n",
      "std       818.404367\n",
      "min       550.000000\n",
      "25%       550.000000\n",
      "50%      1023.000000\n",
      "75%      1750.000000\n",
      "max      6770.000000\n",
      "Name: revenue, dtype: float64\n"
     ]
    },
    {
     "data": {
      "image/png": "[encoded data removed]",
      "text/plain": [
       "<Figure size 720x432 with 1 Axes>"
      ]
     },
     "metadata": {
      "needs_background": "light"
     },
     "output_type": "display_data"
    }
   ],
   "source": [
    "print('Гистограмма выручки на тарифе SMART')\n",
    "hist_maker(smart_revenue)"
   ]
  },
  {
   "cell_type": "code",
   "execution_count": 59,
   "metadata": {
    "scrolled": true
   },
   "outputs": [
    {
     "name": "stdout",
     "output_type": "stream",
     "text": [
      "Гистограмма выручки на тарифе ULTRA\n",
      "count     985.000000\n",
      "mean     2070.152284\n",
      "std       376.187114\n",
      "min      1950.000000\n",
      "25%      1950.000000\n",
      "50%      1950.000000\n",
      "75%      1950.000000\n",
      "max      4800.000000\n",
      "Name: revenue, dtype: float64\n"
     ]
    },
    {
     "data": {
      "image/png": "[encoded data removed]",
      "text/plain": [
       "<Figure size 720x432 with 1 Axes>"
      ]
     },
     "metadata": {
      "needs_background": "light"
     },
     "output_type": "display_data"
    }
   ],
   "source": [
    "print('Гистограмма выручки на тарифе ULTRA')\n",
    "hist_maker(ultra_revenue)"
   ]
  },
  {
   "cell_type": "code",
   "execution_count": 60,
   "metadata": {},
   "outputs": [
    {
     "name": "stdout",
     "output_type": "stream",
     "text": [
      "Сравнение выручки в двух тарифах\n"
     ]
    },
    {
     "data": {
      "image/png": "[encoded data removed]",
      "text/plain": [
       "<Figure size 720x360 with 1 Axes>"
      ]
     },
     "metadata": {
      "needs_background": "light"
     },
     "output_type": "display_data"
    }
   ],
   "source": [
    "print('Сравнение выручки в двух тарифах')\n",
    "\n",
    "bins = 30\n",
    "fig = plt.figure(figsize = (10,5))\n",
    "plt.hist(ultra_revenue, bins, alpha = 0.5, label='ultra')\n",
    "plt.hist(smart_revenue, bins, alpha = 0.5, label='smart')\n",
    "plt.legend(loc='upper right')\n",
    "plt.xlabel('ВЫРУЧКА')\n",
    "plt.ylabel('КОЛИЧЕСТВО')\n",
    "\n",
    "plt.show()"
   ]
  },
  {
   "cell_type": "code",
   "execution_count": 61,
   "metadata": {},
   "outputs": [
    {
     "name": "stdout",
     "output_type": "stream",
     "text": [
      "Число пользователей тарифа SMART 350\n",
      "Число пользователей тарифа ULTRA 148\n"
     ]
    }
   ],
   "source": [
    "print('Число пользователей тарифа SMART',len(data[data['tariff_name'] == 'smart']['user_id'].unique()))\n",
    "print('Число пользователей тарифа ULTRA',len(data[data['tariff_name'] == 'ultra']['user_id'].unique()))"
   ]
  },
  {
   "cell_type": "markdown",
   "metadata": {},
   "source": [
    "### Средняя выручка пользователей из Москвы отличается от выручки пользователей из других регионов"
   ]
  },
  {
   "cell_type": "markdown",
   "metadata": {},
   "source": [
    "Н0 - Средняя выручка пользователей из Москвы и регионов **равны**, т.е. средние значения равны.\n",
    "\n",
    "Н1 - Средняя выручка пользователей из Москвы и регионов **не равны**, т.е. средние значения не равны.\n",
    "\n",
    "Дисперсии выборок были расчитаны выше, они отличаются более чем на 5%"
   ]
  },
  {
   "cell_type": "code",
   "execution_count": 62,
   "metadata": {},
   "outputs": [
    {
     "name": "stdout",
     "output_type": "stream",
     "text": [
      "Дисперсии отличаются на -14 %\n"
     ]
    }
   ],
   "source": [
    "# сделаем выборки по Москве и регионам\n",
    "moscow_revenue = data[data['city'] == 'москва']['revenue']\n",
    "region_revenue = data[data['city'] != 'москва']['revenue']\n",
    "\n",
    "\n",
    "# посчитаем дисепрсии\n",
    "\n",
    "moscow_variance = np.var(moscow_revenue)\n",
    "region_variance = np.var(region_revenue)\n",
    "\n",
    "# сравним дисперсии\n",
    "print('Дисперсии отличаются на',round(((moscow_variance - region_variance)/region_variance)*100),'%')\n",
    "\n"
   ]
  },
  {
   "cell_type": "code",
   "execution_count": 63,
   "metadata": {},
   "outputs": [
    {
     "name": "stdout",
     "output_type": "stream",
     "text": [
      "p-значение: 0.5440152911670224\n",
      "Опровергнуть нулевую гипотезу нельзя\n"
     ]
    }
   ],
   "source": [
    "alpha =0.05\n",
    "\n",
    "results = st.ttest_ind(\n",
    "    moscow_revenue, \n",
    "    region_revenue) # проверим гипотезу о равенстве средних двух независимых совокупностей\n",
    "\n",
    "print('p-значение:',results.pvalue) # выведем на экран получившеся p-значение\n",
    "\n",
    "if results.pvalue < alpha: # сравним получившееся p-значение с заданным уровнем статистической значимости:\n",
    "    print(\"Принимаем нулевую гипотезу\")\n",
    "else:\n",
    "    print(\"Опровергнуть нулевую гипотезу нельзя\")"
   ]
  },
  {
   "cell_type": "code",
   "execution_count": 64,
   "metadata": {},
   "outputs": [
    {
     "name": "stdout",
     "output_type": "stream",
     "text": [
      "Средняя выручка в Москве: 1546.7135842880523\n",
      "Средняя выручка в регионах: 1524.9362274298885\n"
     ]
    }
   ],
   "source": [
    "print('Средняя выручка в Москве:', moscow_revenue.mean())\n",
    "print('Средняя выручка в регионах:', region_revenue.mean())"
   ]
  },
  {
   "cell_type": "markdown",
   "metadata": {},
   "source": [
    "### Выводы по проверке гипотез"
   ]
  },
  {
   "cell_type": "markdown",
   "metadata": {},
   "source": [
    "* При проверке гипотезы о разных выручках у разных тарифах мы выяснили, что p-значение достаточно мало, что дает основание отвергнуть предположение об отсутствии различий между выручками у разных тарифных планов, т.е. маловероятна случайность результатов теста гипотезы.\n",
    "* При сравнении средних выручек жителей Москвы и регионов p-значение оказалось больше порогового, что не дает основание отвергнуть предположение об отсутствии различий между выручками у жителей Москвы и регионов"
   ]
  },
  {
   "cell_type": "markdown",
   "metadata": {},
   "source": [
    "## Общий вывод"
   ]
  },
  {
   "cell_type": "markdown",
   "metadata": {},
   "source": [
    "* Дительность звонков: среднее в SMART - 418 минут, в ULTRA - 524, в обоих тарифах данные распределены нормально\n",
    "* Отправленные сообщения: среднее в SMART - 32.2, в ULTRA - 53.6, распределения напоминают распределение пуассона\n",
    "* Интернет траффик: среднее в SMART - 16.2 Гб, в ULTRA - 19.4, в обоих тарифах данные распределены нормально\n",
    "* Можно сказать, что пользователи тарифа ULTRA более активны, в среднем они тратят больше ресурсов, дисперсия у SMART\n",
    "  всегда меньше, что говорит о большей однородности данных\n",
    "* Проанализировав потребление услуг, мы пришли к выводу, что пользователи SMART чаще превышают лимиты, то есть платят дополнительные деньги за услуги\n",
    "* В нашей выборке оказалось 350 пользователей тарифа SMART и 148 ULTRA\n",
    "* При проверке гипотезы о разных выручках у разных тарифах мы выяснили, что p-значение достаточно мало, что дает основание отвергнуть предположение об отсутствии различий между выручками у разных тарифных планов, т.е. маловероятна случайность результатов теста гипотезы. Таким образом можно заявить, что выручка разная.\n",
    "* При сравнении средних выборок по выручке выяснили, что средняя выручка на тарифе ULTRA больше почти в два раза.\n",
    "* В среднем пользователи ULTRA приносят 2000р в месяц, тогда как на SMART - 1150 (к сожалению не могу тут оценить издержки на обслуживание клиентов, тут при принимаем их равными для обоих тарифов)\n",
    "* Сравнив распределение выручек обоих тарифов мы пришли к выводу, что большинство пользователей обоих тарифов приносит выручку\n",
    "  в районе своей абонентской платы\n",
    "* При сравнении средних выручек жителей Москвы и регионов p-значение оказалось больше порогового, что не дает основание отвергнуть предположение об отсутствии различий между выручками у жителей Москвы и регионов. При сравнении средних выручек\n",
    "  получили значения отличающиеся на 1.5%\n",
    "* Исходя из всего делаем вывод, что пользователи тарифа ULTRA более выгодны - несмотря на то, что пользователи SMART чаще превышают лимиты, их переплата за дополнительные услуги не делает их более выгодными для оператора, средняя выручка по ULTRA больше почти в два раза. Рекомендуем провести маркетинговую полтику, направленную  на увеличение числа пользователей тарифа ULTRA"
   ]
  }
 ],
 "metadata": {
  "ExecuteTimeLog": [
   {
    "duration": 5,
    "start_time": "2022-03-27T11:54:18.398Z"
   },
   {
    "duration": 1160,
    "start_time": "2022-03-27T11:55:15.730Z"
   },
   {
    "duration": 383,
    "start_time": "2022-03-27T11:56:25.956Z"
   },
   {
    "duration": 2,
    "start_time": "2022-03-27T11:57:08.883Z"
   },
   {
    "duration": 134,
    "start_time": "2022-03-27T11:58:51.950Z"
   },
   {
    "duration": 128,
    "start_time": "2022-03-27T12:03:26.292Z"
   },
   {
    "duration": 393,
    "start_time": "2022-03-27T12:05:55.893Z"
   },
   {
    "duration": 28,
    "start_time": "2022-03-27T12:07:44.662Z"
   },
   {
    "duration": 23,
    "start_time": "2022-03-27T12:08:29.655Z"
   },
   {
    "duration": 27,
    "start_time": "2022-03-27T12:08:42.434Z"
   },
   {
    "duration": 26,
    "start_time": "2022-03-27T12:10:15.240Z"
   },
   {
    "duration": 9,
    "start_time": "2022-03-27T12:10:44.527Z"
   },
   {
    "duration": 9,
    "start_time": "2022-03-27T12:10:48.443Z"
   },
   {
    "duration": 9,
    "start_time": "2022-03-27T12:11:12.873Z"
   },
   {
    "duration": 2447,
    "start_time": "2022-03-27T12:12:22.218Z"
   },
   {
    "duration": 637,
    "start_time": "2022-03-27T12:12:30.716Z"
   },
   {
    "duration": 165,
    "start_time": "2022-03-27T12:12:43.390Z"
   },
   {
    "duration": 179,
    "start_time": "2022-03-27T12:12:48.726Z"
   },
   {
    "duration": 158,
    "start_time": "2022-03-27T12:12:56.103Z"
   },
   {
    "duration": 3,
    "start_time": "2022-03-27T12:14:31.351Z"
   },
   {
    "duration": 12,
    "start_time": "2022-03-27T12:15:06.718Z"
   },
   {
    "duration": 13,
    "start_time": "2022-03-27T12:15:36.886Z"
   },
   {
    "duration": 76,
    "start_time": "2022-03-27T12:16:35.409Z"
   },
   {
    "duration": 6,
    "start_time": "2022-03-27T12:17:40.776Z"
   },
   {
    "duration": 18,
    "start_time": "2022-03-27T12:17:51.827Z"
   },
   {
    "duration": 6,
    "start_time": "2022-03-27T12:17:59.454Z"
   },
   {
    "duration": 6,
    "start_time": "2022-03-27T12:18:49.820Z"
   },
   {
    "duration": 6,
    "start_time": "2022-03-27T12:19:44.473Z"
   },
   {
    "duration": 7,
    "start_time": "2022-03-27T12:20:48.611Z"
   },
   {
    "duration": 3,
    "start_time": "2022-03-27T12:21:50.835Z"
   },
   {
    "duration": 3,
    "start_time": "2022-03-27T12:23:33.818Z"
   },
   {
    "duration": 3,
    "start_time": "2022-03-27T12:23:55.413Z"
   },
   {
    "duration": 874,
    "start_time": "2022-03-28T08:27:03.144Z"
   },
   {
    "duration": 16,
    "start_time": "2022-03-28T08:27:04.020Z"
   },
   {
    "duration": 49,
    "start_time": "2022-03-28T08:27:04.038Z"
   },
   {
    "duration": 26,
    "start_time": "2022-03-28T08:27:04.089Z"
   },
   {
    "duration": 36,
    "start_time": "2022-03-28T08:27:04.117Z"
   },
   {
    "duration": 651,
    "start_time": "2022-03-28T08:27:04.155Z"
   },
   {
    "duration": 5,
    "start_time": "2022-03-28T08:27:04.808Z"
   },
   {
    "duration": 179,
    "start_time": "2022-03-28T08:27:04.815Z"
   },
   {
    "duration": 11,
    "start_time": "2022-03-28T08:27:04.996Z"
   },
   {
    "duration": 38,
    "start_time": "2022-03-28T08:27:05.010Z"
   },
   {
    "duration": 39,
    "start_time": "2022-03-28T08:27:05.050Z"
   },
   {
    "duration": 24,
    "start_time": "2022-03-28T08:27:05.091Z"
   },
   {
    "duration": 24,
    "start_time": "2022-03-28T08:27:05.116Z"
   },
   {
    "duration": 36,
    "start_time": "2022-03-28T08:27:05.141Z"
   },
   {
    "duration": 24,
    "start_time": "2022-03-28T08:27:05.179Z"
   },
   {
    "duration": 80,
    "start_time": "2022-03-28T08:28:19.990Z"
   },
   {
    "duration": 9,
    "start_time": "2022-03-28T08:39:57.500Z"
   },
   {
    "duration": 6,
    "start_time": "2022-03-28T08:45:13.468Z"
   },
   {
    "duration": 14,
    "start_time": "2022-03-28T08:45:56.588Z"
   },
   {
    "duration": 27,
    "start_time": "2022-03-28T08:48:03.290Z"
   },
   {
    "duration": 10,
    "start_time": "2022-03-28T08:49:37.833Z"
   },
   {
    "duration": 21,
    "start_time": "2022-03-28T08:50:26.714Z"
   },
   {
    "duration": 3,
    "start_time": "2022-03-28T08:52:21.528Z"
   },
   {
    "duration": 23,
    "start_time": "2022-03-28T08:52:43.527Z"
   },
   {
    "duration": 7,
    "start_time": "2022-03-28T08:52:56.880Z"
   },
   {
    "duration": 9,
    "start_time": "2022-03-28T08:53:01.820Z"
   },
   {
    "duration": 21,
    "start_time": "2022-03-28T08:54:01.680Z"
   },
   {
    "duration": 940,
    "start_time": "2022-03-28T09:26:57.642Z"
   },
   {
    "duration": 17,
    "start_time": "2022-03-28T09:26:58.584Z"
   },
   {
    "duration": 28,
    "start_time": "2022-03-28T09:26:58.603Z"
   },
   {
    "duration": 22,
    "start_time": "2022-03-28T09:26:58.634Z"
   },
   {
    "duration": 32,
    "start_time": "2022-03-28T09:26:58.658Z"
   },
   {
    "duration": 763,
    "start_time": "2022-03-28T09:26:58.692Z"
   },
   {
    "duration": 7,
    "start_time": "2022-03-28T09:26:59.458Z"
   },
   {
    "duration": 187,
    "start_time": "2022-03-28T09:26:59.467Z"
   },
   {
    "duration": 12,
    "start_time": "2022-03-28T09:26:59.656Z"
   },
   {
    "duration": 40,
    "start_time": "2022-03-28T09:26:59.673Z"
   },
   {
    "duration": 37,
    "start_time": "2022-03-28T09:26:59.716Z"
   },
   {
    "duration": 36,
    "start_time": "2022-03-28T09:26:59.756Z"
   },
   {
    "duration": 23,
    "start_time": "2022-03-28T09:26:59.795Z"
   },
   {
    "duration": 27,
    "start_time": "2022-03-28T09:26:59.821Z"
   },
   {
    "duration": 32,
    "start_time": "2022-03-28T09:26:59.851Z"
   },
   {
    "duration": 34,
    "start_time": "2022-03-28T09:26:59.886Z"
   },
   {
    "duration": 87,
    "start_time": "2022-03-28T09:26:59.923Z"
   },
   {
    "duration": 10,
    "start_time": "2022-03-28T09:27:00.012Z"
   },
   {
    "duration": 51,
    "start_time": "2022-03-28T09:27:00.024Z"
   },
   {
    "duration": 61,
    "start_time": "2022-03-28T09:27:00.077Z"
   },
   {
    "duration": 42,
    "start_time": "2022-03-28T09:27:00.140Z"
   },
   {
    "duration": 55,
    "start_time": "2022-03-28T09:27:00.184Z"
   },
   {
    "duration": 43,
    "start_time": "2022-03-28T09:27:00.243Z"
   },
   {
    "duration": 169,
    "start_time": "2022-03-28T09:27:55.224Z"
   },
   {
    "duration": 44,
    "start_time": "2022-03-28T11:10:25.544Z"
   },
   {
    "duration": 42,
    "start_time": "2022-03-28T11:44:25.453Z"
   },
   {
    "duration": 94,
    "start_time": "2022-03-28T11:46:22.909Z"
   },
   {
    "duration": 26,
    "start_time": "2022-03-28T11:52:02.528Z"
   },
   {
    "duration": 29,
    "start_time": "2022-03-28T11:52:14.138Z"
   },
   {
    "duration": 658,
    "start_time": "2022-03-28T11:54:45.800Z"
   },
   {
    "duration": 17,
    "start_time": "2022-03-28T11:55:22.702Z"
   },
   {
    "duration": 17,
    "start_time": "2022-03-28T11:55:36.944Z"
   },
   {
    "duration": 22,
    "start_time": "2022-03-28T11:56:43.409Z"
   },
   {
    "duration": 16,
    "start_time": "2022-03-28T11:57:28.816Z"
   },
   {
    "duration": 766,
    "start_time": "2022-03-28T12:51:20.851Z"
   },
   {
    "duration": 14,
    "start_time": "2022-03-28T12:51:21.619Z"
   },
   {
    "duration": 28,
    "start_time": "2022-03-28T12:51:21.635Z"
   },
   {
    "duration": 20,
    "start_time": "2022-03-28T12:51:21.665Z"
   },
   {
    "duration": 33,
    "start_time": "2022-03-28T12:51:21.688Z"
   },
   {
    "duration": 587,
    "start_time": "2022-03-28T12:51:21.722Z"
   },
   {
    "duration": 5,
    "start_time": "2022-03-28T12:51:22.310Z"
   },
   {
    "duration": 170,
    "start_time": "2022-03-28T12:51:22.317Z"
   },
   {
    "duration": 10,
    "start_time": "2022-03-28T12:51:22.489Z"
   },
   {
    "duration": 13,
    "start_time": "2022-03-28T12:51:22.500Z"
   },
   {
    "duration": 33,
    "start_time": "2022-03-28T12:51:22.514Z"
   },
   {
    "duration": 5,
    "start_time": "2022-03-28T12:51:22.548Z"
   },
   {
    "duration": 8,
    "start_time": "2022-03-28T12:51:22.555Z"
   },
   {
    "duration": 9,
    "start_time": "2022-03-28T12:51:22.565Z"
   },
   {
    "duration": 5,
    "start_time": "2022-03-28T12:51:22.575Z"
   },
   {
    "duration": 15,
    "start_time": "2022-03-28T12:51:22.581Z"
   },
   {
    "duration": 52,
    "start_time": "2022-03-28T12:51:22.597Z"
   },
   {
    "duration": 8,
    "start_time": "2022-03-28T12:51:22.651Z"
   },
   {
    "duration": 23,
    "start_time": "2022-03-28T12:51:22.660Z"
   },
   {
    "duration": 22,
    "start_time": "2022-03-28T12:51:22.685Z"
   },
   {
    "duration": 32,
    "start_time": "2022-03-28T12:51:22.709Z"
   },
   {
    "duration": 14,
    "start_time": "2022-03-28T12:51:22.743Z"
   },
   {
    "duration": 9,
    "start_time": "2022-03-28T12:51:22.759Z"
   },
   {
    "duration": 87,
    "start_time": "2022-03-28T12:51:22.770Z"
   },
   {
    "duration": 0,
    "start_time": "2022-03-28T12:51:22.859Z"
   },
   {
    "duration": 0,
    "start_time": "2022-03-28T12:51:22.860Z"
   },
   {
    "duration": 54,
    "start_time": "2022-03-28T12:52:13.437Z"
   },
   {
    "duration": 40,
    "start_time": "2022-03-28T12:52:35.070Z"
   },
   {
    "duration": 643,
    "start_time": "2022-03-28T12:54:18.085Z"
   },
   {
    "duration": 45,
    "start_time": "2022-03-28T12:54:23.165Z"
   },
   {
    "duration": 46,
    "start_time": "2022-03-28T12:54:48.476Z"
   },
   {
    "duration": 744,
    "start_time": "2022-03-28T12:55:08.773Z"
   },
   {
    "duration": 780,
    "start_time": "2022-03-28T12:55:19.716Z"
   },
   {
    "duration": 742,
    "start_time": "2022-03-28T12:55:25.412Z"
   },
   {
    "duration": 743,
    "start_time": "2022-03-28T12:55:56.445Z"
   },
   {
    "duration": 151,
    "start_time": "2022-03-28T12:56:47.163Z"
   },
   {
    "duration": 148,
    "start_time": "2022-03-28T12:56:51.707Z"
   },
   {
    "duration": 143,
    "start_time": "2022-03-28T12:56:58.490Z"
   },
   {
    "duration": 82,
    "start_time": "2022-03-28T12:57:36.763Z"
   },
   {
    "duration": 62,
    "start_time": "2022-03-28T12:57:55.196Z"
   },
   {
    "duration": 53,
    "start_time": "2022-03-28T12:58:00.731Z"
   },
   {
    "duration": 52,
    "start_time": "2022-03-28T12:58:18.507Z"
   },
   {
    "duration": 52,
    "start_time": "2022-03-28T13:00:08.850Z"
   },
   {
    "duration": 55,
    "start_time": "2022-03-28T13:00:16.674Z"
   },
   {
    "duration": 40,
    "start_time": "2022-03-28T13:01:01.106Z"
   },
   {
    "duration": 40,
    "start_time": "2022-03-28T13:01:05.730Z"
   },
   {
    "duration": 400,
    "start_time": "2022-03-28T13:04:27.410Z"
   },
   {
    "duration": 9,
    "start_time": "2022-03-28T13:04:27.812Z"
   },
   {
    "duration": 22,
    "start_time": "2022-03-28T13:04:27.823Z"
   },
   {
    "duration": 14,
    "start_time": "2022-03-28T13:04:27.847Z"
   },
   {
    "duration": 25,
    "start_time": "2022-03-28T13:04:27.863Z"
   },
   {
    "duration": 185,
    "start_time": "2022-03-28T13:04:27.889Z"
   },
   {
    "duration": 5,
    "start_time": "2022-03-28T13:04:28.075Z"
   },
   {
    "duration": 118,
    "start_time": "2022-03-28T13:04:28.081Z"
   },
   {
    "duration": 9,
    "start_time": "2022-03-28T13:04:28.201Z"
   },
   {
    "duration": 14,
    "start_time": "2022-03-28T13:04:28.212Z"
   },
   {
    "duration": 27,
    "start_time": "2022-03-28T13:04:28.228Z"
   },
   {
    "duration": 5,
    "start_time": "2022-03-28T13:04:28.257Z"
   },
   {
    "duration": 10,
    "start_time": "2022-03-28T13:04:28.264Z"
   },
   {
    "duration": 9,
    "start_time": "2022-03-28T13:04:28.276Z"
   },
   {
    "duration": 87,
    "start_time": "2022-03-28T13:04:28.286Z"
   },
   {
    "duration": 21,
    "start_time": "2022-03-28T13:04:28.374Z"
   },
   {
    "duration": 27,
    "start_time": "2022-03-28T13:04:28.396Z"
   },
   {
    "duration": 19,
    "start_time": "2022-03-28T13:04:28.425Z"
   },
   {
    "duration": 16,
    "start_time": "2022-03-28T13:04:28.446Z"
   },
   {
    "duration": 19,
    "start_time": "2022-03-28T13:04:28.464Z"
   },
   {
    "duration": 7,
    "start_time": "2022-03-28T13:04:28.484Z"
   },
   {
    "duration": 12,
    "start_time": "2022-03-28T13:04:28.493Z"
   },
   {
    "duration": 33,
    "start_time": "2022-03-28T13:04:28.506Z"
   },
   {
    "duration": 746,
    "start_time": "2022-03-28T13:04:28.541Z"
   },
   {
    "duration": 115,
    "start_time": "2022-03-28T13:04:29.288Z"
   },
   {
    "duration": 44,
    "start_time": "2022-03-28T13:04:29.404Z"
   },
   {
    "duration": 35,
    "start_time": "2022-03-28T13:33:51.081Z"
   },
   {
    "duration": 31,
    "start_time": "2022-03-28T13:33:58.928Z"
   },
   {
    "duration": 437,
    "start_time": "2022-03-28T13:35:32.373Z"
   },
   {
    "duration": 460,
    "start_time": "2022-03-28T13:35:36.558Z"
   },
   {
    "duration": 56,
    "start_time": "2022-03-28T13:36:23.997Z"
   },
   {
    "duration": 445,
    "start_time": "2022-03-28T13:39:55.019Z"
   },
   {
    "duration": 477,
    "start_time": "2022-03-28T13:40:46.051Z"
   },
   {
    "duration": 12,
    "start_time": "2022-03-28T13:41:49.026Z"
   },
   {
    "duration": 81,
    "start_time": "2022-03-28T13:42:28.499Z"
   },
   {
    "duration": 472,
    "start_time": "2022-03-28T13:42:53.393Z"
   },
   {
    "duration": 61,
    "start_time": "2022-03-28T13:42:55.754Z"
   },
   {
    "duration": 338,
    "start_time": "2022-03-28T14:55:14.936Z"
   },
   {
    "duration": 1411,
    "start_time": "2022-03-29T07:59:13.791Z"
   },
   {
    "duration": 26,
    "start_time": "2022-03-29T07:59:15.205Z"
   },
   {
    "duration": 22,
    "start_time": "2022-03-29T07:59:15.234Z"
   },
   {
    "duration": 17,
    "start_time": "2022-03-29T07:59:15.258Z"
   },
   {
    "duration": 35,
    "start_time": "2022-03-29T07:59:15.308Z"
   },
   {
    "duration": 660,
    "start_time": "2022-03-29T07:59:15.345Z"
   },
   {
    "duration": 7,
    "start_time": "2022-03-29T07:59:16.008Z"
   },
   {
    "duration": 169,
    "start_time": "2022-03-29T07:59:16.017Z"
   },
   {
    "duration": 20,
    "start_time": "2022-03-29T07:59:16.188Z"
   },
   {
    "duration": 19,
    "start_time": "2022-03-29T07:59:16.212Z"
   },
   {
    "duration": 18,
    "start_time": "2022-03-29T07:59:16.233Z"
   },
   {
    "duration": 7,
    "start_time": "2022-03-29T07:59:16.253Z"
   },
   {
    "duration": 7,
    "start_time": "2022-03-29T07:59:16.262Z"
   },
   {
    "duration": 43,
    "start_time": "2022-03-29T07:59:16.271Z"
   },
   {
    "duration": 6,
    "start_time": "2022-03-29T07:59:16.321Z"
   },
   {
    "duration": 22,
    "start_time": "2022-03-29T07:59:16.330Z"
   },
   {
    "duration": 49,
    "start_time": "2022-03-29T07:59:16.355Z"
   },
   {
    "duration": 13,
    "start_time": "2022-03-29T07:59:16.406Z"
   },
   {
    "duration": 18,
    "start_time": "2022-03-29T07:59:16.422Z"
   },
   {
    "duration": 20,
    "start_time": "2022-03-29T07:59:16.442Z"
   },
   {
    "duration": 45,
    "start_time": "2022-03-29T07:59:16.464Z"
   },
   {
    "duration": 22,
    "start_time": "2022-03-29T07:59:16.511Z"
   },
   {
    "duration": 12,
    "start_time": "2022-03-29T07:59:16.535Z"
   },
   {
    "duration": 1432,
    "start_time": "2022-03-29T07:59:16.550Z"
   },
   {
    "duration": 199,
    "start_time": "2022-03-29T07:59:17.985Z"
   },
   {
    "duration": 86,
    "start_time": "2022-03-29T07:59:18.187Z"
   },
   {
    "duration": 872,
    "start_time": "2022-03-29T07:59:18.276Z"
   },
   {
    "duration": 125,
    "start_time": "2022-03-29T07:59:19.154Z"
   },
   {
    "duration": 902,
    "start_time": "2022-03-29T07:59:19.282Z"
   },
   {
    "duration": 148,
    "start_time": "2022-03-29T07:59:20.187Z"
   },
   {
    "duration": 142,
    "start_time": "2022-03-29T07:59:20.339Z"
   },
   {
    "duration": 1342,
    "start_time": "2022-03-29T08:38:52.796Z"
   },
   {
    "duration": 23,
    "start_time": "2022-03-29T08:38:54.140Z"
   },
   {
    "duration": 34,
    "start_time": "2022-03-29T08:38:54.173Z"
   },
   {
    "duration": 26,
    "start_time": "2022-03-29T08:38:54.210Z"
   },
   {
    "duration": 69,
    "start_time": "2022-03-29T08:38:54.238Z"
   },
   {
    "duration": 920,
    "start_time": "2022-03-29T08:38:54.309Z"
   },
   {
    "duration": 7,
    "start_time": "2022-03-29T08:38:55.232Z"
   },
   {
    "duration": 205,
    "start_time": "2022-03-29T08:38:55.242Z"
   },
   {
    "duration": 32,
    "start_time": "2022-03-29T08:38:55.450Z"
   },
   {
    "duration": 17,
    "start_time": "2022-03-29T08:38:55.487Z"
   },
   {
    "duration": 21,
    "start_time": "2022-03-29T08:38:55.507Z"
   },
   {
    "duration": 7,
    "start_time": "2022-03-29T08:38:55.530Z"
   },
   {
    "duration": 8,
    "start_time": "2022-03-29T08:38:55.577Z"
   },
   {
    "duration": 20,
    "start_time": "2022-03-29T08:38:55.587Z"
   },
   {
    "duration": 9,
    "start_time": "2022-03-29T08:38:55.609Z"
   },
   {
    "duration": 70,
    "start_time": "2022-03-29T08:38:55.622Z"
   },
   {
    "duration": 31,
    "start_time": "2022-03-29T08:38:55.695Z"
   },
   {
    "duration": 12,
    "start_time": "2022-03-29T08:38:55.729Z"
   },
   {
    "duration": 23,
    "start_time": "2022-03-29T08:38:55.776Z"
   },
   {
    "duration": 24,
    "start_time": "2022-03-29T08:38:55.801Z"
   },
   {
    "duration": 48,
    "start_time": "2022-03-29T08:38:55.827Z"
   },
   {
    "duration": 19,
    "start_time": "2022-03-29T08:38:55.881Z"
   },
   {
    "duration": 11,
    "start_time": "2022-03-29T08:38:55.902Z"
   },
   {
    "duration": 1392,
    "start_time": "2022-03-29T08:38:55.915Z"
   },
   {
    "duration": 170,
    "start_time": "2022-03-29T08:38:57.310Z"
   },
   {
    "duration": 59,
    "start_time": "2022-03-29T08:38:57.484Z"
   },
   {
    "duration": 1285,
    "start_time": "2022-03-29T08:38:57.546Z"
   },
   {
    "duration": 124,
    "start_time": "2022-03-29T08:38:58.836Z"
   },
   {
    "duration": 1290,
    "start_time": "2022-03-29T08:38:58.963Z"
   },
   {
    "duration": 151,
    "start_time": "2022-03-29T08:39:00.255Z"
   },
   {
    "duration": 98,
    "start_time": "2022-03-29T08:39:00.408Z"
   },
   {
    "duration": 59,
    "start_time": "2022-03-29T08:40:00.867Z"
   },
   {
    "duration": 829,
    "start_time": "2022-03-29T08:40:06.619Z"
   },
   {
    "duration": 846,
    "start_time": "2022-03-29T08:40:10.203Z"
   },
   {
    "duration": 96,
    "start_time": "2022-03-29T08:40:26.371Z"
   },
   {
    "duration": 179,
    "start_time": "2022-03-29T08:43:57.347Z"
   },
   {
    "duration": 108,
    "start_time": "2022-03-29T08:44:07.041Z"
   },
   {
    "duration": 115,
    "start_time": "2022-03-29T08:44:13.506Z"
   },
   {
    "duration": 35,
    "start_time": "2022-03-29T08:44:19.722Z"
   },
   {
    "duration": 34,
    "start_time": "2022-03-29T08:44:38.938Z"
   },
   {
    "duration": 1631,
    "start_time": "2022-03-29T08:44:54.241Z"
   },
   {
    "duration": 75,
    "start_time": "2022-03-29T08:45:05.787Z"
   },
   {
    "duration": 63,
    "start_time": "2022-03-29T08:45:11.145Z"
   },
   {
    "duration": 70,
    "start_time": "2022-03-29T08:45:24.082Z"
   },
   {
    "duration": 91,
    "start_time": "2022-03-29T08:46:08.809Z"
   },
   {
    "duration": 84,
    "start_time": "2022-03-29T08:46:20.729Z"
   },
   {
    "duration": 7,
    "start_time": "2022-03-29T08:47:28.008Z"
   },
   {
    "duration": 26,
    "start_time": "2022-03-29T08:47:51.377Z"
   },
   {
    "duration": 595,
    "start_time": "2022-03-29T08:48:15.367Z"
   },
   {
    "duration": 7,
    "start_time": "2022-03-29T08:48:22.295Z"
   },
   {
    "duration": 591,
    "start_time": "2022-03-29T08:48:27.359Z"
   },
   {
    "duration": 14,
    "start_time": "2022-03-29T08:51:20.822Z"
   },
   {
    "duration": 25,
    "start_time": "2022-03-29T08:52:10.534Z"
   },
   {
    "duration": 160,
    "start_time": "2022-03-29T08:53:16.019Z"
   },
   {
    "duration": 121,
    "start_time": "2022-03-29T08:53:49.525Z"
   },
   {
    "duration": 60,
    "start_time": "2022-03-29T08:53:53.700Z"
   },
   {
    "duration": 548,
    "start_time": "2022-03-29T08:56:49.397Z"
   },
   {
    "duration": 509,
    "start_time": "2022-03-29T09:02:35.616Z"
   },
   {
    "duration": 39,
    "start_time": "2022-03-29T09:08:27.087Z"
   },
   {
    "duration": 37,
    "start_time": "2022-03-29T09:08:34.808Z"
   },
   {
    "duration": 97,
    "start_time": "2022-03-29T09:09:47.045Z"
   },
   {
    "duration": 120,
    "start_time": "2022-03-29T09:09:51.749Z"
   },
   {
    "duration": 42,
    "start_time": "2022-03-29T09:09:57.237Z"
   },
   {
    "duration": 45,
    "start_time": "2022-03-29T09:10:05.445Z"
   },
   {
    "duration": 44,
    "start_time": "2022-03-29T09:10:44.253Z"
   },
   {
    "duration": 31,
    "start_time": "2022-03-29T09:11:59.052Z"
   },
   {
    "duration": 36,
    "start_time": "2022-03-29T09:12:03.804Z"
   },
   {
    "duration": 36,
    "start_time": "2022-03-29T09:12:10.948Z"
   },
   {
    "duration": 49,
    "start_time": "2022-03-29T09:13:32.675Z"
   },
   {
    "duration": 53,
    "start_time": "2022-03-29T09:14:38.218Z"
   },
   {
    "duration": 36,
    "start_time": "2022-03-29T09:15:33.251Z"
   },
   {
    "duration": 146,
    "start_time": "2022-03-29T10:02:08.949Z"
   },
   {
    "duration": 43,
    "start_time": "2022-03-29T10:02:15.426Z"
   },
   {
    "duration": 1195,
    "start_time": "2022-03-29T10:02:32.365Z"
   },
   {
    "duration": 4,
    "start_time": "2022-03-29T10:02:33.562Z"
   },
   {
    "duration": 14,
    "start_time": "2022-03-29T10:02:33.568Z"
   },
   {
    "duration": 18,
    "start_time": "2022-03-29T10:02:33.583Z"
   },
   {
    "duration": 12,
    "start_time": "2022-03-29T10:02:33.603Z"
   },
   {
    "duration": 47,
    "start_time": "2022-03-29T10:02:33.617Z"
   },
   {
    "duration": 358,
    "start_time": "2022-03-29T10:02:33.665Z"
   },
   {
    "duration": 28,
    "start_time": "2022-03-29T10:02:34.025Z"
   },
   {
    "duration": 13,
    "start_time": "2022-03-29T10:02:34.055Z"
   },
   {
    "duration": 141,
    "start_time": "2022-03-29T10:02:34.071Z"
   },
   {
    "duration": 9,
    "start_time": "2022-03-29T10:02:34.213Z"
   },
   {
    "duration": 24,
    "start_time": "2022-03-29T10:02:34.224Z"
   },
   {
    "duration": 15,
    "start_time": "2022-03-29T10:02:34.249Z"
   },
   {
    "duration": 7,
    "start_time": "2022-03-29T10:02:34.265Z"
   },
   {
    "duration": 7,
    "start_time": "2022-03-29T10:02:34.273Z"
   },
   {
    "duration": 6,
    "start_time": "2022-03-29T10:02:34.281Z"
   },
   {
    "duration": 6,
    "start_time": "2022-03-29T10:02:34.288Z"
   },
   {
    "duration": 12,
    "start_time": "2022-03-29T10:02:34.295Z"
   },
   {
    "duration": 17,
    "start_time": "2022-03-29T10:02:34.309Z"
   },
   {
    "duration": 8,
    "start_time": "2022-03-29T10:02:34.327Z"
   },
   {
    "duration": 38,
    "start_time": "2022-03-29T10:02:34.336Z"
   },
   {
    "duration": 306,
    "start_time": "2022-03-29T10:02:34.376Z"
   },
   {
    "duration": 16,
    "start_time": "2022-03-29T10:02:34.683Z"
   },
   {
    "duration": 7,
    "start_time": "2022-03-29T10:02:34.701Z"
   },
   {
    "duration": 368,
    "start_time": "2022-03-29T10:02:34.710Z"
   },
   {
    "duration": 11,
    "start_time": "2022-03-29T10:02:35.079Z"
   },
   {
    "duration": 12,
    "start_time": "2022-03-29T10:02:35.092Z"
   },
   {
    "duration": 80,
    "start_time": "2022-03-29T10:02:35.107Z"
   },
   {
    "duration": 110,
    "start_time": "2022-03-29T10:02:35.189Z"
   },
   {
    "duration": 24,
    "start_time": "2022-03-29T10:02:35.301Z"
   },
   {
    "duration": 59,
    "start_time": "2022-03-29T10:02:35.327Z"
   },
   {
    "duration": 58,
    "start_time": "2022-03-29T10:02:35.388Z"
   },
   {
    "duration": 67,
    "start_time": "2022-03-29T10:02:35.447Z"
   },
   {
    "duration": 77,
    "start_time": "2022-03-29T10:02:35.515Z"
   },
   {
    "duration": 19,
    "start_time": "2022-03-29T10:02:35.595Z"
   },
   {
    "duration": 2,
    "start_time": "2022-03-29T10:02:35.618Z"
   },
   {
    "duration": 14,
    "start_time": "2022-03-29T10:03:41.780Z"
   },
   {
    "duration": 33,
    "start_time": "2022-03-29T10:03:46.769Z"
   },
   {
    "duration": 74,
    "start_time": "2022-03-29T10:04:25.962Z"
   },
   {
    "duration": 49,
    "start_time": "2022-03-29T10:05:29.418Z"
   },
   {
    "duration": 57,
    "start_time": "2022-03-29T10:06:44.256Z"
   },
   {
    "duration": 17,
    "start_time": "2022-03-29T10:08:53.220Z"
   },
   {
    "duration": 19,
    "start_time": "2022-03-29T10:08:58.607Z"
   },
   {
    "duration": 38,
    "start_time": "2022-03-29T10:09:04.272Z"
   },
   {
    "duration": 2737,
    "start_time": "2022-03-29T10:11:19.606Z"
   },
   {
    "duration": 9,
    "start_time": "2022-03-29T10:11:36.213Z"
   },
   {
    "duration": 9,
    "start_time": "2022-03-29T10:11:55.062Z"
   },
   {
    "duration": 4,
    "start_time": "2022-03-29T10:13:30.132Z"
   },
   {
    "duration": 17,
    "start_time": "2022-03-29T10:14:34.595Z"
   },
   {
    "duration": 19,
    "start_time": "2022-03-29T10:14:42.700Z"
   },
   {
    "duration": 18,
    "start_time": "2022-03-29T10:15:12.171Z"
   },
   {
    "duration": 84,
    "start_time": "2022-03-29T10:15:14.715Z"
   },
   {
    "duration": 25,
    "start_time": "2022-03-29T10:32:36.393Z"
   },
   {
    "duration": 413,
    "start_time": "2022-03-29T10:32:50.416Z"
   },
   {
    "duration": 87,
    "start_time": "2022-03-29T10:33:03.449Z"
   },
   {
    "duration": 425,
    "start_time": "2022-03-29T10:33:17.951Z"
   },
   {
    "duration": 57,
    "start_time": "2022-03-29T10:33:22.864Z"
   },
   {
    "duration": 440,
    "start_time": "2022-03-29T10:34:00.464Z"
   },
   {
    "duration": 61,
    "start_time": "2022-03-29T10:34:14.632Z"
   },
   {
    "duration": 30,
    "start_time": "2022-03-29T10:35:21.375Z"
   },
   {
    "duration": 27,
    "start_time": "2022-03-29T10:35:29.791Z"
   },
   {
    "duration": 16,
    "start_time": "2022-03-29T10:35:52.199Z"
   },
   {
    "duration": 428,
    "start_time": "2022-03-29T10:36:09.531Z"
   },
   {
    "duration": 5,
    "start_time": "2022-03-29T10:36:09.961Z"
   },
   {
    "duration": 15,
    "start_time": "2022-03-29T10:36:09.967Z"
   },
   {
    "duration": 20,
    "start_time": "2022-03-29T10:36:09.984Z"
   },
   {
    "duration": 17,
    "start_time": "2022-03-29T10:36:10.006Z"
   },
   {
    "duration": 48,
    "start_time": "2022-03-29T10:36:10.025Z"
   },
   {
    "duration": 351,
    "start_time": "2022-03-29T10:36:10.075Z"
   },
   {
    "duration": 35,
    "start_time": "2022-03-29T10:36:10.428Z"
   },
   {
    "duration": 12,
    "start_time": "2022-03-29T10:36:10.465Z"
   },
   {
    "duration": 106,
    "start_time": "2022-03-29T10:36:10.480Z"
   },
   {
    "duration": 9,
    "start_time": "2022-03-29T10:36:10.588Z"
   },
   {
    "duration": 20,
    "start_time": "2022-03-29T10:36:10.598Z"
   },
   {
    "duration": 20,
    "start_time": "2022-03-29T10:36:10.620Z"
   },
   {
    "duration": 24,
    "start_time": "2022-03-29T10:36:10.642Z"
   },
   {
    "duration": 15,
    "start_time": "2022-03-29T10:36:10.668Z"
   },
   {
    "duration": 8,
    "start_time": "2022-03-29T10:36:10.685Z"
   },
   {
    "duration": 21,
    "start_time": "2022-03-29T10:36:10.695Z"
   },
   {
    "duration": 16,
    "start_time": "2022-03-29T10:36:10.717Z"
   },
   {
    "duration": 17,
    "start_time": "2022-03-29T10:36:10.735Z"
   },
   {
    "duration": 18,
    "start_time": "2022-03-29T10:36:10.753Z"
   },
   {
    "duration": 15,
    "start_time": "2022-03-29T10:36:10.773Z"
   },
   {
    "duration": 474,
    "start_time": "2022-03-29T10:36:10.789Z"
   },
   {
    "duration": 23,
    "start_time": "2022-03-29T10:36:11.265Z"
   },
   {
    "duration": 10,
    "start_time": "2022-03-29T10:36:11.289Z"
   },
   {
    "duration": 457,
    "start_time": "2022-03-29T10:36:11.301Z"
   },
   {
    "duration": 14,
    "start_time": "2022-03-29T10:36:11.763Z"
   },
   {
    "duration": 14,
    "start_time": "2022-03-29T10:36:11.780Z"
   },
   {
    "duration": 108,
    "start_time": "2022-03-29T10:36:11.798Z"
   },
   {
    "duration": 107,
    "start_time": "2022-03-29T10:36:11.908Z"
   },
   {
    "duration": 47,
    "start_time": "2022-03-29T10:36:12.017Z"
   },
   {
    "duration": 67,
    "start_time": "2022-03-29T10:36:12.066Z"
   },
   {
    "duration": 92,
    "start_time": "2022-03-29T10:36:12.135Z"
   },
   {
    "duration": 91,
    "start_time": "2022-03-29T10:36:12.229Z"
   },
   {
    "duration": 86,
    "start_time": "2022-03-29T10:36:12.322Z"
   },
   {
    "duration": 66,
    "start_time": "2022-03-29T10:36:12.410Z"
   },
   {
    "duration": 25,
    "start_time": "2022-03-29T10:36:12.478Z"
   },
   {
    "duration": 5,
    "start_time": "2022-03-29T10:36:12.505Z"
   },
   {
    "duration": 6,
    "start_time": "2022-03-29T10:37:24.502Z"
   },
   {
    "duration": 18,
    "start_time": "2022-03-29T10:40:16.724Z"
   },
   {
    "duration": 4,
    "start_time": "2022-03-29T10:41:46.604Z"
   },
   {
    "duration": 111,
    "start_time": "2022-03-29T10:41:49.051Z"
   },
   {
    "duration": 1322,
    "start_time": "2022-03-31T09:13:18.742Z"
   },
   {
    "duration": 5,
    "start_time": "2022-03-31T09:13:20.066Z"
   },
   {
    "duration": 18,
    "start_time": "2022-03-31T09:13:20.073Z"
   },
   {
    "duration": 20,
    "start_time": "2022-03-31T09:13:20.094Z"
   },
   {
    "duration": 37,
    "start_time": "2022-03-31T09:13:20.116Z"
   },
   {
    "duration": 26,
    "start_time": "2022-03-31T09:13:20.155Z"
   },
   {
    "duration": 409,
    "start_time": "2022-03-31T09:13:20.183Z"
   },
   {
    "duration": 28,
    "start_time": "2022-03-31T09:13:20.593Z"
   },
   {
    "duration": 24,
    "start_time": "2022-03-31T09:13:20.623Z"
   },
   {
    "duration": 127,
    "start_time": "2022-03-31T09:13:20.649Z"
   },
   {
    "duration": 9,
    "start_time": "2022-03-31T09:13:20.778Z"
   },
   {
    "duration": 16,
    "start_time": "2022-03-31T09:13:20.788Z"
   },
   {
    "duration": 37,
    "start_time": "2022-03-31T09:13:20.806Z"
   },
   {
    "duration": 5,
    "start_time": "2022-03-31T09:13:20.844Z"
   },
   {
    "duration": 19,
    "start_time": "2022-03-31T09:13:20.851Z"
   },
   {
    "duration": 14,
    "start_time": "2022-03-31T09:13:20.872Z"
   },
   {
    "duration": 19,
    "start_time": "2022-03-31T09:13:20.887Z"
   },
   {
    "duration": 36,
    "start_time": "2022-03-31T09:13:20.907Z"
   },
   {
    "duration": 20,
    "start_time": "2022-03-31T09:13:20.945Z"
   },
   {
    "duration": 19,
    "start_time": "2022-03-31T09:13:20.966Z"
   },
   {
    "duration": 28,
    "start_time": "2022-03-31T09:13:20.986Z"
   },
   {
    "duration": 344,
    "start_time": "2022-03-31T09:13:21.015Z"
   },
   {
    "duration": 14,
    "start_time": "2022-03-31T09:13:21.361Z"
   },
   {
    "duration": 11,
    "start_time": "2022-03-31T09:13:21.377Z"
   },
   {
    "duration": 369,
    "start_time": "2022-03-31T09:13:21.389Z"
   },
   {
    "duration": 10,
    "start_time": "2022-03-31T09:13:21.760Z"
   },
   {
    "duration": 10,
    "start_time": "2022-03-31T09:13:21.772Z"
   },
   {
    "duration": 79,
    "start_time": "2022-03-31T09:13:21.786Z"
   },
   {
    "duration": 163,
    "start_time": "2022-03-31T09:13:21.866Z"
   },
   {
    "duration": 29,
    "start_time": "2022-03-31T09:13:22.032Z"
   },
   {
    "duration": 44,
    "start_time": "2022-03-31T09:13:22.062Z"
   },
   {
    "duration": 76,
    "start_time": "2022-03-31T09:13:22.107Z"
   },
   {
    "duration": 59,
    "start_time": "2022-03-31T09:13:22.185Z"
   },
   {
    "duration": 58,
    "start_time": "2022-03-31T09:13:22.246Z"
   },
   {
    "duration": 51,
    "start_time": "2022-03-31T09:13:22.306Z"
   },
   {
    "duration": 15,
    "start_time": "2022-03-31T09:13:22.358Z"
   },
   {
    "duration": 6,
    "start_time": "2022-03-31T09:13:22.374Z"
   },
   {
    "duration": 124,
    "start_time": "2022-03-31T09:13:22.382Z"
   },
   {
    "duration": 3,
    "start_time": "2022-03-31T09:20:56.503Z"
   },
   {
    "duration": 6,
    "start_time": "2022-03-31T09:33:11.125Z"
   },
   {
    "duration": 24,
    "start_time": "2022-03-31T09:33:18.746Z"
   },
   {
    "duration": 5,
    "start_time": "2022-03-31T09:33:35.292Z"
   },
   {
    "duration": 98,
    "start_time": "2022-03-31T09:35:01.099Z"
   },
   {
    "duration": 40,
    "start_time": "2022-03-31T09:36:33.386Z"
   },
   {
    "duration": 17,
    "start_time": "2022-03-31T09:37:13.537Z"
   },
   {
    "duration": 4,
    "start_time": "2022-03-31T09:37:15.874Z"
   },
   {
    "duration": 139,
    "start_time": "2022-03-31T09:37:18.210Z"
   },
   {
    "duration": 70,
    "start_time": "2022-03-31T09:37:40.523Z"
   },
   {
    "duration": 23,
    "start_time": "2022-03-31T09:38:04.560Z"
   },
   {
    "duration": 25,
    "start_time": "2022-03-31T09:39:13.906Z"
   },
   {
    "duration": 19,
    "start_time": "2022-03-31T09:40:08.162Z"
   },
   {
    "duration": 18,
    "start_time": "2022-03-31T09:40:20.801Z"
   },
   {
    "duration": 20,
    "start_time": "2022-03-31T09:40:28.464Z"
   },
   {
    "duration": 20,
    "start_time": "2022-03-31T09:40:33.984Z"
   },
   {
    "duration": 19,
    "start_time": "2022-03-31T09:40:49.521Z"
   },
   {
    "duration": 15,
    "start_time": "2022-03-31T09:41:13.624Z"
   },
   {
    "duration": 132,
    "start_time": "2022-03-31T09:41:42.265Z"
   },
   {
    "duration": 54,
    "start_time": "2022-03-31T15:55:08.866Z"
   },
   {
    "duration": 1489,
    "start_time": "2022-03-31T15:55:12.686Z"
   },
   {
    "duration": 5,
    "start_time": "2022-03-31T15:55:14.177Z"
   },
   {
    "duration": 23,
    "start_time": "2022-03-31T15:55:14.185Z"
   },
   {
    "duration": 33,
    "start_time": "2022-03-31T15:55:14.211Z"
   },
   {
    "duration": 25,
    "start_time": "2022-03-31T15:55:14.246Z"
   },
   {
    "duration": 66,
    "start_time": "2022-03-31T15:55:14.273Z"
   },
   {
    "duration": 617,
    "start_time": "2022-03-31T15:55:14.342Z"
   },
   {
    "duration": 53,
    "start_time": "2022-03-31T15:55:14.961Z"
   },
   {
    "duration": 8,
    "start_time": "2022-03-31T15:55:15.016Z"
   },
   {
    "duration": 209,
    "start_time": "2022-03-31T15:55:15.029Z"
   },
   {
    "duration": 11,
    "start_time": "2022-03-31T15:55:15.240Z"
   },
   {
    "duration": 24,
    "start_time": "2022-03-31T15:55:15.253Z"
   },
   {
    "duration": 34,
    "start_time": "2022-03-31T15:55:15.279Z"
   },
   {
    "duration": 10,
    "start_time": "2022-03-31T15:55:15.315Z"
   },
   {
    "duration": 10,
    "start_time": "2022-03-31T15:55:15.327Z"
   },
   {
    "duration": 11,
    "start_time": "2022-03-31T15:55:15.339Z"
   },
   {
    "duration": 11,
    "start_time": "2022-03-31T15:55:15.352Z"
   },
   {
    "duration": 46,
    "start_time": "2022-03-31T15:55:15.366Z"
   },
   {
    "duration": 35,
    "start_time": "2022-03-31T15:55:15.415Z"
   },
   {
    "duration": 14,
    "start_time": "2022-03-31T15:55:15.452Z"
   },
   {
    "duration": 44,
    "start_time": "2022-03-31T15:55:15.468Z"
   },
   {
    "duration": 505,
    "start_time": "2022-03-31T15:55:15.515Z"
   },
   {
    "duration": 26,
    "start_time": "2022-03-31T15:55:16.023Z"
   },
   {
    "duration": 12,
    "start_time": "2022-03-31T15:55:16.051Z"
   },
   {
    "duration": 367,
    "start_time": "2022-03-31T15:55:16.065Z"
   },
   {
    "duration": 11,
    "start_time": "2022-03-31T15:55:16.434Z"
   },
   {
    "duration": 15,
    "start_time": "2022-03-31T15:55:16.448Z"
   },
   {
    "duration": 86,
    "start_time": "2022-03-31T15:55:16.468Z"
   },
   {
    "duration": 109,
    "start_time": "2022-03-31T15:55:16.556Z"
   },
   {
    "duration": 37,
    "start_time": "2022-03-31T15:55:16.667Z"
   },
   {
    "duration": 73,
    "start_time": "2022-03-31T15:55:16.706Z"
   },
   {
    "duration": 62,
    "start_time": "2022-03-31T15:55:16.800Z"
   },
   {
    "duration": 78,
    "start_time": "2022-03-31T15:55:16.864Z"
   },
   {
    "duration": 78,
    "start_time": "2022-03-31T15:55:16.944Z"
   },
   {
    "duration": 47,
    "start_time": "2022-03-31T15:55:17.024Z"
   },
   {
    "duration": 41,
    "start_time": "2022-03-31T15:55:17.073Z"
   },
   {
    "duration": 6,
    "start_time": "2022-03-31T15:55:17.117Z"
   },
   {
    "duration": 141,
    "start_time": "2022-03-31T15:55:17.125Z"
   },
   {
    "duration": 247,
    "start_time": "2022-03-31T15:55:17.268Z"
   },
   {
    "duration": 2541,
    "start_time": "2022-03-31T15:56:08.260Z"
   },
   {
    "duration": 323,
    "start_time": "2022-03-31T15:56:29.298Z"
   },
   {
    "duration": 11,
    "start_time": "2022-03-31T15:59:12.787Z"
   },
   {
    "duration": 5,
    "start_time": "2022-03-31T16:00:09.800Z"
   },
   {
    "duration": 2543,
    "start_time": "2022-03-31T16:02:19.139Z"
   },
   {
    "duration": 449,
    "start_time": "2022-03-31T16:02:32.915Z"
   },
   {
    "duration": 6,
    "start_time": "2022-03-31T16:03:18.027Z"
   },
   {
    "duration": 359,
    "start_time": "2022-03-31T16:04:21.382Z"
   },
   {
    "duration": 5,
    "start_time": "2022-03-31T16:04:47.153Z"
   },
   {
    "duration": 14,
    "start_time": "2022-03-31T17:08:08.615Z"
   },
   {
    "duration": 12,
    "start_time": "2022-03-31T17:10:07.923Z"
   },
   {
    "duration": 12,
    "start_time": "2022-03-31T17:11:39.776Z"
   },
   {
    "duration": 1629,
    "start_time": "2022-04-01T07:55:24.383Z"
   },
   {
    "duration": 7,
    "start_time": "2022-04-01T07:55:26.015Z"
   },
   {
    "duration": 26,
    "start_time": "2022-04-01T07:55:26.023Z"
   },
   {
    "duration": 35,
    "start_time": "2022-04-01T07:55:26.052Z"
   },
   {
    "duration": 18,
    "start_time": "2022-04-01T07:55:26.089Z"
   },
   {
    "duration": 37,
    "start_time": "2022-04-01T07:55:26.110Z"
   },
   {
    "duration": 582,
    "start_time": "2022-04-01T07:55:26.174Z"
   },
   {
    "duration": 51,
    "start_time": "2022-04-01T07:55:26.759Z"
   },
   {
    "duration": 7,
    "start_time": "2022-04-01T07:55:26.812Z"
   },
   {
    "duration": 205,
    "start_time": "2022-04-01T07:55:26.823Z"
   },
   {
    "duration": 15,
    "start_time": "2022-04-01T07:55:27.030Z"
   },
   {
    "duration": 36,
    "start_time": "2022-04-01T07:55:27.047Z"
   },
   {
    "duration": 19,
    "start_time": "2022-04-01T07:55:27.085Z"
   },
   {
    "duration": 8,
    "start_time": "2022-04-01T07:55:27.107Z"
   },
   {
    "duration": 9,
    "start_time": "2022-04-01T07:55:27.118Z"
   },
   {
    "duration": 49,
    "start_time": "2022-04-01T07:55:27.129Z"
   },
   {
    "duration": 12,
    "start_time": "2022-04-01T07:55:27.180Z"
   },
   {
    "duration": 28,
    "start_time": "2022-04-01T07:55:27.194Z"
   },
   {
    "duration": 42,
    "start_time": "2022-04-01T07:55:27.224Z"
   },
   {
    "duration": 15,
    "start_time": "2022-04-01T07:55:27.268Z"
   },
   {
    "duration": 24,
    "start_time": "2022-04-01T07:55:27.286Z"
   },
   {
    "duration": 503,
    "start_time": "2022-04-01T07:55:27.312Z"
   },
   {
    "duration": 20,
    "start_time": "2022-04-01T07:55:27.818Z"
   },
   {
    "duration": 34,
    "start_time": "2022-04-01T07:55:27.841Z"
   },
   {
    "duration": 482,
    "start_time": "2022-04-01T07:55:27.877Z"
   },
   {
    "duration": 24,
    "start_time": "2022-04-01T07:55:28.361Z"
   },
   {
    "duration": 21,
    "start_time": "2022-04-01T07:55:28.387Z"
   },
   {
    "duration": 108,
    "start_time": "2022-04-01T07:55:28.413Z"
   },
   {
    "duration": 142,
    "start_time": "2022-04-01T07:55:28.523Z"
   },
   {
    "duration": 36,
    "start_time": "2022-04-01T07:55:28.667Z"
   },
   {
    "duration": 91,
    "start_time": "2022-04-01T07:55:28.705Z"
   },
   {
    "duration": 85,
    "start_time": "2022-04-01T07:55:28.798Z"
   },
   {
    "duration": 95,
    "start_time": "2022-04-01T07:55:28.886Z"
   },
   {
    "duration": 100,
    "start_time": "2022-04-01T07:55:28.983Z"
   },
   {
    "duration": 66,
    "start_time": "2022-04-01T07:55:29.085Z"
   },
   {
    "duration": 42,
    "start_time": "2022-04-01T07:55:29.153Z"
   },
   {
    "duration": 6,
    "start_time": "2022-04-01T07:55:29.197Z"
   },
   {
    "duration": 234,
    "start_time": "2022-04-01T07:55:29.205Z"
   },
   {
    "duration": 534,
    "start_time": "2022-04-01T07:55:29.442Z"
   },
   {
    "duration": 6,
    "start_time": "2022-04-01T07:55:29.978Z"
   },
   {
    "duration": 493,
    "start_time": "2022-04-01T07:55:29.986Z"
   },
   {
    "duration": 15,
    "start_time": "2022-04-01T07:55:30.481Z"
   },
   {
    "duration": 470,
    "start_time": "2022-04-01T07:55:30.498Z"
   },
   {
    "duration": 15,
    "start_time": "2022-04-01T07:55:30.973Z"
   },
   {
    "duration": 461,
    "start_time": "2022-04-01T08:03:05.497Z"
   },
   {
    "duration": 479,
    "start_time": "2022-04-01T08:03:23.902Z"
   },
   {
    "duration": 7,
    "start_time": "2022-04-01T08:11:39.370Z"
   },
   {
    "duration": 474,
    "start_time": "2022-04-01T08:13:16.772Z"
   },
   {
    "duration": 6,
    "start_time": "2022-04-01T08:16:18.802Z"
   },
   {
    "duration": 581,
    "start_time": "2022-04-01T08:30:57.400Z"
   },
   {
    "duration": 6,
    "start_time": "2022-04-01T08:31:29.634Z"
   },
   {
    "duration": 3,
    "start_time": "2022-04-01T08:36:27.085Z"
   },
   {
    "duration": 9,
    "start_time": "2022-04-01T08:45:12.393Z"
   },
   {
    "duration": 114,
    "start_time": "2022-04-01T08:46:15.825Z"
   },
   {
    "duration": 1122,
    "start_time": "2022-04-01T08:46:57.772Z"
   },
   {
    "duration": 12,
    "start_time": "2022-04-01T08:47:10.675Z"
   },
   {
    "duration": 12,
    "start_time": "2022-04-01T08:48:59.276Z"
   },
   {
    "duration": 8,
    "start_time": "2022-04-01T08:53:43.471Z"
   },
   {
    "duration": 11,
    "start_time": "2022-04-01T08:55:23.446Z"
   },
   {
    "duration": 11,
    "start_time": "2022-04-01T08:55:33.247Z"
   },
   {
    "duration": 151,
    "start_time": "2022-04-01T08:56:30.374Z"
   },
   {
    "duration": 13,
    "start_time": "2022-04-01T08:56:45.623Z"
   },
   {
    "duration": 12,
    "start_time": "2022-04-01T10:29:53.825Z"
   },
   {
    "duration": 13,
    "start_time": "2022-04-01T10:30:36.407Z"
   },
   {
    "duration": 12,
    "start_time": "2022-04-01T10:30:44.882Z"
   },
   {
    "duration": 232,
    "start_time": "2022-04-01T10:31:40.699Z"
   },
   {
    "duration": 131,
    "start_time": "2022-04-01T10:31:47.209Z"
   },
   {
    "duration": 13,
    "start_time": "2022-04-01T10:31:57.017Z"
   },
   {
    "duration": 11,
    "start_time": "2022-04-01T10:32:13.097Z"
   },
   {
    "duration": 88,
    "start_time": "2022-04-01T10:32:23.961Z"
   },
   {
    "duration": 12,
    "start_time": "2022-04-01T10:32:33.185Z"
   },
   {
    "duration": 12,
    "start_time": "2022-04-01T10:32:37.569Z"
   },
   {
    "duration": 11,
    "start_time": "2022-04-01T10:34:07.050Z"
   },
   {
    "duration": 11,
    "start_time": "2022-04-01T10:34:10.985Z"
   },
   {
    "duration": 16,
    "start_time": "2022-04-01T10:36:56.092Z"
   },
   {
    "duration": 232,
    "start_time": "2022-04-01T10:37:06.869Z"
   },
   {
    "duration": 246,
    "start_time": "2022-04-01T10:38:40.319Z"
   },
   {
    "duration": 250,
    "start_time": "2022-04-01T10:38:44.031Z"
   },
   {
    "duration": 49,
    "start_time": "2022-04-01T10:39:41.757Z"
   },
   {
    "duration": 527,
    "start_time": "2022-04-01T10:39:54.942Z"
   },
   {
    "duration": 168,
    "start_time": "2022-04-01T10:40:11.245Z"
   },
   {
    "duration": 5,
    "start_time": "2022-04-01T10:50:29.032Z"
   },
   {
    "duration": 2167,
    "start_time": "2022-04-01T10:51:25.424Z"
   },
   {
    "duration": 48,
    "start_time": "2022-04-01T10:52:46.737Z"
   },
   {
    "duration": 600,
    "start_time": "2022-04-01T10:52:56.653Z"
   },
   {
    "duration": 6,
    "start_time": "2022-04-01T10:52:57.256Z"
   },
   {
    "duration": 16,
    "start_time": "2022-04-01T10:52:57.264Z"
   },
   {
    "duration": 27,
    "start_time": "2022-04-01T10:52:57.283Z"
   },
   {
    "duration": 19,
    "start_time": "2022-04-01T10:52:57.313Z"
   },
   {
    "duration": 61,
    "start_time": "2022-04-01T10:52:57.334Z"
   },
   {
    "duration": 508,
    "start_time": "2022-04-01T10:52:57.397Z"
   },
   {
    "duration": 47,
    "start_time": "2022-04-01T10:52:57.907Z"
   },
   {
    "duration": 21,
    "start_time": "2022-04-01T10:52:57.956Z"
   },
   {
    "duration": 168,
    "start_time": "2022-04-01T10:52:57.981Z"
   },
   {
    "duration": 22,
    "start_time": "2022-04-01T10:52:58.151Z"
   },
   {
    "duration": 15,
    "start_time": "2022-04-01T10:52:58.176Z"
   },
   {
    "duration": 20,
    "start_time": "2022-04-01T10:52:58.193Z"
   },
   {
    "duration": 7,
    "start_time": "2022-04-01T10:52:58.216Z"
   },
   {
    "duration": 10,
    "start_time": "2022-04-01T10:52:58.225Z"
   },
   {
    "duration": 9,
    "start_time": "2022-04-01T10:52:58.273Z"
   },
   {
    "duration": 9,
    "start_time": "2022-04-01T10:52:58.285Z"
   },
   {
    "duration": 21,
    "start_time": "2022-04-01T10:52:58.296Z"
   },
   {
    "duration": 62,
    "start_time": "2022-04-01T10:52:58.319Z"
   },
   {
    "duration": 13,
    "start_time": "2022-04-01T10:52:58.383Z"
   },
   {
    "duration": 31,
    "start_time": "2022-04-01T10:52:58.398Z"
   },
   {
    "duration": 490,
    "start_time": "2022-04-01T10:52:58.432Z"
   },
   {
    "duration": 21,
    "start_time": "2022-04-01T10:52:58.925Z"
   },
   {
    "duration": 32,
    "start_time": "2022-04-01T10:52:58.948Z"
   },
   {
    "duration": 475,
    "start_time": "2022-04-01T10:52:58.982Z"
   },
   {
    "duration": 19,
    "start_time": "2022-04-01T10:52:59.459Z"
   },
   {
    "duration": 34,
    "start_time": "2022-04-01T10:52:59.480Z"
   },
   {
    "duration": 108,
    "start_time": "2022-04-01T10:52:59.519Z"
   },
   {
    "duration": 129,
    "start_time": "2022-04-01T10:52:59.629Z"
   },
   {
    "duration": 133,
    "start_time": "2022-04-01T10:52:59.761Z"
   },
   {
    "duration": 85,
    "start_time": "2022-04-01T10:52:59.896Z"
   },
   {
    "duration": 92,
    "start_time": "2022-04-01T10:52:59.983Z"
   },
   {
    "duration": 98,
    "start_time": "2022-04-01T10:53:00.077Z"
   },
   {
    "duration": 99,
    "start_time": "2022-04-01T10:53:00.177Z"
   },
   {
    "duration": 69,
    "start_time": "2022-04-01T10:53:00.279Z"
   },
   {
    "duration": 41,
    "start_time": "2022-04-01T10:53:00.350Z"
   },
   {
    "duration": 7,
    "start_time": "2022-04-01T10:53:00.393Z"
   },
   {
    "duration": 232,
    "start_time": "2022-04-01T10:53:00.401Z"
   },
   {
    "duration": 464,
    "start_time": "2022-04-01T10:53:00.635Z"
   },
   {
    "duration": 7,
    "start_time": "2022-04-01T10:53:01.101Z"
   },
   {
    "duration": 505,
    "start_time": "2022-04-01T10:53:01.110Z"
   },
   {
    "duration": 15,
    "start_time": "2022-04-01T10:53:01.618Z"
   },
   {
    "duration": 480,
    "start_time": "2022-04-01T10:53:01.636Z"
   },
   {
    "duration": 14,
    "start_time": "2022-04-01T10:53:02.119Z"
   },
   {
    "duration": 487,
    "start_time": "2022-04-01T10:53:02.135Z"
   },
   {
    "duration": 7,
    "start_time": "2022-04-01T10:53:02.624Z"
   },
   {
    "duration": 488,
    "start_time": "2022-04-01T10:53:02.633Z"
   },
   {
    "duration": 6,
    "start_time": "2022-04-01T10:53:03.124Z"
   },
   {
    "duration": 480,
    "start_time": "2022-04-01T10:53:03.132Z"
   },
   {
    "duration": 6,
    "start_time": "2022-04-01T10:53:03.615Z"
   },
   {
    "duration": 2252,
    "start_time": "2022-04-01T10:53:03.623Z"
   },
   {
    "duration": 0,
    "start_time": "2022-04-01T10:53:05.877Z"
   },
   {
    "duration": 0,
    "start_time": "2022-04-01T10:53:05.879Z"
   },
   {
    "duration": 0,
    "start_time": "2022-04-01T10:53:05.880Z"
   },
   {
    "duration": 332,
    "start_time": "2022-04-01T10:53:52.271Z"
   },
   {
    "duration": 378,
    "start_time": "2022-04-01T10:54:45.526Z"
   },
   {
    "duration": 386,
    "start_time": "2022-04-01T10:57:07.869Z"
   },
   {
    "duration": 458,
    "start_time": "2022-04-01T10:58:22.892Z"
   },
   {
    "duration": 348,
    "start_time": "2022-04-01T10:59:25.180Z"
   },
   {
    "duration": 15,
    "start_time": "2022-04-01T11:00:05.084Z"
   },
   {
    "duration": 13,
    "start_time": "2022-04-01T11:00:08.740Z"
   },
   {
    "duration": 7,
    "start_time": "2022-04-01T11:00:11.675Z"
   },
   {
    "duration": 678,
    "start_time": "2022-04-01T11:04:00.251Z"
   },
   {
    "duration": 334,
    "start_time": "2022-04-01T11:04:16.066Z"
   },
   {
    "duration": 328,
    "start_time": "2022-04-01T11:05:25.289Z"
   },
   {
    "duration": 346,
    "start_time": "2022-04-01T11:05:50.929Z"
   },
   {
    "duration": 444,
    "start_time": "2022-04-01T11:05:54.089Z"
   },
   {
    "duration": 342,
    "start_time": "2022-04-01T11:06:02.601Z"
   },
   {
    "duration": 311,
    "start_time": "2022-04-01T11:06:10.392Z"
   },
   {
    "duration": 308,
    "start_time": "2022-04-01T11:07:16.831Z"
   },
   {
    "duration": 1880,
    "start_time": "2022-04-06T11:57:57.680Z"
   },
   {
    "duration": 8,
    "start_time": "2022-04-06T11:57:59.563Z"
   },
   {
    "duration": 20,
    "start_time": "2022-04-06T11:57:59.574Z"
   },
   {
    "duration": 29,
    "start_time": "2022-04-06T11:57:59.597Z"
   },
   {
    "duration": 53,
    "start_time": "2022-04-06T11:57:59.628Z"
   },
   {
    "duration": 37,
    "start_time": "2022-04-06T11:57:59.684Z"
   },
   {
    "duration": 527,
    "start_time": "2022-04-06T11:57:59.724Z"
   },
   {
    "duration": 54,
    "start_time": "2022-04-06T11:58:00.254Z"
   },
   {
    "duration": 8,
    "start_time": "2022-04-06T11:58:00.310Z"
   },
   {
    "duration": 210,
    "start_time": "2022-04-06T11:58:00.324Z"
   },
   {
    "duration": 16,
    "start_time": "2022-04-06T11:58:00.536Z"
   },
   {
    "duration": 33,
    "start_time": "2022-04-06T11:58:00.554Z"
   },
   {
    "duration": 30,
    "start_time": "2022-04-06T11:58:00.589Z"
   },
   {
    "duration": 8,
    "start_time": "2022-04-06T11:58:00.621Z"
   },
   {
    "duration": 20,
    "start_time": "2022-04-06T11:58:00.631Z"
   },
   {
    "duration": 37,
    "start_time": "2022-04-06T11:58:00.653Z"
   },
   {
    "duration": 23,
    "start_time": "2022-04-06T11:58:00.692Z"
   },
   {
    "duration": 28,
    "start_time": "2022-04-06T11:58:00.717Z"
   },
   {
    "duration": 27,
    "start_time": "2022-04-06T11:58:00.747Z"
   },
   {
    "duration": 12,
    "start_time": "2022-04-06T11:58:00.776Z"
   },
   {
    "duration": 24,
    "start_time": "2022-04-06T11:58:00.792Z"
   },
   {
    "duration": 506,
    "start_time": "2022-04-06T11:58:00.818Z"
   },
   {
    "duration": 21,
    "start_time": "2022-04-06T11:58:01.326Z"
   },
   {
    "duration": 31,
    "start_time": "2022-04-06T11:58:01.349Z"
   },
   {
    "duration": 686,
    "start_time": "2022-04-06T11:58:01.383Z"
   },
   {
    "duration": 16,
    "start_time": "2022-04-06T11:58:02.073Z"
   },
   {
    "duration": 36,
    "start_time": "2022-04-06T11:58:02.091Z"
   },
   {
    "duration": 110,
    "start_time": "2022-04-06T11:58:02.132Z"
   },
   {
    "duration": 136,
    "start_time": "2022-04-06T11:58:02.244Z"
   },
   {
    "duration": 38,
    "start_time": "2022-04-06T11:58:02.383Z"
   },
   {
    "duration": 93,
    "start_time": "2022-04-06T11:58:02.423Z"
   },
   {
    "duration": 92,
    "start_time": "2022-04-06T11:58:02.518Z"
   },
   {
    "duration": 97,
    "start_time": "2022-04-06T11:58:02.613Z"
   },
   {
    "duration": 98,
    "start_time": "2022-04-06T11:58:02.713Z"
   },
   {
    "duration": 76,
    "start_time": "2022-04-06T11:58:02.814Z"
   },
   {
    "duration": 25,
    "start_time": "2022-04-06T11:58:02.892Z"
   },
   {
    "duration": 6,
    "start_time": "2022-04-06T11:58:02.919Z"
   },
   {
    "duration": 221,
    "start_time": "2022-04-06T11:58:02.926Z"
   },
   {
    "duration": 451,
    "start_time": "2022-04-06T11:58:03.149Z"
   },
   {
    "duration": 7,
    "start_time": "2022-04-06T11:58:03.603Z"
   },
   {
    "duration": 496,
    "start_time": "2022-04-06T11:58:03.614Z"
   },
   {
    "duration": 15,
    "start_time": "2022-04-06T11:58:04.113Z"
   },
   {
    "duration": 443,
    "start_time": "2022-04-06T11:58:04.131Z"
   },
   {
    "duration": 15,
    "start_time": "2022-04-06T11:58:04.576Z"
   },
   {
    "duration": 483,
    "start_time": "2022-04-06T11:58:04.593Z"
   },
   {
    "duration": 6,
    "start_time": "2022-04-06T11:58:05.079Z"
   },
   {
    "duration": 560,
    "start_time": "2022-04-06T11:58:05.087Z"
   },
   {
    "duration": 6,
    "start_time": "2022-04-06T11:58:05.649Z"
   },
   {
    "duration": 553,
    "start_time": "2022-04-06T11:58:05.657Z"
   },
   {
    "duration": 6,
    "start_time": "2022-04-06T11:58:06.212Z"
   },
   {
    "duration": 387,
    "start_time": "2022-04-06T11:58:06.220Z"
   },
   {
    "duration": 471,
    "start_time": "2022-04-06T11:58:06.609Z"
   },
   {
    "duration": 366,
    "start_time": "2022-04-06T11:58:07.082Z"
   },
   {
    "duration": 413,
    "start_time": "2022-04-06T11:58:07.450Z"
   },
   {
    "duration": 324,
    "start_time": "2022-04-06T11:58:07.873Z"
   },
   {
    "duration": 322,
    "start_time": "2022-04-06T11:58:08.200Z"
   },
   {
    "duration": 11,
    "start_time": "2022-04-06T11:58:08.525Z"
   },
   {
    "duration": 36,
    "start_time": "2022-04-06T11:58:08.539Z"
   },
   {
    "duration": 7,
    "start_time": "2022-04-06T11:58:08.577Z"
   },
   {
    "duration": 102,
    "start_time": "2022-04-06T12:00:09.517Z"
   },
   {
    "duration": 111,
    "start_time": "2022-04-06T12:01:08.385Z"
   },
   {
    "duration": 114,
    "start_time": "2022-04-06T12:06:59.121Z"
   },
   {
    "duration": 125,
    "start_time": "2022-04-06T12:25:30.676Z"
   },
   {
    "duration": 60,
    "start_time": "2022-04-06T12:25:52.117Z"
   },
   {
    "duration": 106,
    "start_time": "2022-04-06T12:31:52.866Z"
   },
   {
    "duration": 19,
    "start_time": "2022-04-06T12:32:07.238Z"
   },
   {
    "duration": 138,
    "start_time": "2022-04-06T12:40:09.855Z"
   },
   {
    "duration": 115,
    "start_time": "2022-04-06T12:45:58.539Z"
   },
   {
    "duration": 6,
    "start_time": "2022-04-06T12:46:17.996Z"
   },
   {
    "duration": 233,
    "start_time": "2022-04-06T12:55:57.609Z"
   },
   {
    "duration": 109,
    "start_time": "2022-04-06T15:02:19.297Z"
   },
   {
    "duration": 1357,
    "start_time": "2022-04-07T08:18:07.586Z"
   },
   {
    "duration": 480,
    "start_time": "2022-04-07T08:18:16.088Z"
   },
   {
    "duration": 457,
    "start_time": "2022-04-07T08:18:30.070Z"
   },
   {
    "duration": 5,
    "start_time": "2022-04-07T08:20:40.014Z"
   },
   {
    "duration": 493,
    "start_time": "2022-04-07T08:20:44.870Z"
   },
   {
    "duration": 3,
    "start_time": "2022-04-07T08:28:55.585Z"
   },
   {
    "duration": 457,
    "start_time": "2022-04-07T08:28:55.590Z"
   },
   {
    "duration": 5,
    "start_time": "2022-04-07T08:28:56.049Z"
   },
   {
    "duration": 12,
    "start_time": "2022-04-07T08:28:56.055Z"
   },
   {
    "duration": 17,
    "start_time": "2022-04-07T08:28:56.069Z"
   },
   {
    "duration": 15,
    "start_time": "2022-04-07T08:28:56.087Z"
   },
   {
    "duration": 22,
    "start_time": "2022-04-07T08:28:56.103Z"
   },
   {
    "duration": 501,
    "start_time": "2022-04-07T08:28:56.127Z"
   },
   {
    "duration": 29,
    "start_time": "2022-04-07T08:28:56.629Z"
   },
   {
    "duration": 5,
    "start_time": "2022-04-07T08:28:56.660Z"
   },
   {
    "duration": 121,
    "start_time": "2022-04-07T08:28:56.668Z"
   },
   {
    "duration": 15,
    "start_time": "2022-04-07T08:28:56.790Z"
   },
   {
    "duration": 25,
    "start_time": "2022-04-07T08:28:56.806Z"
   },
   {
    "duration": 36,
    "start_time": "2022-04-07T08:28:56.833Z"
   },
   {
    "duration": 6,
    "start_time": "2022-04-07T08:28:56.871Z"
   },
   {
    "duration": 21,
    "start_time": "2022-04-07T08:28:56.879Z"
   },
   {
    "duration": 8,
    "start_time": "2022-04-07T08:28:56.902Z"
   },
   {
    "duration": 18,
    "start_time": "2022-04-07T08:28:56.912Z"
   },
   {
    "duration": 25,
    "start_time": "2022-04-07T08:28:56.932Z"
   },
   {
    "duration": 30,
    "start_time": "2022-04-07T08:28:56.959Z"
   },
   {
    "duration": 11,
    "start_time": "2022-04-07T08:28:56.991Z"
   },
   {
    "duration": 24,
    "start_time": "2022-04-07T08:28:57.004Z"
   },
   {
    "duration": 419,
    "start_time": "2022-04-07T08:28:57.029Z"
   },
   {
    "duration": 16,
    "start_time": "2022-04-07T08:28:57.450Z"
   },
   {
    "duration": 23,
    "start_time": "2022-04-07T08:28:57.469Z"
   },
   {
    "duration": 425,
    "start_time": "2022-04-07T08:28:57.502Z"
   },
   {
    "duration": 11,
    "start_time": "2022-04-07T08:28:57.929Z"
   },
   {
    "duration": 48,
    "start_time": "2022-04-07T08:28:57.942Z"
   },
   {
    "duration": 80,
    "start_time": "2022-04-07T08:28:57.996Z"
   },
   {
    "duration": 68,
    "start_time": "2022-04-07T08:28:58.078Z"
   },
   {
    "duration": 26,
    "start_time": "2022-04-07T08:28:58.148Z"
   },
   {
    "duration": 65,
    "start_time": "2022-04-07T08:28:58.175Z"
   },
   {
    "duration": 70,
    "start_time": "2022-04-07T08:28:58.242Z"
   },
   {
    "duration": 56,
    "start_time": "2022-04-07T08:28:58.314Z"
   },
   {
    "duration": 69,
    "start_time": "2022-04-07T08:28:58.371Z"
   },
   {
    "duration": 45,
    "start_time": "2022-04-07T08:28:58.441Z"
   },
   {
    "duration": 26,
    "start_time": "2022-04-07T08:28:58.487Z"
   },
   {
    "duration": 13,
    "start_time": "2022-04-07T08:28:58.514Z"
   },
   {
    "duration": 160,
    "start_time": "2022-04-07T08:28:58.529Z"
   },
   {
    "duration": 325,
    "start_time": "2022-04-07T08:28:58.690Z"
   },
   {
    "duration": 4,
    "start_time": "2022-04-07T08:28:59.017Z"
   },
   {
    "duration": 315,
    "start_time": "2022-04-07T08:28:59.022Z"
   },
   {
    "duration": 9,
    "start_time": "2022-04-07T08:28:59.339Z"
   },
   {
    "duration": 360,
    "start_time": "2022-04-07T08:28:59.350Z"
   },
   {
    "duration": 12,
    "start_time": "2022-04-07T08:28:59.712Z"
   },
   {
    "duration": 333,
    "start_time": "2022-04-07T08:28:59.726Z"
   },
   {
    "duration": 4,
    "start_time": "2022-04-07T08:29:00.061Z"
   },
   {
    "duration": 338,
    "start_time": "2022-04-07T08:29:00.067Z"
   },
   {
    "duration": 6,
    "start_time": "2022-04-07T08:29:00.407Z"
   },
   {
    "duration": 406,
    "start_time": "2022-04-07T08:29:00.415Z"
   },
   {
    "duration": 5,
    "start_time": "2022-04-07T08:29:00.823Z"
   },
   {
    "duration": 227,
    "start_time": "2022-04-07T08:29:00.830Z"
   },
   {
    "duration": 208,
    "start_time": "2022-04-07T08:29:01.059Z"
   },
   {
    "duration": 205,
    "start_time": "2022-04-07T08:29:01.269Z"
   },
   {
    "duration": 180,
    "start_time": "2022-04-07T08:29:01.476Z"
   },
   {
    "duration": 193,
    "start_time": "2022-04-07T08:29:01.658Z"
   },
   {
    "duration": 183,
    "start_time": "2022-04-07T08:29:01.854Z"
   },
   {
    "duration": 8,
    "start_time": "2022-04-07T08:29:02.039Z"
   },
   {
    "duration": 9,
    "start_time": "2022-04-07T08:29:02.048Z"
   },
   {
    "duration": 12,
    "start_time": "2022-04-07T08:29:02.059Z"
   },
   {
    "duration": 16,
    "start_time": "2022-04-07T08:30:20.742Z"
   },
   {
    "duration": 6,
    "start_time": "2022-04-07T08:30:34.881Z"
   },
   {
    "duration": 9,
    "start_time": "2022-04-07T08:30:37.377Z"
   },
   {
    "duration": 103,
    "start_time": "2022-04-07T08:32:33.720Z"
   },
   {
    "duration": 27,
    "start_time": "2022-04-07T08:32:38.984Z"
   },
   {
    "duration": 46,
    "start_time": "2022-04-07T08:33:01.576Z"
   },
   {
    "duration": 322,
    "start_time": "2022-04-07T08:33:51.127Z"
   },
   {
    "duration": 98,
    "start_time": "2022-04-07T08:34:08.968Z"
   },
   {
    "duration": 40,
    "start_time": "2022-04-07T08:34:30.854Z"
   },
   {
    "duration": 43,
    "start_time": "2022-04-07T08:35:04.071Z"
   },
   {
    "duration": 42,
    "start_time": "2022-04-07T08:36:11.974Z"
   },
   {
    "duration": 49,
    "start_time": "2022-04-07T08:36:18.582Z"
   },
   {
    "duration": 47,
    "start_time": "2022-04-07T08:37:14.189Z"
   },
   {
    "duration": 45,
    "start_time": "2022-04-07T08:37:23.772Z"
   },
   {
    "duration": 48,
    "start_time": "2022-04-07T08:37:29.437Z"
   },
   {
    "duration": 44,
    "start_time": "2022-04-07T08:45:15.640Z"
   },
   {
    "duration": 42,
    "start_time": "2022-04-07T08:47:48.847Z"
   },
   {
    "duration": 215,
    "start_time": "2022-04-07T08:48:41.934Z"
   },
   {
    "duration": 200,
    "start_time": "2022-04-07T08:48:47.462Z"
   },
   {
    "duration": 195,
    "start_time": "2022-04-07T08:49:21.654Z"
   },
   {
    "duration": 198,
    "start_time": "2022-04-07T08:49:34.661Z"
   },
   {
    "duration": 203,
    "start_time": "2022-04-07T08:49:38.453Z"
   },
   {
    "duration": 307,
    "start_time": "2022-04-07T08:50:02.958Z"
   },
   {
    "duration": 24,
    "start_time": "2022-04-07T08:52:08.181Z"
   },
   {
    "duration": 33,
    "start_time": "2022-04-07T08:52:32.748Z"
   },
   {
    "duration": 27,
    "start_time": "2022-04-07T08:53:15.068Z"
   },
   {
    "duration": 30,
    "start_time": "2022-04-07T08:53:26.084Z"
   },
   {
    "duration": 67,
    "start_time": "2022-04-07T08:54:06.059Z"
   },
   {
    "duration": 3,
    "start_time": "2022-04-07T08:54:35.793Z"
   },
   {
    "duration": 479,
    "start_time": "2022-04-07T08:54:35.798Z"
   },
   {
    "duration": 4,
    "start_time": "2022-04-07T08:54:36.279Z"
   },
   {
    "duration": 11,
    "start_time": "2022-04-07T08:54:36.285Z"
   },
   {
    "duration": 18,
    "start_time": "2022-04-07T08:54:36.298Z"
   },
   {
    "duration": 13,
    "start_time": "2022-04-07T08:54:36.318Z"
   },
   {
    "duration": 23,
    "start_time": "2022-04-07T08:54:36.333Z"
   },
   {
    "duration": 469,
    "start_time": "2022-04-07T08:54:36.357Z"
   },
   {
    "duration": 28,
    "start_time": "2022-04-07T08:54:36.828Z"
   },
   {
    "duration": 5,
    "start_time": "2022-04-07T08:54:36.858Z"
   },
   {
    "duration": 123,
    "start_time": "2022-04-07T08:54:36.866Z"
   },
   {
    "duration": 14,
    "start_time": "2022-04-07T08:54:36.991Z"
   },
   {
    "duration": 11,
    "start_time": "2022-04-07T08:54:37.006Z"
   },
   {
    "duration": 13,
    "start_time": "2022-04-07T08:54:37.018Z"
   },
   {
    "duration": 5,
    "start_time": "2022-04-07T08:54:37.032Z"
   },
   {
    "duration": 6,
    "start_time": "2022-04-07T08:54:37.038Z"
   },
   {
    "duration": 6,
    "start_time": "2022-04-07T08:54:37.046Z"
   },
   {
    "duration": 5,
    "start_time": "2022-04-07T08:54:37.053Z"
   },
   {
    "duration": 56,
    "start_time": "2022-04-07T08:54:37.059Z"
   },
   {
    "duration": 16,
    "start_time": "2022-04-07T08:54:37.117Z"
   },
   {
    "duration": 7,
    "start_time": "2022-04-07T08:54:37.135Z"
   },
   {
    "duration": 8,
    "start_time": "2022-04-07T08:54:37.144Z"
   },
   {
    "duration": 19,
    "start_time": "2022-04-07T08:54:37.154Z"
   },
   {
    "duration": 454,
    "start_time": "2022-04-07T08:54:37.175Z"
   },
   {
    "duration": 17,
    "start_time": "2022-04-07T08:54:37.631Z"
   },
   {
    "duration": 8,
    "start_time": "2022-04-07T08:54:37.650Z"
   },
   {
    "duration": 470,
    "start_time": "2022-04-07T08:54:37.660Z"
   },
   {
    "duration": 10,
    "start_time": "2022-04-07T08:54:38.132Z"
   },
   {
    "duration": 7,
    "start_time": "2022-04-07T08:54:38.145Z"
   },
   {
    "duration": 29,
    "start_time": "2022-04-07T08:54:38.153Z"
   },
   {
    "duration": 61,
    "start_time": "2022-04-07T08:54:38.183Z"
   },
   {
    "duration": 24,
    "start_time": "2022-04-07T08:54:38.246Z"
   },
   {
    "duration": 57,
    "start_time": "2022-04-07T08:54:38.273Z"
   },
   {
    "duration": 25,
    "start_time": "2022-04-07T08:54:38.332Z"
   },
   {
    "duration": 44,
    "start_time": "2022-04-07T08:54:38.358Z"
   },
   {
    "duration": 53,
    "start_time": "2022-04-07T08:55:19.018Z"
   },
   {
    "duration": 37,
    "start_time": "2022-04-07T08:55:40.875Z"
   },
   {
    "duration": 34,
    "start_time": "2022-04-07T08:58:04.530Z"
   },
   {
    "duration": 201,
    "start_time": "2022-04-07T08:58:28.369Z"
   },
   {
    "duration": 42,
    "start_time": "2022-04-07T08:58:34.313Z"
   },
   {
    "duration": 17,
    "start_time": "2022-04-07T09:02:44.519Z"
   },
   {
    "duration": 37,
    "start_time": "2022-04-07T09:02:59.006Z"
   },
   {
    "duration": 38,
    "start_time": "2022-04-07T09:03:50.247Z"
   },
   {
    "duration": 37,
    "start_time": "2022-04-07T09:04:04.222Z"
   },
   {
    "duration": 38,
    "start_time": "2022-04-07T09:04:18.735Z"
   },
   {
    "duration": 36,
    "start_time": "2022-04-07T09:04:27.806Z"
   },
   {
    "duration": 7,
    "start_time": "2022-04-07T09:04:55.101Z"
   },
   {
    "duration": 4,
    "start_time": "2022-04-07T09:05:23.965Z"
   },
   {
    "duration": 117,
    "start_time": "2022-04-07T09:05:25.909Z"
   },
   {
    "duration": 347,
    "start_time": "2022-04-07T09:10:39.370Z"
   },
   {
    "duration": 339,
    "start_time": "2022-04-07T09:10:48.562Z"
   },
   {
    "duration": 311,
    "start_time": "2022-04-07T09:12:49.313Z"
   },
   {
    "duration": 7,
    "start_time": "2022-04-07T09:17:17.558Z"
   },
   {
    "duration": 333,
    "start_time": "2022-04-07T09:18:57.494Z"
   },
   {
    "duration": 334,
    "start_time": "2022-04-07T09:19:31.693Z"
   },
   {
    "duration": 367,
    "start_time": "2022-04-07T09:21:06.958Z"
   },
   {
    "duration": 443,
    "start_time": "2022-04-07T09:21:12.782Z"
   },
   {
    "duration": 11,
    "start_time": "2022-04-07T09:23:18.795Z"
   },
   {
    "duration": 14,
    "start_time": "2022-04-07T09:23:49.843Z"
   },
   {
    "duration": 327,
    "start_time": "2022-04-07T09:24:40.848Z"
   },
   {
    "duration": 322,
    "start_time": "2022-04-07T09:25:30.538Z"
   },
   {
    "duration": 14,
    "start_time": "2022-04-07T09:26:59.248Z"
   },
   {
    "duration": 18,
    "start_time": "2022-04-07T11:10:08.588Z"
   },
   {
    "duration": 207,
    "start_time": "2022-04-07T11:10:34.764Z"
   },
   {
    "duration": 5,
    "start_time": "2022-04-07T11:13:43.677Z"
   },
   {
    "duration": 358,
    "start_time": "2022-04-07T11:18:00.249Z"
   },
   {
    "duration": 10,
    "start_time": "2022-04-07T11:18:11.224Z"
   },
   {
    "duration": 327,
    "start_time": "2022-04-07T11:18:16.800Z"
   },
   {
    "duration": 324,
    "start_time": "2022-04-07T11:18:44.632Z"
   },
   {
    "duration": 6,
    "start_time": "2022-04-07T11:18:53.863Z"
   },
   {
    "duration": 221,
    "start_time": "2022-04-07T11:22:14.646Z"
   },
   {
    "duration": 109,
    "start_time": "2022-04-07T11:22:41.164Z"
   },
   {
    "duration": 222,
    "start_time": "2022-04-07T11:22:50.149Z"
   },
   {
    "duration": 202,
    "start_time": "2022-04-07T11:24:33.020Z"
   },
   {
    "duration": 223,
    "start_time": "2022-04-07T11:24:48.252Z"
   },
   {
    "duration": 129,
    "start_time": "2022-04-07T11:25:09.876Z"
   },
   {
    "duration": 206,
    "start_time": "2022-04-07T11:26:47.211Z"
   },
   {
    "duration": 225,
    "start_time": "2022-04-07T11:27:18.418Z"
   },
   {
    "duration": 212,
    "start_time": "2022-04-07T11:28:06.044Z"
   },
   {
    "duration": 5,
    "start_time": "2022-04-07T11:28:33.107Z"
   },
   {
    "duration": 220,
    "start_time": "2022-04-07T11:28:45.477Z"
   },
   {
    "duration": 205,
    "start_time": "2022-04-07T11:29:01.813Z"
   },
   {
    "duration": 235,
    "start_time": "2022-04-07T11:29:12.037Z"
   },
   {
    "duration": 352,
    "start_time": "2022-04-07T11:36:04.185Z"
   },
   {
    "duration": 191,
    "start_time": "2022-04-07T11:36:43.016Z"
   },
   {
    "duration": 245,
    "start_time": "2022-04-07T11:37:04.249Z"
   },
   {
    "duration": 332,
    "start_time": "2022-04-07T11:40:01.799Z"
   },
   {
    "duration": 427,
    "start_time": "2022-04-07T11:40:08.510Z"
   },
   {
    "duration": 189,
    "start_time": "2022-04-07T11:40:32.822Z"
   },
   {
    "duration": 178,
    "start_time": "2022-04-07T11:41:05.332Z"
   },
   {
    "duration": 177,
    "start_time": "2022-04-07T11:41:37.708Z"
   },
   {
    "duration": 182,
    "start_time": "2022-04-07T11:44:06.739Z"
   },
   {
    "duration": 194,
    "start_time": "2022-04-07T11:44:59.105Z"
   },
   {
    "duration": 196,
    "start_time": "2022-04-07T11:52:00.582Z"
   },
   {
    "duration": 305,
    "start_time": "2022-04-07T11:52:07.261Z"
   },
   {
    "duration": 201,
    "start_time": "2022-04-07T11:52:17.348Z"
   },
   {
    "duration": 184,
    "start_time": "2022-04-07T11:52:24.987Z"
   },
   {
    "duration": 193,
    "start_time": "2022-04-07T11:52:29.708Z"
   },
   {
    "duration": 9,
    "start_time": "2022-04-07T12:02:09.159Z"
   },
   {
    "duration": 5,
    "start_time": "2022-04-07T12:02:12.767Z"
   },
   {
    "duration": 204,
    "start_time": "2022-04-07T12:15:39.782Z"
   },
   {
    "duration": 5,
    "start_time": "2022-04-07T13:07:18.138Z"
   },
   {
    "duration": 261,
    "start_time": "2022-04-07T13:07:24.931Z"
   },
   {
    "duration": 241,
    "start_time": "2022-04-07T13:07:54.050Z"
   },
   {
    "duration": 5,
    "start_time": "2022-04-07T13:08:00.601Z"
   },
   {
    "duration": 483,
    "start_time": "2022-04-07T13:08:04.353Z"
   },
   {
    "duration": 5,
    "start_time": "2022-04-07T13:09:08.154Z"
   },
   {
    "duration": 596,
    "start_time": "2022-04-07T13:09:11.544Z"
   },
   {
    "duration": 4,
    "start_time": "2022-04-07T13:10:03.777Z"
   },
   {
    "duration": 504,
    "start_time": "2022-04-07T13:10:21.624Z"
   },
   {
    "duration": 5,
    "start_time": "2022-04-07T13:10:55.745Z"
   },
   {
    "duration": 479,
    "start_time": "2022-04-07T13:10:59.215Z"
   },
   {
    "duration": 5,
    "start_time": "2022-04-07T13:11:14.927Z"
   },
   {
    "duration": 497,
    "start_time": "2022-04-07T13:11:19.120Z"
   },
   {
    "duration": 443,
    "start_time": "2022-04-07T13:11:39.439Z"
   },
   {
    "duration": 431,
    "start_time": "2022-04-07T13:11:53.191Z"
   },
   {
    "duration": 3,
    "start_time": "2022-04-07T13:13:56.228Z"
   },
   {
    "duration": 438,
    "start_time": "2022-04-07T13:13:56.233Z"
   },
   {
    "duration": 5,
    "start_time": "2022-04-07T13:13:56.672Z"
   },
   {
    "duration": 12,
    "start_time": "2022-04-07T13:13:56.678Z"
   },
   {
    "duration": 20,
    "start_time": "2022-04-07T13:13:56.692Z"
   },
   {
    "duration": 14,
    "start_time": "2022-04-07T13:13:56.713Z"
   },
   {
    "duration": 22,
    "start_time": "2022-04-07T13:13:56.728Z"
   },
   {
    "duration": 485,
    "start_time": "2022-04-07T13:13:56.752Z"
   },
   {
    "duration": 32,
    "start_time": "2022-04-07T13:13:57.239Z"
   },
   {
    "duration": 5,
    "start_time": "2022-04-07T13:13:57.273Z"
   },
   {
    "duration": 104,
    "start_time": "2022-04-07T13:13:57.300Z"
   },
   {
    "duration": 10,
    "start_time": "2022-04-07T13:13:57.406Z"
   },
   {
    "duration": 10,
    "start_time": "2022-04-07T13:13:57.418Z"
   },
   {
    "duration": 13,
    "start_time": "2022-04-07T13:13:57.430Z"
   },
   {
    "duration": 5,
    "start_time": "2022-04-07T13:13:57.444Z"
   },
   {
    "duration": 5,
    "start_time": "2022-04-07T13:13:57.450Z"
   },
   {
    "duration": 5,
    "start_time": "2022-04-07T13:13:57.457Z"
   },
   {
    "duration": 42,
    "start_time": "2022-04-07T13:13:57.464Z"
   },
   {
    "duration": 14,
    "start_time": "2022-04-07T13:13:57.508Z"
   },
   {
    "duration": 17,
    "start_time": "2022-04-07T13:13:57.524Z"
   },
   {
    "duration": 8,
    "start_time": "2022-04-07T13:13:57.543Z"
   },
   {
    "duration": 13,
    "start_time": "2022-04-07T13:13:57.552Z"
   },
   {
    "duration": 45,
    "start_time": "2022-04-07T13:13:57.566Z"
   },
   {
    "duration": 456,
    "start_time": "2022-04-07T13:13:57.612Z"
   },
   {
    "duration": 16,
    "start_time": "2022-04-07T13:13:58.070Z"
   },
   {
    "duration": 19,
    "start_time": "2022-04-07T13:13:58.088Z"
   },
   {
    "duration": 418,
    "start_time": "2022-04-07T13:13:58.108Z"
   },
   {
    "duration": 10,
    "start_time": "2022-04-07T13:13:58.528Z"
   },
   {
    "duration": 12,
    "start_time": "2022-04-07T13:13:58.542Z"
   },
   {
    "duration": 37,
    "start_time": "2022-04-07T13:13:58.555Z"
   },
   {
    "duration": 44,
    "start_time": "2022-04-07T13:13:58.601Z"
   },
   {
    "duration": 22,
    "start_time": "2022-04-07T13:13:58.646Z"
   },
   {
    "duration": 51,
    "start_time": "2022-04-07T13:13:58.669Z"
   },
   {
    "duration": 26,
    "start_time": "2022-04-07T13:13:58.722Z"
   },
   {
    "duration": 25,
    "start_time": "2022-04-07T13:13:58.749Z"
   },
   {
    "duration": 55,
    "start_time": "2022-04-07T13:13:58.776Z"
   },
   {
    "duration": 6,
    "start_time": "2022-04-07T13:13:58.833Z"
   },
   {
    "duration": 4,
    "start_time": "2022-04-07T13:13:58.841Z"
   },
   {
    "duration": 132,
    "start_time": "2022-04-07T13:13:58.847Z"
   },
   {
    "duration": 10,
    "start_time": "2022-04-07T13:13:58.980Z"
   },
   {
    "duration": 335,
    "start_time": "2022-04-07T13:13:59.001Z"
   },
   {
    "duration": 479,
    "start_time": "2022-04-07T13:13:59.338Z"
   },
   {
    "duration": 5,
    "start_time": "2022-04-07T13:13:59.818Z"
   },
   {
    "duration": 227,
    "start_time": "2022-04-07T13:13:59.824Z"
   },
   {
    "duration": 208,
    "start_time": "2022-04-07T13:14:00.053Z"
   },
   {
    "duration": 341,
    "start_time": "2022-04-07T13:14:00.263Z"
   },
   {
    "duration": 330,
    "start_time": "2022-04-07T13:14:00.606Z"
   },
   {
    "duration": 16,
    "start_time": "2022-04-07T13:14:00.938Z"
   },
   {
    "duration": 217,
    "start_time": "2022-04-07T13:14:00.956Z"
   },
   {
    "duration": 202,
    "start_time": "2022-04-07T13:14:01.175Z"
   },
   {
    "duration": 334,
    "start_time": "2022-04-07T13:14:01.379Z"
   },
   {
    "duration": 338,
    "start_time": "2022-04-07T13:14:01.714Z"
   },
   {
    "duration": 18,
    "start_time": "2022-04-07T13:14:02.054Z"
   },
   {
    "duration": 353,
    "start_time": "2022-04-07T13:14:02.074Z"
   },
   {
    "duration": 209,
    "start_time": "2022-04-07T13:14:02.429Z"
   },
   {
    "duration": 9,
    "start_time": "2022-04-07T13:14:02.639Z"
   },
   {
    "duration": 8,
    "start_time": "2022-04-07T13:14:02.650Z"
   },
   {
    "duration": 6,
    "start_time": "2022-04-07T13:14:02.660Z"
   },
   {
    "duration": 188,
    "start_time": "2022-04-07T13:26:05.775Z"
   },
   {
    "duration": 201,
    "start_time": "2022-04-07T13:26:27.880Z"
   },
   {
    "duration": 196,
    "start_time": "2022-04-07T13:26:45.168Z"
   },
   {
    "duration": 1095,
    "start_time": "2022-04-08T13:12:39.407Z"
   },
   {
    "duration": 474,
    "start_time": "2022-04-08T13:12:40.504Z"
   },
   {
    "duration": 5,
    "start_time": "2022-04-08T13:12:40.979Z"
   },
   {
    "duration": 19,
    "start_time": "2022-04-08T13:12:40.986Z"
   },
   {
    "duration": 20,
    "start_time": "2022-04-08T13:12:41.007Z"
   },
   {
    "duration": 22,
    "start_time": "2022-04-08T13:12:41.029Z"
   },
   {
    "duration": 28,
    "start_time": "2022-04-08T13:12:41.053Z"
   },
   {
    "duration": 501,
    "start_time": "2022-04-08T13:12:41.083Z"
   },
   {
    "duration": 29,
    "start_time": "2022-04-08T13:12:41.586Z"
   },
   {
    "duration": 5,
    "start_time": "2022-04-08T13:12:41.616Z"
   },
   {
    "duration": 133,
    "start_time": "2022-04-08T13:12:41.623Z"
   },
   {
    "duration": 9,
    "start_time": "2022-04-08T13:12:41.757Z"
   },
   {
    "duration": 12,
    "start_time": "2022-04-08T13:12:41.768Z"
   },
   {
    "duration": 13,
    "start_time": "2022-04-08T13:12:41.783Z"
   },
   {
    "duration": 6,
    "start_time": "2022-04-08T13:12:41.798Z"
   },
   {
    "duration": 8,
    "start_time": "2022-04-08T13:12:41.806Z"
   },
   {
    "duration": 38,
    "start_time": "2022-04-08T13:12:41.816Z"
   },
   {
    "duration": 5,
    "start_time": "2022-04-08T13:12:41.856Z"
   },
   {
    "duration": 14,
    "start_time": "2022-04-08T13:12:41.863Z"
   },
   {
    "duration": 18,
    "start_time": "2022-04-08T13:12:41.879Z"
   },
   {
    "duration": 8,
    "start_time": "2022-04-08T13:12:41.899Z"
   },
   {
    "duration": 9,
    "start_time": "2022-04-08T13:12:41.949Z"
   },
   {
    "duration": 20,
    "start_time": "2022-04-08T13:12:41.960Z"
   },
   {
    "duration": 506,
    "start_time": "2022-04-08T13:12:41.981Z"
   },
   {
    "duration": 15,
    "start_time": "2022-04-08T13:12:42.489Z"
   },
   {
    "duration": 7,
    "start_time": "2022-04-08T13:12:42.506Z"
   },
   {
    "duration": 449,
    "start_time": "2022-04-08T13:12:42.515Z"
   },
   {
    "duration": 11,
    "start_time": "2022-04-08T13:12:42.965Z"
   },
   {
    "duration": 13,
    "start_time": "2022-04-08T13:12:42.978Z"
   },
   {
    "duration": 107,
    "start_time": "2022-04-08T13:12:42.992Z"
   },
   {
    "duration": 0,
    "start_time": "2022-04-08T13:12:43.101Z"
   },
   {
    "duration": 0,
    "start_time": "2022-04-08T13:12:43.102Z"
   },
   {
    "duration": 0,
    "start_time": "2022-04-08T13:12:43.103Z"
   },
   {
    "duration": 0,
    "start_time": "2022-04-08T13:12:43.104Z"
   },
   {
    "duration": 0,
    "start_time": "2022-04-08T13:12:43.105Z"
   },
   {
    "duration": 0,
    "start_time": "2022-04-08T13:12:43.106Z"
   },
   {
    "duration": 0,
    "start_time": "2022-04-08T13:12:43.107Z"
   },
   {
    "duration": 0,
    "start_time": "2022-04-08T13:12:43.108Z"
   },
   {
    "duration": 0,
    "start_time": "2022-04-08T13:12:43.110Z"
   },
   {
    "duration": 0,
    "start_time": "2022-04-08T13:12:43.111Z"
   },
   {
    "duration": 0,
    "start_time": "2022-04-08T13:12:43.112Z"
   },
   {
    "duration": 0,
    "start_time": "2022-04-08T13:12:43.112Z"
   },
   {
    "duration": 0,
    "start_time": "2022-04-08T13:12:43.113Z"
   },
   {
    "duration": 0,
    "start_time": "2022-04-08T13:12:43.114Z"
   },
   {
    "duration": 0,
    "start_time": "2022-04-08T13:12:43.115Z"
   },
   {
    "duration": 0,
    "start_time": "2022-04-08T13:12:43.116Z"
   },
   {
    "duration": 0,
    "start_time": "2022-04-08T13:12:43.117Z"
   },
   {
    "duration": 0,
    "start_time": "2022-04-08T13:12:43.118Z"
   },
   {
    "duration": 0,
    "start_time": "2022-04-08T13:12:43.147Z"
   },
   {
    "duration": 0,
    "start_time": "2022-04-08T13:12:43.149Z"
   },
   {
    "duration": 0,
    "start_time": "2022-04-08T13:12:43.150Z"
   },
   {
    "duration": 0,
    "start_time": "2022-04-08T13:12:43.151Z"
   },
   {
    "duration": 0,
    "start_time": "2022-04-08T13:12:43.152Z"
   },
   {
    "duration": 0,
    "start_time": "2022-04-08T13:12:43.153Z"
   },
   {
    "duration": 0,
    "start_time": "2022-04-08T13:12:43.154Z"
   },
   {
    "duration": 0,
    "start_time": "2022-04-08T13:12:43.155Z"
   },
   {
    "duration": 0,
    "start_time": "2022-04-08T13:12:43.156Z"
   },
   {
    "duration": 0,
    "start_time": "2022-04-08T13:12:43.157Z"
   },
   {
    "duration": 1046,
    "start_time": "2022-04-08T13:13:28.739Z"
   },
   {
    "duration": 423,
    "start_time": "2022-04-08T13:13:29.787Z"
   },
   {
    "duration": 5,
    "start_time": "2022-04-08T13:13:30.211Z"
   },
   {
    "duration": 16,
    "start_time": "2022-04-08T13:13:30.217Z"
   },
   {
    "duration": 23,
    "start_time": "2022-04-08T13:13:30.236Z"
   },
   {
    "duration": 13,
    "start_time": "2022-04-08T13:13:30.261Z"
   },
   {
    "duration": 28,
    "start_time": "2022-04-08T13:13:30.275Z"
   },
   {
    "duration": 496,
    "start_time": "2022-04-08T13:13:30.304Z"
   },
   {
    "duration": 29,
    "start_time": "2022-04-08T13:13:30.801Z"
   },
   {
    "duration": 15,
    "start_time": "2022-04-08T13:13:30.832Z"
   },
   {
    "duration": 129,
    "start_time": "2022-04-08T13:13:30.849Z"
   },
   {
    "duration": 10,
    "start_time": "2022-04-08T13:13:30.980Z"
   },
   {
    "duration": 18,
    "start_time": "2022-04-08T13:13:30.992Z"
   },
   {
    "duration": 15,
    "start_time": "2022-04-08T13:13:31.014Z"
   },
   {
    "duration": 6,
    "start_time": "2022-04-08T13:13:31.047Z"
   },
   {
    "duration": 11,
    "start_time": "2022-04-08T13:13:31.055Z"
   },
   {
    "duration": 12,
    "start_time": "2022-04-08T13:13:31.068Z"
   },
   {
    "duration": 16,
    "start_time": "2022-04-08T13:13:31.082Z"
   },
   {
    "duration": 20,
    "start_time": "2022-04-08T13:13:31.100Z"
   },
   {
    "duration": 26,
    "start_time": "2022-04-08T13:13:31.122Z"
   },
   {
    "duration": 9,
    "start_time": "2022-04-08T13:13:31.150Z"
   },
   {
    "duration": 19,
    "start_time": "2022-04-08T13:13:31.161Z"
   },
   {
    "duration": 23,
    "start_time": "2022-04-08T13:13:31.181Z"
   },
   {
    "duration": 489,
    "start_time": "2022-04-08T13:13:31.206Z"
   },
   {
    "duration": 15,
    "start_time": "2022-04-08T13:13:31.697Z"
   },
   {
    "duration": 8,
    "start_time": "2022-04-08T13:13:31.714Z"
   },
   {
    "duration": 450,
    "start_time": "2022-04-08T13:13:31.724Z"
   },
   {
    "duration": 11,
    "start_time": "2022-04-08T13:13:32.175Z"
   },
   {
    "duration": 13,
    "start_time": "2022-04-08T13:13:32.187Z"
   },
   {
    "duration": 105,
    "start_time": "2022-04-08T13:13:32.201Z"
   },
   {
    "duration": 0,
    "start_time": "2022-04-08T13:13:32.309Z"
   },
   {
    "duration": 0,
    "start_time": "2022-04-08T13:13:32.310Z"
   },
   {
    "duration": 0,
    "start_time": "2022-04-08T13:13:32.312Z"
   },
   {
    "duration": 0,
    "start_time": "2022-04-08T13:13:32.313Z"
   },
   {
    "duration": 0,
    "start_time": "2022-04-08T13:13:32.315Z"
   },
   {
    "duration": 0,
    "start_time": "2022-04-08T13:13:32.316Z"
   },
   {
    "duration": 0,
    "start_time": "2022-04-08T13:13:32.317Z"
   },
   {
    "duration": 0,
    "start_time": "2022-04-08T13:13:32.319Z"
   },
   {
    "duration": 0,
    "start_time": "2022-04-08T13:13:32.320Z"
   },
   {
    "duration": 0,
    "start_time": "2022-04-08T13:13:32.321Z"
   },
   {
    "duration": 0,
    "start_time": "2022-04-08T13:13:32.322Z"
   },
   {
    "duration": 0,
    "start_time": "2022-04-08T13:13:32.347Z"
   },
   {
    "duration": 0,
    "start_time": "2022-04-08T13:13:32.349Z"
   },
   {
    "duration": 0,
    "start_time": "2022-04-08T13:13:32.351Z"
   },
   {
    "duration": 0,
    "start_time": "2022-04-08T13:13:32.352Z"
   },
   {
    "duration": 0,
    "start_time": "2022-04-08T13:13:32.353Z"
   },
   {
    "duration": 0,
    "start_time": "2022-04-08T13:13:32.355Z"
   },
   {
    "duration": 0,
    "start_time": "2022-04-08T13:13:32.357Z"
   },
   {
    "duration": 0,
    "start_time": "2022-04-08T13:13:32.358Z"
   },
   {
    "duration": 0,
    "start_time": "2022-04-08T13:13:32.360Z"
   },
   {
    "duration": 0,
    "start_time": "2022-04-08T13:13:32.361Z"
   },
   {
    "duration": 0,
    "start_time": "2022-04-08T13:13:32.363Z"
   },
   {
    "duration": 0,
    "start_time": "2022-04-08T13:13:32.364Z"
   },
   {
    "duration": 0,
    "start_time": "2022-04-08T13:13:32.366Z"
   },
   {
    "duration": 0,
    "start_time": "2022-04-08T13:13:32.367Z"
   },
   {
    "duration": 0,
    "start_time": "2022-04-08T13:13:32.369Z"
   },
   {
    "duration": 0,
    "start_time": "2022-04-08T13:13:32.370Z"
   },
   {
    "duration": 0,
    "start_time": "2022-04-08T13:13:32.371Z"
   },
   {
    "duration": 26,
    "start_time": "2022-04-08T13:18:34.056Z"
   },
   {
    "duration": 9,
    "start_time": "2022-04-08T13:18:38.171Z"
   },
   {
    "duration": 48,
    "start_time": "2022-04-08T13:20:18.208Z"
   },
   {
    "duration": 37,
    "start_time": "2022-04-08T13:21:01.788Z"
   },
   {
    "duration": 45,
    "start_time": "2022-04-08T13:21:06.701Z"
   },
   {
    "duration": 42,
    "start_time": "2022-04-08T13:21:44.402Z"
   },
   {
    "duration": 42,
    "start_time": "2022-04-08T13:21:50.944Z"
   },
   {
    "duration": 1104,
    "start_time": "2022-04-08T13:22:29.599Z"
   },
   {
    "duration": 458,
    "start_time": "2022-04-08T13:22:30.705Z"
   },
   {
    "duration": 5,
    "start_time": "2022-04-08T13:22:31.165Z"
   },
   {
    "duration": 25,
    "start_time": "2022-04-08T13:22:31.172Z"
   },
   {
    "duration": 25,
    "start_time": "2022-04-08T13:22:31.199Z"
   },
   {
    "duration": 14,
    "start_time": "2022-04-08T13:22:31.226Z"
   },
   {
    "duration": 38,
    "start_time": "2022-04-08T13:22:31.242Z"
   },
   {
    "duration": 507,
    "start_time": "2022-04-08T13:22:31.282Z"
   },
   {
    "duration": 28,
    "start_time": "2022-04-08T13:22:31.790Z"
   },
   {
    "duration": 34,
    "start_time": "2022-04-08T13:22:31.821Z"
   },
   {
    "duration": 165,
    "start_time": "2022-04-08T13:22:31.857Z"
   },
   {
    "duration": 11,
    "start_time": "2022-04-08T13:22:32.024Z"
   },
   {
    "duration": 22,
    "start_time": "2022-04-08T13:22:32.037Z"
   },
   {
    "duration": 32,
    "start_time": "2022-04-08T13:22:32.061Z"
   },
   {
    "duration": 29,
    "start_time": "2022-04-08T13:22:32.095Z"
   },
   {
    "duration": 29,
    "start_time": "2022-04-08T13:22:32.126Z"
   },
   {
    "duration": 19,
    "start_time": "2022-04-08T13:22:32.157Z"
   },
   {
    "duration": 13,
    "start_time": "2022-04-08T13:22:32.178Z"
   },
   {
    "duration": 35,
    "start_time": "2022-04-08T13:22:32.193Z"
   },
   {
    "duration": 23,
    "start_time": "2022-04-08T13:22:32.230Z"
   },
   {
    "duration": 9,
    "start_time": "2022-04-08T13:22:32.255Z"
   },
   {
    "duration": 29,
    "start_time": "2022-04-08T13:22:32.266Z"
   },
   {
    "duration": 20,
    "start_time": "2022-04-08T13:22:32.297Z"
   },
   {
    "duration": 473,
    "start_time": "2022-04-08T13:22:32.319Z"
   },
   {
    "duration": 15,
    "start_time": "2022-04-08T13:22:32.794Z"
   },
   {
    "duration": 12,
    "start_time": "2022-04-08T13:22:32.811Z"
   },
   {
    "duration": 454,
    "start_time": "2022-04-08T13:22:32.825Z"
   },
   {
    "duration": 12,
    "start_time": "2022-04-08T13:22:33.282Z"
   },
   {
    "duration": 15,
    "start_time": "2022-04-08T13:22:33.295Z"
   },
   {
    "duration": 103,
    "start_time": "2022-04-08T13:22:33.312Z"
   },
   {
    "duration": 0,
    "start_time": "2022-04-08T13:22:33.417Z"
   },
   {
    "duration": 0,
    "start_time": "2022-04-08T13:22:33.418Z"
   },
   {
    "duration": 0,
    "start_time": "2022-04-08T13:22:33.419Z"
   },
   {
    "duration": 0,
    "start_time": "2022-04-08T13:22:33.420Z"
   },
   {
    "duration": 0,
    "start_time": "2022-04-08T13:22:33.421Z"
   },
   {
    "duration": 0,
    "start_time": "2022-04-08T13:22:33.422Z"
   },
   {
    "duration": 0,
    "start_time": "2022-04-08T13:22:33.424Z"
   },
   {
    "duration": 0,
    "start_time": "2022-04-08T13:22:33.425Z"
   },
   {
    "duration": 0,
    "start_time": "2022-04-08T13:22:33.426Z"
   },
   {
    "duration": 0,
    "start_time": "2022-04-08T13:22:33.448Z"
   },
   {
    "duration": 0,
    "start_time": "2022-04-08T13:22:33.449Z"
   },
   {
    "duration": 0,
    "start_time": "2022-04-08T13:22:33.450Z"
   },
   {
    "duration": 0,
    "start_time": "2022-04-08T13:22:33.451Z"
   },
   {
    "duration": 1,
    "start_time": "2022-04-08T13:22:33.452Z"
   },
   {
    "duration": 0,
    "start_time": "2022-04-08T13:22:33.454Z"
   },
   {
    "duration": 0,
    "start_time": "2022-04-08T13:22:33.455Z"
   },
   {
    "duration": 0,
    "start_time": "2022-04-08T13:22:33.456Z"
   },
   {
    "duration": 0,
    "start_time": "2022-04-08T13:22:33.457Z"
   },
   {
    "duration": 0,
    "start_time": "2022-04-08T13:22:33.458Z"
   },
   {
    "duration": 0,
    "start_time": "2022-04-08T13:22:33.459Z"
   },
   {
    "duration": 0,
    "start_time": "2022-04-08T13:22:33.460Z"
   },
   {
    "duration": 0,
    "start_time": "2022-04-08T13:22:33.461Z"
   },
   {
    "duration": 0,
    "start_time": "2022-04-08T13:22:33.462Z"
   },
   {
    "duration": 0,
    "start_time": "2022-04-08T13:22:33.463Z"
   },
   {
    "duration": 0,
    "start_time": "2022-04-08T13:22:33.465Z"
   },
   {
    "duration": 0,
    "start_time": "2022-04-08T13:22:33.466Z"
   },
   {
    "duration": 0,
    "start_time": "2022-04-08T13:22:33.467Z"
   },
   {
    "duration": 0,
    "start_time": "2022-04-08T13:22:33.468Z"
   },
   {
    "duration": 27,
    "start_time": "2022-04-08T13:23:02.649Z"
   },
   {
    "duration": 46,
    "start_time": "2022-04-08T13:23:05.291Z"
   },
   {
    "duration": 48,
    "start_time": "2022-04-08T13:23:18.027Z"
   },
   {
    "duration": 114,
    "start_time": "2022-04-08T13:25:26.136Z"
   },
   {
    "duration": 45,
    "start_time": "2022-04-08T13:25:39.741Z"
   },
   {
    "duration": 47,
    "start_time": "2022-04-08T13:26:34.666Z"
   },
   {
    "duration": 23,
    "start_time": "2022-04-08T13:26:51.844Z"
   },
   {
    "duration": 32,
    "start_time": "2022-04-08T13:26:55.116Z"
   },
   {
    "duration": 45,
    "start_time": "2022-04-08T13:30:50.593Z"
   },
   {
    "duration": 44,
    "start_time": "2022-04-08T13:31:06.109Z"
   },
   {
    "duration": 36,
    "start_time": "2022-04-08T13:31:11.870Z"
   },
   {
    "duration": 44,
    "start_time": "2022-04-08T13:31:19.050Z"
   },
   {
    "duration": 48,
    "start_time": "2022-04-08T13:35:20.864Z"
   },
   {
    "duration": 24,
    "start_time": "2022-04-08T13:35:22.373Z"
   },
   {
    "duration": 34,
    "start_time": "2022-04-08T13:35:23.059Z"
   },
   {
    "duration": 27,
    "start_time": "2022-04-08T13:35:23.891Z"
   },
   {
    "duration": 28,
    "start_time": "2022-04-08T13:35:24.390Z"
   },
   {
    "duration": 38,
    "start_time": "2022-04-08T13:35:26.078Z"
   },
   {
    "duration": 8,
    "start_time": "2022-04-08T13:35:26.966Z"
   },
   {
    "duration": 5,
    "start_time": "2022-04-08T13:35:28.099Z"
   },
   {
    "duration": 115,
    "start_time": "2022-04-08T13:35:28.620Z"
   },
   {
    "duration": 5,
    "start_time": "2022-04-08T13:35:44.832Z"
   },
   {
    "duration": 118,
    "start_time": "2022-04-08T13:36:28.645Z"
   },
   {
    "duration": 114,
    "start_time": "2022-04-08T13:36:53.580Z"
   },
   {
    "duration": 8,
    "start_time": "2022-04-08T13:36:55.641Z"
   },
   {
    "duration": 349,
    "start_time": "2022-04-08T13:36:55.919Z"
   },
   {
    "duration": 340,
    "start_time": "2022-04-08T13:36:56.443Z"
   },
   {
    "duration": 7,
    "start_time": "2022-04-08T13:36:57.010Z"
   },
   {
    "duration": 223,
    "start_time": "2022-04-08T13:36:57.199Z"
   },
   {
    "duration": 275,
    "start_time": "2022-04-08T13:36:57.797Z"
   },
   {
    "duration": 345,
    "start_time": "2022-04-08T13:36:59.517Z"
   },
   {
    "duration": 330,
    "start_time": "2022-04-08T13:36:59.864Z"
   },
   {
    "duration": 17,
    "start_time": "2022-04-08T13:37:00.197Z"
   },
   {
    "duration": 231,
    "start_time": "2022-04-08T13:37:00.216Z"
   },
   {
    "duration": 208,
    "start_time": "2022-04-08T13:37:00.450Z"
   },
   {
    "duration": 331,
    "start_time": "2022-04-08T13:37:00.995Z"
   },
   {
    "duration": 367,
    "start_time": "2022-04-08T13:37:01.328Z"
   },
   {
    "duration": 17,
    "start_time": "2022-04-08T13:37:01.698Z"
   },
   {
    "duration": 240,
    "start_time": "2022-04-08T13:37:01.717Z"
   },
   {
    "duration": 217,
    "start_time": "2022-04-08T13:37:01.959Z"
   },
   {
    "duration": 10,
    "start_time": "2022-04-08T13:37:04.668Z"
   },
   {
    "duration": 8,
    "start_time": "2022-04-08T13:37:05.418Z"
   },
   {
    "duration": 5,
    "start_time": "2022-04-08T13:37:05.599Z"
   },
   {
    "duration": 119,
    "start_time": "2022-04-08T13:38:20.539Z"
   },
   {
    "duration": 136,
    "start_time": "2022-04-08T13:41:06.676Z"
   },
   {
    "duration": 167,
    "start_time": "2022-04-08T13:42:04.534Z"
   },
   {
    "duration": 115,
    "start_time": "2022-04-08T13:43:07.931Z"
   },
   {
    "duration": 1091,
    "start_time": "2022-04-08T13:48:47.501Z"
   },
   {
    "duration": 426,
    "start_time": "2022-04-08T13:48:48.594Z"
   },
   {
    "duration": 4,
    "start_time": "2022-04-08T13:48:49.022Z"
   },
   {
    "duration": 20,
    "start_time": "2022-04-08T13:48:49.028Z"
   },
   {
    "duration": 21,
    "start_time": "2022-04-08T13:48:49.050Z"
   },
   {
    "duration": 16,
    "start_time": "2022-04-08T13:48:49.072Z"
   },
   {
    "duration": 29,
    "start_time": "2022-04-08T13:48:49.089Z"
   },
   {
    "duration": 506,
    "start_time": "2022-04-08T13:48:49.119Z"
   },
   {
    "duration": 32,
    "start_time": "2022-04-08T13:48:49.627Z"
   },
   {
    "duration": 6,
    "start_time": "2022-04-08T13:48:49.661Z"
   },
   {
    "duration": 140,
    "start_time": "2022-04-08T13:48:49.669Z"
   },
   {
    "duration": 11,
    "start_time": "2022-04-08T13:48:49.810Z"
   },
   {
    "duration": 39,
    "start_time": "2022-04-08T13:48:49.823Z"
   },
   {
    "duration": 23,
    "start_time": "2022-04-08T13:48:49.865Z"
   },
   {
    "duration": 6,
    "start_time": "2022-04-08T13:48:49.890Z"
   },
   {
    "duration": 7,
    "start_time": "2022-04-08T13:48:49.898Z"
   },
   {
    "duration": 7,
    "start_time": "2022-04-08T13:48:49.907Z"
   },
   {
    "duration": 6,
    "start_time": "2022-04-08T13:48:49.915Z"
   },
   {
    "duration": 27,
    "start_time": "2022-04-08T13:48:49.922Z"
   },
   {
    "duration": 18,
    "start_time": "2022-04-08T13:48:49.951Z"
   },
   {
    "duration": 8,
    "start_time": "2022-04-08T13:48:49.971Z"
   },
   {
    "duration": 13,
    "start_time": "2022-04-08T13:48:49.980Z"
   },
   {
    "duration": 19,
    "start_time": "2022-04-08T13:48:49.995Z"
   },
   {
    "duration": 478,
    "start_time": "2022-04-08T13:48:50.015Z"
   },
   {
    "duration": 16,
    "start_time": "2022-04-08T13:48:50.494Z"
   },
   {
    "duration": 7,
    "start_time": "2022-04-08T13:48:50.511Z"
   },
   {
    "duration": 442,
    "start_time": "2022-04-08T13:48:50.520Z"
   },
   {
    "duration": 11,
    "start_time": "2022-04-08T13:48:50.963Z"
   },
   {
    "duration": 16,
    "start_time": "2022-04-08T13:48:50.975Z"
   },
   {
    "duration": 99,
    "start_time": "2022-04-08T13:48:50.992Z"
   },
   {
    "duration": 0,
    "start_time": "2022-04-08T13:48:51.093Z"
   },
   {
    "duration": 0,
    "start_time": "2022-04-08T13:48:51.094Z"
   },
   {
    "duration": 0,
    "start_time": "2022-04-08T13:48:51.095Z"
   },
   {
    "duration": 0,
    "start_time": "2022-04-08T13:48:51.096Z"
   },
   {
    "duration": 0,
    "start_time": "2022-04-08T13:48:51.097Z"
   },
   {
    "duration": 0,
    "start_time": "2022-04-08T13:48:51.098Z"
   },
   {
    "duration": 0,
    "start_time": "2022-04-08T13:48:51.099Z"
   },
   {
    "duration": 0,
    "start_time": "2022-04-08T13:48:51.100Z"
   },
   {
    "duration": 0,
    "start_time": "2022-04-08T13:48:51.101Z"
   },
   {
    "duration": 0,
    "start_time": "2022-04-08T13:48:51.102Z"
   },
   {
    "duration": 0,
    "start_time": "2022-04-08T13:48:51.103Z"
   },
   {
    "duration": 0,
    "start_time": "2022-04-08T13:48:51.104Z"
   },
   {
    "duration": 0,
    "start_time": "2022-04-08T13:48:51.105Z"
   },
   {
    "duration": 0,
    "start_time": "2022-04-08T13:48:51.107Z"
   },
   {
    "duration": 0,
    "start_time": "2022-04-08T13:48:51.108Z"
   },
   {
    "duration": 0,
    "start_time": "2022-04-08T13:48:51.109Z"
   },
   {
    "duration": 0,
    "start_time": "2022-04-08T13:48:51.109Z"
   },
   {
    "duration": 0,
    "start_time": "2022-04-08T13:48:51.110Z"
   },
   {
    "duration": 0,
    "start_time": "2022-04-08T13:48:51.148Z"
   },
   {
    "duration": 0,
    "start_time": "2022-04-08T13:48:51.149Z"
   },
   {
    "duration": 0,
    "start_time": "2022-04-08T13:48:51.150Z"
   },
   {
    "duration": 0,
    "start_time": "2022-04-08T13:48:51.151Z"
   },
   {
    "duration": 0,
    "start_time": "2022-04-08T13:48:51.152Z"
   },
   {
    "duration": 0,
    "start_time": "2022-04-08T13:48:51.152Z"
   },
   {
    "duration": 0,
    "start_time": "2022-04-08T13:48:51.153Z"
   },
   {
    "duration": 0,
    "start_time": "2022-04-08T13:48:51.154Z"
   },
   {
    "duration": 0,
    "start_time": "2022-04-08T13:48:51.155Z"
   },
   {
    "duration": 0,
    "start_time": "2022-04-08T13:48:51.156Z"
   },
   {
    "duration": 1796,
    "start_time": "2022-04-08T18:43:15.474Z"
   },
   {
    "duration": 605,
    "start_time": "2022-04-08T18:43:17.275Z"
   },
   {
    "duration": 8,
    "start_time": "2022-04-08T18:43:17.882Z"
   },
   {
    "duration": 27,
    "start_time": "2022-04-08T18:43:17.894Z"
   },
   {
    "duration": 27,
    "start_time": "2022-04-08T18:43:17.923Z"
   },
   {
    "duration": 43,
    "start_time": "2022-04-08T18:43:17.952Z"
   },
   {
    "duration": 35,
    "start_time": "2022-04-08T18:43:17.997Z"
   },
   {
    "duration": 822,
    "start_time": "2022-04-08T18:43:18.034Z"
   },
   {
    "duration": 60,
    "start_time": "2022-04-08T18:43:18.858Z"
   },
   {
    "duration": 5,
    "start_time": "2022-04-08T18:43:18.922Z"
   },
   {
    "duration": 181,
    "start_time": "2022-04-08T18:43:18.930Z"
   },
   {
    "duration": 14,
    "start_time": "2022-04-08T18:43:19.114Z"
   },
   {
    "duration": 17,
    "start_time": "2022-04-08T18:43:19.130Z"
   },
   {
    "duration": 20,
    "start_time": "2022-04-08T18:43:19.185Z"
   },
   {
    "duration": 10,
    "start_time": "2022-04-08T18:43:19.207Z"
   },
   {
    "duration": 10,
    "start_time": "2022-04-08T18:43:19.219Z"
   },
   {
    "duration": 11,
    "start_time": "2022-04-08T18:43:19.231Z"
   },
   {
    "duration": 36,
    "start_time": "2022-04-08T18:43:19.245Z"
   },
   {
    "duration": 30,
    "start_time": "2022-04-08T18:43:19.283Z"
   },
   {
    "duration": 25,
    "start_time": "2022-04-08T18:43:19.315Z"
   },
   {
    "duration": 10,
    "start_time": "2022-04-08T18:43:19.342Z"
   },
   {
    "duration": 15,
    "start_time": "2022-04-08T18:43:19.377Z"
   },
   {
    "duration": 22,
    "start_time": "2022-04-08T18:43:19.394Z"
   },
   {
    "duration": 704,
    "start_time": "2022-04-08T18:43:19.418Z"
   },
   {
    "duration": 21,
    "start_time": "2022-04-08T18:43:20.124Z"
   },
   {
    "duration": 35,
    "start_time": "2022-04-08T18:43:20.147Z"
   },
   {
    "duration": 662,
    "start_time": "2022-04-08T18:43:20.184Z"
   },
   {
    "duration": 24,
    "start_time": "2022-04-08T18:43:20.852Z"
   },
   {
    "duration": 30,
    "start_time": "2022-04-08T18:43:20.878Z"
   },
   {
    "duration": 146,
    "start_time": "2022-04-08T18:43:20.911Z"
   },
   {
    "duration": 0,
    "start_time": "2022-04-08T18:43:21.059Z"
   },
   {
    "duration": 0,
    "start_time": "2022-04-08T18:43:21.061Z"
   },
   {
    "duration": 0,
    "start_time": "2022-04-08T18:43:21.062Z"
   },
   {
    "duration": 0,
    "start_time": "2022-04-08T18:43:21.073Z"
   },
   {
    "duration": 0,
    "start_time": "2022-04-08T18:43:21.075Z"
   },
   {
    "duration": 0,
    "start_time": "2022-04-08T18:43:21.077Z"
   },
   {
    "duration": 0,
    "start_time": "2022-04-08T18:43:21.078Z"
   },
   {
    "duration": 0,
    "start_time": "2022-04-08T18:43:21.080Z"
   },
   {
    "duration": 0,
    "start_time": "2022-04-08T18:43:21.083Z"
   },
   {
    "duration": 0,
    "start_time": "2022-04-08T18:43:21.085Z"
   },
   {
    "duration": 0,
    "start_time": "2022-04-08T18:43:21.087Z"
   },
   {
    "duration": 0,
    "start_time": "2022-04-08T18:43:21.089Z"
   },
   {
    "duration": 0,
    "start_time": "2022-04-08T18:43:21.091Z"
   },
   {
    "duration": 0,
    "start_time": "2022-04-08T18:43:21.093Z"
   },
   {
    "duration": 0,
    "start_time": "2022-04-08T18:43:21.095Z"
   },
   {
    "duration": 0,
    "start_time": "2022-04-08T18:43:21.096Z"
   },
   {
    "duration": 0,
    "start_time": "2022-04-08T18:43:21.098Z"
   },
   {
    "duration": 0,
    "start_time": "2022-04-08T18:43:21.099Z"
   },
   {
    "duration": 0,
    "start_time": "2022-04-08T18:43:21.101Z"
   },
   {
    "duration": 0,
    "start_time": "2022-04-08T18:43:21.102Z"
   },
   {
    "duration": 0,
    "start_time": "2022-04-08T18:43:21.104Z"
   },
   {
    "duration": 0,
    "start_time": "2022-04-08T18:43:21.105Z"
   },
   {
    "duration": 0,
    "start_time": "2022-04-08T18:43:21.106Z"
   },
   {
    "duration": 0,
    "start_time": "2022-04-08T18:43:21.107Z"
   },
   {
    "duration": 1,
    "start_time": "2022-04-08T18:43:21.108Z"
   },
   {
    "duration": 0,
    "start_time": "2022-04-08T18:43:21.110Z"
   },
   {
    "duration": 0,
    "start_time": "2022-04-08T18:43:21.111Z"
   },
   {
    "duration": 0,
    "start_time": "2022-04-08T18:43:21.112Z"
   },
   {
    "duration": 43,
    "start_time": "2022-04-08T18:45:26.168Z"
   },
   {
    "duration": 74,
    "start_time": "2022-04-08T18:45:44.026Z"
   },
   {
    "duration": 32,
    "start_time": "2022-04-08T18:45:44.102Z"
   },
   {
    "duration": 83,
    "start_time": "2022-04-08T18:45:44.137Z"
   },
   {
    "duration": 51,
    "start_time": "2022-04-08T18:45:44.223Z"
   },
   {
    "duration": 40,
    "start_time": "2022-04-08T18:45:44.281Z"
   },
   {
    "duration": 81,
    "start_time": "2022-04-08T18:45:44.323Z"
   },
   {
    "duration": 9,
    "start_time": "2022-04-08T18:45:44.406Z"
   },
   {
    "duration": 7,
    "start_time": "2022-04-08T18:45:44.417Z"
   },
   {
    "duration": 242,
    "start_time": "2022-04-08T18:45:44.426Z"
   },
   {
    "duration": 14,
    "start_time": "2022-04-08T18:45:44.673Z"
   },
   {
    "duration": 528,
    "start_time": "2022-04-08T18:45:44.690Z"
   },
   {
    "duration": 629,
    "start_time": "2022-04-08T18:45:45.220Z"
   },
   {
    "duration": 7,
    "start_time": "2022-04-08T18:45:45.852Z"
   },
   {
    "duration": 459,
    "start_time": "2022-04-08T18:45:45.862Z"
   },
   {
    "duration": 438,
    "start_time": "2022-04-08T18:45:46.324Z"
   },
   {
    "duration": 487,
    "start_time": "2022-04-08T18:45:46.764Z"
   },
   {
    "duration": 519,
    "start_time": "2022-04-08T18:45:47.254Z"
   },
   {
    "duration": 24,
    "start_time": "2022-04-08T18:45:47.776Z"
   },
   {
    "duration": 368,
    "start_time": "2022-04-08T18:45:47.803Z"
   },
   {
    "duration": 373,
    "start_time": "2022-04-08T18:45:48.173Z"
   },
   {
    "duration": 495,
    "start_time": "2022-04-08T18:45:48.548Z"
   },
   {
    "duration": 555,
    "start_time": "2022-04-08T18:45:49.046Z"
   },
   {
    "duration": 25,
    "start_time": "2022-04-08T18:45:49.603Z"
   },
   {
    "duration": 395,
    "start_time": "2022-04-08T18:45:49.630Z"
   },
   {
    "duration": 378,
    "start_time": "2022-04-08T18:45:50.028Z"
   },
   {
    "duration": 13,
    "start_time": "2022-04-08T18:45:50.409Z"
   },
   {
    "duration": 24,
    "start_time": "2022-04-08T18:45:50.425Z"
   },
   {
    "duration": 24,
    "start_time": "2022-04-08T18:45:50.454Z"
   },
   {
    "duration": 111,
    "start_time": "2022-04-08T18:46:41.236Z"
   },
   {
    "duration": 91,
    "start_time": "2022-04-08T18:47:01.314Z"
   },
   {
    "duration": 100,
    "start_time": "2022-04-08T18:49:28.008Z"
   },
   {
    "duration": 69,
    "start_time": "2022-04-08T18:50:51.116Z"
   },
   {
    "duration": 36,
    "start_time": "2022-04-08T18:51:02.182Z"
   },
   {
    "duration": 483,
    "start_time": "2022-04-08T18:52:01.267Z"
   },
   {
    "duration": 352,
    "start_time": "2022-04-08T18:52:33.397Z"
   },
   {
    "duration": 449,
    "start_time": "2022-04-08T18:53:52.599Z"
   },
   {
    "duration": 268,
    "start_time": "2022-04-08T18:56:30.932Z"
   },
   {
    "duration": 19,
    "start_time": "2022-04-08T18:58:25.740Z"
   },
   {
    "duration": 18,
    "start_time": "2022-04-08T18:59:26.027Z"
   },
   {
    "duration": 456,
    "start_time": "2022-04-08T19:01:28.413Z"
   },
   {
    "duration": 447,
    "start_time": "2022-04-08T19:01:50.055Z"
   },
   {
    "duration": 368,
    "start_time": "2022-04-08T19:02:19.838Z"
   },
   {
    "duration": 284,
    "start_time": "2022-04-08T19:02:31.726Z"
   },
   {
    "duration": 346,
    "start_time": "2022-04-08T19:02:40.837Z"
   },
   {
    "duration": 477,
    "start_time": "2022-04-08T19:03:21.354Z"
   },
   {
    "duration": 1312,
    "start_time": "2022-04-09T06:01:37.446Z"
   },
   {
    "duration": 460,
    "start_time": "2022-04-09T06:01:38.759Z"
   },
   {
    "duration": 5,
    "start_time": "2022-04-09T06:01:39.220Z"
   },
   {
    "duration": 21,
    "start_time": "2022-04-09T06:01:39.228Z"
   },
   {
    "duration": 20,
    "start_time": "2022-04-09T06:01:39.251Z"
   },
   {
    "duration": 15,
    "start_time": "2022-04-09T06:01:39.272Z"
   },
   {
    "duration": 31,
    "start_time": "2022-04-09T06:01:39.289Z"
   },
   {
    "duration": 549,
    "start_time": "2022-04-09T06:01:39.321Z"
   },
   {
    "duration": 33,
    "start_time": "2022-04-09T06:01:39.872Z"
   },
   {
    "duration": 5,
    "start_time": "2022-04-09T06:01:39.908Z"
   },
   {
    "duration": 129,
    "start_time": "2022-04-09T06:01:39.915Z"
   },
   {
    "duration": 10,
    "start_time": "2022-04-09T06:01:40.046Z"
   },
   {
    "duration": 12,
    "start_time": "2022-04-09T06:01:40.057Z"
   },
   {
    "duration": 31,
    "start_time": "2022-04-09T06:01:40.071Z"
   },
   {
    "duration": 5,
    "start_time": "2022-04-09T06:01:40.104Z"
   },
   {
    "duration": 8,
    "start_time": "2022-04-09T06:01:40.110Z"
   },
   {
    "duration": 6,
    "start_time": "2022-04-09T06:01:40.120Z"
   },
   {
    "duration": 6,
    "start_time": "2022-04-09T06:01:40.127Z"
   },
   {
    "duration": 15,
    "start_time": "2022-04-09T06:01:40.135Z"
   },
   {
    "duration": 51,
    "start_time": "2022-04-09T06:01:40.151Z"
   },
   {
    "duration": 8,
    "start_time": "2022-04-09T06:01:40.204Z"
   },
   {
    "duration": 10,
    "start_time": "2022-04-09T06:01:40.213Z"
   },
   {
    "duration": 14,
    "start_time": "2022-04-09T06:01:40.225Z"
   },
   {
    "duration": 494,
    "start_time": "2022-04-09T06:01:40.240Z"
   },
   {
    "duration": 15,
    "start_time": "2022-04-09T06:01:40.736Z"
   },
   {
    "duration": 7,
    "start_time": "2022-04-09T06:01:40.752Z"
   },
   {
    "duration": 456,
    "start_time": "2022-04-09T06:01:40.760Z"
   },
   {
    "duration": 10,
    "start_time": "2022-04-09T06:01:41.220Z"
   },
   {
    "duration": 21,
    "start_time": "2022-04-09T06:01:41.232Z"
   },
   {
    "duration": 42,
    "start_time": "2022-04-09T06:01:41.255Z"
   },
   {
    "duration": 45,
    "start_time": "2022-04-09T06:01:41.299Z"
   },
   {
    "duration": 22,
    "start_time": "2022-04-09T06:01:41.346Z"
   },
   {
    "duration": 44,
    "start_time": "2022-04-09T06:01:41.369Z"
   },
   {
    "duration": 27,
    "start_time": "2022-04-09T06:01:41.414Z"
   },
   {
    "duration": 27,
    "start_time": "2022-04-09T06:01:41.442Z"
   },
   {
    "duration": 61,
    "start_time": "2022-04-09T06:01:41.470Z"
   },
   {
    "duration": 7,
    "start_time": "2022-04-09T06:01:41.532Z"
   },
   {
    "duration": 4,
    "start_time": "2022-04-09T06:01:41.541Z"
   },
   {
    "duration": 128,
    "start_time": "2022-04-09T06:01:41.546Z"
   },
   {
    "duration": 9,
    "start_time": "2022-04-09T06:01:41.676Z"
   },
   {
    "duration": 338,
    "start_time": "2022-04-09T06:01:41.687Z"
   },
   {
    "duration": 322,
    "start_time": "2022-04-09T06:01:42.027Z"
   },
   {
    "duration": 5,
    "start_time": "2022-04-09T06:01:42.351Z"
   },
   {
    "duration": 248,
    "start_time": "2022-04-09T06:01:42.357Z"
   },
   {
    "duration": 273,
    "start_time": "2022-04-09T06:01:42.607Z"
   },
   {
    "duration": 347,
    "start_time": "2022-04-09T06:01:42.882Z"
   },
   {
    "duration": 328,
    "start_time": "2022-04-09T06:01:43.231Z"
   },
   {
    "duration": 14,
    "start_time": "2022-04-09T06:01:43.561Z"
   },
   {
    "duration": 190,
    "start_time": "2022-04-09T06:01:43.577Z"
   },
   {
    "duration": 204,
    "start_time": "2022-04-09T06:01:43.769Z"
   },
   {
    "duration": 335,
    "start_time": "2022-04-09T06:01:43.974Z"
   },
   {
    "duration": 325,
    "start_time": "2022-04-09T06:01:44.311Z"
   },
   {
    "duration": 15,
    "start_time": "2022-04-09T06:01:44.638Z"
   },
   {
    "duration": 205,
    "start_time": "2022-04-09T06:01:44.655Z"
   },
   {
    "duration": 199,
    "start_time": "2022-04-09T06:01:44.861Z"
   },
   {
    "duration": 8,
    "start_time": "2022-04-09T06:01:45.062Z"
   },
   {
    "duration": 5,
    "start_time": "2022-04-09T06:01:45.071Z"
   },
   {
    "duration": 28,
    "start_time": "2022-04-09T06:01:45.077Z"
   },
   {
    "duration": 5,
    "start_time": "2022-04-09T06:01:45.106Z"
   },
   {
    "duration": 4,
    "start_time": "2022-04-09T06:02:47.531Z"
   },
   {
    "duration": 6,
    "start_time": "2022-04-09T06:07:22.699Z"
   },
   {
    "duration": 8,
    "start_time": "2022-04-09T06:07:49.117Z"
   },
   {
    "duration": 427,
    "start_time": "2022-04-09T06:13:53.798Z"
   },
   {
    "duration": 322,
    "start_time": "2022-04-09T06:14:32.883Z"
   },
   {
    "duration": 300,
    "start_time": "2022-04-09T06:14:54.021Z"
   },
   {
    "duration": 298,
    "start_time": "2022-04-09T06:16:04.337Z"
   },
   {
    "duration": 203,
    "start_time": "2022-04-09T06:23:11.958Z"
   },
   {
    "duration": 209,
    "start_time": "2022-04-09T06:25:27.998Z"
   },
   {
    "duration": 4,
    "start_time": "2022-04-09T06:33:35.205Z"
   },
   {
    "duration": 1157,
    "start_time": "2022-04-09T16:50:43.468Z"
   },
   {
    "duration": 428,
    "start_time": "2022-04-09T16:50:44.627Z"
   },
   {
    "duration": 4,
    "start_time": "2022-04-09T16:50:45.057Z"
   },
   {
    "duration": 16,
    "start_time": "2022-04-09T16:50:45.063Z"
   },
   {
    "duration": 19,
    "start_time": "2022-04-09T16:50:45.080Z"
   },
   {
    "duration": 13,
    "start_time": "2022-04-09T16:50:45.100Z"
   },
   {
    "duration": 28,
    "start_time": "2022-04-09T16:50:45.114Z"
   },
   {
    "duration": 488,
    "start_time": "2022-04-09T16:50:45.143Z"
   },
   {
    "duration": 29,
    "start_time": "2022-04-09T16:50:45.632Z"
   },
   {
    "duration": 5,
    "start_time": "2022-04-09T16:50:45.678Z"
   },
   {
    "duration": 137,
    "start_time": "2022-04-09T16:50:45.685Z"
   },
   {
    "duration": 10,
    "start_time": "2022-04-09T16:50:45.823Z"
   },
   {
    "duration": 11,
    "start_time": "2022-04-09T16:50:45.834Z"
   },
   {
    "duration": 32,
    "start_time": "2022-04-09T16:50:45.847Z"
   },
   {
    "duration": 5,
    "start_time": "2022-04-09T16:50:45.881Z"
   },
   {
    "duration": 9,
    "start_time": "2022-04-09T16:50:45.887Z"
   },
   {
    "duration": 7,
    "start_time": "2022-04-09T16:50:45.898Z"
   },
   {
    "duration": 7,
    "start_time": "2022-04-09T16:50:45.906Z"
   },
   {
    "duration": 14,
    "start_time": "2022-04-09T16:50:45.914Z"
   },
   {
    "duration": 19,
    "start_time": "2022-04-09T16:50:45.930Z"
   },
   {
    "duration": 9,
    "start_time": "2022-04-09T16:50:45.978Z"
   },
   {
    "duration": 10,
    "start_time": "2022-04-09T16:50:45.989Z"
   },
   {
    "duration": 15,
    "start_time": "2022-04-09T16:50:46.001Z"
   },
   {
    "duration": 477,
    "start_time": "2022-04-09T16:50:46.017Z"
   },
   {
    "duration": 16,
    "start_time": "2022-04-09T16:50:46.495Z"
   },
   {
    "duration": 8,
    "start_time": "2022-04-09T16:50:46.512Z"
   },
   {
    "duration": 407,
    "start_time": "2022-04-09T16:50:46.521Z"
   },
   {
    "duration": 10,
    "start_time": "2022-04-09T16:50:46.931Z"
   },
   {
    "duration": 12,
    "start_time": "2022-04-09T16:50:46.943Z"
   },
   {
    "duration": 40,
    "start_time": "2022-04-09T16:50:46.956Z"
   },
   {
    "duration": 44,
    "start_time": "2022-04-09T16:50:46.998Z"
   },
   {
    "duration": 113,
    "start_time": "2022-04-09T16:50:47.044Z"
   },
   {
    "duration": 0,
    "start_time": "2022-04-09T16:50:47.159Z"
   },
   {
    "duration": 0,
    "start_time": "2022-04-09T16:50:47.160Z"
   },
   {
    "duration": 0,
    "start_time": "2022-04-09T16:50:47.161Z"
   },
   {
    "duration": 0,
    "start_time": "2022-04-09T16:50:47.162Z"
   },
   {
    "duration": 0,
    "start_time": "2022-04-09T16:50:47.163Z"
   },
   {
    "duration": 0,
    "start_time": "2022-04-09T16:50:47.164Z"
   },
   {
    "duration": 0,
    "start_time": "2022-04-09T16:50:47.165Z"
   },
   {
    "duration": 0,
    "start_time": "2022-04-09T16:50:47.166Z"
   },
   {
    "duration": 0,
    "start_time": "2022-04-09T16:50:47.167Z"
   },
   {
    "duration": 0,
    "start_time": "2022-04-09T16:50:47.168Z"
   },
   {
    "duration": 0,
    "start_time": "2022-04-09T16:50:47.169Z"
   },
   {
    "duration": 0,
    "start_time": "2022-04-09T16:50:47.170Z"
   },
   {
    "duration": 0,
    "start_time": "2022-04-09T16:50:47.170Z"
   },
   {
    "duration": 0,
    "start_time": "2022-04-09T16:50:47.171Z"
   },
   {
    "duration": 0,
    "start_time": "2022-04-09T16:50:47.172Z"
   },
   {
    "duration": 0,
    "start_time": "2022-04-09T16:50:47.173Z"
   },
   {
    "duration": 0,
    "start_time": "2022-04-09T16:50:47.174Z"
   },
   {
    "duration": 0,
    "start_time": "2022-04-09T16:50:47.175Z"
   },
   {
    "duration": 0,
    "start_time": "2022-04-09T16:50:47.176Z"
   },
   {
    "duration": 0,
    "start_time": "2022-04-09T16:50:47.177Z"
   },
   {
    "duration": 0,
    "start_time": "2022-04-09T16:50:47.178Z"
   },
   {
    "duration": 0,
    "start_time": "2022-04-09T16:50:47.179Z"
   },
   {
    "duration": 0,
    "start_time": "2022-04-09T16:50:47.180Z"
   },
   {
    "duration": 0,
    "start_time": "2022-04-09T16:50:47.181Z"
   },
   {
    "duration": 0,
    "start_time": "2022-04-09T16:50:47.182Z"
   },
   {
    "duration": 0,
    "start_time": "2022-04-09T16:50:47.183Z"
   },
   {
    "duration": 0,
    "start_time": "2022-04-09T16:50:47.184Z"
   },
   {
    "duration": 0,
    "start_time": "2022-04-09T16:50:47.184Z"
   },
   {
    "duration": 0,
    "start_time": "2022-04-09T16:50:47.185Z"
   },
   {
    "duration": 0,
    "start_time": "2022-04-09T16:50:47.186Z"
   },
   {
    "duration": 0,
    "start_time": "2022-04-09T16:50:47.187Z"
   },
   {
    "duration": 0,
    "start_time": "2022-04-09T16:50:47.188Z"
   },
   {
    "duration": 0,
    "start_time": "2022-04-09T16:50:47.189Z"
   },
   {
    "duration": 1095,
    "start_time": "2022-04-09T16:55:51.544Z"
   },
   {
    "duration": 456,
    "start_time": "2022-04-09T16:55:52.641Z"
   },
   {
    "duration": 5,
    "start_time": "2022-04-09T16:55:53.099Z"
   },
   {
    "duration": 14,
    "start_time": "2022-04-09T16:55:53.105Z"
   },
   {
    "duration": 19,
    "start_time": "2022-04-09T16:55:53.122Z"
   },
   {
    "duration": 13,
    "start_time": "2022-04-09T16:55:53.143Z"
   },
   {
    "duration": 45,
    "start_time": "2022-04-09T16:55:53.158Z"
   },
   {
    "duration": 498,
    "start_time": "2022-04-09T16:55:53.204Z"
   },
   {
    "duration": 29,
    "start_time": "2022-04-09T16:55:53.704Z"
   },
   {
    "duration": 10,
    "start_time": "2022-04-09T16:55:53.735Z"
   },
   {
    "duration": 138,
    "start_time": "2022-04-09T16:55:53.747Z"
   },
   {
    "duration": 10,
    "start_time": "2022-04-09T16:55:53.887Z"
   },
   {
    "duration": 14,
    "start_time": "2022-04-09T16:55:53.898Z"
   },
   {
    "duration": 13,
    "start_time": "2022-04-09T16:55:53.916Z"
   },
   {
    "duration": 6,
    "start_time": "2022-04-09T16:55:53.930Z"
   },
   {
    "duration": 6,
    "start_time": "2022-04-09T16:55:53.938Z"
   },
   {
    "duration": 38,
    "start_time": "2022-04-09T16:55:53.945Z"
   },
   {
    "duration": 6,
    "start_time": "2022-04-09T16:55:53.985Z"
   },
   {
    "duration": 14,
    "start_time": "2022-04-09T16:55:53.993Z"
   },
   {
    "duration": 17,
    "start_time": "2022-04-09T16:55:54.008Z"
   },
   {
    "duration": 7,
    "start_time": "2022-04-09T16:55:54.027Z"
   },
   {
    "duration": 10,
    "start_time": "2022-04-09T16:55:54.036Z"
   },
   {
    "duration": 43,
    "start_time": "2022-04-09T16:55:54.048Z"
   },
   {
    "duration": 451,
    "start_time": "2022-04-09T16:55:54.092Z"
   },
   {
    "duration": 16,
    "start_time": "2022-04-09T16:55:54.544Z"
   },
   {
    "duration": 20,
    "start_time": "2022-04-09T16:55:54.562Z"
   },
   {
    "duration": 438,
    "start_time": "2022-04-09T16:55:54.584Z"
   },
   {
    "duration": 10,
    "start_time": "2022-04-09T16:55:55.024Z"
   },
   {
    "duration": 12,
    "start_time": "2022-04-09T16:55:55.036Z"
   },
   {
    "duration": 42,
    "start_time": "2022-04-09T16:55:55.049Z"
   },
   {
    "duration": 47,
    "start_time": "2022-04-09T16:55:55.093Z"
   },
   {
    "duration": 41,
    "start_time": "2022-04-09T16:55:55.142Z"
   },
   {
    "duration": 33,
    "start_time": "2022-04-09T16:55:55.185Z"
   },
   {
    "duration": 26,
    "start_time": "2022-04-09T16:55:55.220Z"
   },
   {
    "duration": 48,
    "start_time": "2022-04-09T16:55:55.248Z"
   },
   {
    "duration": 40,
    "start_time": "2022-04-09T16:55:55.298Z"
   },
   {
    "duration": 7,
    "start_time": "2022-04-09T16:55:55.340Z"
   },
   {
    "duration": 4,
    "start_time": "2022-04-09T16:55:55.349Z"
   },
   {
    "duration": 116,
    "start_time": "2022-04-09T16:55:55.379Z"
   },
   {
    "duration": 11,
    "start_time": "2022-04-09T16:55:55.497Z"
   },
   {
    "duration": 352,
    "start_time": "2022-04-09T16:55:55.513Z"
   },
   {
    "duration": 332,
    "start_time": "2022-04-09T16:55:55.866Z"
   },
   {
    "duration": 6,
    "start_time": "2022-04-09T16:55:56.199Z"
   },
   {
    "duration": 242,
    "start_time": "2022-04-09T16:55:56.207Z"
   },
   {
    "duration": 279,
    "start_time": "2022-04-09T16:55:56.450Z"
   },
   {
    "duration": 362,
    "start_time": "2022-04-09T16:55:56.731Z"
   },
   {
    "duration": 315,
    "start_time": "2022-04-09T16:55:57.094Z"
   },
   {
    "duration": 16,
    "start_time": "2022-04-09T16:55:57.411Z"
   },
   {
    "duration": 205,
    "start_time": "2022-04-09T16:55:57.428Z"
   },
   {
    "duration": 211,
    "start_time": "2022-04-09T16:55:57.635Z"
   },
   {
    "duration": 360,
    "start_time": "2022-04-09T16:55:57.848Z"
   },
   {
    "duration": 338,
    "start_time": "2022-04-09T16:55:58.209Z"
   },
   {
    "duration": 17,
    "start_time": "2022-04-09T16:55:58.549Z"
   },
   {
    "duration": 212,
    "start_time": "2022-04-09T16:55:58.568Z"
   },
   {
    "duration": 198,
    "start_time": "2022-04-09T16:55:58.782Z"
   },
   {
    "duration": 9,
    "start_time": "2022-04-09T16:55:58.981Z"
   },
   {
    "duration": 4,
    "start_time": "2022-04-09T16:55:58.991Z"
   },
   {
    "duration": 463,
    "start_time": "2022-04-09T16:55:58.997Z"
   },
   {
    "duration": 361,
    "start_time": "2022-04-09T16:55:59.461Z"
   },
   {
    "duration": 214,
    "start_time": "2022-04-09T16:55:59.824Z"
   },
   {
    "duration": 7,
    "start_time": "2022-04-09T16:56:00.040Z"
   },
   {
    "duration": 8,
    "start_time": "2022-04-09T16:56:00.049Z"
   },
   {
    "duration": 5,
    "start_time": "2022-04-09T16:56:00.079Z"
   },
   {
    "duration": 10,
    "start_time": "2022-04-09T16:56:00.086Z"
   },
   {
    "duration": 128,
    "start_time": "2022-04-09T16:56:48.842Z"
   }
  ],
  "kernelspec": {
   "display_name": "Python 3 (ipykernel)",
   "language": "python",
   "name": "python3"
  },
  "language_info": {
   "codemirror_mode": {
    "name": "ipython",
    "version": 3
   },
   "file_extension": ".py",
   "mimetype": "text/x-python",
   "name": "python",
   "nbconvert_exporter": "python",
   "pygments_lexer": "ipython3",
   "version": "3.9.5"
  },
  "toc": {
   "base_numbering": 1,
   "nav_menu": {},
   "number_sections": true,
   "sideBar": true,
   "skip_h1_title": true,
   "title_cell": "Содержание",
   "title_sidebar": "Contents",
   "toc_cell": true,
   "toc_position": {
    "height": "calc(100% - 180px)",
    "left": "10px",
    "top": "150px",
    "width": "364.844px"
   },
   "toc_section_display": true,
   "toc_window_display": true
  }
 },
 "nbformat": 4,
 "nbformat_minor": 2
}
